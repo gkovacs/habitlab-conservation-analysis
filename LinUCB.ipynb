{
 "cells": [
  {
   "cell_type": "code",
   "execution_count": 1,
   "metadata": {},
   "outputs": [],
   "source": [
    "import numpy as np\n",
    "from numpy.linalg import inv"
   ]
  },
  {
   "cell_type": "code",
   "execution_count": 7,
   "metadata": {},
   "outputs": [],
   "source": [
    "NUM_CONTEXT = 10\n",
    "interventions = [1, 2, 3]  # A set of all interventions in numbers\n",
    "alpha = 0.1 # presumably similar to learning rate\n",
    "\n",
    "    \n",
    "def LinUCBDisjoint_choose(context, alpha, A, b):\n",
    "    '''\n",
    "        Disjoint Model (alg 1)\n",
    "        Context include the user context and the intervention chosen at a certain trial\n",
    "        arm is the intervention chosen.\n",
    "        alpha: a coefficient\n",
    "    '''\n",
    "    p = [0] * len(interventions)\n",
    "    \n",
    "    for i, intervention in enumerate(interventions):\n",
    "        #print(A[i])\n",
    "        #print(b[i])\n",
    "        theta = inv(A[i]).dot(b[i])\n",
    "        #print(theta)\n",
    "        #print(i)\n",
    "        p[i] = np.transpose(theta).dot(context) + alpha * np.sqrt(np.transpose(context).dot(inv(A[i]).dot(context)))\n",
    "    \n",
    "    a = np.argmax(p)\n",
    "    return a\n",
    "\n",
    "def LinUCBHybrid_choose(context, alpha, A, b):\n",
    "    '''\n",
    "        Hybrid Model (alg 2): TODO\n",
    "    '''\n",
    "    pass\n",
    "    \n",
    "    \n",
    "\n",
    "def tester(choose_func, contexts, interventions_chosen, rewards):\n",
    "    \n",
    "    '''\n",
    "        Tester (alg 3)\n",
    "        choose_func: The choose algorithms.\n",
    "        contexts: context from the real data\n",
    "        interventions_chosen: intervention chosen given context from the real data\n",
    "        rewards: reward from the real data.\n",
    "        contexts and rewards are paired\n",
    "\n",
    "    '''\n",
    "    \n",
    "    total_rewards = 0\n",
    "\n",
    "    '''\n",
    "        Trainable variables\n",
    "    '''\n",
    "    A = np.array([np.eye(NUM_CONTEXT)] * len(interventions))\n",
    "    b = np.array([np.zeros(NUM_CONTEXT)] * len(interventions))\n",
    "    \n",
    "    \n",
    "    for i, context in enumerate(contexts):# bootstrapping can go here.\n",
    "        choice = choose_func(contexts[i], alpha, A, b)\n",
    "        #print(choice)\n",
    "        if choice == interventions_chosen[i]:\n",
    "            A[choice] += np.dot(context, np.transpose(context))\n",
    "            b[choice] += rewards[i] * context\n",
    "            total_rewards += rewards[i]\n",
    "            \n",
    "    return total_rewards/ len(contexts)\n",
    "            \n",
    "            "
   ]
  },
  {
   "cell_type": "code",
   "execution_count": 8,
   "metadata": {},
   "outputs": [],
   "source": [
    "'''\n",
    "    A total random trial. Feed data from here.\n",
    "'''\n",
    "\n",
    "fake_contexts = []\n",
    "fake_rewards = []\n",
    "fake_arms = []\n",
    "for i in range(1000):\n",
    "    fake_contexts.append(np.random.choice(10, NUM_CONTEXT))\n",
    "    fake_rewards.append(np.random.choice(2, 1))  # 0 or 1\n",
    "    fake_arms.append(np.random.choice(4, 1))\n",
    "    "
   ]
  },
  {
   "cell_type": "markdown",
   "metadata": {},
   "source": [
    "### Result of a random bandit"
   ]
  },
  {
   "cell_type": "code",
   "execution_count": 12,
   "metadata": {},
   "outputs": [
    {
     "name": "stdout",
     "output_type": "stream",
     "text": [
      "scaled rewards: [0.72], 1 is max\n"
     ]
    }
   ],
   "source": [
    "print(\"scaled rewards: {}, 1 is max\".format(tester(LinUCBDisjoint_choose, fake_contexts, fake_rewards, fake_arms)))"
   ]
  },
  {
   "cell_type": "code",
   "execution_count": null,
   "metadata": {},
   "outputs": [],
   "source": [
    "NUM_CONTEXT = 10\n",
    "\n",
    "\n",
    "A = [np.eye(10)]*NUM_CONTEXT"
   ]
  },
  {
   "cell_type": "code",
   "execution_count": null,
   "metadata": {},
   "outputs": [],
   "source": [
    "\n",
    "A = np.array([np.eye(NUM_CONTEXT)] * 10)"
   ]
  },
  {
   "cell_type": "code",
   "execution_count": null,
   "metadata": {},
   "outputs": [],
   "source": [
    "np.argmax([1,2,3,5,])"
   ]
  },
  {
   "cell_type": "code",
   "execution_count": null,
   "metadata": {},
   "outputs": [],
   "source": [
    "np.random.choice(1, 3)"
   ]
  },
  {
   "cell_type": "code",
   "execution_count": null,
   "metadata": {},
   "outputs": [],
   "source": [
    "p = [0] * len(interventions)"
   ]
  },
  {
   "cell_type": "code",
   "execution_count": null,
   "metadata": {},
   "outputs": [],
   "source": [
    "p[0] = 1"
   ]
  },
  {
   "cell_type": "code",
   "execution_count": null,
   "metadata": {},
   "outputs": [],
   "source": [
    "p"
   ]
  },
  {
   "cell_type": "code",
   "execution_count": null,
   "metadata": {},
   "outputs": [],
   "source": [
    "fake_arms"
   ]
  },
  {
   "cell_type": "code",
   "execution_count": null,
   "metadata": {},
   "outputs": [],
   "source": []
  }
 ],
 "metadata": {
  "kernelspec": {
   "display_name": "Python 3",
   "language": "python",
   "name": "python3"
  },
  "language_info": {
   "codemirror_mode": {
    "name": "ipython",
    "version": 3
   },
   "file_extension": ".py",
   "mimetype": "text/x-python",
   "name": "python",
   "nbconvert_exporter": "python",
   "pygments_lexer": "ipython3",
   "version": "3.5.6"
  }
 },
 "nbformat": 4,
 "nbformat_minor": 2
}
