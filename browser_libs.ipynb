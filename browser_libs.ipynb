{
 "cells": [
  {
   "cell_type": "code",
   "execution_count": null,
   "metadata": {},
   "outputs": [],
   "source": [
    "# noexport\n",
    "\n",
    "import os\n",
    "os.system('export_notebook browser_libs.ipynb')"
   ]
  },
  {
   "cell_type": "code",
   "execution_count": 44,
   "metadata": {},
   "outputs": [],
   "source": [
    "import json\n",
    "import urllib.request as req\n",
    "from memoize import memoize # pip install memoize2\n",
    "from pymongo import MongoClient\n",
    "from getsecret import getsecret\n",
    "import urllib.parse\n",
    "import moment"
   ]
  },
  {
   "cell_type": "code",
   "execution_count": null,
   "metadata": {},
   "outputs": [],
   "source": [
    "#def get_user_to_all_install_ids():\n",
    "#  user_to_install = json.loads(req.urlopen(\"http://localhost:5001/get_user_to_all_install_ids\").read().decode(\"utf-8\"))\n",
    "#  return user_to_install\n",
    "\n",
    "#def get_collection_names():\n",
    "#  collection_names = json.loads(req.urlopen(\"http://localhost:5001/listcollections\").read().decode(\"utf-8\"))\n",
    "#  return collection_names\n",
    "\n",
    "#def get_session_info_list_for_user(userid):\n",
    "#  output = json.loads(req.urlopen(\"http://localhost:5001/get_session_info_list_for_user?userid=\" + userid).read().decode(\"utf-8\"))\n",
    "#  return output"
   ]
  },
  {
   "cell_type": "code",
   "execution_count": null,
   "metadata": {},
   "outputs": [],
   "source": [
    "#collection_names = get_collection_items('collections')\n",
    "#print(len(collection_names))\n",
    "#print(get_collection_for_user('e0ea34c81d4b50cddc7bd752', 'synced:seconds_on_domain_per_session')[0])"
   ]
  },
  {
   "cell_type": "code",
   "execution_count": 13,
   "metadata": {},
   "outputs": [],
   "source": [
    "@memoize\n",
    "def download_url(url):\n",
    "  return req.urlopen(url).read().decode(\"utf-8\")\n",
    "\n",
    "def getjson(path, params={}):\n",
    "  querystring = urllib.parse.urlencode(params)\n",
    "  url = 'http://localhost:5001/' + path + '?' + querystring\n",
    "  return json.loads(download_url(url))\n",
    "\n",
    "def make_getjson_func(path, *param_list):\n",
    "  def f(*arg_list):\n",
    "    if len(param_list) != len(arg_list):\n",
    "      print('missing some number of arguments. expected parameters: ' + str(param_list))\n",
    "    param_dict = {}\n",
    "    for param,arg in zip(param_list, arg_list):\n",
    "      param_dict[param] = arg\n",
    "    return getjson(path, param_dict)\n",
    "  return f\n",
    "\n",
    "def expose_getjson(func_name, *args):\n",
    "  f = make_getjson_func(func_name, *args)\n",
    "  globals()[func_name] = f\n",
    "  return f  \n"
   ]
  },
  {
   "cell_type": "code",
   "execution_count": 15,
   "metadata": {},
   "outputs": [
    {
     "name": "stdout",
     "output_type": "stream",
     "text": [
      "['803aa33d5eaf0c561e8a3728', '06b5c1a6b60318169aa70015', '825864bc8702afff28aacbbc', 'c19500c7b139be66b502d51f', '9ef2f94629377eefe13720d8', 'f975c9c7e528003255dbe143', 'a37c1102fa973cde1fc1f218', 'd9e261705e7b6255dad42c05', '4b98d3dc38e634d62a53f2ed', '98f84f820b8a32a14c765b29', 'b6473a43e542ef940d31bc41', '61b72b717a78c83faf858b8a', 'cc99d1226da6a733898a3c42', 'ed1cd8ffdb099cb63de09d12', '11827b1959b8af192ab32d5c', '4034c1f5256318dc17ea4ee5', '03fb12d03bdc27485945f5a0', 'ebc3601374640468c4ee064d', '7b3f19bc5cf18b977643fb2a', 'e4953386e2ab82c992dd8c98', '019abdd547d520d09e60d410', '9af88d32b09871118441897b', '7a994ccad67df2369e53541a', '1af2e4e2e83a33943139f37a', 'f1e6659ea775d3f2e016df24', 'dd858122bc39012780233320', '07560b61241dba2e7d75263c', '795ea44c58a60dd84e889801', '405aaa6411d349079fc85496', '13e0f14fbbcffb031c2c5bc4']\n"
     ]
    }
   ],
   "source": [
    "expose_getjson('get_session_info_list_for_user', 'userid')\n",
    "#expose_getjson('get_user_to_all_install_ids')\n",
    "\n",
    "#print(get_user_to_all_install_ids()['e0ea34c81d4b50cddc7bd752'])\n",
    "#get_session_info_list = make_getjson_func('get_session_info_list_for_user', 'userid')\n",
    "#print(get_session_info_list_for_user('e0ea34c81d4b50cddc7bd752')[0])\n",
    "#def get_user_to_all_install_ids(user):\n",
    "#  return getjson"
   ]
  },
  {
   "cell_type": "code",
   "execution_count": 12,
   "metadata": {},
   "outputs": [],
   "source": [
    "@memoize\n",
    "def get_db(): # this is for the browser\n",
    "  client = MongoClient(getsecret(\"EXT_URI\"))\n",
    "  db = client[getsecret(\"DB_NAME\")]\n",
    "  return db\n",
    "\n",
    "@memoize\n",
    "def get_collection_items(collection_name):\n",
    "  db = get_db()\n",
    "  return [x for x in db[collection_name].find({})]\n",
    "\n",
    "def get_collection_for_user(user, collection_name):\n",
    "  return get_collection_items(user + '_' + collection_name)\n"
   ]
  },
  {
   "cell_type": "code",
   "execution_count": 19,
   "metadata": {},
   "outputs": [],
   "source": [
    "def get_collection_names():\n",
    "  collection_names = get_collection_items('collections')\n",
    "  return [x['_id'] for x in collection_names]\n",
    "\n",
    "def get_users_with_goal_frequency_set():\n",
    "  output = []\n",
    "  collection_names = get_collection_names()\n",
    "  for collection_name in collection_names:\n",
    "    if not collection_name.endswith('_synced:goal_frequencies'):\n",
    "      continue\n",
    "    username = collection_name.replace('_synced:goal_frequencies', '')\n",
    "    output.append(username)\n",
    "  return output\n"
   ]
  },
  {
   "cell_type": "code",
   "execution_count": 41,
   "metadata": {},
   "outputs": [],
   "source": [
    "@memoize\n",
    "def get_user_to_all_install_ids():\n",
    "  install_info_list = get_collection_items('installs')\n",
    "  output = {}\n",
    "  for install_info in install_info_list:\n",
    "    if 'user_id' not in install_info:\n",
    "      continue\n",
    "    user_id = install_info['user_id']\n",
    "    install_id = install_info.get('install_id', None)\n",
    "    if user_id not in output:\n",
    "      output[user_id] = []\n",
    "    if install_id not in output[user_id]:\n",
    "      output[user_id].append(install_id)\n",
    "  return output\n",
    "\n",
    "#print(get_user_to_all_install_ids()['e0ea34c81d4b50cddc7bd752'])"
   ]
  },
  {
   "cell_type": "code",
   "execution_count": 22,
   "metadata": {},
   "outputs": [
    {
     "name": "stdout",
     "output_type": "stream",
     "text": [
      "1279\n"
     ]
    }
   ],
   "source": [
    "def get_all_install_ids_for_user(user):\n",
    "  seconds_on_domain_per_session = get_collection_for_user(user, 'synced:seconds_on_domain_per_session')\n",
    "  interventions_active_for_domain_and_session = get_collection_for_user(user, 'synced:interventions_active_for_domain_and_session')\n",
    "  user_to_all_install_ids = get_user_to_all_install_ids()\n",
    "  output = []\n",
    "  output_set = set()\n",
    "  if user in user_to_all_install_ids:\n",
    "    for install_id in user_to_all_install_ids[user]:\n",
    "      if install_id not in output_set:\n",
    "        output_set.add(install_id)\n",
    "        output.append(install_id)\n",
    "  for item in seconds_on_domain_per_session:\n",
    "    if 'install_id' not in item:\n",
    "      continue\n",
    "    install_id = item['install_id']\n",
    "    if install_id not in output_set:\n",
    "      output_set.add(install_id)\n",
    "      output.append(install_id)\n",
    "  for item in interventions_active_for_domain_and_session:\n",
    "    if 'install_id' not in item:\n",
    "      continue\n",
    "    install_id = item['install_id']\n",
    "    if install_id not in output_set:\n",
    "      output_set.add(install_id)\n",
    "      output.append(install_id)\n",
    "  return output\n",
    "\n",
    "def get_is_valid_user(user):\n",
    "  install_ids = get_all_install_ids_for_user(user)\n",
    "  if len(install_ids) != 1:\n",
    "    return False\n",
    "  return True\n",
    "\n",
    "def get_valid_user_list():\n",
    "  user_list = get_users_with_goal_frequency_set()\n",
    "  output = []\n",
    "  for user in user_list:\n",
    "    if not get_is_valid_user(user):\n",
    "      continue\n",
    "    output.append(user)\n",
    "  return output\n",
    "\n",
    "#get_sessions_for_user('e0ea34c81d4b50cddc7bd752')\n",
    "#valid_user_list = get_valid_user_list()\n",
    "#print(len(valid_user_list))"
   ]
  },
  {
   "cell_type": "code",
   "execution_count": 97,
   "metadata": {},
   "outputs": [],
   "source": [
    "'''\n",
    "function convert_date_to_epoch(date) {\n",
    "  let start_of_epoch = moment().year(2016).month(0).date(1).hours(0).minutes(0).seconds(0).milliseconds(0)\n",
    "  let year = parseInt(date.substr(0, 4))\n",
    "  let month = parseInt(date.substr(4, 2)) - 1\n",
    "  let day = parseInt(date.substr(6, 2))\n",
    "  let date_moment = moment().year(year).month(month).date(day).hours(0).minutes(0).seconds(0).milliseconds(0)\n",
    "  return date_moment.diff(start_of_epoch, 'days')\n",
    "}\n",
    "\n",
    "function convert_epoch_to_date(epoch) {\n",
    "  let start_of_epoch = moment().year(2016).month(0).date(1).hours(0).minutes(0).seconds(0).milliseconds(0)\n",
    "  start_of_epoch.add(epoch, 'days')\n",
    "  return start_of_epoch.format('YYYYMMDD')\n",
    "}\n",
    "\n",
    "function timestamp_to_epoch(timestamp) {\n",
    "  let start_of_epoch = moment().year(2016).month(0).date(1).hours(0).minutes(0).seconds(0).milliseconds(0)\n",
    "  return moment(timestamp).diff(start_of_epoch, 'days')\n",
    "}\n",
    "'''\n",
    "\n",
    "def convert_date_to_epoch(date):\n",
    "  start_of_epoch = moment.now().timezone(\"US/Pacific\").replace(years=2016, months=1, days=1, hours=0, minutes=0, seconds=0, milliseconds=0, microseconds=0)\n",
    "  year = int(date[0:4])\n",
    "  month = int(date[4:6])\n",
    "  day = int(date[6:8])\n",
    "  date_moment = moment.now().timezone(\"US/Pacific\").replace(years=year, months=month, days=day, hours=0, minutes=0, seconds=0, milliseconds=0, microseconds=0)\n",
    "  return date_moment.diff(start_of_epoch).days\n",
    "\n",
    "def convert_epoch_to_date(epoch):\n",
    "  start_of_epoch = moment.now().timezone(\"US/Pacific\").replace(years=2016, months=1, days=1, hours=0, minutes=0, seconds=0, milliseconds=0, microseconds=0)\n",
    "  start_of_epoch.add(days=epoch)\n",
    "  return start_of_epoch.format('YYYYMMDD')\n",
    "\n",
    "def timestamp_to_epoch(timestamp):\n",
    "  start_of_epoch = moment.now().timezone(\"US/Pacific\").replace(years=2016, months=1, days=1, hours=0, minutes=0, seconds=0, milliseconds=0, microseconds=0)\n",
    "  return moment.unix(timestamp).timezone(\"US/Pacific\").diff(start_of_epoch).days\n",
    "\n",
    "#print(timestamp_to_epoch(1537059309631))\n",
    "#print(convert_epoch_to_date(989))\n",
    "#print(convert_date_to_epoch('20180915'))"
   ]
  },
  {
   "cell_type": "code",
   "execution_count": 42,
   "metadata": {},
   "outputs": [
    {
     "name": "stdout",
     "output_type": "stream",
     "text": [
      "[{'_id': ObjectId('5b669b07d206af0013ccf95c'), 'key': 'custom/spend_less_time_www.tumblr.com', 'val': '{\"algorithm\":\"isoweek_alternating\",\"onweeks\":0,\"timestamp\":1533451014073}', 'synced': 0, 'timestamp': 1533451015932.0, 'userid': 'c11e5f2d93f249b5083989b2', 'install_id': 'e3a8a5a39bda2ef7c98a116b', 'collection': 'goal_frequencies', 'habitlab_version': '1.0.238', 'timestamp_local': 1533451014073.0}, {'_id': ObjectId('5b669b08d206af0013ccf95d'), 'key': 'reddit/spend_less_time', 'val': '{\"algorithm\":\"isoweek_alternating\",\"onweeks\":0,\"timestamp\":1533451014059}', 'synced': 0, 'timestamp': 1533451016001.0, 'userid': 'c11e5f2d93f249b5083989b2', 'install_id': 'e3a8a5a39bda2ef7c98a116b', 'collection': 'goal_frequencies', 'habitlab_version': '1.0.238', 'timestamp_local': 1533451014059.0}, {'_id': ObjectId('5b669b08d206af0013ccf95e'), 'key': 'youtube/spend_less_time', 'val': '{\"algorithm\":\"isoweek_alternating\",\"onweeks\":0,\"timestamp\":1533451014050}', 'synced': 0, 'timestamp': 1533451016056.0, 'userid': 'c11e5f2d93f249b5083989b2', 'install_id': 'e3a8a5a39bda2ef7c98a116b', 'collection': 'goal_frequencies', 'habitlab_version': '1.0.238', 'timestamp_local': 1533451014050.0}, {'_id': ObjectId('5b66aec1d206af0013cd7d24'), 'key': 'custom/spend_less_time_gagadaily.com', 'val': '{\"algorithm\":\"isoweek_alternating\",\"onweeks\":1,\"timestamp\":1533455388396}', 'synced': 0, 'timestamp': 1533456065799.0, 'userid': 'c11e5f2d93f249b5083989b2', 'install_id': 'e3a8a5a39bda2ef7c98a116b', 'collection': 'goal_frequencies', 'habitlab_version': '1.0.238', 'timestamp_local': 1533455388396.0}, {'_id': ObjectId('5b71d23562b82900134d3168'), 'key': 'custom/spend_less_time_gagadaily.com', 'val': '{\"algorithm\":\"isoweek_random\",\"onweeks\":[0,0,0,0,1,1,0,0,0,1,1,0,0,1,0,1,0,1,0,0,1,1,1,1,1,1,0,1,1,1,1,0,1,0,1,1,1,0,1,0,1,1,1,0,0,1,0,0,0,1,1,0,1,1],\"timestamp\":1534186037091}', 'synced': 0, 'timestamp': 1534186037651.0, 'userid': 'c11e5f2d93f249b5083989b2', 'install_id': 'e3a8a5a39bda2ef7c98a116b', 'collection': 'goal_frequencies', 'habitlab_version': '1.0.247', 'timestamp_local': 1534186037091.0}, {'_id': ObjectId('5b71d23562b82900134d316f'), 'key': 'custom/spend_less_time_www.tumblr.com', 'val': '{\"algorithm\":\"isoweek_random\",\"onweeks\":[0,1,1,0,0,1,0,1,1,0,1,1,1,1,1,0,1,0,1,1,0,1,0,0,1,1,1,1,0,0,1,0,0,0,1,1,1,0,0,0,0,0,0,1,1,1,1,1,0,0,0,1,1,1],\"timestamp\":1534186037083}', 'synced': 0, 'timestamp': 1534186037770.0, 'userid': 'c11e5f2d93f249b5083989b2', 'install_id': 'e3a8a5a39bda2ef7c98a116b', 'collection': 'goal_frequencies', 'habitlab_version': '1.0.247', 'timestamp_local': 1534186037083.0}, {'_id': ObjectId('5b71d2353a739b0013cdfdce'), 'key': 'reddit/spend_less_time', 'val': '{\"algorithm\":\"isoweek_random\",\"onweeks\":[1,1,1,1,0,1,0,0,1,1,0,1,1,0,1,1,0,0,1,0,0,1,1,0,1,0,0,0,1,1,1,0,1,1,0,0,1,0,0,1,0,0,0,0,0,0,0,1,0,0,0,1,0,1],\"timestamp\":1534186037077}', 'synced': 0, 'timestamp': 1534186037842.0, 'userid': 'c11e5f2d93f249b5083989b2', 'install_id': 'e3a8a5a39bda2ef7c98a116b', 'collection': 'goal_frequencies', 'habitlab_version': '1.0.247', 'timestamp_local': 1534186037077.0}, {'_id': ObjectId('5b71d23562b82900134d3175'), 'key': 'youtube/spend_less_time', 'val': '{\"algorithm\":\"isoweek_random\",\"onweeks\":[1,1,0,1,1,1,1,0,1,1,0,1,0,1,1,0,1,1,0,1,0,0,0,1,1,1,0,0,1,1,1,1,1,0,0,0,0,1,0,1,0,1,1,1,0,0,1,0,1,1,1,1,1,0],\"timestamp\":1534186037059}', 'synced': 0, 'timestamp': 1534186037909.0, 'userid': 'c11e5f2d93f249b5083989b2', 'install_id': 'e3a8a5a39bda2ef7c98a116b', 'collection': 'goal_frequencies', 'habitlab_version': '1.0.247', 'timestamp_local': 1534186037059.0}]\n"
     ]
    }
   ],
   "source": [
    "def get_frequency_info_for_user(user):\n",
    "  goal_frequencies = get_collection_for_user(user, 'synced:goal_frequencies')\n",
    "  return goal_frequencies\n",
    "\n",
    "#def get_frequency_info_for_goal_on_timestamp(user, goal, )\n",
    "\n",
    "def get_sessions_for_user(user):\n",
    "  seconds_on_domain_per_session = get_collection_for_user(user, 'synced:seconds_on_domain_per_session')\n",
    "  interventions_active_for_domain_and_session = get_collection_for_user(user, 'synced:interventions_active_for_domain_and_session')\n",
    "  print(seconds_on_domain_per_session[0])\n",
    "  print(interventions_active_for_domain_and_session[0])\n",
    "  output = []\n",
    "  for item in seconds_on_domain_per_session:\n",
    "    domain = item['key']\n",
    "    session_id = item['key2']\n",
    "    duration = item['val']\n",
    "\n",
    "#print(get_sessions_for_user('c11e5f2d93f249b5083989b2'))\n",
    "print(get_frequency_info_for_user('c11e5f2d93f249b5083989b2'))"
   ]
  },
  {
   "cell_type": "code",
   "execution_count": 24,
   "metadata": {},
   "outputs": [
    {
     "name": "stdout",
     "output_type": "stream",
     "text": [
      "c11e5f2d93f249b5083989b2\n"
     ]
    }
   ],
   "source": [
    "#print(len(get_users_with_goal_frequency_set()))\n",
    "print(valid_user_list[0])"
   ]
  },
  {
   "cell_type": "code",
   "execution_count": null,
   "metadata": {},
   "outputs": [],
   "source": [
    "def print_stats_on_install_records():\n",
    "  user_to_all_install_ids = get_user_to_all_install_ids()\n",
    "  users_with_goal_frequency_set = get_users_with_goal_frequency_set()\n",
    "  users_with_missing_install_record = []\n",
    "  users_with_zero_installs = []\n",
    "  users_with_multiple_installs = []\n",
    "  users_with_single_install = []\n",
    "\n",
    "  for username in users_with_goal_frequency_set:\n",
    "    if username not in user_to_all_install_ids:\n",
    "      users_with_missing_install_record.append(username)\n",
    "      continue\n",
    "    install_ids = user_to_all_install_ids[username]\n",
    "    if len(install_ids) == 0:\n",
    "      users_with_zero_installs.append(username)\n",
    "      continue\n",
    "    if len(install_ids) > 1:\n",
    "      users_with_multiple_installs.append(username)\n",
    "      continue\n",
    "    users_with_single_install.append(username)\n",
    "\n",
    "  print('users with missing install record', len(users_with_missing_install_record))\n",
    "  print('users with zero installs', len(users_with_zero_installs))\n",
    "  print('users with multiple installs', len(users_with_multiple_installs))\n",
    "  print('users with single install', len(users_with_single_install))\n",
    "\n",
    "\n",
    "#print_stats_on_install_records()"
   ]
  },
  {
   "cell_type": "code",
   "execution_count": null,
   "metadata": {},
   "outputs": [],
   "source": []
  }
 ],
 "metadata": {
  "kernelspec": {
   "display_name": "Python 3",
   "language": "python",
   "name": "python3"
  },
  "language_info": {
   "codemirror_mode": {
    "name": "ipython",
    "version": 3
   },
   "file_extension": ".py",
   "mimetype": "text/x-python",
   "name": "python",
   "nbconvert_exporter": "python",
   "pygments_lexer": "ipython3",
   "version": "3.6.5"
  }
 },
 "nbformat": 4,
 "nbformat_minor": 2
}
