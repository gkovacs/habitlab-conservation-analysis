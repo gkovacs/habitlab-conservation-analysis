{
 "cells": [
  {
   "cell_type": "code",
   "execution_count": 22,
   "metadata": {},
   "outputs": [
    {
     "data": {
      "text/plain": [
       "0"
      ]
     },
     "execution_count": 22,
     "metadata": {},
     "output_type": "execute_result"
    }
   ],
   "source": [
    "# noexport\n",
    "\n",
    "import os\n",
    "os.system('export_notebook browser_libs.ipynb')"
   ]
  },
  {
   "cell_type": "code",
   "execution_count": 4,
   "metadata": {},
   "outputs": [],
   "source": [
    "import json\n",
    "import urllib.request as req\n"
   ]
  },
  {
   "cell_type": "code",
   "execution_count": 19,
   "metadata": {},
   "outputs": [],
   "source": [
    "def get_user_to_all_install_ids():\n",
    "  user_to_install = json.loads(req.urlopen(\"http://localhost:5001/get_user_to_all_install_ids\").read().decode(\"utf-8\"))\n",
    "  return user_to_install\n",
    "\n",
    "def get_collection_names():\n",
    "  collection_names = json.loads(req.urlopen(\"http://localhost:5001/listcollections\").read().decode(\"utf-8\"))\n",
    "  return collection_names\n",
    "\n",
    "def get_users_with_goal_frequency_set():\n",
    "  output = []\n",
    "  collection_names = get_collection_names()\n",
    "  for collection_name in collection_names:\n",
    "    if not collection_name.endswith('_synced:goal_frequencies'):\n",
    "      continue\n",
    "    username = collection_name.replace('_synced:goal_frequencies', '')\n",
    "    output.append(username)\n",
    "  return output\n",
    "\n",
    "def get_session_info_list_for_user(userid):\n",
    "  output = json.loads(req.urlopen(\"http://localhost:5001/get_session_info_list_for_user?userid=\" + userid).read().decode(\"utf-8\"))\n",
    "  return output"
   ]
  },
  {
   "cell_type": "code",
   "execution_count": 21,
   "metadata": {},
   "outputs": [
    {
     "name": "stdout",
     "output_type": "stream",
     "text": [
      "users with missing install record 7\n",
      "users with zero installs 0\n",
      "users with multiple installs 477\n",
      "users with single install 967\n"
     ]
    }
   ],
   "source": [
    "def print_stats_on_install_records():\n",
    "  user_to_all_install_ids = get_user_to_all_install_ids()\n",
    "  users_with_goal_frequency_set = get_users_with_goal_frequency_set()\n",
    "  users_with_missing_install_record = []\n",
    "  users_with_zero_installs = []\n",
    "  users_with_multiple_installs = []\n",
    "  users_with_single_install = []\n",
    "\n",
    "  for username in users_with_goal_frequency_set:\n",
    "    if username not in user_to_all_install_ids:\n",
    "      users_with_missing_install_record.append(username)\n",
    "      continue\n",
    "    install_ids = user_to_all_install_ids[username]\n",
    "    if len(install_ids) == 0:\n",
    "      users_with_zero_installs.append(username)\n",
    "      continue\n",
    "    if len(install_ids) > 1:\n",
    "      users_with_multiple_installs.append(username)\n",
    "      continue\n",
    "    users_with_single_install.append(username)\n",
    "\n",
    "  print('users with missing install record', len(users_with_missing_install_record))\n",
    "  print('users with zero installs', len(users_with_zero_installs))\n",
    "  print('users with multiple installs', len(users_with_multiple_installs))\n",
    "  print('users with single install', len(users_with_single_install))\n",
    "\n",
    "\n",
    "#print_stats_on_install_records()"
   ]
  },
  {
   "cell_type": "code",
   "execution_count": null,
   "metadata": {},
   "outputs": [],
   "source": []
  }
 ],
 "metadata": {
  "kernelspec": {
   "display_name": "Python 3",
   "language": "python",
   "name": "python3"
  },
  "language_info": {
   "codemirror_mode": {
    "name": "ipython",
    "version": 3
   },
   "file_extension": ".py",
   "mimetype": "text/x-python",
   "name": "python",
   "nbconvert_exporter": "python",
   "pygments_lexer": "ipython3",
   "version": "3.6.5"
  }
 },
 "nbformat": 4,
 "nbformat_minor": 2
}
