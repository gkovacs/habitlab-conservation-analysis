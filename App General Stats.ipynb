{
 "cells": [
  {
   "cell_type": "code",
   "execution_count": null,
   "metadata": {},
   "outputs": [],
   "source": [
    "import sys\n",
    "!{sys.executable} -m pip install pymongo\n",
    "!{sys.executable} -m pip install pyyaml\n",
    "!{sys.executable} -m pip install matplotlib\n",
    "!{sys.executable} -m pip install scipy\n",
    "!{sys.executable} -m pip install pandas\n",
    "import os\n",
    "print(os.getcwd())\n",
    "# Get Mongo database\n",
    "from yaml import load\n",
    "from pymongo import MongoClient\n",
    "from getsecret import getsecret\n",
    "\n",
    "client = MongoClient(getsecret(\"MONGODB_URI\"))\n",
    "db = client[getsecret(\"DB_NAME\")]\n",
    "# Get all synced accounts and their respective users.\n",
    "import urllib.request as req\n",
    "import json\n",
    "accounts = json.loads(req.urlopen(\"http://localhost:5000/synced_emails\").read().decode(\"utf-8\"))\n",
    "# counter for figures\n",
    "counter = 0"
   ]
  },
  {
   "cell_type": "code",
   "execution_count": null,
   "metadata": {},
   "outputs": [],
   "source": [
    "# Find number of users who didn't make it past onboarding.\n",
    "num_users = 0\n",
    "num_quit_users = 0\n",
    "collections = db.list_collection_names()\n",
    "for account in accounts:\n",
    "    for user in account[\"android\"]:\n",
    "        num_users += 1\n",
    "        if user+\"_sessions\" not in collections:\n",
    "            num_quit_users += 1\n",
    "print(\"Total Android users: \" + str(num_users))\n",
    "print(\"Android users who didn't make it past onboarding: \" + str(num_quit_users))\n",
    "print(\"% of quitters: \" + str(num_quit_users/num_users))"
   ]
  },
  {
   "cell_type": "code",
   "execution_count": null,
   "metadata": {},
   "outputs": [],
   "source": [
    "# Avg num of sessions:\n",
    "import pandas\n",
    "from statistics import mean\n",
    "import matplotlib.pyplot as pyplot\n",
    "total_sessions_per_day = 0\n",
    "count_sessions_per_day = 0\n",
    "avg_sessions_per_day_per_user = []\n",
    "for account in accounts:\n",
    "    for user in account[\"android\"]:\n",
    "        sessions_per_day = {}\n",
    "        for session in db[user + \"_sessions\"].find():\n",
    "            ts = pandas.Timestamp(ts_input=session[\"timestamp\"], unit=\"ms\")\n",
    "            day = str(ts.year) + str(ts.month) + str(ts.day)\n",
    "            if day not in sessions_per_day:\n",
    "                sessions_per_day[day] = 0\n",
    "            sessions_per_day[day] += 1\n",
    "        arr = [sessions_per_day[day] for day in sessions_per_day]\n",
    "        avg_sessions_per_day_per_user.extend(arr)\n",
    "        if (len(arr) > 0):\n",
    "            avg = mean(arr)\n",
    "            total_sessions_per_day += avg\n",
    "            count_sessions_per_day += 1\n",
    "print(\"Average Number of sessions per day per user: \" + str(total_sessions_per_day/count_sessions_per_day))\n",
    "pyplot.figure(counter)\n",
    "pyplot.title(\"Average Sessions Per Day Per User\")\n",
    "pyplot.ylabel(\"Frequency\")\n",
    "pyplot.xlabel(\"Average number of sessions per day per user\")\n",
    "pyplot.hist(avg_sessions_per_day_per_user, bins=50)"
   ]
  },
  {
   "cell_type": "code",
   "execution_count": null,
   "metadata": {},
   "outputs": [],
   "source": [
    "# See how many days we missed session logs when a user installed HabitLab\n",
    "import pandas\n",
    "import datetime\n",
    "skipped_days = 0\n",
    "num_users = 0\n",
    "skipped_days_arr = []\n",
    "for account in accounts:\n",
    "    for user in account[\"android\"]:\n",
    "        prev_day = 0\n",
    "        skipped_days_for_user = 0\n",
    "        for session in db[user + \"_sessions\"].find():\n",
    "            ts = pandas.Timestamp(ts_input=session[\"timestamp\"], unit=\"ms\")\n",
    "            now_date = pandas.to_datetime(ts)\n",
    "            day = (now_date-datetime.datetime.utcfromtimestamp(0)).days\n",
    "            if prev_day == 0:\n",
    "                prev_day = day\n",
    "            if day - prev_day > 1:\n",
    "                # The logging skipped a day!\n",
    "                skipped_days_for_user += day - prev_day\n",
    "            prev_day = day\n",
    "        skipped_days_arr.append(skipped_days_for_user)\n",
    "        skipped_days += skipped_days_for_user\n",
    "print(\"Skipped Days: \" + str(skipped_days))\n",
    "counter += 1\n",
    "pyplot.figure(counter)\n",
    "pyplot.title(\"Skipped Days of Session Logs For Users\")\n",
    "pyplot.xlabel(\"Total number of skipped days\")\n",
    "pyplot.ylabel(\"Frequency\")\n",
    "pyplot.hist(skipped_days_arr)"
   ]
  },
  {
   "cell_type": "code",
   "execution_count": null,
   "metadata": {},
   "outputs": [],
   "source": [
    "# Now let's analyze which interventions are most effective.\n",
    "interventions = {}\n",
    "for account in accounts:\n",
    "    for user in account[\"android\"]:\n",
    "        for session in db[user + \"_sessions\"].find({\"enabled\": True}):\n",
    "            if \"interventions\" in session:\n",
    "                for intervention in session[\"interventions\"]:\n",
    "                    intervention_name = intervention[\"intervention\"]\n",
    "                    if intervention_name not in interventions:\n",
    "                        interventions[intervention_name] = {\"total\": 0, \"count\": 0}\n",
    "                    interventions[intervention_name][\"total\"] += session[\"duration\"]\n",
    "                    interventions[intervention_name][\"count\"] += 1 \n",
    "pyplot.figure(counter)\n",
    "counter += 1\n",
    "pyplot.title('Average Session Duration When Assigned Interventions')\n",
    "pyplot.ylabel('Average Session Duration (s)')\n",
    "pyplot.xticks(rotation=90)\n",
    "pyplot.bar([name for name in interventions], [interventions[name][\"total\"]/interventions[name][\"count\"] for name in interventions])"
   ]
  },
  {
   "cell_type": "code",
   "execution_count": null,
   "metadata": {},
   "outputs": [],
   "source": []
  },
  {
   "cell_type": "code",
   "execution_count": null,
   "metadata": {},
   "outputs": [],
   "source": []
  }
 ],
 "metadata": {
  "kernelspec": {
   "display_name": "Python 3",
   "language": "python",
   "name": "python3"
  },
  "language_info": {
   "codemirror_mode": {
    "name": "ipython",
    "version": 3
   },
   "file_extension": ".py",
   "mimetype": "text/x-python",
   "name": "python",
   "nbconvert_exporter": "python",
   "pygments_lexer": "ipython3",
   "version": "3.6.5"
  }
 },
 "nbformat": 4,
 "nbformat_minor": 2
}
