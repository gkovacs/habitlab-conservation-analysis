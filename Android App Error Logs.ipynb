{
 "cells": [
  {
   "cell_type": "code",
   "execution_count": 4,
   "metadata": {},
   "outputs": [
    {
     "name": "stdout",
     "output_type": "stream",
     "text": [
      "Requirement already satisfied: pymongo in /Library/Frameworks/Python.framework/Versions/3.6/lib/python3.6/site-packages (3.7.1)\n",
      "Requirement already satisfied: pyyaml in /Library/Frameworks/Python.framework/Versions/3.6/lib/python3.6/site-packages (3.13)\n"
     ]
    }
   ],
   "source": [
    "import sys\n",
    "!{sys.executable} -m pip install pymongo\n",
    "!{sys.executable} -m pip install pyyaml"
   ]
  },
  {
   "cell_type": "code",
   "execution_count": 5,
   "metadata": {},
   "outputs": [],
   "source": [
    "# Get Mongo database\n",
    "from yaml import load\n",
    "from pymongo import MongoClient\n",
    "from getsecret import getsecret\n",
    "\n",
    "client = MongoClient(getsecret(\"MONGODB_URI\"))\n",
    "db = client[getsecret(\"DB_NAME\")]"
   ]
  },
  {
   "cell_type": "code",
   "execution_count": 8,
   "metadata": {},
   "outputs": [
    {
     "name": "stdout",
     "output_type": "stream",
     "text": [
      "881a0d247c847afb93b228ca_error\n",
      "{'_id': ObjectId('5b73531739063900145c6bd7'), 'error': '{\"userID\":\"881a0d247c847afb93b228ca\",\"name\":\"Error\",\"nativeException\":{},\"message\":\"The application crashed because of an uncaught exception. You can look at \\\\\"stackTrace\\\\\" or \\\\\"nativeException\\\\\" for more detailed information about the exception.\",\"stackTrace\":\"An uncaught Exception occurred on \\\\\"main\\\\\" thread.\\\\njava.lang.RuntimeException: Error receiving broadcast Intent { act=android.intent.action.USER_PRESENT flg=0x24200010 } in com.tns.gen.android.content.BroadcastReceiver_AccessibilityService_63_56_@a91c206\\\\n\\\\tat android.app.LoadedApk$ReceiverDispatcher$Args.lambda$-android_app_LoadedApk$ReceiverDispatcher$Args_52851(LoadedApk.java:1332)\\\\n\\\\tat android.app.-$Lambda$aS31cHIhRx41653CMnd4gZqshIQ.$m$7(Unknown Source:4)\\\\n\\\\tat android.app.-$Lambda$aS31cHIhRx41653CMnd4gZqshIQ.run(Unknown Source:39)\\\\n\\\\tat android.os.Handler.handleCallback(Handler.java:790)\\\\n\\\\tat android.os.Handler.dispatchMessage(Handler.java:99)\\\\n\\\\tat android.os.Looper.loop(Looper.java:164)\\\\n\\\\tat android.app.ActivityThread.main(ActivityThread.java:6545)\\\\n\\\\tat java.lang.reflect.Method.invoke(Native Method)\\\\n\\\\tat com.android.internal.os.RuntimeInit$MethodAndArgsCaller.run(RuntimeInit.java:438)\\\\n\\\\tat com.android.internal.os.ZygoteInit.main(ZygoteInit.java:809)\\\\nCaused by: com.tns.NativeScriptException: \\\\nCalling js method onReceive failed\\\\n\\\\nTypeError: Cannot read property \\'target\\' of undefined\\\\nFile: \\\\\"file:///data/data/com.stanfordhci.habitlab/files/app/util/StorageUtil.js, line: 1107, column: 33\\\\n\\\\nStackTrace: \\\\n\\\\tFrame: function:\\'exports.canIntervene\\', file:\\'file:///data/data/com.stanfordhci.habitlab/files/app/util/StorageUtil.js\\', line: 1107, column: 34\\\\n\\\\tFrame: function:\\'nextScreenUnlockIntervention\\', file:\\'file:///data/data/com.stanfordhci.habitlab/files/app/interventions/InterventionManager.js\\', line: 1090, column: 21\\\\n\\\\tFrame: function:\\'onReceive\\', file:\\'file:///data/data/com.stanfordhci.habitlab/files/app/services/AccessibilityService.js\\', line: 75, column: 56\\\\n\\\\n\\\\n\\\\tat com.tns.Runtime.callJSMethodNative(Native Method)\\\\n\\\\tat com.tns.Runtime.dispatchCallJSMethodNative(Runtime.java:1101)\\\\n\\\\tat com.tns.Runtime.callJSMethodImpl(Runtime.java:983)\\\\n\\\\tat com.tns.Runtime.callJSMethod(Runtime.java:970)\\\\n\\\\tat com.tns.Runtime.callJSMethod(Runtime.java:954)\\\\n\\\\tat com.tns.Runtime.callJSMethod(Runtime.java:946)\\\\n\\\\tat com.tns.gen.android.content.BroadcastReceiver_AccessibilityService_63_56_.onReceive(BroadcastReceiver_AccessibilityService_63_56_.java:18)\\\\n\\\\tat android.app.LoadedApk$ReceiverDispatcher$Args.lambda$-android_app_LoadedApk$ReceiverDispatcher$Args_52851(LoadedApk.java:1322)\\\\n\\\\t... 9 more\\\\n\",\"stack\":\"Error: The application crashed because of an uncaught exception. You can look at \\\\\"stackTrace\\\\\" or \\\\\"nativeException\\\\\" for more detailed information about the exception.\"}', 'time': 'Tue Aug 14 2018 17:09:26 GMT-0500 (CDT)', 'timestamp': 1534284567463.0}\n",
      "881a0d247c847afb93b228ca_error\n",
      "{'_id': ObjectId('5b73531739063900145c6bd8'), 'error': '{\"userID\":\"881a0d247c847afb93b228ca\",\"name\":\"Error\",\"nativeException\":{},\"message\":\"The application crashed because of an uncaught exception. You can look at \\\\\"stackTrace\\\\\" or \\\\\"nativeException\\\\\" for more detailed information about the exception.\",\"stackTrace\":\"An uncaught Exception occurred on \\\\\"main\\\\\" thread.\\\\njava.lang.RuntimeException: Error receiving broadcast Intent { act=android.intent.action.USER_PRESENT flg=0x24200010 } in com.tns.gen.android.content.BroadcastReceiver_AccessibilityService_73_56_@b2aa113\\\\n\\\\tat android.app.LoadedApk$ReceiverDispatcher$Args.lambda$-android_app_LoadedApk$ReceiverDispatcher$Args_52851(LoadedApk.java:1332)\\\\n\\\\tat android.app.-$Lambda$aS31cHIhRx41653CMnd4gZqshIQ.$m$7(Unknown Source:4)\\\\n\\\\tat android.app.-$Lambda$aS31cHIhRx41653CMnd4gZqshIQ.run(Unknown Source:39)\\\\n\\\\tat android.os.Handler.handleCallback(Handler.java:790)\\\\n\\\\tat android.os.Handler.dispatchMessage(Handler.java:99)\\\\n\\\\tat android.os.Looper.loop(Looper.java:164)\\\\n\\\\tat android.app.ActivityThread.main(ActivityThread.java:6545)\\\\n\\\\tat java.lang.reflect.Method.invoke(Native Method)\\\\n\\\\tat com.android.internal.os.RuntimeInit$MethodAndArgsCaller.run(RuntimeInit.java:438)\\\\n\\\\tat com.android.internal.os.ZygoteInit.main(ZygoteInit.java:809)\\\\nCaused by: com.tns.NativeScriptException: \\\\nCalling js method onReceive failed\\\\n\\\\nError: key: \\'undefined\\' must be a string\\\\nFile: \\\\\"file:///data/data/com.stanfordhci.habitlab/files/app/tns_modules/tns-core-modules/application-settings/application-settings-common.js, line: 4, column: 8\\\\n\\\\nStackTrace: \\\\n\\\\tFrame: function:\\'exports.checkKey\\', file:\\'file:///data/data/com.stanfordhci.habitlab/files/app/tns_modules/tns-core-modules/application-settings/application-settings-common.js\\', line: 4, column: 15\\\\n\\\\tFrame: function:\\'verify\\', file:\\'file:///data/data/com.stanfordhci.habitlab/files/app/tns_modules/tns-core-modules/application-settings/application-settings.js\\', line: 11, column: 12\\\\n\\\\tFrame: function:\\'getString\\', file:\\'file:///data/data/com.stanfordhci.habitlab/files/app/tns_modules/tns-core-modules/application-settings/application-settings.js\\', line: 28, column: 5\\\\n\\\\tFrame: function:\\'exports.getAppTime\\', file:\\'file:///data/data/com.stanfordhci.habitlab/files/app/util/StorageUtil.js\\', line: 733, column: 43\\\\n\\\\tFrame: function:\\'code.TIME_NOTIFICATION\\', file:\\'file:///data/data/com.stanfordhci.habitlab/files/app/interventions/InterventionManager.js\\', line: 469, column: 31\\\\n\\\\tFrame: function:\\'nextScreenUnlockIntervention\\', file:\\'file:///data/data/com.stanfordhci.habitlab/files/app/interventions/InterventionManager.js\\', line: 1090, column: 21\\\\n\\\\tFrame: function:\\'onReceive\\', file:\\'file:///data/data/com.stanfordhci.habitlab/files/app/services/AccessibilityService.js\\', line: 85, column: 56\\\\n\\\\n\\\\n\\\\tat com.tns.Runtime.callJSMethodNative(Native Method)\\\\n\\\\tat com.tns.Runtime.dispatchCallJSMethodNative(Runtime.java:1101)\\\\n\\\\tat com.tns.Runtime.callJSMethodImpl(Runtime.java:983)\\\\n\\\\tat com.tns.Runtime.callJSMethod(Runtime.java:970)\\\\n\\\\tat com.tns.Runtime.callJSMethod(Runtime.java:954)\\\\n\\\\tat com.tns.Runtime.callJSMethod(Runtime.java:946)\\\\n\\\\tat com.tns.gen.android.content.BroadcastReceiver_AccessibilityService_73_56_.onReceive(BroadcastReceiver_AccessibilityService_73_56_.java:18)\\\\n\\\\tat android.app.LoadedApk$ReceiverDispatcher$Args.lambda$-android_app_LoadedApk$ReceiverDispatcher$Args_52851(LoadedApk.java:1322)\\\\n\\\\t... 9 more\\\\n\",\"stack\":\"Error: The application crashed because of an uncaught exception. You can look at \\\\\"stackTrace\\\\\" or \\\\\"nativeException\\\\\" for more detailed information about the exception.\"}', 'time': 'Tue Aug 14 2018 17:09:26 GMT-0500 (CDT)', 'timestamp': 1534284567623.0}\n"
     ]
    }
   ],
   "source": [
    "# Look through errors.\n",
    "for name in db.list_collection_names():\n",
    "    if \"error\" in name:\n",
    "        for error in db[name].find({\"timestamp\":{\"$gt\": 1534279887226}}):\n",
    "            print(name)\n",
    "            print(error)"
   ]
  },
  {
   "cell_type": "code",
   "execution_count": null,
   "metadata": {},
   "outputs": [],
   "source": []
  },
  {
   "cell_type": "code",
   "execution_count": null,
   "metadata": {},
   "outputs": [],
   "source": []
  }
 ],
 "metadata": {
  "kernelspec": {
   "display_name": "Python 3",
   "language": "python",
   "name": "python3"
  },
  "language_info": {
   "codemirror_mode": {
    "name": "ipython",
    "version": 3
   },
   "file_extension": ".py",
   "mimetype": "text/x-python",
   "name": "python",
   "nbconvert_exporter": "python",
   "pygments_lexer": "ipython3",
   "version": "3.6.5"
  }
 },
 "nbformat": 4,
 "nbformat_minor": 2
}
