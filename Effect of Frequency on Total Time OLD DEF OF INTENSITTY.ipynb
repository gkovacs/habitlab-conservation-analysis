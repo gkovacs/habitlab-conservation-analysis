{
 "cells": [
  {
   "cell_type": "code",
   "execution_count": 230,
   "metadata": {},
   "outputs": [],
   "source": [
    "import sys\n",
    "#!{sys.executable} -m pip install pymongo\n",
    "#!{sys.executable} -m pip install pyyaml\n",
    "#!{sys.executable} -m pip install matplotlib\n",
    "#!{sys.executable} -m pip install scipy\n",
    "#!{sys.executable} -m pip install pandas\n",
    "#!{sys.executable} -m pip install isoweek\n",
    "\n",
    "#!{sys.executable} -m pip install rpy2"
   ]
  },
  {
   "cell_type": "code",
   "execution_count": 231,
   "metadata": {},
   "outputs": [
    {
     "name": "stdout",
     "output_type": "stream",
     "text": [
      "/home/drew/habitlab-data-analysis\n"
     ]
    }
   ],
   "source": [
    "\n",
    "import os\n",
    "print(os.getcwd())\n",
    "# Get Mongo database\n",
    "from yaml import load\n",
    "from pymongo import MongoClient\n",
    "from getsecret import getsecret\n",
    "\n",
    "client = MongoClient(getsecret(\"EXT_URI\"))\n",
    "db = client[getsecret(\"MOBILE_NAME\")]\n",
    "ext_client = MongoClient(getsecret(\"EXT_URI\"))\n",
    "\n",
    "ext_db = ext_client[getsecret(\"DB_NAME\")]\n",
    "# Get all synced accounts and their respective users.\n",
    "import urllib.request as req\n",
    "import json\n",
    "accounts = json.loads(req.urlopen(\"http://localhost:5000/synced_emails\").read().decode(\"utf-8\"))\n",
    "\n",
    "\n",
    "### CONSTANTS ###\n",
    "INTENSITY = \"intensity\"\n",
    "TOTAL_TIME = \"total_time\"\n",
    "ANDROID = \"android\"\n",
    "HASH = \"email_hash\"\n",
    "INSTALL = \"install_id\"\n",
    "GOALS = \"goals\"\n",
    "FREQ_GOALS = \"freq_goals\"\n",
    "INFREQ_GOALS = \"infreq_goals\"\n",
    "OTHER_TIME = \"other_time\"\n",
    "FREQ_TIME =\"freq_time\"\n",
    "GOAL_TIME = \"goal_time\"\n",
    "TARGET_TIME = \"target_time\"\n",
    "BROWSER = \"browser\"\n",
    "BROWSER_DOMAIN = \"browser_domain\"\n",
    "GOAL_TIMES = \"goal_frequency_days\"\n",
    "FREQ_GOALS = \"freq_goals\"\n",
    "INFREQ_GOALS = \"infreq_goals\"\n",
    "BROWSER = \"browser\"\n",
    "FREQUENCY = \"frequency\"\n",
    "TIME = \"time\"\n",
    "GOAL = \"goal\"\n",
    "SPEND_LESS_TIME_LENGTH = len(\"custom/spend_less_time_\")\n",
    "AVG_FREQ_TIME = \"avg_freq_time\"\n",
    "AVG_INFREQ_TIME = \"avg_infreq_time\"\n",
    "AVG_GOAL_TIME = \"avg_goal_time\"\n",
    "UNPRODUCTIVE_TIME = \"unproductive_time\"\n",
    "PRODUCTIVE_TIME = \"productive_time\"\n",
    "INFREQ_TIME = \"infreq_time\"\n",
    "NUM_FREQ_GOALS = \"num_freq_goals\"\n",
    "NUM_INFREQ_GOALS = \"num_infreq_goals\"\n",
    "import time\n",
    "\n",
    "\n",
    "### FUNCTIONS ###\n",
    "# Get freq stats\n",
    "# week -> goal -> freq\n",
    "# Top-level-domain-names that are not pertinent to the application.\n",
    "TLDs = ['aaa', 'abb', 'abc', 'ac', 'aco', 'ad', 'ads', 'ae', 'aeg', 'af', 'afl', 'ag', 'ai', 'aig', 'al', 'am', 'anz', 'ao', 'aol', 'app', 'aq', 'ar', 'art', 'as', 'at', 'au', 'aw', 'aws', 'ax', 'axa', 'az', 'ba', 'bar', 'bb', 'bbc', 'bbt', 'bcg', 'bcn', 'bd', 'be', 'bet', 'bf', 'bg', 'bh', 'bi', 'bid', 'bio', 'biz', 'bj', 'bm', 'bms', 'bmw', 'bn', 'bnl', 'bo', 'bom', 'boo', 'bot', 'box', 'br', 'bs', 'bt', 'buy', 'bv', 'bw', 'by', 'bz', 'bzh', 'ca', 'cab', 'cal', 'cam', 'car', 'cat', 'cba', 'cbn', 'cbs', 'cc', 'cd', 'ceb', 'ceo', 'cf', 'cfa', 'cfd', 'cg', 'ch', 'ci', 'ck', 'cl', 'cm', 'cn', 'co', 'com', 'cr', 'crs', 'csc', 'cu', 'cv', 'cw', 'cx', 'cy', 'cz', 'dad', 'day', 'dds', 'de', 'dev', 'dhl', 'diy', 'dj', 'dk', 'dm', 'dnp', 'do', 'dog', 'dot', 'dtv', 'dvr', 'dz', 'eat', 'ec', 'eco', 'edu', 'ee', 'eg', 'er', 'es', 'esq', 'et', 'eu', 'eus', 'fan', 'fi', 'fit', 'fj', 'fk', 'fly', 'fm', 'fo', 'foo', 'fox', 'fr', 'frl', 'ftr', 'fun', 'fyi', 'ga', 'gal', 'gap', 'gb', 'gd', 'gdn', 'ge', 'gea', 'gf', 'gg', 'gh', 'gi', 'gl', 'gle', 'gm', 'gmo', 'gmx', 'gn', 'goo', 'gop', 'got', 'gov', 'gp', 'gq', 'gr', 'gs', 'gt', 'gu', 'gw', 'gy', 'hbo', 'hiv', 'hk', 'hkt', 'hm', 'hn', 'hot', 'how', 'hr', 'ht', 'hu', 'ibm', 'ice', 'icu', 'id', 'ie', 'ifm', 'il', 'im', 'in', 'inc', 'ing', 'ink', 'int', 'io', 'iq', 'ir', 'is', 'ist', 'it', 'itv', 'jcb', 'jcp', 'je', 'jio', 'jlc', 'jll', 'jm', 'jmp', 'jnj', 'jo', 'jot', 'joy', 'jp', 'ke', 'kfh', 'kg', 'kh', 'ki', 'kia', 'kim', 'km', 'kn', 'kp', 'kpn', 'kr', 'krd', 'kw', 'ky', 'kz', 'la', 'lat', 'law', 'lb', 'lc', 'lds', 'li', 'lk', 'llc', 'lol', 'lpl', 'lr', 'ls', 'lt', 'ltd', 'lu', 'lv', 'ly', 'ma', 'man', 'map', 'mba', 'mc', 'md', 'me', 'med', 'men', 'mg', 'mh', 'mil', 'mit', 'mk', 'ml', 'mlb', 'mls', 'mm', 'mma', 'mn', 'mo', 'moe', 'moi', 'mom', 'mov', 'mp', 'mq', 'mr', 'ms', 'msd', 'mt', 'mtn', 'mtr', 'mu', 'mv', 'mw', 'mx', 'my', 'mz', 'na', 'nab', 'nba', 'nc', 'ne', 'nec', 'net', 'new', 'nf', 'nfl', 'ng', 'ngo', 'nhk', 'ni', 'nl', 'no', 'now', 'np', 'nr', 'nra', 'nrw', 'ntt', 'nu', 'nyc', 'nz', 'obi', 'off', 'om', 'one', 'ong', 'onl', 'ooo', 'org', 'ott', 'ovh', 'pa', 'pay', 'pe', 'pet', 'pf', 'pg', 'ph', 'phd', 'pid', 'pin', 'pk', 'pl', 'pm', 'pn', 'pnc', 'pr', 'pro', 'pru', 'ps', 'pt', 'pub', 'pw', 'pwc', 'py', 'qa', 'qvc', 're', 'red', 'ren', 'ril', 'rio', 'rip', 'ro', 'rs', 'ru', 'run', 'rw', 'rwe', 'sa', 'sap', 'sas', 'sb', 'sbi', 'sbs', 'sc', 'sca', 'scb', 'sd', 'se', 'ses', 'sew', 'sex', 'sfr', 'sg', 'sh', 'si', 'sj', 'sk', 'ski', 'sky', 'sl', 'sm', 'sn', 'so', 'soy', 'sr', 'srl', 'srt', 'st', 'stc', 'su', 'sv', 'sx', 'sy', 'sz', 'tab', 'tax', 'tc', 'tci', 'td', 'tdk', 'tel', 'tf', 'tg', 'th', 'thd', 'tj', 'tjx', 'tk', 'tl', 'tm', 'tn', 'to', 'top', 'tr', 'trv', 'tt', 'tui', 'tv', 'tvs', 'tw', 'tz', 'ua', 'ubs', 'ug', 'uk', 'uno', 'uol', 'ups', 'us', 'uy', 'uz', 'va', 'vc', 've', 'vet', 'vg', 'vi', 'vig', 'vin', 'vip', 'vn', 'vu', 'wed', 'wf', 'win', 'wme', 'wow', 'ws', 'wtc', 'wtf', 'xin', 'xxx', 'xyz', 'ye', 'you', 'yt', 'yun', 'za', 'zip', 'zm', 'zw']\n",
    "def get_name(name, device):\n",
    "    \"\"\"\n",
    "    @param name: goal name (package name for Android)\n",
    "    @param device: \"android\" or \"browser\" or \"browser_domain\"\n",
    "    @return name of goal with subdomains removed and goal annotation removed (i.e. spend_less_time)\n",
    "    \"\"\"\n",
    "    if device == ANDROID  and name ==\"com.google.android.gm\" or device == BROWSER and \"gmail\" in name:\n",
    "        return \"gmail\"\n",
    "    name = name.lower()\n",
    "    if \"custom\" in name and device == BROWSER:\n",
    "        # strip off the \"custom/spend_less_time_\"\n",
    "        name = name[SPEND_LESS_TIME_LENGTH:]\n",
    "    elif device == BROWSER:\n",
    "        return name.split('/spend')[0]\n",
    "    # Now we have to get juicy part of domain.\n",
    "    subs = list(filter(lambda x: x != \"android\" and x != \"google\" and x != \"apps\" and x not in TLDs, name.split('.')))\n",
    "    if device == ANDROID: \n",
    "        if len(subs) > 0:\n",
    "            return subs[0]\n",
    "        return name\n",
    "    else:\n",
    "        if len(subs) > 0:\n",
    "            return subs[len(subs) - 1]    \n",
    "        \n",
    "def get_freq_stats(user):\n",
    "    \"\"\"\n",
    "    Gets the frequency stats for browser.\n",
    "    :param user user id \n",
    "    :return {week: {FREQ_GOALS: set(), INFREQ_GOALS: set()}}\n",
    "    \"\"\"\n",
    "    stat = {}\n",
    "    for setting in ext_db[user + \"_synced:goal_frequencies\"].find():\n",
    "        val = json.loads(setting[\"val\"])\n",
    "        if val[\"algorithm\"] == \"isoweek_random\":\n",
    "            isoWeek = int(datetime.fromtimestamp(setting[\"timestamp_local\"]/1000 + 8 * (60 ** 2)).isocalendar()[1])\n",
    "            currentIsoWeek = int(datetime.fromtimestamp(time.time()).isocalendar()[1])\n",
    "            for week in range(isoWeek, currentIsoWeek + 1):\n",
    "                if str(week) not in stat:\n",
    "                    stat[str(week)] = {FREQ_GOALS: set([]), INFREQ_GOALS: set([])}\n",
    "                if val[\"onweeks\"][week] == 1:\n",
    "                    stat[str(week)][FREQ_GOALS].add(get_name(setting[\"key\"], BROWSER))\n",
    "                else:\n",
    "                    stat[str(week)][INFREQ_GOALS].add(get_name(setting[\"key\"], BROWSER))\n",
    "    return stat\n"
   ]
  },
  {
   "cell_type": "code",
   "execution_count": null,
   "metadata": {},
   "outputs": [],
   "source": []
  },
  {
   "cell_type": "code",
   "execution_count": 232,
   "metadata": {},
   "outputs": [
    {
     "name": "stdout",
     "output_type": "stream",
     "text": [
      "The rpy2.ipython extension is already loaded. To reload it, use:\n",
      "  %reload_ext rpy2.ipython\n"
     ]
    }
   ],
   "source": [
    "%load_ext rpy2.ipython"
   ]
  },
  {
   "cell_type": "code",
   "execution_count": 233,
   "metadata": {},
   "outputs": [],
   "source": [
    "# Now, let's get the mapping from productive apps to unproductive ones.\n",
    "from statistics import mode, median, StatisticsError\n",
    "name_to_prod = {}\n",
    "with open('domain_to_productivity.json', 'r') as f:\n",
    "    domain_to_prod = json.load(f)\n",
    "    for domain in domain_to_prod:\n",
    "        name = get_name(domain, BROWSER_DOMAIN)\n",
    "        if name not in name_to_prod: \n",
    "            name_to_prod[name] = []\n",
    "        name_to_prod[name].append(domain_to_prod[domain])\n",
    "for name in name_to_prod:\n",
    "    try:\n",
    "        name_to_prod[name] = mode(name_to_prod[name])\n",
    "    except StatisticsError:\n",
    "        name_to_prod[name] = median(name_to_prod[name])"
   ]
  },
  {
   "cell_type": "code",
   "execution_count": 374,
   "metadata": {},
   "outputs": [],
   "source": [
    "# Now, for each day, get frequency intensity\n",
    "day_stats = []\n",
    "import math\n",
    "import moment\n",
    "for account in accounts:\n",
    "    curr_date = \"\"\n",
    "    day_data = {PRODUCTIVE_TIME: 0, UNPRODUCTIVE_TIME: 0,INTENSITY: 0, INFREQ_GOALS: set([]), TARGET_TIME:0,\n",
    "                FREQ_TIME: 0, TOTAL_TIME: 0, GOAL_TIME: 0, HASH: account[\"_id\"], GOALS: set([]), \n",
    "                FREQ_GOALS: set([]), OTHER_TIME: 0, INSTALL: '', \"num_sessions\": 0 }\n",
    "    for user in account[ANDROID]:\n",
    "        day_data[INSTALL] = user\n",
    "        for s in db[user+ \"_sessions\"].find({\"interventions\": {\"$exists\": True}, \"enabled\": {\"$exists\": True}, \"duration\": {\"$lt\": 86400}}):\n",
    "            if (s[\"duration\"] <= 0):\n",
    "              continue\n",
    "            day_data[\"num_sessions\"] += 1\n",
    "            if len(s[\"interventions\"]) > 0:\n",
    "                day_data[INTENSITY] += 1\n",
    "            time = moment.unix(s[\"timestamp\"])\n",
    "            date = time.format(\"YYYY-MM-DD\")\n",
    "            if date != curr_date:\n",
    "                if curr_date != \"\" and day_data[TOTAL_TIME] > 0 and len(day_data[GOALS]) > 0 and day_data[OTHER_TIME] > 0:\n",
    "                    # Add obj and reset data\n",
    "                    # take logs of time cuz time is log-norm distributed\n",
    "                    # Have a more clever way of determining intensity: the % time spent on freq goals\n",
    "                    for key in day_data:\n",
    "                        if \"domain_time\" in key:\n",
    "                            domain = key[:-len(\"_domain_time\")]\n",
    "                            if domain in day_data[FREQ_GOALS] or domain in day_data[INFREQ_GOALS]:\n",
    "                                day_data[GOAL_TIME] += day_data[key]\n",
    "                    for key in day_data:\n",
    "                        if \"time\" in key and day_data[key] > 0:\n",
    "                            day_data[key]= math.log(day_data[key])\n",
    "                    day_data[INTENSITY] /= day_data[\"num_sessions\"]\n",
    "                    day_stats.append(day_data)\n",
    "                    day_data = {PRODUCTIVE_TIME: 0, UNPRODUCTIVE_TIME: 0,INTENSITY: 0, INFREQ_GOALS: set([]), TARGET_TIME:0,\n",
    "                                FREQ_TIME: 0, TOTAL_TIME: 0, GOAL_TIME: 0, HASH: account[\"_id\"], GOALS: set([]), \n",
    "                                FREQ_GOALS: set([]), OTHER_TIME: 0, INSTALL: user, \"num_sessions\": 0 }\n",
    "                curr_date = date\n",
    "            if \"enabled\" in s:\n",
    "                if s[\"enabled\"]:\n",
    "                    day_data[GOALS].add(s[\"domain\"])\n",
    "                    if s[\"duration\"] > 0:\n",
    "                        if s[\"domain\"] + \"_domain_time\" not in day_data:\n",
    "                            day_data[s[\"domain\"]+\"_domain_time\"] = 0\n",
    "                            day_data[s[\"domain\"] + \"_num_sessions\"] = 0\n",
    "                            day_data[s[\"domain\"] + \"_intervention_sessions\"] = 0\n",
    "                        day_data[s[\"domain\"]+\"_domain_time\"] += s[\"duration\"]\n",
    "                        day_data[s[\"domain\"] + \"_num_sessions\"] += 1\n",
    "                        if len(s[\"interventions\"]) > 0:\n",
    "                            day_data[s[\"domain\"] +\"_intervention_sessions\"] += 1\n",
    "                    if \"frequent\" in s and s[\"frequent\"] and len(s[\"interventions\"]) > 0:\n",
    "                        day_data[FREQ_TIME] += s[\"duration\"]\n",
    "                        day_data[FREQ_GOALS].add(s[\"domain\"])\n",
    "                    elif \"frequent\" in s and len(s[\"interventions\"]) > 0:\n",
    "                        day_data[INFREQ_GOALS].add(s[\"domain\"])\n",
    "                elif \"target\" in s and s[\"target\"]:\n",
    "                    day_data[TARGET_TIME] += s[\"duration\"]                        \n",
    "                else:\n",
    "                    day_data[OTHER_TIME] += s[\"duration\"]\n",
    "            name = get_name(s[\"domain\"], ANDROID)\n",
    "            if name in name_to_prod:\n",
    "                if name_to_prod[name] > 0:\n",
    "                    day_data[PRODUCTIVE_TIME] += s[\"duration\"]\n",
    "                elif name_to_prod[name] < 0:\n",
    "                    day_data[UNPRODUCTIVE_TIME] += s[\"duration\"]\n",
    "            day_data[TOTAL_TIME] += (s[\"duration\"])"
   ]
  },
  {
   "cell_type": "code",
   "execution_count": 375,
   "metadata": {},
   "outputs": [
    {
     "name": "stdout",
     "output_type": "stream",
     "text": [
      "6918\n"
     ]
    },
    {
     "data": {
      "text/plain": [
       "(array([170., 514., 893., 948., 953., 871., 779., 571., 449., 336., 189.,\n",
       "        104.,  73.,  34.,  14.,   9.,   7.,   1.,   2.,   1.]),\n",
       " array([0.        , 0.03981481, 0.07962963, 0.11944444, 0.15925926,\n",
       "        0.19907407, 0.23888889, 0.2787037 , 0.31851852, 0.35833333,\n",
       "        0.39814815, 0.43796296, 0.47777778, 0.51759259, 0.55740741,\n",
       "        0.59722222, 0.63703704, 0.67685185, 0.71666667, 0.75648148,\n",
       "        0.7962963 ]),\n",
       " <a list of 20 Patch objects>)"
      ]
     },
     "execution_count": 375,
     "metadata": {},
     "output_type": "execute_result"
    },
    {
     "data": {
      "image/png": "[encoded data removed]",
      "text/plain": [
       "<Figure size 432x288 with 1 Axes>"
      ]
     },
     "metadata": {
      "needs_background": "light"
     },
     "output_type": "display_data"
    }
   ],
   "source": [
    "import matplotlib.pyplot as pyplot\n",
    "pyplot.figure(12)\n",
    "print(len(day_stats))\n",
    "pyplot.hist([day[INTENSITY] for day in day_stats if math.exp(day[TOTAL_TIME])], bins=20)"
   ]
  },
  {
   "cell_type": "code",
   "execution_count": 460,
   "metadata": {},
   "outputs": [
    {
     "name": "stdout",
     "output_type": "stream",
     "text": [
      "6918\n",
      "      productive_time  unproductive_time  intensity  \\\n",
      "0            6.274762           9.042277   0.600000   \n",
      "1            4.859812           8.122371   0.250000   \n",
      "2            7.121252           7.741968   0.333333   \n",
      "3            6.720220           8.000685   0.500000   \n",
      "4            5.356586           6.150603   0.500000   \n",
      "5            6.496775           9.277719   0.750000   \n",
      "6            6.413459           8.809863   0.750000   \n",
      "7            5.241747           8.592672   0.750000   \n",
      "8            4.663439           9.302828   0.800000   \n",
      "9            7.604894           9.117567   0.250000   \n",
      "10           4.770685           9.080573   0.250000   \n",
      "11           0.000000           9.124891   0.250000   \n",
      "12           0.000000          10.020070   0.200000   \n",
      "13           3.637586          10.736223   0.400000   \n",
      "14           2.302585           9.099744   0.400000   \n",
      "15           3.688879           9.049467   0.250000   \n",
      "16           4.532599           9.002085   0.400000   \n",
      "17           4.043051           9.065777   0.400000   \n",
      "18           6.327937           8.562358   0.250000   \n",
      "19           4.382027           9.667005   0.250000   \n",
      "20           1.098612           9.252058   0.500000   \n",
      "21           3.931826           9.427385   0.500000   \n",
      "22           2.772589           9.175645   0.600000   \n",
      "23           0.000000           9.394078   0.500000   \n",
      "24           3.737670           9.968760   0.600000   \n",
      "25           5.525453           9.459697   0.600000   \n",
      "26           0.000000           9.654321   0.500000   \n",
      "27           0.000000           9.434364   0.750000   \n",
      "28           6.333280           8.997271   0.400000   \n",
      "29           5.814131           8.901911   0.400000   \n",
      "...               ...                ...        ...   \n",
      "4433         6.770789           6.661855   0.600000   \n",
      "4434         5.529429           0.693147   0.250000   \n",
      "4435         6.848005           6.236370   0.333333   \n",
      "4436         7.390799           8.001355   0.400000   \n",
      "4437         5.537334           8.767173   0.600000   \n",
      "4438         0.000000           7.703459   0.600000   \n",
      "4439         3.135494           8.312135   0.600000   \n",
      "4440         4.890349           9.616139   0.500000   \n",
      "4441         3.295837          10.437522   0.500000   \n",
      "4442         2.833213          10.287252   0.500000   \n",
      "4443         5.164786           8.650325   0.400000   \n",
      "4444         3.850148           8.567316   0.500000   \n",
      "4445         0.693147           9.359364   0.500000   \n",
      "4446         6.678342           8.183397   0.666667   \n",
      "4447        10.481869           7.736307   0.250000   \n",
      "4448         9.936971           8.659734   0.333333   \n",
      "4449        11.287554           8.808220   0.250000   \n",
      "4450         4.983607           8.972083   0.500000   \n",
      "4451         5.141664          10.073526   0.750000   \n",
      "4452         8.222822           7.810758   0.500000   \n",
      "4453         3.688879           9.599676   0.800000   \n",
      "4454         0.000000           8.560253   1.000000   \n",
      "4455        10.781474           9.398478   0.200000   \n",
      "4456        10.836144           9.278466   0.200000   \n",
      "4457         3.891820          10.536885   0.500000   \n",
      "4458         6.210600           7.179308   1.000000   \n",
      "4459         6.350886           6.340359   0.500000   \n",
      "4460         5.433722           9.431482   0.666667   \n",
      "4461         2.397895           8.579980   0.333333   \n",
      "4462         8.128880           6.603944   0.666667   \n",
      "\n",
      "                                           infreq_goals  target_time  \\\n",
      "0                               {com.instagram.android}     0.000000   \n",
      "1           {com.linkedin.android, com.twitter.android}     0.000000   \n",
      "2                                {com.linkedin.android}     0.000000   \n",
      "3                                {com.linkedin.android}     0.000000   \n",
      "4                                {com.linkedin.android}     0.000000   \n",
      "5                               {com.instagram.android}     2.484907   \n",
      "6                               {com.instagram.android}     1.791759   \n",
      "7                               {com.instagram.android}     0.000000   \n",
      "8     {com.amazon.avod.thirdpartyclient, com.instagr...     0.000000   \n",
      "9     {com.instagram.android, com.whatsapp, com.face...     0.000000   \n",
      "10    {com.instagram.android, com.whatsapp, com.face...     0.000000   \n",
      "11    {com.instagram.android, com.whatsapp, com.face...     0.000000   \n",
      "12    {com.instagram.android, com.whatsapp, com.face...     0.000000   \n",
      "13    {com.instagram.android, com.whatsapp, com.face...     0.000000   \n",
      "14    {com.instagram.android, com.whatsapp, com.face...     0.000000   \n",
      "15    {com.instagram.android, com.whatsapp, com.face...     0.000000   \n",
      "16    {com.instagram.android, com.whatsapp, com.face...     0.000000   \n",
      "17    {com.instagram.android, com.whatsapp, com.face...     0.000000   \n",
      "18    {com.instagram.android, com.whatsapp, com.face...     0.000000   \n",
      "19    {com.instagram.android, com.whatsapp, com.face...     0.000000   \n",
      "20    {com.instagram.android, com.whatsapp, com.face...     0.000000   \n",
      "21           {com.instagram.android, com.facebook.lite}     0.000000   \n",
      "22           {com.instagram.android, com.facebook.lite}     0.000000   \n",
      "23           {com.instagram.android, com.facebook.lite}     0.000000   \n",
      "24           {com.instagram.android, com.facebook.lite}     0.000000   \n",
      "25           {com.instagram.android, com.facebook.lite}     0.000000   \n",
      "26           {com.instagram.android, com.facebook.lite}     0.000000   \n",
      "27    {com.amazon.avod.thirdpartyclient, com.instagr...     0.000000   \n",
      "28     {com.amazon.avod.thirdpartyclient, com.whatsapp}     0.000000   \n",
      "29    {com.amazon.avod.thirdpartyclient, com.whatsap...     0.000000   \n",
      "...                                                 ...          ...   \n",
      "4433  {fm.player, com.hookapp.hook, com.google.andro...     0.000000   \n",
      "4434  {com.coolapk.market, com.google.android.google...     5.214936   \n",
      "4435                 {com.evernote, com.coolapk.market}     0.000000   \n",
      "4436  {com.evernote, com.coolapk.market, com.google....     0.000000   \n",
      "4437            {com.android.chrome, com.facebook.orca}     0.000000   \n",
      "4438            {com.android.chrome, com.facebook.orca}     0.000000   \n",
      "4439            {com.android.chrome, com.facebook.orca}     4.615121   \n",
      "4440                                     {com.whatsapp}     0.000000   \n",
      "4441                                     {com.whatsapp}     0.000000   \n",
      "4442                                     {com.whatsapp}     0.000000   \n",
      "4443                              {com.twitter.android}     0.000000   \n",
      "4444  {com.google.android.apps.magazines, com.twitte...     3.891820   \n",
      "4445         {com.twitter.android, org.mozilla.firefox}     8.108322   \n",
      "4446                              {com.twitter.android}     7.368970   \n",
      "4447                              {com.facebook.katana}     0.000000   \n",
      "4448          {com.android.chrome, com.facebook.katana}     0.000000   \n",
      "4449  {com.android.chrome, com.facebook.katana, com....     0.000000   \n",
      "4450                                     {com.whatsapp}     0.000000   \n",
      "4451                                     {com.whatsapp}     0.000000   \n",
      "4452                       {com.google.android.youtube}     8.218787   \n",
      "4453    {com.facebook.orca, com.google.android.youtube}     0.000000   \n",
      "4454          {com.facebook.orca, com.snapchat.android}     0.000000   \n",
      "4455  {com.reddit.frontpage, com.android.chrome, com...     6.875232   \n",
      "4456  {com.reddit.frontpage, com.android.chrome, com...     6.740519   \n",
      "4457  {com.google.android.googlequicksearchbox, com....     3.367296   \n",
      "4458                               {com.android.chrome}     0.000000   \n",
      "4459            {com.android.chrome, com.facebook.orca}     0.000000   \n",
      "4460  {com.facebook.katana, com.instagram.android, j...     0.000000   \n",
      "4461  {com.android.chrome, com.instagram.android, co...     0.000000   \n",
      "4462                                     {com.whatsapp}     0.000000   \n",
      "\n",
      "      freq_time  total_time  goal_time  \\\n",
      "0      7.860185   10.784669   8.057694   \n",
      "1      6.882437   10.330518   7.715570   \n",
      "2      4.997212   10.535025   5.872118   \n",
      "3      7.412764    8.865594   7.636752   \n",
      "4      5.758902    7.501634   6.169611   \n",
      "5      7.918992    9.750861   8.204125   \n",
      "6      7.957877   10.605669   7.995644   \n",
      "7      7.496097    9.127285   7.598399   \n",
      "8      6.744059    9.512665   9.288134   \n",
      "9      8.888067    9.955321   9.061144   \n",
      "10     8.749732    9.888729   9.077038   \n",
      "11     8.807322    9.430439   9.120853   \n",
      "12     9.914625   10.195149  10.016459   \n",
      "13    10.664597   10.820678  10.732192   \n",
      "14     8.604105    9.925983   9.099744   \n",
      "15     8.521982    9.481054   9.049467   \n",
      "16     8.396606    9.644069   8.998755   \n",
      "17     8.001020    9.592946   9.063811   \n",
      "18     8.014005    8.992806   8.562358   \n",
      "19     9.428270    9.787403   9.663071   \n",
      "20     8.989818    9.488729   9.252058   \n",
      "21     9.066932   10.051735   9.426338   \n",
      "22     8.948326    9.809067   9.172742   \n",
      "23     9.273409    9.591786   9.394078   \n",
      "24     9.861623   10.139863   9.942660   \n",
      "25     9.288597    9.699840   9.430600   \n",
      "26     9.542446    9.782619   9.654321   \n",
      "27     9.255218    9.688622   9.417761   \n",
      "28     7.370231    9.581490   8.972464   \n",
      "29     7.673688    9.588982   8.892886   \n",
      "...         ...         ...        ...   \n",
      "4433   7.283448    9.554072   8.238273   \n",
      "4434   5.613128   11.106610   8.068403   \n",
      "4435   6.530878   10.897202   8.364974   \n",
      "4436   6.118097   10.713106   7.976939   \n",
      "4437   7.130899    9.217117   8.707318   \n",
      "4438   6.218600    8.686936   7.669028   \n",
      "4439   6.647688    8.726319   7.673223   \n",
      "4440   6.630683    9.834887   7.067320   \n",
      "4441   8.833900   10.752634   8.921191   \n",
      "4442   8.870944   10.684371   8.901367   \n",
      "4443   6.993015    9.293762   7.963460   \n",
      "4444   7.201171    9.146974   8.879751   \n",
      "4445   6.857514    9.633383   9.131405   \n",
      "4446   7.185387    9.524202   7.896181   \n",
      "4447   7.191429   10.553388   7.638198   \n",
      "4448   7.821242   10.236167   8.524764   \n",
      "4449   7.853216   11.379485   8.527144   \n",
      "4450   8.843615    9.782111   9.293578   \n",
      "4451   8.668196   10.403505   8.965845   \n",
      "4452   5.978886   10.966231   6.985642   \n",
      "4453   8.956351    9.889794   9.120306   \n",
      "4454   8.292048    8.737292   8.376090   \n",
      "4455   7.857481   11.287241   9.623840   \n",
      "4456   7.119636   11.279050   9.712569   \n",
      "4457   7.721349   10.723466  10.614720   \n",
      "4458   7.877776    8.659213   8.526153   \n",
      "4459   6.495266    7.593374   7.167038   \n",
      "4460   7.157735    9.594514   8.856518   \n",
      "4461   6.352629   10.608464   8.147288   \n",
      "4462   3.367296    9.563178   4.330733   \n",
      "\n",
      "                                             email_hash  \\\n",
      "0     739e11589479d8e6b88aec1b86ec8c4a023691db6c9d0a...   \n",
      "1     739e11589479d8e6b88aec1b86ec8c4a023691db6c9d0a...   \n",
      "2     739e11589479d8e6b88aec1b86ec8c4a023691db6c9d0a...   \n",
      "3     739e11589479d8e6b88aec1b86ec8c4a023691db6c9d0a...   \n",
      "4     739e11589479d8e6b88aec1b86ec8c4a023691db6c9d0a...   \n",
      "5     739e11589479d8e6b88aec1b86ec8c4a023691db6c9d0a...   \n",
      "6     739e11589479d8e6b88aec1b86ec8c4a023691db6c9d0a...   \n",
      "7     739e11589479d8e6b88aec1b86ec8c4a023691db6c9d0a...   \n",
      "8     c3e36aee683e96002d1441743cf8580ebe5e4916e76c04...   \n",
      "9     c3e36aee683e96002d1441743cf8580ebe5e4916e76c04...   \n",
      "10    c3e36aee683e96002d1441743cf8580ebe5e4916e76c04...   \n",
      "11    c3e36aee683e96002d1441743cf8580ebe5e4916e76c04...   \n",
      "12    c3e36aee683e96002d1441743cf8580ebe5e4916e76c04...   \n",
      "13    c3e36aee683e96002d1441743cf8580ebe5e4916e76c04...   \n",
      "14    c3e36aee683e96002d1441743cf8580ebe5e4916e76c04...   \n",
      "15    c3e36aee683e96002d1441743cf8580ebe5e4916e76c04...   \n",
      "16    c3e36aee683e96002d1441743cf8580ebe5e4916e76c04...   \n",
      "17    c3e36aee683e96002d1441743cf8580ebe5e4916e76c04...   \n",
      "18    c3e36aee683e96002d1441743cf8580ebe5e4916e76c04...   \n",
      "19    c3e36aee683e96002d1441743cf8580ebe5e4916e76c04...   \n",
      "20    c3e36aee683e96002d1441743cf8580ebe5e4916e76c04...   \n",
      "21    c3e36aee683e96002d1441743cf8580ebe5e4916e76c04...   \n",
      "22    c3e36aee683e96002d1441743cf8580ebe5e4916e76c04...   \n",
      "23    c3e36aee683e96002d1441743cf8580ebe5e4916e76c04...   \n",
      "24    c3e36aee683e96002d1441743cf8580ebe5e4916e76c04...   \n",
      "25    c3e36aee683e96002d1441743cf8580ebe5e4916e76c04...   \n",
      "26    c3e36aee683e96002d1441743cf8580ebe5e4916e76c04...   \n",
      "27    c3e36aee683e96002d1441743cf8580ebe5e4916e76c04...   \n",
      "28    c3e36aee683e96002d1441743cf8580ebe5e4916e76c04...   \n",
      "29    c3e36aee683e96002d1441743cf8580ebe5e4916e76c04...   \n",
      "...                                                 ...   \n",
      "4433  c4dd60747fc3cd57f542695b73bdd551b6f4b17189997d...   \n",
      "4434  af5356397ca66655d02845add5aa0684e0bb9a8236de3a...   \n",
      "4435  af5356397ca66655d02845add5aa0684e0bb9a8236de3a...   \n",
      "4436  af5356397ca66655d02845add5aa0684e0bb9a8236de3a...   \n",
      "4437  fe1459e391a814ce6207afa0d852e087fc6bbc6c23f505...   \n",
      "4438  fe1459e391a814ce6207afa0d852e087fc6bbc6c23f505...   \n",
      "4439  fe1459e391a814ce6207afa0d852e087fc6bbc6c23f505...   \n",
      "4440  18869f97ce851d00c2de8a5d6041a7ae985a178d84aa28...   \n",
      "4441  18869f97ce851d00c2de8a5d6041a7ae985a178d84aa28...   \n",
      "4442  18869f97ce851d00c2de8a5d6041a7ae985a178d84aa28...   \n",
      "4443  7110b20107973d6604dc63fbc9d2632229c867e1006efe...   \n",
      "4444  7110b20107973d6604dc63fbc9d2632229c867e1006efe...   \n",
      "4445  7110b20107973d6604dc63fbc9d2632229c867e1006efe...   \n",
      "4446  7110b20107973d6604dc63fbc9d2632229c867e1006efe...   \n",
      "4447  48a30e1e97753ef4d4fcc2fcefc63c4bcee1d87da6bd2f...   \n",
      "4448  48a30e1e97753ef4d4fcc2fcefc63c4bcee1d87da6bd2f...   \n",
      "4449  48a30e1e97753ef4d4fcc2fcefc63c4bcee1d87da6bd2f...   \n",
      "4450  988642d4d56f4b9fb1f9e63633279eb2746c111ac2e99a...   \n",
      "4451  988642d4d56f4b9fb1f9e63633279eb2746c111ac2e99a...   \n",
      "4452  7df97aa9cf474c5bf1158569da47a1eee2c8f4f061dbe0...   \n",
      "4453  cbb7d54f09fd4c160652549b5e1027804157019c47d710...   \n",
      "4454  cbb7d54f09fd4c160652549b5e1027804157019c47d710...   \n",
      "4455  08d5aef413aac5060fa893a382e8f61dd9b3b2a206354c...   \n",
      "4456  08d5aef413aac5060fa893a382e8f61dd9b3b2a206354c...   \n",
      "4457  a0d69f36e211de808c9779cba4d75e7373ab9c7aeedaff...   \n",
      "4458  30ab3b7d8e869b799000ff6bb8f56c3dfc77bf08e38a91...   \n",
      "4459  5d743a5b702f3f28d3c885272654ee13842ad71b7e6da5...   \n",
      "4460  5d743a5b702f3f28d3c885272654ee13842ad71b7e6da5...   \n",
      "4461  b61cca5b82beb44368ed17dd899a857c74abf3da5cab41...   \n",
      "4462  068275c33f5e5179e06b4ba44479e13ed728451f1bdabf...   \n",
      "\n",
      "                                                  goals  \\\n",
      "0     {com.facebook.katana, com.twitter.android, com...   \n",
      "1     {com.linkedin.android, com.ideashower.readitla...   \n",
      "2     {com.twitter.android, com.linkedin.android, co...   \n",
      "3     {com.linkedin.android, com.ideashower.readitla...   \n",
      "4           {com.linkedin.android, com.twitter.android}   \n",
      "5     {com.facebook.katana, com.linkedin.android, co...   \n",
      "6     {com.facebook.katana, com.linkedin.android, co...   \n",
      "7     {com.facebook.katana, com.linkedin.android, co...   \n",
      "8     {com.instagram.android, com.facebook.lite, com...   \n",
      "9     {com.amazon.avod.thirdpartyclient, com.instagr...   \n",
      "10    {com.amazon.avod.thirdpartyclient, com.instagr...   \n",
      "11    {com.amazon.avod.thirdpartyclient, com.instagr...   \n",
      "12    {com.instagram.android, com.facebook.lite, com...   \n",
      "13    {com.netflix.mediaclient, com.instagram.androi...   \n",
      "14    {com.instagram.android, com.facebook.lite, com...   \n",
      "15    {com.amazon.avod.thirdpartyclient, com.instagr...   \n",
      "16    {com.instagram.android, com.facebook.lite, com...   \n",
      "17    {com.instagram.android, com.facebook.lite, com...   \n",
      "18    {com.amazon.avod.thirdpartyclient, com.instagr...   \n",
      "19    {com.amazon.avod.thirdpartyclient, com.instagr...   \n",
      "20    {com.amazon.avod.thirdpartyclient, com.instagr...   \n",
      "21    {com.amazon.avod.thirdpartyclient, com.instagr...   \n",
      "22    {com.instagram.android, com.facebook.lite, com...   \n",
      "23    {com.amazon.avod.thirdpartyclient, com.instagr...   \n",
      "24    {com.instagram.android, com.facebook.lite, com...   \n",
      "25    {com.instagram.android, com.facebook.lite, com...   \n",
      "26    {com.amazon.avod.thirdpartyclient, com.instagr...   \n",
      "27    {com.amazon.avod.thirdpartyclient, com.instagr...   \n",
      "28    {com.netflix.mediaclient, com.instagram.androi...   \n",
      "29    {com.instagram.android, com.facebook.lite, com...   \n",
      "...                                                 ...   \n",
      "4433  {com.google.android.gm, com.android.chrome, fm...   \n",
      "4434  {com.evernote, com.android.chrome, com.google....   \n",
      "4435  {com.android.chrome, com.coolapk.market, com.e...   \n",
      "4436  {com.coolapk.market, com.google.android.apps.p...   \n",
      "4437  {com.google.android.gm, com.android.chrome, co...   \n",
      "4438  {com.google.android.gm, com.android.chrome, co...   \n",
      "4439  {com.android.chrome, com.twitter.android, com....   \n",
      "4440                     {com.whatsapp, com.gbwhatsapp}   \n",
      "4441                     {com.whatsapp, com.gbwhatsapp}   \n",
      "4442                     {com.whatsapp, com.gbwhatsapp}   \n",
      "4443  {com.google.android.apps.magazines, com.facebo...   \n",
      "4444  {com.google.android.apps.magazines, com.facebo...   \n",
      "4445  {com.google.android.apps.magazines, com.facebo...   \n",
      "4446  {com.google.android.apps.magazines, com.facebo...   \n",
      "4447  {com.android.chrome, com.facebook.orca, com.in...   \n",
      "4448  {com.android.chrome, com.facebook.katana, com....   \n",
      "4449  {com.android.chrome, com.facebook.katana, com....   \n",
      "4450  {org.mozilla.focus, com.whatsapp, com.google.a...   \n",
      "4451  {com.netflix.mediaclient, org.mozilla.focus, c...   \n",
      "4452  {com.facebook.katana, com.google.android.youtube}   \n",
      "4453  {com.facebook.katana, com.google.android.youtu...   \n",
      "4454  {com.facebook.orca, com.instagram.android, com...   \n",
      "4455  {com.facebook.katana, com.android.chrome, com....   \n",
      "4456  {com.facebook.katana, com.android.chrome, com....   \n",
      "4457  {com.android.chrome, com.mixer3d.music.dj3d, c...   \n",
      "4458  {com.android.chrome, com.facebook.orca, com.wh...   \n",
      "4459  {com.android.chrome, com.facebook.katana, air....   \n",
      "4460  {com.facebook.katana, com.google.android.gm, c...   \n",
      "4461  {com.android.chrome, com.instagram.android, co...   \n",
      "4462  {com.facebook.katana, com.instagram.android, c...   \n",
      "\n",
      "                                             freq_goals  other_time  \\\n",
      "0     {com.facebook.katana, com.linkedin.android, co...   10.715684   \n",
      "1                               {com.instagram.android}   10.254356   \n",
      "2                                 {com.twitter.android}   10.502818   \n",
      "3          {com.instagram.android, com.twitter.android}    8.518792   \n",
      "4                                 {com.twitter.android}    7.195187   \n",
      "5     {com.facebook.katana, com.linkedin.android, co...    9.510519   \n",
      "6     {com.facebook.katana, com.linkedin.android, co...   10.529132   \n",
      "7     {com.facebook.katana, com.linkedin.android, co...    8.882947   \n",
      "8     {com.amazon.avod.thirdpartyclient, com.instagr...    7.908019   \n",
      "9                    {com.amazon.avod.thirdpartyclient}    9.429476   \n",
      "10                   {com.amazon.avod.thirdpartyclient}    9.301551   \n",
      "11                   {com.amazon.avod.thirdpartyclient}    8.107117   \n",
      "12                   {com.amazon.avod.thirdpartyclient}    8.375630   \n",
      "13    {com.amazon.avod.thirdpartyclient, com.netflix...    8.351847   \n",
      "14    {com.amazon.avod.thirdpartyclient, com.pinterest}    9.350276   \n",
      "15                   {com.amazon.avod.thirdpartyclient}    8.432724   \n",
      "16    {com.amazon.avod.thirdpartyclient, com.pinterest}    8.900685   \n",
      "17    {com.amazon.avod.thirdpartyclient, com.pinterest}    8.703507   \n",
      "18                   {com.amazon.avod.thirdpartyclient}    7.942362   \n",
      "19                   {com.amazon.avod.thirdpartyclient}    7.641084   \n",
      "20     {com.amazon.avod.thirdpartyclient, com.whatsapp}    7.931644   \n",
      "21     {com.amazon.avod.thirdpartyclient, com.whatsapp}    9.285912   \n",
      "22    {com.amazon.avod.thirdpartyclient, com.whatsap...    9.055673   \n",
      "23     {com.amazon.avod.thirdpartyclient, com.whatsapp}    7.873598   \n",
      "24    {com.amazon.avod.thirdpartyclient, com.whatsap...    8.419360   \n",
      "25    {com.amazon.avod.thirdpartyclient, com.whatsap...    8.256088   \n",
      "26     {com.amazon.avod.thirdpartyclient, com.whatsapp}    7.665753   \n",
      "27    {com.amazon.avod.thirdpartyclient, com.instagr...    8.250098   \n",
      "28           {com.instagram.android, com.facebook.lite}    8.783549   \n",
      "29           {com.instagram.android, com.facebook.lite}    8.898775   \n",
      "...                                                 ...         ...   \n",
      "4433  {com.android.chrome, com.whatsapp, com.google....    9.241742   \n",
      "4434                               {com.android.chrome}   11.052254   \n",
      "4435                               {com.android.chrome}   10.814384   \n",
      "4436  {com.android.chrome, com.google.android.apps.p...   10.646091   \n",
      "4437  {com.instagram.android, com.twitter.android, c...    8.299286   \n",
      "4438  {com.twitter.android, com.instagram.android, c...    8.238537   \n",
      "4439  {com.instagram.android, com.twitter.android, c...    8.271804   \n",
      "4440                                   {com.gbwhatsapp}    9.770013   \n",
      "4441                                   {com.gbwhatsapp}   10.578063   \n",
      "4442                                   {com.gbwhatsapp}   10.500289   \n",
      "4443           {com.facebook.katana, com.facebook.orca}    8.803574   \n",
      "4444  {com.android.chrome, com.facebook.katana, com....    7.508787   \n",
      "4445  {com.android.chrome, com.facebook.katana, com....    7.658700   \n",
      "4446  {com.google.android.apps.magazines, com.facebo...    9.149953   \n",
      "4447                            {com.instagram.android}   10.490552   \n",
      "4448                            {com.instagram.android}   10.036969   \n",
      "4449                            {com.instagram.android}   11.320044   \n",
      "4450         {org.mozilla.focus, com.google.android.gm}    8.829958   \n",
      "4451  {com.netflix.mediaclient, org.mozilla.focus, c...   10.132375   \n",
      "4452                              {com.facebook.katana}   10.879838   \n",
      "4453  {com.snapchat.android, com.facebook.katana, co...    9.267571   \n",
      "4454  {com.facebook.orca, com.instagram.android, com...    7.543803   \n",
      "4455                              {com.facebook.katana}   11.062065   \n",
      "4456                              {com.facebook.katana}   11.031270   \n",
      "4457  {com.android.chrome, mobisocial.arcade, com.di...    8.444622   \n",
      "4458  {com.android.chrome, com.facebook.orca, com.wh...    6.576470   \n",
      "4459  {com.facebook.katana, air.com.coworkdream.Picr...    6.535241   \n",
      "4460  {com.android.chrome, com.facebook.katana, jp.n...    8.944289   \n",
      "4461                            {com.instagram.android}   10.519268   \n",
      "4462                {com.facebook.katana, com.whatsapp}    9.509926   \n",
      "\n",
      "                    install_id  avg_goal_time  avg_freq_time  avg_infreq_time  \\\n",
      "0            U1532437453047928       6.448256       6.761573         6.338594   \n",
      "1            U1532437453047928       6.329275       6.882437         6.452049   \n",
      "2            U1532437453047928       4.773506       4.997212         5.332719   \n",
      "3            U1532437453047928       6.250458       6.719617         6.030685   \n",
      "4            U1532437453047928       5.476464       5.758902         5.081404   \n",
      "5            U1532437453047928       6.817831       6.820380         6.810142   \n",
      "6            U1532437453047928       6.609349       6.859265         4.700480   \n",
      "7            U1532437453047928       6.212105       6.397485         5.267858   \n",
      "8     010cf6179f52b3d62184ee17       7.678696       5.357765         7.820038   \n",
      "9     010cf6179f52b3d62184ee17       7.674850       8.888067         6.123224   \n",
      "10    010cf6179f52b3d62184ee17       7.690743       8.749732         6.702370   \n",
      "11    010cf6179f52b3d62184ee17       7.734559       8.807322         6.709711   \n",
      "12    010cf6179f52b3d62184ee17       8.407021       9.914625         6.582948   \n",
      "13    010cf6179f52b3d62184ee17       9.122754       9.971450         6.905753   \n",
      "14    010cf6179f52b3d62184ee17       7.490306       7.910957         7.061620   \n",
      "15    010cf6179f52b3d62184ee17       7.663173       8.521982         7.059045   \n",
      "16    010cf6179f52b3d62184ee17       7.389317       7.703459         7.106879   \n",
      "17    010cf6179f52b3d62184ee17       7.454373       7.307873         7.541329   \n",
      "18    010cf6179f52b3d62184ee17       7.176063       8.014005         6.601230   \n",
      "19    010cf6179f52b3d62184ee17       8.276776       9.428270         7.000334   \n",
      "20    010cf6179f52b3d62184ee17       7.865764       8.296671         6.686693   \n",
      "21    010cf6179f52b3d62184ee17       8.040044       8.373785         7.535564   \n",
      "22    010cf6179f52b3d62184ee17       7.563304       7.849714         6.875232   \n",
      "23    010cf6179f52b3d62184ee17       8.007783       8.580262         6.526495   \n",
      "24    010cf6179f52b3d62184ee17       8.333222       8.763011         6.696417   \n",
      "25    010cf6179f52b3d62184ee17       7.821162       8.189985         6.715383   \n",
      "26    010cf6179f52b3d62184ee17       8.268026       8.849299         6.715383   \n",
      "27    010cf6179f52b3d62184ee17       8.031467       8.156606         6.134482   \n",
      "28    010cf6179f52b3d62184ee17       7.363026       6.677083         8.054364   \n",
      "29    010cf6179f52b3d62184ee17       7.283448       6.980541         7.444054   \n",
      "...                        ...            ...            ...              ...   \n",
      "4433  36cde86141cd05f5adbfa34a       6.628835       6.184836         6.653723   \n",
      "4434  468380c4c55e7a8a88e4be86       6.682109       5.613128         7.285507   \n",
      "4435  468380c4c55e7a8a88e4be86       7.266362       6.530878         7.497762   \n",
      "4436  468380c4c55e7a8a88e4be86       6.367501       5.424950         6.421216   \n",
      "4437  1035d4088e09f34092f8b3ae       7.097880       6.032287         7.782599   \n",
      "4438  1035d4088e09f34092f8b3ae       6.059590       5.119988         6.708694   \n",
      "4439  1035d4088e09f34092f8b3ae       6.063785       5.549076         6.535967   \n",
      "4440  64ac1c28897547e340b163eb       6.374173       6.630683         6.028279   \n",
      "4441  64ac1c28897547e340b163eb       8.228043       8.833900         6.439350   \n",
      "4442  64ac1c28897547e340b163eb       8.208219       8.870944         5.393628   \n",
      "4443  d49d5929e24bbeace46a84b4       6.354022       6.299868         7.487174   \n",
      "4444  d49d5929e24bbeace46a84b4       7.087991       6.102559         7.980024   \n",
      "4445  d49d5929e24bbeace46a84b4       7.339646       5.758902         8.329658   \n",
      "4446  3e5442da4d1a4eea7e7f0fcd       6.797568       6.492240         7.220374   \n",
      "4447  5cdcedea34a3996de5c7c922       6.251904       7.191429         6.617403   \n",
      "4448  5cdcedea34a3996de5c7c922       7.426152       7.821242         7.148739   \n",
      "4449  5cdcedea34a3996de5c7c922       7.140849       7.853216         6.428105   \n",
      "4450  147a99087013d51e3ad23507       7.907284       8.150468         8.278428   \n",
      "4451  147a99087013d51e3ad23507       7.579551       7.569584         7.608871   \n",
      "4452  88feb1b11632cc489477e001       6.292495       5.978886         6.530878   \n",
      "4453  96093f4401f652add85121a4       7.510868       7.570057         6.538140   \n",
      "4454  96093f4401f652add85121a4       7.277478       7.193435         5.164786   \n",
      "4455  3b26dd0db4bbc3a322e90ada       8.014402       7.857481         8.050065   \n",
      "4456  3b26dd0db4bbc3a322e90ada       8.103131       7.119636         8.248529   \n",
      "4457  43bff042ade9d5e914bd2b20       8.822961       6.622736         9.459126   \n",
      "4458  17d86ad9bd3a9e5c544c0d06       7.139859       6.491482         7.786136   \n",
      "4459  7338317acf9dd08601fea59f       5.780744       5.802118         5.758902   \n",
      "4460  7338317acf9dd08601fea59f       7.064759       5.771441         7.268223   \n",
      "4461  a3ed89bfb58f343524e20ed8       7.048676       6.352629         6.866933   \n",
      "4462  de14491f00dfaac4a924a6a9       3.232121       2.674149         3.850148   \n",
      "\n",
      "      num_goals  infreq_time  \n",
      "0             5     6.338594  \n",
      "1             4     7.145196  \n",
      "2             3     5.332719  \n",
      "3             4     6.030685  \n",
      "4             2     5.081404  \n",
      "5             4     6.810142  \n",
      "6             4     4.700480  \n",
      "7             4     5.267858  \n",
      "8             5     9.206332  \n",
      "9             4     7.221836  \n",
      "10            4     7.800982  \n",
      "11            4     7.808323  \n",
      "12            5     7.681560  \n",
      "13            5     8.004366  \n",
      "14            5     8.160232  \n",
      "15            4     8.157657  \n",
      "16            5     8.205492  \n",
      "17            5     8.639942  \n",
      "18            4     7.699842  \n",
      "19            4     8.098947  \n",
      "20            4     7.785305  \n",
      "21            4     8.228711  \n",
      "22            5     7.568379  \n",
      "23            4     7.219642  \n",
      "24            5     7.389564  \n",
      "25            5     7.408531  \n",
      "26            4     7.408531  \n",
      "27            4     7.520776  \n",
      "28            5     8.747511  \n",
      "29            5     8.542666  \n",
      "...         ...          ...  \n",
      "4433          5     7.752335  \n",
      "4434          4     7.978654  \n",
      "4435          3     8.190909  \n",
      "4436          5     7.807510  \n",
      "4437          5     8.475746  \n",
      "4438          5     7.401842  \n",
      "4439          5     7.229114  \n",
      "4440          2     6.028279  \n",
      "4441          2     6.439350  \n",
      "4442          2     5.393628  \n",
      "4443          5     7.487174  \n",
      "4444          6     8.673171  \n",
      "4445          6     9.022805  \n",
      "4446          3     7.220374  \n",
      "4447          4     6.617403  \n",
      "4448          3     7.841886  \n",
      "4449          4     7.814400  \n",
      "4450          4     8.278428  \n",
      "4451          4     7.608871  \n",
      "4452          2     6.530878  \n",
      "4453          5     7.231287  \n",
      "4454          3     5.857933  \n",
      "4455          5     9.436360  \n",
      "4456          5     9.634823  \n",
      "4457          6    10.557738  \n",
      "4458          4     7.786136  \n",
      "4459          4     6.452049  \n",
      "4460          6     8.654517  \n",
      "4461          3     7.965546  \n",
      "4462          3     3.850148  \n",
      "\n",
      "[4463 rows x 18 columns]\n"
     ]
    }
   ],
   "source": [
    "import pandas as pd\n",
    "INFREQ_TIME = \"infreq_time\"\n",
    "data_frame_dict = { key: [] for key in day_stats[0] if \"domain_time\" not in key and \"num_sessions\" not in key and \"intervention_sessions\" not in key}\n",
    "NUM_GOALS = \"num_goals\"\n",
    "data_frame_dict[AVG_GOAL_TIME] = []\n",
    "data_frame_dict[AVG_FREQ_TIME] = []\n",
    "data_frame_dict[AVG_INFREQ_TIME] = []\n",
    "data_frame_dict[NUM_GOALS] = []\n",
    "data_frame_dict[INFREQ_TIME] = []\n",
    "# Let's also count up the freq to see if they're roughly equal\n",
    "field_stats = {}\n",
    "print(len(day_stats))\n",
    "for item in day_stats:\n",
    "    if len(item[FREQ_GOALS]) > 0 and len(item[INFREQ_GOALS]):\n",
    "        for key in item:\n",
    "            #if key == 'install_id':\n",
    "            #  continue\n",
    "            #print(key)\n",
    "            if key == INTENSITY: ## REUSING OLD DEFINITION OF INTENISTY    \n",
    "                data_frame_dict[INTENSITY].append(len(item[FREQ_GOALS])/len(item[GOALS]))\n",
    "            elif \"domain_time\" not in key and \"num_sessions\" not in key and \"intervention_sessions\" not in key:\n",
    "                data_frame_dict[key].append((item[key]))\n",
    "        data_frame_dict[AVG_GOAL_TIME].append(math.log(math.exp(item[GOAL_TIME])/len(item[GOALS])))\n",
    "        data_frame_dict[AVG_FREQ_TIME].append(math.log(math.exp(item[FREQ_TIME])/len(item[FREQ_GOALS])))\n",
    "        data_frame_dict[AVG_INFREQ_TIME].append(math.log((math.exp(item[GOAL_TIME])-math.exp(item[FREQ_TIME]))/len(item[INFREQ_GOALS])))\n",
    "        data_frame_dict[INFREQ_TIME].append(math.log(math.exp(item[GOAL_TIME])-math.exp(item[FREQ_TIME])))\n",
    "        data_frame_dict[NUM_GOALS].append(len(item[GOALS]))\n",
    "df = pd.DataFrame(data_frame_dict)\n",
    "print(df)\n",
    "\n",
    "\n",
    "#mean([len(item[GOALS]) for item in day_stats])\n",
    "df.to_csv('effect_freq_time_spent_2018_09_10.csv')"
   ]
  },
  {
   "cell_type": "code",
   "execution_count": 461,
   "metadata": {},
   "outputs": [
    {
     "name": "stderr",
     "output_type": "stream",
     "text": [
      "/home/drew/.local/lib/python3.6/site-packages/rpy2/robjects/pandas2ri.py:67: UserWarning: Error while trying to convert the column \"infreq_goals\". Fall back to string conversion. The error is: Conversion 'py2ri' not defined for objects of type '<class 'set'>'\n",
      "  (name, str(e)))\n",
      "/home/drew/.local/lib/python3.6/site-packages/rpy2/robjects/pandas2ri.py:67: UserWarning: Error while trying to convert the column \"goals\". Fall back to string conversion. The error is: Conversion 'py2ri' not defined for objects of type '<class 'set'>'\n",
      "  (name, str(e)))\n",
      "/home/drew/.local/lib/python3.6/site-packages/rpy2/robjects/pandas2ri.py:67: UserWarning: Error while trying to convert the column \"freq_goals\". Fall back to string conversion. The error is: Conversion 'py2ri' not defined for objects of type '<class 'set'>'\n",
      "  (name, str(e)))\n",
      "/home/drew/.local/lib/python3.6/site-packages/rpy2/robjects/pandas2ri.py:191: FutureWarning: from_items is deprecated. Please use DataFrame.from_dict(dict(items), ...) instead. DataFrame.from_dict(OrderedDict(items)) may be used to preserve the key order.\n",
      "  res = PandasDataFrame.from_items(items)\n"
     ]
    }
   ],
   "source": [
    "%%R -i df -w 5 -h 5 --units in -r 200\n",
    "\n",
    "#install.packages('ez')\n",
    "#install.packages('lme4')\n",
    "\n",
    "library(lme4)\n",
    "library(sjPlot)\n",
    "library(lmerTest)\n",
    "#library(ez)\n"
   ]
  },
  {
   "cell_type": "code",
   "execution_count": 462,
   "metadata": {},
   "outputs": [],
   "source": [
    "#for index, row in df.iterrows():\n",
    "#  if row['total_time'] > 12:\n",
    "#    print(row['email_hash'])"
   ]
  },
  {
   "cell_type": "code",
   "execution_count": 463,
   "metadata": {},
   "outputs": [
    {
     "name": "stderr",
     "output_type": "stream",
     "text": [
      "/home/drew/.local/lib/python3.6/site-packages/rpy2/robjects/pandas2ri.py:67: UserWarning: Error while trying to convert the column \"infreq_goals\". Fall back to string conversion. The error is: Conversion 'py2ri' not defined for objects of type '<class 'set'>'\n",
      "  (name, str(e)))\n",
      "/home/drew/.local/lib/python3.6/site-packages/rpy2/robjects/pandas2ri.py:67: UserWarning: Error while trying to convert the column \"goals\". Fall back to string conversion. The error is: Conversion 'py2ri' not defined for objects of type '<class 'set'>'\n",
      "  (name, str(e)))\n",
      "/home/drew/.local/lib/python3.6/site-packages/rpy2/robjects/pandas2ri.py:67: UserWarning: Error while trying to convert the column \"freq_goals\". Fall back to string conversion. The error is: Conversion 'py2ri' not defined for objects of type '<class 'set'>'\n",
      "  (name, str(e)))\n",
      "/home/drew/.local/lib/python3.6/site-packages/rpy2/robjects/pandas2ri.py:191: FutureWarning: from_items is deprecated. Please use DataFrame.from_dict(dict(items), ...) instead. DataFrame.from_dict(OrderedDict(items)) may be used to preserve the key order.\n",
      "  res = PandasDataFrame.from_items(items)\n"
     ]
    },
    {
     "data": {
      "text/plain": [
       "[1] 4463\n"
      ]
     },
     "metadata": {},
     "output_type": "display_data"
    }
   ],
   "source": [
    "%%R -i df -w 5 -h 5 --units in -r 200\n",
    "\n",
    "nrow(df)"
   ]
  },
  {
   "cell_type": "code",
   "execution_count": 464,
   "metadata": {},
   "outputs": [
    {
     "data": {
      "text/plain": [
       " productive_time  unproductive_time   intensity       infreq_goals      \n",
       " Min.   : 0.000   Min.   : 0.000    Min.   :0.08333   Length:4463       \n",
       " 1st Qu.: 4.331   1st Qu.: 7.810    1st Qu.:0.33333   Class :character  \n",
       " Median : 6.209   Median : 8.733    Median :0.50000   Mode  :character  \n",
       " Mean   : 5.990   Mean   : 8.473    Mean   :0.50065                     \n",
       " 3rd Qu.: 8.034   3rd Qu.: 9.469    3rd Qu.:0.66667                     \n",
       " Max.   :11.628   Max.   :11.436    Max.   :1.00000                     \n",
       "  target_time        freq_time        total_time       goal_time     \n",
       " Min.   : 0.0000   Min.   : 0.000   Min.   : 5.609   Min.   : 3.135  \n",
       " 1st Qu.: 0.0000   1st Qu.: 6.679   1st Qu.: 9.399   1st Qu.: 8.089  \n",
       " Median : 0.0000   Median : 7.791   Median : 9.991   Median : 8.777  \n",
       " Mean   : 0.9834   Mean   : 7.477   Mean   : 9.941   Mean   : 8.661  \n",
       " 3rd Qu.: 0.0000   3rd Qu.: 8.590   3rd Qu.:10.642   3rd Qu.: 9.361  \n",
       " Max.   :10.4579   Max.   :11.001   Max.   :12.115   Max.   :11.353  \n",
       "  email_hash           goals            freq_goals          other_time    \n",
       " Length:4463        Length:4463        Length:4463        Min.   : 3.178  \n",
       " Class :character   Class :character   Class :character   1st Qu.: 8.373  \n",
       " Mode  :character   Mode  :character   Mode  :character   Median : 9.295  \n",
       "                                                          Mean   : 9.221  \n",
       "                                                          3rd Qu.:10.278  \n",
       "                                                          Max.   :12.091  \n",
       "  install_id        avg_goal_time    avg_freq_time    avg_infreq_time \n",
       " Length:4463        Min.   : 1.749   Min.   : 0.000   Min.   : 0.000  \n",
       " Class :character   1st Qu.: 6.540   1st Qu.: 5.989   1st Qu.: 6.354  \n",
       " Mode  :character   Median : 7.173   Median : 6.901   Median : 7.164  \n",
       "                    Mean   : 7.113   Mean   : 6.703   Mean   : 7.036  \n",
       "                    3rd Qu.: 7.738   3rd Qu.: 7.645   3rd Qu.: 7.879  \n",
       "                    Max.   :10.150   Max.   :10.430   Max.   :11.340  \n",
       "   num_goals       infreq_time    \n",
       " Min.   : 1.000   Min.   : 0.000  \n",
       " 1st Qu.: 3.000   1st Qu.: 6.834  \n",
       " Median : 5.000   Median : 7.850  \n",
       " Mean   : 5.248   Mean   : 7.637  \n",
       " 3rd Qu.: 7.000   3rd Qu.: 8.664  \n",
       " Max.   :20.000   Max.   :11.340  \n"
      ]
     },
     "metadata": {},
     "output_type": "display_data"
    }
   ],
   "source": [
    "%%R -i df -w 5 -h 5 --units in -r 200\n",
    "\n",
    "summary(df)"
   ]
  },
  {
   "cell_type": "code",
   "execution_count": 465,
   "metadata": {},
   "outputs": [
    {
     "data": {
      "text/plain": [
       "Linear mixed model fit by REML. t-tests use Satterthwaite's method [\n",
       "lmerModLmerTest]\n",
       "Formula: total_time ~ intensity + (1 | email_hash)\n",
       "   Data: df\n",
       "\n",
       "REML criterion at convergence: 9425\n",
       "\n",
       "Scaled residuals: \n",
       "    Min      1Q  Median      3Q     Max \n",
       "-6.0189 -0.4162  0.1356  0.5617  3.7175 \n",
       "\n",
       "Random effects:\n",
       " Groups     Name        Variance Std.Dev.\n",
       " email_hash (Intercept) 0.5980   0.7733  \n",
       " Residual               0.3652   0.6043  \n",
       "Number of obs: 4463, groups:  email_hash, 548\n",
       "\n",
       "Fixed effects:\n",
       "             Estimate Std. Error        df t value Pr(>|t|)    \n",
       "(Intercept) 9.679e+00  4.611e-02 1.211e+03 209.927   <2e-16 ***\n",
       "intensity   1.230e-01  5.670e-02 4.203e+03   2.168   0.0302 *  \n",
       "---\n",
       "Signif. codes:  0 ‘***’ 0.001 ‘**’ 0.01 ‘*’ 0.05 ‘.’ 0.1 ‘ ’ 1\n",
       "\n",
       "Correlation of Fixed Effects:\n",
       "          (Intr)\n",
       "intensity -0.630\n"
      ]
     },
     "metadata": {},
     "output_type": "display_data"
    }
   ],
   "source": [
    "%%R -i df -w 5 -h 5 --units in -r 200\n",
    "df$email_hash <- factor(df$email_hash,  ordered=FALSE)\n",
    "results <- lmer(total_time ~ intensity + (1|email_hash), data = df)\n",
    "summary(results)\n",
    "#results <- lm(goal_time ~ intensity, data = df)\n",
    "#summary(results)\n",
    "#results <- lm(avg_goal_time ~ intensity, data = df)\n",
    "#summary(results)\n"
   ]
  },
  {
   "cell_type": "code",
   "execution_count": 466,
   "metadata": {},
   "outputs": [
    {
     "data": {
      "text/plain": [
       "\n",
       "Call:\n",
       "lm(formula = total_time ~ intensity, data = df)\n",
       "\n",
       "Residuals:\n",
       "    Min      1Q  Median      3Q     Max \n",
       "-4.3072 -0.5442  0.0507  0.7045  2.1739 \n",
       "\n",
       "Coefficients:\n",
       "            Estimate Std. Error t value Pr(>|t|)    \n",
       "(Intercept)  9.89251    0.03808 259.785   <2e-16 ***\n",
       "intensity    0.09681    0.07114   1.361    0.174    \n",
       "---\n",
       "Signif. codes:  0 ‘***’ 0.001 ‘**’ 0.01 ‘*’ 0.05 ‘.’ 0.1 ‘ ’ 1\n",
       "\n",
       "Residual standard error: 0.9003 on 4461 degrees of freedom\n",
       "Multiple R-squared:  0.000415,\tAdjusted R-squared:  0.0001909 \n",
       "F-statistic: 1.852 on 1 and 4461 DF,  p-value: 0.1736\n",
       "\n"
      ]
     },
     "metadata": {},
     "output_type": "display_data"
    }
   ],
   "source": [
    "%%R -i df -w 5 -h 5 --units in -r 200\n",
    "df$email_hash <- factor(df$email_hash,  ordered=FALSE)\n",
    "#results <- lmer(goal_time ~ intensity + (1|email_hash), data = df)\n",
    "#summary(results)\n",
    "#results <- lm(goal_time ~ intensity, data = df)\n",
    "#summary(results)\n",
    "results <- lm(total_time ~ intensity, data = df)\n",
    "summary(results)\n"
   ]
  },
  {
   "cell_type": "code",
   "execution_count": 467,
   "metadata": {},
   "outputs": [
    {
     "data": {
      "text/plain": [
       "Linear mixed model fit by REML. t-tests use Satterthwaite's method [\n",
       "lmerModLmerTest]\n",
       "Formula: goal_time ~ intensity + (1 | email_hash)\n",
       "   Data: df\n",
       "\n",
       "REML criterion at convergence: 11428.9\n",
       "\n",
       "Scaled residuals: \n",
       "    Min      1Q  Median      3Q     Max \n",
       "-6.5574 -0.4403  0.0975  0.5812  4.9987 \n",
       "\n",
       "Random effects:\n",
       " Groups     Name        Variance Std.Dev.\n",
       " email_hash (Intercept) 0.6095   0.7807  \n",
       " Residual               0.6005   0.7749  \n",
       "Number of obs: 4463, groups:  email_hash, 548\n",
       "\n",
       "Fixed effects:\n",
       "             Estimate Std. Error        df t value Pr(>|t|)    \n",
       "(Intercept) 8.392e+00  5.254e-02 1.479e+03 159.720   <2e-16 ***\n",
       "intensity   1.757e-01  7.195e-02 4.304e+03   2.441   0.0147 *  \n",
       "---\n",
       "Signif. codes:  0 ‘***’ 0.001 ‘**’ 0.01 ‘*’ 0.05 ‘.’ 0.1 ‘ ’ 1\n",
       "\n",
       "Correlation of Fixed Effects:\n",
       "          (Intr)\n",
       "intensity -0.701\n"
      ]
     },
     "metadata": {},
     "output_type": "display_data"
    }
   ],
   "source": [
    "%%R -i df -w 5 -h 5 --units in -r 200\n",
    "df$email_hash <- factor(df$email_hash,  ordered=FALSE)\n",
    "results <- lmer(goal_time ~ intensity + (1|email_hash), data = df)\n",
    "summary(results)\n",
    "#results <- lm(goal_time ~ intensity, data = df)\n",
    "#summary(results)\n",
    "#results <- lm(avg_goal_time ~ intensity, data = df)\n",
    "#summary(results)\n"
   ]
  },
  {
   "cell_type": "code",
   "execution_count": 468,
   "metadata": {},
   "outputs": [
    {
     "data": {
      "text/plain": [
       "Linear mixed model fit by REML. t-tests use Satterthwaite's method [\n",
       "lmerModLmerTest]\n",
       "Formula: avg_freq_time ~ intensity + (1 | email_hash)\n",
       "   Data: df\n",
       "\n",
       "REML criterion at convergence: 15067.7\n",
       "\n",
       "Scaled residuals: \n",
       "    Min      1Q  Median      3Q     Max \n",
       "-5.3522 -0.4800  0.1071  0.5826  3.3657 \n",
       "\n",
       "Random effects:\n",
       " Groups     Name        Variance Std.Dev.\n",
       " email_hash (Intercept) 0.6107   0.7815  \n",
       " Residual               1.4692   1.2121  \n",
       "Number of obs: 4463, groups:  email_hash, 548\n",
       "\n",
       "Fixed effects:\n",
       "             Estimate Std. Error        df t value Pr(>|t|)    \n",
       "(Intercept)    6.0835     0.0696 2051.2165  87.408   <2e-16 ***\n",
       "intensity      0.9887     0.1095 4453.5340   9.026   <2e-16 ***\n",
       "---\n",
       "Signif. codes:  0 ‘***’ 0.001 ‘**’ 0.01 ‘*’ 0.05 ‘.’ 0.1 ‘ ’ 1\n",
       "\n",
       "Correlation of Fixed Effects:\n",
       "          (Intr)\n",
       "intensity -0.802\n"
      ]
     },
     "metadata": {},
     "output_type": "display_data"
    }
   ],
   "source": [
    "%%R -i df -w 5 -h 5 --units in -r 200\n",
    "\n",
    "# goodresult RESULT-INTENSITY-MOBILE-REDUCED-ALLGOALS\n",
    "\n",
    "df$email_hash <- factor(df$email_hash,  ordered=FALSE)\n",
    "results <- lmer(avg_freq_time ~ intensity + (1|email_hash), data = df)\n",
    "summary(results)\n",
    "#results <- lm(goal_time ~ intensity, data = df)\n",
    "#summary(results)\n",
    "#results <- lm(avg_goal_time ~ intensity, data = df)\n",
    "#summary(results)\n"
   ]
  },
  {
   "cell_type": "code",
   "execution_count": 469,
   "metadata": {},
   "outputs": [
    {
     "data": {
      "text/plain": [
       "Linear mixed model fit by REML. t-tests use Satterthwaite's method [\n",
       "lmerModLmerTest]\n",
       "Formula: avg_goal_time ~ intensity + (1 | email_hash)\n",
       "   Data: df\n",
       "\n",
       "REML criterion at convergence: 10815.9\n",
       "\n",
       "Scaled residuals: \n",
       "    Min      1Q  Median      3Q     Max \n",
       "-6.5311 -0.4853  0.0834  0.5748  4.7486 \n",
       "\n",
       "Random effects:\n",
       " Groups     Name        Variance Std.Dev.\n",
       " email_hash (Intercept) 0.5805   0.7619  \n",
       " Residual               0.5184   0.7200  \n",
       "Number of obs: 4463, groups:  email_hash, 548\n",
       "\n",
       "Fixed effects:\n",
       "             Estimate Std. Error        df t value Pr(>|t|)    \n",
       "(Intercept) 6.864e+00  4.992e-02 1.441e+03 137.483  < 2e-16 ***\n",
       "intensity   2.983e-01  6.702e-02 4.286e+03   4.451 8.75e-06 ***\n",
       "---\n",
       "Signif. codes:  0 ‘***’ 0.001 ‘**’ 0.01 ‘*’ 0.05 ‘.’ 0.1 ‘ ’ 1\n",
       "\n",
       "Correlation of Fixed Effects:\n",
       "          (Intr)\n",
       "intensity -0.687\n"
      ]
     },
     "metadata": {},
     "output_type": "display_data"
    }
   ],
   "source": [
    "%%R -i df -w 5 -h 5 --units in -r 200\n",
    "\n",
    "# goodresult RESULT-INTENSITY-MOBILE-REDUCED-ALLGOALS\n",
    "\n",
    "df$email_hash <- factor(df$email_hash,  ordered=FALSE)\n",
    "results <- lmer(avg_goal_time ~ intensity + (1|email_hash), data = df)\n",
    "summary(results)\n",
    "#results <- lm(goal_time ~ intensity, data = df)\n",
    "#summary(results)\n",
    "#results <- lm(avg_goal_time ~ intensity, data = df)\n",
    "#summary(results)\n"
   ]
  },
  {
   "cell_type": "code",
   "execution_count": 470,
   "metadata": {},
   "outputs": [
    {
     "data": {
      "text/plain": [
       "\n",
       "Call:\n",
       "lm(formula = avg_infreq_time ~ intensity, data = df)\n",
       "\n",
       "Residuals:\n",
       "    Min      1Q  Median      3Q     Max \n",
       "-7.1305 -0.6935  0.1250  0.8375  4.4589 \n",
       "\n",
       "Coefficients:\n",
       "            Estimate Std. Error t value Pr(>|t|)    \n",
       "(Intercept)  7.50457    0.05536 135.566   <2e-16 ***\n",
       "intensity   -0.93511    0.10342  -9.042   <2e-16 ***\n",
       "---\n",
       "Signif. codes:  0 ‘***’ 0.001 ‘**’ 0.01 ‘*’ 0.05 ‘.’ 0.1 ‘ ’ 1\n",
       "\n",
       "Residual standard error: 1.309 on 4461 degrees of freedom\n",
       "Multiple R-squared:  0.018,\tAdjusted R-squared:  0.01778 \n",
       "F-statistic: 81.76 on 1 and 4461 DF,  p-value: < 2.2e-16\n",
       "\n"
      ]
     },
     "metadata": {},
     "output_type": "display_data"
    }
   ],
   "source": [
    "%%R -i df -w 5 -h 5 --units in -r 200\n",
    "\n",
    "# goodresult RESULT-INTENSITY-MOBILE-REDUCED-INFREQGOALS\n",
    "\n",
    "df$email_hash <- factor(df$email_hash,  ordered=FALSE)\n",
    "results <- lm(avg_infreq_time ~ intensity, data = df)\n",
    "summary(results)\n",
    "#results <- lm(goal_time ~ intensity, data = df)\n",
    "#summary(results)\n",
    "#results <- lm(avg_goal_time ~ intensity, data = df)\n",
    "#summary(results)\n"
   ]
  },
  {
   "cell_type": "code",
   "execution_count": 389,
   "metadata": {},
   "outputs": [
    {
     "data": {
      "text/plain": [
       "Linear mixed model fit by REML. t-tests use Satterthwaite's method [\n",
       "lmerModLmerTest]\n",
       "Formula: avg_infreq_time ~ intensity + (1 | email_hash)\n",
       "   Data: df\n",
       "\n",
       "REML criterion at convergence: 14248.7\n",
       "\n",
       "Scaled residuals: \n",
       "    Min      1Q  Median      3Q     Max \n",
       "-5.8798 -0.4478  0.1143  0.5947  5.0590 \n",
       "\n",
       "Random effects:\n",
       " Groups     Name        Variance Std.Dev.\n",
       " email_hash (Intercept) 0.6952   0.8338  \n",
       " Residual               1.1891   1.0905  \n",
       "Number of obs: 4463, groups:  email_hash, 548\n",
       "\n",
       "Fixed effects:\n",
       "              Estimate Std. Error         df t value Pr(>|t|)    \n",
       "(Intercept)    7.46476    0.06503 1442.92963  114.79   <2e-16 ***\n",
       "intensity     -2.31746    0.21795 4217.88521  -10.63   <2e-16 ***\n",
       "---\n",
       "Signif. codes:  0 ‘***’ 0.001 ‘**’ 0.01 ‘*’ 0.05 ‘.’ 0.1 ‘ ’ 1\n",
       "\n",
       "Correlation of Fixed Effects:\n",
       "          (Intr)\n",
       "intensity -0.758\n"
      ]
     },
     "metadata": {},
     "output_type": "display_data"
    }
   ],
   "source": [
    "%%R -i df -w 5 -h 5 --units in -r 200\n",
    "\n",
    "# goodresult RESULT-INTENSITY-MOBILE-REDUCED-INFREQGOALS\n",
    "\n",
    "df$email_hash <- factor(df$email_hash,  ordered=FALSE)\n",
    "results <- lmer(avg_infreq_time ~ intensity + (1|email_hash), data = df)\n",
    "summary(results)\n",
    "#results <- lm(goal_time ~ intensity, data = df)\n",
    "#summary(results)\n",
    "#results <- lm(avg_goal_time ~ intensity, data = df)\n",
    "#summary(results)\n"
   ]
  },
  {
   "cell_type": "code",
   "execution_count": 390,
   "metadata": {},
   "outputs": [
    {
     "data": {
      "text/plain": [
       "Linear mixed model fit by REML. t-tests use Satterthwaite's method [\n",
       "lmerModLmerTest]\n",
       "Formula: avg_freq_time ~ intensity + (1 | email_hash)\n",
       "   Data: df\n",
       "\n",
       "REML criterion at convergence: 14371.1\n",
       "\n",
       "Scaled residuals: \n",
       "    Min      1Q  Median      3Q     Max \n",
       "-5.7638 -0.4542  0.0748  0.5896  3.6607 \n",
       "\n",
       "Random effects:\n",
       " Groups     Name        Variance Std.Dev.\n",
       " email_hash (Intercept) 0.6073   0.7793  \n",
       " Residual               1.2407   1.1139  \n",
       "Number of obs: 4463, groups:  email_hash, 548\n",
       "\n",
       "Fixed effects:\n",
       "             Estimate Std. Error        df t value Pr(>|t|)    \n",
       "(Intercept) 5.132e+00  6.416e-02 1.563e+03   79.99   <2e-16 ***\n",
       "intensity   6.403e+00  2.198e-01 4.101e+03   29.13   <2e-16 ***\n",
       "---\n",
       "Signif. codes:  0 ‘***’ 0.001 ‘**’ 0.01 ‘*’ 0.05 ‘.’ 0.1 ‘ ’ 1\n",
       "\n",
       "Correlation of Fixed Effects:\n",
       "          (Intr)\n",
       "intensity -0.775\n"
      ]
     },
     "metadata": {},
     "output_type": "display_data"
    }
   ],
   "source": [
    "%%R -i df -w 5 -h 5 --units in -r 200\n",
    "df$email_hash <- factor(df$email_hash,  ordered=FALSE)\n",
    "results <- lmer(avg_freq_time ~ intensity + (1|email_hash), data = df)\n",
    "summary(results)\n",
    "#results <- lm(goal_time ~ intensity, data = df)\n",
    "#summary(results)\n",
    "#results <- lm(avg_goal_time ~ intensity, data = df)\n",
    "#summary(results)\n"
   ]
  },
  {
   "cell_type": "code",
   "execution_count": 391,
   "metadata": {},
   "outputs": [
    {
     "data": {
      "text/plain": [
       "Linear mixed model fit by REML. t-tests use Satterthwaite's method [\n",
       "lmerModLmerTest]\n",
       "Formula: avg_goal_time ~ intensity + (1 | email_hash)\n",
       "   Data: df\n",
       "\n",
       "REML criterion at convergence: 10715.7\n",
       "\n",
       "Scaled residuals: \n",
       "    Min      1Q  Median      3Q     Max \n",
       "-6.4900 -0.4804  0.0787  0.5645  4.7248 \n",
       "\n",
       "Random effects:\n",
       " Groups     Name        Variance Std.Dev.\n",
       " email_hash (Intercept) 0.5709   0.7556  \n",
       " Residual               0.5068   0.7119  \n",
       "Number of obs: 4463, groups:  email_hash, 548\n",
       "\n",
       "Fixed effects:\n",
       "             Estimate Std. Error        df t value Pr(>|t|)    \n",
       "(Intercept) 6.650e+00  4.913e-02 1.307e+03  135.36   <2e-16 ***\n",
       "intensity   1.621e+00  1.480e-01 4.460e+03   10.95   <2e-16 ***\n",
       "---\n",
       "Signif. codes:  0 ‘***’ 0.001 ‘**’ 0.01 ‘*’ 0.05 ‘.’ 0.1 ‘ ’ 1\n",
       "\n",
       "Correlation of Fixed Effects:\n",
       "          (Intr)\n",
       "intensity -0.681\n"
      ]
     },
     "metadata": {},
     "output_type": "display_data"
    }
   ],
   "source": [
    "%%R -i df -w 5 -h 5 --units in -r 200\n",
    "df$email_hash <- factor(df$email_hash,  ordered=FALSE)\n",
    "results <- lmer(avg_goal_time ~ intensity + (1|email_hash), data = df)\n",
    "summary(results)\n",
    "#results <- lm(goal_time ~ intensity, data = df)\n",
    "#summary(results)\n",
    "#results <- lm(avg_goal_time ~ intensity, data = df)\n",
    "#summary(results)\n"
   ]
  },
  {
   "cell_type": "code",
   "execution_count": 392,
   "metadata": {},
   "outputs": [
    {
     "data": {
      "text/plain": [
       "\n",
       "Call:\n",
       "lm(formula = goal_time ~ intensity, data = df)\n",
       "\n",
       "Residuals:\n",
       "    Min      1Q  Median      3Q     Max \n",
       "-5.1406 -0.5297  0.1166  0.6525  2.7534 \n",
       "\n",
       "Coefficients:\n",
       "            Estimate Std. Error t value Pr(>|t|)    \n",
       "(Intercept)  8.06587    0.03614  223.18   <2e-16 ***\n",
       "intensity    2.62830    0.14547   18.07   <2e-16 ***\n",
       "---\n",
       "Signif. codes:  0 ‘***’ 0.001 ‘**’ 0.01 ‘*’ 0.05 ‘.’ 0.1 ‘ ’ 1\n",
       "\n",
       "Residual standard error: 0.9973 on 4461 degrees of freedom\n",
       "Multiple R-squared:  0.06819,\tAdjusted R-squared:  0.06798 \n",
       "F-statistic: 326.5 on 1 and 4461 DF,  p-value: < 2.2e-16\n",
       "\n"
      ]
     },
     "metadata": {},
     "output_type": "display_data"
    }
   ],
   "source": [
    "%%R -i df -w 5 -h 5 --units in -r 200\n",
    "df$email_hash <- factor(df$email_hash,  ordered=FALSE)\n",
    "#results <- lmer(goal_time ~ intensity + (1|email_hash), data = df)\n",
    "#summary(results)\n",
    "#results <- lm(goal_time ~ intensity, data = df)\n",
    "#summary(results)\n",
    "results <- lm(goal_time ~ intensity, data = df)\n",
    "summary(results)\n"
   ]
  },
  {
   "cell_type": "code",
   "execution_count": 393,
   "metadata": {},
   "outputs": [
    {
     "data": {
      "text/plain": [
       "\n",
       "Call:\n",
       "lm(formula = avg_goal_time ~ intensity, data = df)\n",
       "\n",
       "Residuals:\n",
       "    Min      1Q  Median      3Q     Max \n",
       "-5.1273 -0.5660  0.0510  0.6281  2.9208 \n",
       "\n",
       "Coefficients:\n",
       "            Estimate Std. Error t value Pr(>|t|)    \n",
       "(Intercept)   6.7468     0.0353   191.1   <2e-16 ***\n",
       "intensity     1.6206     0.1421    11.4   <2e-16 ***\n",
       "---\n",
       "Signif. codes:  0 ‘***’ 0.001 ‘**’ 0.01 ‘*’ 0.05 ‘.’ 0.1 ‘ ’ 1\n",
       "\n",
       "Residual standard error: 0.9742 on 4461 degrees of freedom\n",
       "Multiple R-squared:  0.02833,\tAdjusted R-squared:  0.02812 \n",
       "F-statistic: 130.1 on 1 and 4461 DF,  p-value: < 2.2e-16\n",
       "\n"
      ]
     },
     "metadata": {},
     "output_type": "display_data"
    }
   ],
   "source": [
    "%%R -i df -w 5 -h 5 --units in -r 200\n",
    "df$email_hash <- factor(df$email_hash,  ordered=FALSE)\n",
    "#results <- lmer(goal_time ~ intensity + (1|email_hash), data = df)\n",
    "#summary(results)\n",
    "#results <- lm(goal_time ~ intensity, data = df)\n",
    "#summary(results)\n",
    "results <- lm(avg_goal_time ~ intensity, data = df)\n",
    "summary(results)\n"
   ]
  },
  {
   "cell_type": "code",
   "execution_count": 394,
   "metadata": {},
   "outputs": [
    {
     "data": {
      "text/plain": [
       "Linear mixed model fit by REML. t-tests use Satterthwaite's method [\n",
       "lmerModLmerTest]\n",
       "Formula: goal_time ~ intensity + (1 | email_hash)\n",
       "   Data: df\n",
       "\n",
       "REML criterion at convergence: 11219\n",
       "\n",
       "Scaled residuals: \n",
       "    Min      1Q  Median      3Q     Max \n",
       "-6.4949 -0.4470  0.1050  0.5694  4.9423 \n",
       "\n",
       "Random effects:\n",
       " Groups     Name        Variance Std.Dev.\n",
       " email_hash (Intercept) 0.5595   0.7480  \n",
       " Residual               0.5755   0.7586  \n",
       "Number of obs: 4463, groups:  email_hash, 548\n",
       "\n",
       "Fixed effects:\n",
       "             Estimate Std. Error        df t value Pr(>|t|)    \n",
       "(Intercept) 7.959e+00  5.053e-02 1.332e+03  157.52   <2e-16 ***\n",
       "intensity   2.320e+00  1.565e-01 4.445e+03   14.82   <2e-16 ***\n",
       "---\n",
       "Signif. codes:  0 ‘***’ 0.001 ‘**’ 0.01 ‘*’ 0.05 ‘.’ 0.1 ‘ ’ 1\n",
       "\n",
       "Correlation of Fixed Effects:\n",
       "          (Intr)\n",
       "intensity -0.700\n"
      ]
     },
     "metadata": {},
     "output_type": "display_data"
    }
   ],
   "source": [
    "%%R -i df -w 5 -h 5 --units in -r 200\n",
    "df$email_hash <- factor(df$email_hash,  ordered=FALSE)\n",
    "results <- lmer(goal_time ~ intensity + (1|email_hash), data = df)\n",
    "summary(results)"
   ]
  },
  {
   "cell_type": "code",
   "execution_count": 395,
   "metadata": {},
   "outputs": [
    {
     "data": {
      "text/plain": [
       "Linear mixed model fit by REML. t-tests use Satterthwaite's method [\n",
       "lmerModLmerTest]\n",
       "Formula: avg_freq_time ~ intensity + (1 | email_hash)\n",
       "   Data: df\n",
       "\n",
       "REML criterion at convergence: 14371.1\n",
       "\n",
       "Scaled residuals: \n",
       "    Min      1Q  Median      3Q     Max \n",
       "-5.7638 -0.4542  0.0748  0.5896  3.6607 \n",
       "\n",
       "Random effects:\n",
       " Groups     Name        Variance Std.Dev.\n",
       " email_hash (Intercept) 0.6073   0.7793  \n",
       " Residual               1.2407   1.1139  \n",
       "Number of obs: 4463, groups:  email_hash, 548\n",
       "\n",
       "Fixed effects:\n",
       "             Estimate Std. Error        df t value Pr(>|t|)    \n",
       "(Intercept) 5.132e+00  6.416e-02 1.563e+03   79.99   <2e-16 ***\n",
       "intensity   6.403e+00  2.198e-01 4.101e+03   29.13   <2e-16 ***\n",
       "---\n",
       "Signif. codes:  0 ‘***’ 0.001 ‘**’ 0.01 ‘*’ 0.05 ‘.’ 0.1 ‘ ’ 1\n",
       "\n",
       "Correlation of Fixed Effects:\n",
       "          (Intr)\n",
       "intensity -0.775\n"
      ]
     },
     "metadata": {},
     "output_type": "display_data"
    }
   ],
   "source": [
    "%%R -i df -w 5 -h 5 --units in -r 200\n",
    "df$email_hash <- factor(df$email_hash,  ordered=FALSE)\n",
    "results <- lmer(avg_freq_time ~ intensity + (1|email_hash), data = df)\n",
    "summary(results)"
   ]
  },
  {
   "cell_type": "code",
   "execution_count": 396,
   "metadata": {},
   "outputs": [
    {
     "data": {
      "text/plain": [
       "Linear mixed model fit by REML. t-tests use Satterthwaite's method [\n",
       "lmerModLmerTest]\n",
       "Formula: avg_infreq_time ~ intensity + (1 | email_hash)\n",
       "   Data: df\n",
       "\n",
       "REML criterion at convergence: 14248.7\n",
       "\n",
       "Scaled residuals: \n",
       "    Min      1Q  Median      3Q     Max \n",
       "-5.8798 -0.4478  0.1143  0.5947  5.0590 \n",
       "\n",
       "Random effects:\n",
       " Groups     Name        Variance Std.Dev.\n",
       " email_hash (Intercept) 0.6952   0.8338  \n",
       " Residual               1.1891   1.0905  \n",
       "Number of obs: 4463, groups:  email_hash, 548\n",
       "\n",
       "Fixed effects:\n",
       "              Estimate Std. Error         df t value Pr(>|t|)    \n",
       "(Intercept)    7.46476    0.06503 1442.92963  114.79   <2e-16 ***\n",
       "intensity     -2.31746    0.21795 4217.88521  -10.63   <2e-16 ***\n",
       "---\n",
       "Signif. codes:  0 ‘***’ 0.001 ‘**’ 0.01 ‘*’ 0.05 ‘.’ 0.1 ‘ ’ 1\n",
       "\n",
       "Correlation of Fixed Effects:\n",
       "          (Intr)\n",
       "intensity -0.758\n"
      ]
     },
     "metadata": {},
     "output_type": "display_data"
    }
   ],
   "source": [
    "%%R -i df -w 5 -h 5 --units in -r 200\n",
    "df$email_hash <- factor(df$email_hash,  ordered=FALSE)\n",
    "results <- lmer(avg_infreq_time ~ intensity + (1|email_hash), data = df)\n",
    "summary(results)"
   ]
  },
  {
   "cell_type": "code",
   "execution_count": 397,
   "metadata": {},
   "outputs": [
    {
     "data": {
      "text/plain": [
       "Linear mixed model fit by REML. t-tests use Satterthwaite's method [\n",
       "lmerModLmerTest]\n",
       "Formula: unproductive_time ~ intensity + (1 | email_hash) + (num_goals)\n",
       "   Data: df\n",
       "\n",
       "REML criterion at convergence: 13861.4\n",
       "\n",
       "Scaled residuals: \n",
       "    Min      1Q  Median      3Q     Max \n",
       "-6.3725 -0.3882  0.0785  0.5199  5.1150 \n",
       "\n",
       "Random effects:\n",
       " Groups     Name        Variance Std.Dev.\n",
       " email_hash (Intercept) 2.115    1.4543  \n",
       " Residual               0.955    0.9772  \n",
       "Number of obs: 4463, groups:  email_hash, 548\n",
       "\n",
       "Fixed effects:\n",
       "             Estimate Std. Error        df t value Pr(>|t|)    \n",
       "(Intercept) 7.567e+00  9.267e-02 1.535e+03  81.651   <2e-16 ***\n",
       "intensity   4.662e-01  2.114e-01 4.358e+03   2.205   0.0275 *  \n",
       "num_goals   1.198e-01  1.073e-02 4.454e+03  11.162   <2e-16 ***\n",
       "---\n",
       "Signif. codes:  0 ‘***’ 0.001 ‘**’ 0.01 ‘*’ 0.05 ‘.’ 0.1 ‘ ’ 1\n",
       "\n",
       "Correlation of Fixed Effects:\n",
       "          (Intr) intnst\n",
       "intensity -0.433       \n",
       "num_goals -0.480 -0.149\n"
      ]
     },
     "metadata": {},
     "output_type": "display_data"
    }
   ],
   "source": [
    "%%R -i df -w 5 -h 5 --units in -r 200\n",
    "df$email_hash <- factor(df$email_hash,  ordered=FALSE)\n",
    "results <- lmer(unproductive_time ~ intensity + (1|email_hash) + (num_goals), data = df)\n",
    "summary(results)"
   ]
  },
  {
   "cell_type": "code",
   "execution_count": 398,
   "metadata": {},
   "outputs": [
    {
     "data": {
      "text/plain": [
       "Linear mixed model fit by REML. t-tests use Satterthwaite's method [\n",
       "lmerModLmerTest]\n",
       "Formula: avg_infreq_time ~ avg_freq_time + (1 | email_hash)\n",
       "   Data: df\n",
       "\n",
       "REML criterion at convergence: 14365.5\n",
       "\n",
       "Scaled residuals: \n",
       "    Min      1Q  Median      3Q     Max \n",
       "-5.9498 -0.4404  0.1150  0.5950  4.8432 \n",
       "\n",
       "Random effects:\n",
       " Groups     Name        Variance Std.Dev.\n",
       " email_hash (Intercept) 0.6739   0.8209  \n",
       " Residual               1.2256   1.1071  \n",
       "Number of obs: 4463, groups:  email_hash, 548\n",
       "\n",
       "Fixed effects:\n",
       "               Estimate Std. Error        df t value Pr(>|t|)    \n",
       "(Intercept)   6.932e+00  9.942e-02 3.664e+03  69.723   <2e-16 ***\n",
       "avg_freq_time 1.685e-03  1.370e-02 4.450e+03   0.123    0.902    \n",
       "---\n",
       "Signif. codes:  0 ‘***’ 0.001 ‘**’ 0.01 ‘*’ 0.05 ‘.’ 0.1 ‘ ’ 1\n",
       "\n",
       "Correlation of Fixed Effects:\n",
       "            (Intr)\n",
       "avg_freq_tm -0.906\n"
      ]
     },
     "metadata": {},
     "output_type": "display_data"
    }
   ],
   "source": [
    "%%R -i df -w 5 -h 5 --units in -r 200\n",
    "df$email_hash <- factor(df$email_hash,  ordered=FALSE)\n",
    "results <- lmer(avg_infreq_time ~ avg_freq_time + (1|email_hash), data = df)\n",
    "summary(results)"
   ]
  },
  {
   "cell_type": "code",
   "execution_count": null,
   "metadata": {},
   "outputs": [],
   "source": []
  },
  {
   "cell_type": "code",
   "execution_count": null,
   "metadata": {},
   "outputs": [],
   "source": []
  },
  {
   "cell_type": "code",
   "execution_count": 399,
   "metadata": {},
   "outputs": [
    {
     "data": {
      "text/plain": [
       "Linear mixed model fit by REML. t-tests use Satterthwaite's method [\n",
       "lmerModLmerTest]\n",
       "Formula: total_time ~ intensity + (1 | num_goals) + (1 | email_hash)\n",
       "   Data: df\n",
       "\n",
       "REML criterion at convergence: 9339.9\n",
       "\n",
       "Scaled residuals: \n",
       "    Min      1Q  Median      3Q     Max \n",
       "-6.0300 -0.4400  0.1187  0.5769  3.5097 \n",
       "\n",
       "Random effects:\n",
       " Groups     Name        Variance Std.Dev.\n",
       " email_hash (Intercept) 0.59231  0.7696  \n",
       " num_goals  (Intercept) 0.03936  0.1984  \n",
       " Residual               0.35482  0.5957  \n",
       "Number of obs: 4463, groups:  email_hash, 548; num_goals, 19\n",
       "\n",
       "Fixed effects:\n",
       "             Estimate Std. Error        df t value Pr(>|t|)    \n",
       "(Intercept)    9.7792     0.0728   27.7536 134.326  < 2e-16 ***\n",
       "intensity      0.6611     0.1282 4420.4124   5.156 2.64e-07 ***\n",
       "---\n",
       "Signif. codes:  0 ‘***’ 0.001 ‘**’ 0.01 ‘*’ 0.05 ‘.’ 0.1 ‘ ’ 1\n",
       "\n",
       "Correlation of Fixed Effects:\n",
       "          (Intr)\n",
       "intensity -0.418\n"
      ]
     },
     "metadata": {},
     "output_type": "display_data"
    }
   ],
   "source": [
    "%%R -i df -w 5 -h 5 --units in -r 200\n",
    "# Does total time spent per day on phone change depending on percentage\n",
    "df$email_hash <- factor(df$email_hash,  ordered=FALSE)\n",
    "results <- lmer(total_time ~ intensity + (1|num_goals) + (1|email_hash), data = df)\n",
    "summary(results)"
   ]
  },
  {
   "cell_type": "code",
   "execution_count": 400,
   "metadata": {},
   "outputs": [
    {
     "data": {
      "text/plain": [
       "Linear mixed model fit by REML. t-tests use Satterthwaite's method [\n",
       "lmerModLmerTest]\n",
       "Formula: goal_time ~ intensity + (1 | email_hash) + (num_goals)\n",
       "   Data: df\n",
       "\n",
       "REML criterion at convergence: 10742.5\n",
       "\n",
       "Scaled residuals: \n",
       "    Min      1Q  Median      3Q     Max \n",
       "-6.4043 -0.4720  0.0871  0.5736  4.8493 \n",
       "\n",
       "Random effects:\n",
       " Groups     Name        Variance Std.Dev.\n",
       " email_hash (Intercept) 0.5585   0.7473  \n",
       " Residual               0.5105   0.7145  \n",
       "Number of obs: 4463, groups:  email_hash, 548\n",
       "\n",
       "Fixed effects:\n",
       "             Estimate Std. Error        df t value Pr(>|t|)    \n",
       "(Intercept) 7.249e+00  5.802e-02 1.881e+03  124.95   <2e-16 ***\n",
       "intensity   1.789e+00  1.502e-01 4.459e+03   11.91   <2e-16 ***\n",
       "num_goals   1.702e-01  7.509e-03 4.246e+03   22.66   <2e-16 ***\n",
       "---\n",
       "Signif. codes:  0 ‘***’ 0.001 ‘**’ 0.01 ‘*’ 0.05 ‘.’ 0.1 ‘ ’ 1\n",
       "\n",
       "Correlation of Fixed Effects:\n",
       "          (Intr) intnst\n",
       "intensity -0.488       \n",
       "num_goals -0.537 -0.154\n"
      ]
     },
     "metadata": {},
     "output_type": "display_data"
    }
   ],
   "source": [
    "%%R -i df -w 5 -h 5 --units in -r 200\n",
    "# Does goal time spent per day on phone change depending on percentage\n",
    "df$email_hash <- factor(df$email_hash,  ordered=FALSE)\n",
    "results <- lmer(goal_time ~ intensity + (1|email_hash) + (num_goals), data = df)\n",
    "summary(results)"
   ]
  },
  {
   "cell_type": "code",
   "execution_count": 401,
   "metadata": {},
   "outputs": [
    {
     "data": {
      "text/plain": [
       "Linear mixed model fit by REML. t-tests use Satterthwaite's method [\n",
       "lmerModLmerTest]\n",
       "Formula: other_time ~ intensity + (1 | email_hash) + (num_goals)\n",
       "   Data: df\n",
       "\n",
       "REML criterion at convergence: 12046.1\n",
       "\n",
       "Scaled residuals: \n",
       "    Min      1Q  Median      3Q     Max \n",
       "-6.4300 -0.4470  0.0973  0.5512  3.2495 \n",
       "\n",
       "Random effects:\n",
       " Groups     Name        Variance Std.Dev.\n",
       " email_hash (Intercept) 1.2231   1.1060  \n",
       " Residual               0.6465   0.8041  \n",
       "Number of obs: 4463, groups:  email_hash, 548\n",
       "\n",
       "Fixed effects:\n",
       "              Estimate Std. Error         df t value Pr(>|t|)    \n",
       "(Intercept)    9.01379    0.07341 1672.63967 122.780   <2e-16 ***\n",
       "intensity     -0.41198    0.17304 4396.94477  -2.381   0.0173 *  \n",
       "num_goals      0.01799    0.00876 4459.37131   2.053   0.0401 *  \n",
       "---\n",
       "Signif. codes:  0 ‘***’ 0.001 ‘**’ 0.01 ‘*’ 0.05 ‘.’ 0.1 ‘ ’ 1\n",
       "\n",
       "Correlation of Fixed Effects:\n",
       "          (Intr) intnst\n",
       "intensity -0.446       \n",
       "num_goals -0.495 -0.150\n"
      ]
     },
     "metadata": {},
     "output_type": "display_data"
    }
   ],
   "source": [
    "%%R -i df -w 5 -h 5 --units in -r 200\n",
    "# Does non-goal time spent per day on phone change depending on percentage\n",
    "df$email_hash <- factor(df$email_hash,  ordered=FALSE)\n",
    "results <- lmer(other_time ~ intensity + (1|email_hash) + (num_goals), data = df)\n",
    "summary(results)"
   ]
  },
  {
   "cell_type": "code",
   "execution_count": 402,
   "metadata": {},
   "outputs": [
    {
     "data": {
      "text/plain": [
       "Linear mixed model fit by REML. t-tests use Satterthwaite's method [\n",
       "lmerModLmerTest]\n",
       "Formula: target_time ~ intensity + (1 | email_hash)\n",
       "   Data: df\n",
       "\n",
       "REML criterion at convergence: 18055.9\n",
       "\n",
       "Scaled residuals: \n",
       "    Min      1Q  Median      3Q     Max \n",
       "-3.7216 -0.1661 -0.0551 -0.0118  5.0757 \n",
       "\n",
       "Random effects:\n",
       " Groups     Name        Variance Std.Dev.\n",
       " email_hash (Intercept) 2.549    1.597   \n",
       " Residual               2.669    1.634   \n",
       "Number of obs: 4463, groups:  email_hash, 548\n",
       "\n",
       "Fixed effects:\n",
       "             Estimate Std. Error        df t value Pr(>|t|)    \n",
       "(Intercept)    0.7770     0.1084 1540.3850   7.170 1.16e-12 ***\n",
       "intensity      0.5663     0.3368 4445.8367   1.682   0.0927 .  \n",
       "---\n",
       "Signif. codes:  0 ‘***’ 0.001 ‘**’ 0.01 ‘*’ 0.05 ‘.’ 0.1 ‘ ’ 1\n",
       "\n",
       "Correlation of Fixed Effects:\n",
       "          (Intr)\n",
       "intensity -0.703\n"
      ]
     },
     "metadata": {},
     "output_type": "display_data"
    }
   ],
   "source": [
    "%%R -i df -w 5 -h 5 --units in -r 200\n",
    "# Does goal time spent per day on phone change depending on percentage\n",
    "df$email_hash <- factor(df$email_hash,  ordered=FALSE)\n",
    "results <- lmer(target_time ~ intensity + (1|email_hash), data = df)\n",
    "summary(results)"
   ]
  },
  {
   "cell_type": "code",
   "execution_count": 403,
   "metadata": {},
   "outputs": [
    {
     "data": {
      "text/plain": [
       "Linear mixed model fit by REML. t-tests use Satterthwaite's method [\n",
       "lmerModLmerTest]\n",
       "Formula: infreq_time ~ intensity + (1 | email_hash) + num_goals\n",
       "   Data: df\n",
       "\n",
       "REML criterion at convergence: 15044.8\n",
       "\n",
       "Scaled residuals: \n",
       "    Min      1Q  Median      3Q     Max \n",
       "-5.9072 -0.4536  0.1272  0.6179  4.0648 \n",
       "\n",
       "Random effects:\n",
       " Groups     Name        Variance Std.Dev.\n",
       " email_hash (Intercept) 0.9134   0.9557  \n",
       " Residual               1.4065   1.1860  \n",
       "Number of obs: 4463, groups:  email_hash, 548\n",
       "\n",
       "Fixed effects:\n",
       "              Estimate Std. Error         df t value Pr(>|t|)    \n",
       "(Intercept)    7.42436    0.08748 1935.60665   84.87   <2e-16 ***\n",
       "intensity     -3.93841    0.24184 4320.68645  -16.29   <2e-16 ***\n",
       "num_goals      0.19071    0.01190 3586.32375   16.03   <2e-16 ***\n",
       "---\n",
       "Signif. codes:  0 ‘***’ 0.001 ‘**’ 0.01 ‘*’ 0.05 ‘.’ 0.1 ‘ ’ 1\n",
       "\n",
       "Correlation of Fixed Effects:\n",
       "          (Intr) intnst\n",
       "intensity -0.519       \n",
       "num_goals -0.564 -0.160\n"
      ]
     },
     "metadata": {},
     "output_type": "display_data"
    }
   ],
   "source": [
    "%%R -i df -w 5 -h 5 --units in -r 200\n",
    "# Does goal time spent per day on phone change depending on percentage\n",
    "df$email_hash <- factor(df$email_hash,  ordered=FALSE)\n",
    "results <- lmer(infreq_time ~ intensity + (1|email_hash) + num_goals, data = df)\n",
    "summary(results)"
   ]
  },
  {
   "cell_type": "code",
   "execution_count": 404,
   "metadata": {
    "scrolled": true
   },
   "outputs": [
    {
     "name": "stdout",
     "output_type": "stream",
     "text": [
      "735fc385e38dd2166db9fdabff905b4a985c5ebc496708618fe3548dbafd2f8e\n"
     ]
    },
    {
     "data": {
      "text/plain": [
       "<matplotlib.collections.PathCollection at 0x7f68010aa940>"
      ]
     },
     "execution_count": 404,
     "metadata": {},
     "output_type": "execute_result"
    },
    {
     "data": {
      "image/png": "[encoded data removed]",
      "text/plain": [
       "<Figure size 432x288 with 1 Axes>"
      ]
     },
     "metadata": {
      "needs_background": "light"
     },
     "output_type": "display_data"
    }
   ],
   "source": [
    "import matplotlib.pyplot as pyplot\n",
    "import collections\n",
    "\n",
    "most_active_users = {\"\": 0}\n",
    "most_active_user = \"\"\n",
    "for stat in day_stats:\n",
    "    email = stat[HASH]\n",
    "    if email not in most_active_users:\n",
    "        most_active_users[email] = 0\n",
    "    most_active_users[email] += 1\n",
    "    if most_active_users[email] > most_active_users[most_active_user]:\n",
    "        most_active_user = email\n",
    "print(most_active_user)\n",
    "pyplot.figure(43)\n",
    "pyplot.title(\"Number of app goals versus total time spent on other apps\")\n",
    "pyplot.ylabel(\"Average goal time (log(s))\")\n",
    "pyplot.xlabel(\"Number of goals\")\n",
    "pyplot.scatter([len(stat[GOALS]) for stat in day_stats], [(stat[TOTAL_TIME]) for stat in day_stats])\n"
   ]
  },
  {
   "cell_type": "code",
   "execution_count": 405,
   "metadata": {},
   "outputs": [
    {
     "name": "stderr",
     "output_type": "stream",
     "text": [
      "/home/drew/.local/lib/python3.6/site-packages/rpy2/robjects/pandas2ri.py:67: UserWarning: Error while trying to convert the column \"infreq_goals\". Fall back to string conversion. The error is: Conversion 'py2ri' not defined for objects of type '<class 'set'>'\n",
      "  (name, str(e)))\n",
      "/home/drew/.local/lib/python3.6/site-packages/rpy2/robjects/pandas2ri.py:67: UserWarning: Error while trying to convert the column \"goals\". Fall back to string conversion. The error is: Conversion 'py2ri' not defined for objects of type '<class 'set'>'\n",
      "  (name, str(e)))\n",
      "/home/drew/.local/lib/python3.6/site-packages/rpy2/robjects/pandas2ri.py:67: UserWarning: Error while trying to convert the column \"freq_goals\". Fall back to string conversion. The error is: Conversion 'py2ri' not defined for objects of type '<class 'set'>'\n",
      "  (name, str(e)))\n",
      "/home/drew/.local/lib/python3.6/site-packages/rpy2/robjects/pandas2ri.py:191: FutureWarning: from_items is deprecated. Please use DataFrame.from_dict(dict(items), ...) instead. DataFrame.from_dict(OrderedDict(items)) may be used to preserve the key order.\n",
      "  res = PandasDataFrame.from_items(items)\n"
     ]
    },
    {
     "data": {
      "text/plain": [
       "Linear mixed model fit by REML. t-tests use Satterthwaite's method [\n",
       "lmerModLmerTest]\n",
       "Formula: other_time ~ intensity + (1 | email_hash) + (1 | num_goals)\n",
       "   Data: df\n",
       "\n",
       "REML criterion at convergence: 12042.2\n",
       "\n",
       "Scaled residuals: \n",
       "    Min      1Q  Median      3Q     Max \n",
       "-6.3937 -0.4528  0.1021  0.5463  3.2556 \n",
       "\n",
       "Random effects:\n",
       " Groups     Name        Variance Std.Dev.\n",
       " email_hash (Intercept) 1.220554 1.1048  \n",
       " num_goals  (Intercept) 0.001211 0.0348  \n",
       " Residual               0.646494 0.8040  \n",
       "Number of obs: 4463, groups:  email_hash, 548; num_goals, 19\n",
       "\n",
       "Fixed effects:\n",
       "              Estimate Std. Error         df t value Pr(>|t|)    \n",
       "(Intercept)    9.09976    0.06523  216.23453 139.495   <2e-16 ***\n",
       "intensity     -0.35530    0.17177 3456.85876  -2.068   0.0387 *  \n",
       "---\n",
       "Signif. codes:  0 ‘***’ 0.001 ‘**’ 0.01 ‘*’ 0.05 ‘.’ 0.1 ‘ ’ 1\n",
       "\n",
       "Correlation of Fixed Effects:\n",
       "          (Intr)\n",
       "intensity -0.599\n"
      ]
     },
     "metadata": {},
     "output_type": "display_data"
    }
   ],
   "source": [
    "%%R -i df -w 5 -h 5 --units in -r 200\n",
    "# Does non-goal time spent per day on phone inversely depend on goal-time?\n",
    "df$email_hash <- factor(df$email_hash,  ordered=FALSE)\n",
    "results <- lmer(other_time ~ intensity +  (1|email_hash) + (1|num_goals), data = df)\n",
    "summary(results)"
   ]
  },
  {
   "cell_type": "code",
   "execution_count": 406,
   "metadata": {},
   "outputs": [
    {
     "data": {
      "text/plain": [
       "Linear mixed model fit by REML. t-tests use Satterthwaite's method [\n",
       "lmerModLmerTest]\n",
       "Formula: target_time ~ avg_goal_time + (1 | email_hash)\n",
       "   Data: df\n",
       "\n",
       "REML criterion at convergence: 17993.9\n",
       "\n",
       "Scaled residuals: \n",
       "    Min      1Q  Median      3Q     Max \n",
       "-3.6685 -0.2190 -0.0800  0.0552  5.2613 \n",
       "\n",
       "Random effects:\n",
       " Groups     Name        Variance Std.Dev.\n",
       " email_hash (Intercept) 2.552    1.598   \n",
       " Residual               2.625    1.620   \n",
       "Number of obs: 4463, groups:  email_hash, 548\n",
       "\n",
       "Fixed effects:\n",
       "                Estimate Std. Error         df t value Pr(>|t|)    \n",
       "(Intercept)     -1.05712    0.24665 4174.24834  -4.286 1.86e-05 ***\n",
       "avg_goal_time    0.27942    0.03337 4455.32674   8.372  < 2e-16 ***\n",
       "---\n",
       "Signif. codes:  0 ‘***’ 0.001 ‘**’ 0.01 ‘*’ 0.05 ‘.’ 0.1 ‘ ’ 1\n",
       "\n",
       "Correlation of Fixed Effects:\n",
       "            (Intr)\n",
       "avg_goal_tm -0.950\n"
      ]
     },
     "metadata": {},
     "output_type": "display_data"
    }
   ],
   "source": [
    "%%R -i df -w 5 -h 5 --units in -r 200\n",
    "# Does goal time spent per day on phone change depending on percentage\n",
    "df$email_hash <- factor(df$email_hash,  ordered=FALSE)\n",
    "results <- lmer(target_time ~ avg_goal_time + (1|email_hash), data = df)\n",
    "summary(results)"
   ]
  },
  {
   "cell_type": "code",
   "execution_count": null,
   "metadata": {},
   "outputs": [],
   "source": []
  },
  {
   "cell_type": "code",
   "execution_count": 510,
   "metadata": {
    "scrolled": false
   },
   "outputs": [
    {
     "name": "stdout",
     "output_type": "stream",
     "text": [
      "3.4965075614664802\n",
      "9.009202900924588\n",
      "9.914625296946584\n",
      "10.663124474364906\n",
      "11.05668271897453\n",
      "11.340082840810044\n"
     ]
    }
   ],
   "source": [
    "# see average change for time spent in goals vs. outside of goal when freq setting changes\n",
    "goal_change_dict = {\"frequency\": [], \"time\": [], \"other_time\": [], \"app\": [], \"user\": []}\n",
    "from statistics import mean, StatisticsError\n",
    "goal_time_change_stats = []\n",
    "other_time_change_stats = []\n",
    "user_stats = {}\n",
    "max_time = 0\n",
    "for day in day_stats:\n",
    "    email = day[HASH]\n",
    "    if day[HASH] not in user_stats:\n",
    "        user_stats[email] = {FREQ_GOALS: set([]), INFREQ_GOALS: set([])}\n",
    "    user_stats[email][FREQ_GOALS] = user_stats[email][FREQ_GOALS].union(day[FREQ_GOALS])\n",
    "    user_stats[email][INFREQ_GOALS] = user_stats[email][INFREQ_GOALS].union(day[INFREQ_GOALS])\n",
    "    for domain_time in day:\n",
    "        if \"_domain_time\" in domain_time:\n",
    "            domain = domain_time[:-len(\"_domain_time\")]\n",
    "            if domain not in user_stats[email]:\n",
    "                user_stats[email][domain] = {\"frequent_goal\": [], \"infrequent_goal\": [], \"frequent_other\": [], \"infrequent_other\": []}\n",
    "            if not (domain in day[FREQ_GOALS] and domain in day[INFREQ_GOALS]) and day[GOAL_TIME] > day[domain_time]:\n",
    "                freq = \"frequent\" if domain in day[FREQ_GOALS] else \"infrequent\"\n",
    "                if day[domain_time] > max_time:\n",
    "                    max_time = day[domain_time]\n",
    "                    print(max_time)\n",
    "                user_stats[email][domain][freq + \"_goal\"].append(math.exp(day[domain_time]))\n",
    "                user_stats[email][domain][freq + \"_other\"].append((math.exp(day[GOAL_TIME]) - math.exp(day[domain_time])))\n",
    "for user in user_stats:\n",
    "    for domain in user_stats[user][FREQ_GOALS].intersection(user_stats[user][INFREQ_GOALS]):\n",
    "        if len(user_stats[user][domain][\"frequent_goal\"])> 0 and len(user_stats[user][domain][\"infrequent_goal\"]) > 0:\n",
    "            try:\n",
    "                mean_freq_goal = mean(user_stats[user][domain][\"frequent_goal\"])\n",
    "                # print(\"frequent\" + str(user_stats[user][domain][\"frequent_goal\"]))\n",
    "                # print(\"infrequent  \" + str(user_stats[user][domain][\"infrequent_goal\"]))\n",
    "                goal_change = mean_freq_goal - mean(user_stats[user][domain][\"infrequent_goal\"])\n",
    "                other_change = mean(user_stats[user][domain][\"frequent_other\"]) - mean(user_stats[user][domain][\"infrequent_other\"])\n",
    "                goal_time_change_stats.append(goal_change)\n",
    "                other_time_change_stats.append(other_change)\n",
    "            except StatisticsError:\n",
    "                pass"
   ]
  },
  {
   "cell_type": "code",
   "execution_count": 511,
   "metadata": {},
   "outputs": [
    {
     "name": "stdout",
     "output_type": "stream",
     "text": [
      "1328\n",
      "0.49096385542168675\n",
      "[-123.84276374312621, -31.11877927683696]\n"
     ]
    },
    {
     "data": {
      "text/plain": [
       "<BarContainer object of 2 artists>"
      ]
     },
     "execution_count": 511,
     "metadata": {},
     "output_type": "execute_result"
    },
    {
     "data": {
      "image/png": "[encoded data removed]",
      "text/plain": [
       "<Figure size 432x288 with 1 Axes>"
      ]
     },
     "metadata": {
      "needs_background": "light"
     },
     "output_type": "display_data"
    }
   ],
   "source": [
    "from scipy.stats import sem\n",
    "pyplot.figure(32)\n",
    "print(len(goal_time_change_stats))\n",
    "pyplot.title(\"Effect of Increasing Frequency of Interventions on Goal and Other Apps Time\")\n",
    "pyplot.ylabel('Change in time (s)')\n",
    "print(len([stat for stat in other_time_change_stats if stat > 0])/len(goal_time_change_stats))\n",
    "print([mean(goal_time_change_stats), mean(other_time_change_stats)])\n",
    "pyplot.bar([\"Change in goal time\", \"Change in other time\"], [mean(goal_time_change_stats), mean(other_time_change_stats)] , .8, yerr=[1.96 * sem(goal_time_change_stats), 1.96 * sem(other_time_change_stats)])\n",
    "\n"
   ]
  },
  {
   "cell_type": "code",
   "execution_count": null,
   "metadata": {},
   "outputs": [],
   "source": []
  },
  {
   "cell_type": "code",
   "execution_count": 499,
   "metadata": {},
   "outputs": [
    {
     "name": "stdout",
     "output_type": "stream",
     "text": [
      "                                           app  \\\n",
      "0                           com.android.chrome   \n",
      "1                        com.google.android.gm   \n",
      "2                            com.mattermost.rn   \n",
      "3                         com.linkedin.android   \n",
      "4                          com.twitter.android   \n",
      "5                         com.linkedin.android   \n",
      "6                          com.twitter.android   \n",
      "7                        com.instagram.android   \n",
      "8                          com.twitter.android   \n",
      "9                          com.facebook.katana   \n",
      "10                        com.linkedin.android   \n",
      "11                        com.linkedin.android   \n",
      "12                         com.twitter.android   \n",
      "13                         com.twitter.android   \n",
      "14                        com.linkedin.android   \n",
      "15                       com.instagram.android   \n",
      "16                        com.linkedin.android   \n",
      "17                         com.twitter.android   \n",
      "18                        com.linkedin.android   \n",
      "19                       com.instagram.android   \n",
      "20                         com.twitter.android   \n",
      "21                        com.linkedin.android   \n",
      "22                         com.twitter.android   \n",
      "23                         com.twitter.android   \n",
      "24                         com.facebook.katana   \n",
      "25                       com.instagram.android   \n",
      "26                        com.linkedin.android   \n",
      "27                         com.twitter.android   \n",
      "28                         com.facebook.katana   \n",
      "29                         com.twitter.android   \n",
      "...                                        ...   \n",
      "23122                    com.instagram.android   \n",
      "23123                     com.reddit.frontpage   \n",
      "23124                      com.facebook.katana   \n",
      "23125                       com.android.chrome   \n",
      "23126        com.amazon.mShop.android.shopping   \n",
      "23127                    com.instagram.android   \n",
      "23128               com.google.android.youtube   \n",
      "23129                       com.android.chrome   \n",
      "23130                              com.discord   \n",
      "23131  com.google.android.googlequicksearchbox   \n",
      "23132                        mobisocial.arcade   \n",
      "23133                   com.mixer3d.music.dj3d   \n",
      "23134                             com.whatsapp   \n",
      "23135                            com.pinterest   \n",
      "23136                        com.facebook.orca   \n",
      "23137                       com.android.chrome   \n",
      "23138                             com.whatsapp   \n",
      "23139                        com.facebook.orca   \n",
      "23140                    com.google.android.gm   \n",
      "23141                       com.android.chrome   \n",
      "23142                      com.facebook.katana   \n",
      "23143                        com.facebook.orca   \n",
      "23144         air.com.coworkdream.PicrossLUNA2   \n",
      "23145                        com.facebook.orca   \n",
      "23146                    com.instagram.android   \n",
      "23147                       com.android.chrome   \n",
      "23148                    com.google.android.gm   \n",
      "23149               com.google.android.youtube   \n",
      "23150                       com.android.chrome   \n",
      "23151                      com.facebook.katana   \n",
      "\n",
      "                                                   email       time  \\\n",
      "0      0744f7e9f4323685b86a1522b101550c9415ba2488d7e7...   9.009203   \n",
      "1      0744f7e9f4323685b86a1522b101550c9415ba2488d7e7...   7.215975   \n",
      "2      0744f7e9f4323685b86a1522b101550c9415ba2488d7e7...   6.216606   \n",
      "3      739e11589479d8e6b88aec1b86ec8c4a023691db6c9d0a...   5.384495   \n",
      "4      739e11589479d8e6b88aec1b86ec8c4a023691db6c9d0a...   6.561031   \n",
      "5      739e11589479d8e6b88aec1b86ec8c4a023691db6c9d0a...   5.616771   \n",
      "6      739e11589479d8e6b88aec1b86ec8c4a023691db6c9d0a...   7.395722   \n",
      "7      739e11589479d8e6b88aec1b86ec8c4a023691db6c9d0a...   6.338594   \n",
      "8      739e11589479d8e6b88aec1b86ec8c4a023691db6c9d0a...   7.326466   \n",
      "9      739e11589479d8e6b88aec1b86ec8c4a023691db6c9d0a...   6.587550   \n",
      "10     739e11589479d8e6b88aec1b86ec8c4a023691db6c9d0a...   5.846439   \n",
      "11     739e11589479d8e6b88aec1b86ec8c4a023691db6c9d0a...   5.442418   \n",
      "12     739e11589479d8e6b88aec1b86ec8c4a023691db6c9d0a...   6.075346   \n",
      "13     739e11589479d8e6b88aec1b86ec8c4a023691db6c9d0a...   7.057898   \n",
      "14     739e11589479d8e6b88aec1b86ec8c4a023691db6c9d0a...   4.663439   \n",
      "15     739e11589479d8e6b88aec1b86ec8c4a023691db6c9d0a...   6.882437   \n",
      "16     739e11589479d8e6b88aec1b86ec8c4a023691db6c9d0a...   5.332719   \n",
      "17     739e11589479d8e6b88aec1b86ec8c4a023691db6c9d0a...   4.997212   \n",
      "18     739e11589479d8e6b88aec1b86ec8c4a023691db6c9d0a...   6.030685   \n",
      "19     739e11589479d8e6b88aec1b86ec8c4a023691db6c9d0a...   4.442651   \n",
      "20     739e11589479d8e6b88aec1b86ec8c4a023691db6c9d0a...   7.360104   \n",
      "21     739e11589479d8e6b88aec1b86ec8c4a023691db6c9d0a...   5.081404   \n",
      "22     739e11589479d8e6b88aec1b86ec8c4a023691db6c9d0a...   5.758902   \n",
      "23     739e11589479d8e6b88aec1b86ec8c4a023691db6c9d0a...   8.730852   \n",
      "24     739e11589479d8e6b88aec1b86ec8c4a023691db6c9d0a...   7.736307   \n",
      "25     739e11589479d8e6b88aec1b86ec8c4a023691db6c9d0a...   3.295837   \n",
      "26     739e11589479d8e6b88aec1b86ec8c4a023691db6c9d0a...   4.770685   \n",
      "27     739e11589479d8e6b88aec1b86ec8c4a023691db6c9d0a...   7.307873   \n",
      "28     739e11589479d8e6b88aec1b86ec8c4a023691db6c9d0a...   5.375278   \n",
      "29     739e11589479d8e6b88aec1b86ec8c4a023691db6c9d0a...   7.516977   \n",
      "...                                                  ...        ...   \n",
      "23122  08d5aef413aac5060fa893a382e8f61dd9b3b2a206354c...   7.723120   \n",
      "23123  08d5aef413aac5060fa893a382e8f61dd9b3b2a206354c...   8.349484   \n",
      "23124  08d5aef413aac5060fa893a382e8f61dd9b3b2a206354c...   7.119636   \n",
      "23125  08d5aef413aac5060fa893a382e8f61dd9b3b2a206354c...   8.857515   \n",
      "23126  08d5aef413aac5060fa893a382e8f61dd9b3b2a206354c...   8.016648   \n",
      "23127  08d5aef413aac5060fa893a382e8f61dd9b3b2a206354c...   6.909753   \n",
      "23128  a0d69f36e211de808c9779cba4d75e7373ab9c7aeedaff...  10.536885   \n",
      "23129  a0d69f36e211de808c9779cba4d75e7373ab9c7aeedaff...   6.790097   \n",
      "23130  a0d69f36e211de808c9779cba4d75e7373ab9c7aeedaff...   6.887553   \n",
      "23131  a0d69f36e211de808c9779cba4d75e7373ab9c7aeedaff...   5.736572   \n",
      "23132  a0d69f36e211de808c9779cba4d75e7373ab9c7aeedaff...   5.958425   \n",
      "23133  a0d69f36e211de808c9779cba4d75e7373ab9c7aeedaff...   6.182085   \n",
      "23134  30ab3b7d8e869b799000ff6bb8f56c3dfc77bf08e38a91...   6.075346   \n",
      "23135  30ab3b7d8e869b799000ff6bb8f56c3dfc77bf08e38a91...   3.871201   \n",
      "23136  30ab3b7d8e869b799000ff6bb8f56c3dfc77bf08e38a91...   5.187386   \n",
      "23137  30ab3b7d8e869b799000ff6bb8f56c3dfc77bf08e38a91...   6.899723   \n",
      "23138  30ab3b7d8e869b799000ff6bb8f56c3dfc77bf08e38a91...   4.672829   \n",
      "23139  30ab3b7d8e869b799000ff6bb8f56c3dfc77bf08e38a91...   7.094235   \n",
      "23140  30ab3b7d8e869b799000ff6bb8f56c3dfc77bf08e38a91...   5.411646   \n",
      "23141  5d743a5b702f3f28d3c885272654ee13842ad71b7e6da5...   6.326149   \n",
      "23142  5d743a5b702f3f28d3c885272654ee13842ad71b7e6da5...   4.488636   \n",
      "23143  5d743a5b702f3f28d3c885272654ee13842ad71b7e6da5...   4.317488   \n",
      "23144  5d743a5b702f3f28d3c885272654ee13842ad71b7e6da5...   6.350886   \n",
      "23145  5d743a5b702f3f28d3c885272654ee13842ad71b7e6da5...   7.878913   \n",
      "23146  5d743a5b702f3f28d3c885272654ee13842ad71b7e6da5...   4.488636   \n",
      "23147  5d743a5b702f3f28d3c885272654ee13842ad71b7e6da5...   6.135565   \n",
      "23148  5d743a5b702f3f28d3c885272654ee13842ad71b7e6da5...   6.756932   \n",
      "23149  b61cca5b82beb44368ed17dd899a857c74abf3da5cab41...   7.042286   \n",
      "23150  b61cca5b82beb44368ed17dd899a857c74abf3da5cab41...   6.555357   \n",
      "23151  068275c33f5e5179e06b4ba44479e13ed728451f1bdabf...   2.564949   \n",
      "\n",
      "       other_time   frequency  intensity_day  intensity_othergoals_day  \\\n",
      "0        7.529406  infrequent       0.133333                  0.083333   \n",
      "1        9.068662  infrequent       0.133333                  0.100000   \n",
      "2        9.163144  infrequent       0.133333                  0.116667   \n",
      "3        6.561031    frequent       0.136752                  0.094017   \n",
      "4        5.384495    frequent       0.136752                  0.085470   \n",
      "5        7.395722    frequent       0.115044                  0.079646   \n",
      "6        5.616771    frequent       0.115044                  0.097345   \n",
      "7        7.860185  infrequent       0.136029                  0.132353   \n",
      "8        7.401231    frequent       0.136029                  0.106618   \n",
      "9        7.796469    frequent       0.136029                  0.113971   \n",
      "10       7.941651    frequent       0.136029                  0.106618   \n",
      "11       6.075346  infrequent       0.082645                  0.074380   \n",
      "12       5.442418  infrequent       0.082645                  0.057851   \n",
      "13       6.985642  infrequent       0.071429                  0.061224   \n",
      "14       7.667158  infrequent       0.071429                  0.051020   \n",
      "15       7.145196    frequent       0.071429                  0.040816   \n",
      "16       4.997212  infrequent       0.054795                  0.041096   \n",
      "17       5.332719    frequent       0.054795                  0.041096   \n",
      "18       7.412764  infrequent       0.105932                  0.084746   \n",
      "19       7.594884    frequent       0.105932                  0.093220   \n",
      "20       6.216606    frequent       0.105932                  0.076271   \n",
      "21       5.758902  infrequent       0.155039                  0.124031   \n",
      "22       5.081404    frequent       0.155039                  0.046512   \n",
      "23       7.748029    frequent       0.193146                  0.080997   \n",
      "24       8.735204    frequent       0.193146                  0.161994   \n",
      "25       9.045584    frequent       0.193146                  0.190031   \n",
      "26       7.443078    frequent       0.122302                  0.100719   \n",
      "27       5.811141    frequent       0.122302                  0.107914   \n",
      "28       7.383989    frequent       0.122302                  0.107914   \n",
      "29       6.084499    frequent       0.195312                  0.101562   \n",
      "...           ...         ...            ...                       ...   \n",
      "23122    9.461955  infrequent       0.104833                  0.101115   \n",
      "23123    9.417029  infrequent       0.147180                  0.127923   \n",
      "23124    9.634823    frequent       0.147180                  0.122421   \n",
      "23125    9.158731  infrequent       0.147180                  0.115543   \n",
      "23126    9.509926  infrequent       0.147180                  0.143054   \n",
      "23127    9.650014  infrequent       0.147180                  0.144429   \n",
      "23128    8.022897  infrequent       0.353659                  0.298780   \n",
      "23129   10.592652    frequent       0.353659                  0.274390   \n",
      "23130   10.590365    frequent       0.353659                  0.213415   \n",
      "23131   10.607080  infrequent       0.353659                  0.347561   \n",
      "23132   10.605173    frequent       0.353659                  0.298780   \n",
      "23133   10.602766  infrequent       0.353659                  0.347561   \n",
      "23134    7.105786    frequent       0.314050                  0.198347   \n",
      "23135    7.381502    frequent       0.314050                  0.305785   \n",
      "23136    7.296413    frequent       0.314050                  0.239669   \n",
      "23137    6.495266    frequent       0.314050                  0.206612   \n",
      "23138    8.504716    frequent       0.383838                  0.333333   \n",
      "23139    8.253228    frequent       0.383838                  0.222222   \n",
      "23140    8.480737    frequent       0.383838                  0.353535   \n",
      "23141    6.602588  infrequent       0.441176                  0.411765   \n",
      "23142    7.095893    frequent       0.441176                  0.235294   \n",
      "23143    7.107425  infrequent       0.441176                  0.411765   \n",
      "23144    6.583409    frequent       0.441176                  0.323529   \n",
      "23145    8.384576  infrequent       0.141119                  0.109489   \n",
      "23146    8.843759  infrequent       0.141119                  0.138686   \n",
      "23147    8.788441    frequent       0.141119                  0.124088   \n",
      "23148    8.725832    frequent       0.141119                  0.128954   \n",
      "23149    7.745003  infrequent       0.264516                  0.262366   \n",
      "23150    7.919720  infrequent       0.264516                  0.253763   \n",
      "23151    4.143135    frequent       0.200000                  0.177778   \n",
      "\n",
      "       other_goal_time  avg_other_goal_time  \n",
      "0             7.529406             6.430794  \n",
      "1             9.068662             7.970049  \n",
      "2             9.163144             8.064532  \n",
      "3             6.561031             5.462418  \n",
      "4             5.384495             4.285883  \n",
      "5             7.395722             6.297109  \n",
      "6             5.616771             4.518159  \n",
      "7             7.860185             6.250747  \n",
      "8             7.401231             5.791793  \n",
      "9             7.796469             6.187031  \n",
      "10            7.941651             6.332213  \n",
      "11            6.075346             4.976734  \n",
      "12            5.442418             4.343805  \n",
      "13            6.985642             5.599347  \n",
      "14            7.667158             6.280864  \n",
      "15            7.145196             5.758902  \n",
      "16            4.997212             3.898600  \n",
      "17            5.332719             4.234107  \n",
      "18            7.412764             6.026470  \n",
      "19            7.594884             6.208590  \n",
      "20            6.216606             4.830312  \n",
      "21            5.758902             5.065755  \n",
      "22            5.081404             4.388257  \n",
      "23            7.748029             6.649416  \n",
      "24            8.735204             7.636591  \n",
      "25            9.045584             7.946971  \n",
      "26            7.443078             6.344466  \n",
      "27            5.811141             4.712529  \n",
      "28            7.383989             6.285377  \n",
      "29            6.084499             5.391352  \n",
      "...                ...                  ...  \n",
      "23122         9.461955             7.852517  \n",
      "23123         9.417029             7.807591  \n",
      "23124         9.634823             8.025386  \n",
      "23125         9.158731             7.549293  \n",
      "23126         9.509926             7.900488  \n",
      "23127         9.650014             8.040576  \n",
      "23128         8.022897             6.231137  \n",
      "23129        10.592652             8.800892  \n",
      "23130        10.590365             8.798606  \n",
      "23131        10.607080             8.815321  \n",
      "23132        10.605173             8.813414  \n",
      "23133        10.602766             8.811006  \n",
      "23134         7.105786             5.496348  \n",
      "23135         7.381502             5.772064  \n",
      "23136         7.296413             5.686975  \n",
      "23137         6.495266             4.885828  \n",
      "23138         8.504716             7.118421  \n",
      "23139         8.253228             6.866933  \n",
      "23140         8.480737             7.094442  \n",
      "23141         6.602588             5.216294  \n",
      "23142         7.095893             5.709599  \n",
      "23143         7.107425             5.721131  \n",
      "23144         6.583409             5.197115  \n",
      "23145         8.384576             6.592816  \n",
      "23146         8.843759             7.052000  \n",
      "23147         8.788441             6.996681  \n",
      "23148         8.725832             6.934073  \n",
      "23149         7.745003             6.646391  \n",
      "23150         7.919720             6.821107  \n",
      "23151         4.143135             3.044522  \n",
      "\n",
      "[23152 rows x 9 columns]\n"
     ]
    }
   ],
   "source": [
    "\n",
    "import pandas as pd\n",
    "# our next data set: goal_time, freq, goal, and email_hash\n",
    "goal_stats_dict = {\"app\": [], \"email\": [], \"time\": [], \"other_time\": [], \"frequency\": [], 'intensity_day': [], 'intensity_othergoals_day': [], \"other_goal_time\":[], \"avg_other_goal_time\": []}\n",
    "for day in day_stats:\n",
    "    for key in day:\n",
    "        if \"domain_time\" in key:\n",
    "            domain = key[:-len(\"_domain_time\")]\n",
    "            if not (domain in day[FREQ_GOALS] and domain in day[INFREQ_GOALS]) and (domain in day[FREQ_GOALS] or domain in day[INFREQ_GOALS]):\n",
    "                freq = \"frequent\" if domain in day[FREQ_GOALS] else \"infrequent\"\n",
    "                if math.exp(day[GOAL_TIME]) - math.exp(day[key]) != 0:\n",
    "                    goal_stats_dict[\"intensity_othergoals_day\"].append(day[INTENSITY] - day[domain + \"_intervention_sessions\"]/day[\"num_sessions\"])\n",
    "\n",
    "                    goal_stats_dict[\"other_goal_time\"].append(math.log(math.exp(day[GOAL_TIME]) - math.exp(day[key])))\n",
    "                    goal_stats_dict[\"avg_other_goal_time\"].append(math.log(math.exp(goal_stats_dict[\"other_goal_time\"][-1])/len(day[GOALS])))\n",
    "                    goal_stats_dict[\"intensity_day\"].append(day[INTENSITY])\n",
    "                    goal_stats_dict[\"app\"].append(domain)\n",
    "                    goal_stats_dict[\"email\"].append(day[HASH])\n",
    "                    goal_stats_dict[\"time\"].append(day[key])\n",
    "                    goal_stats_dict[\"other_time\"].append(math.log(math.exp(day[GOAL_TIME]) - math.exp(day[key])))\n",
    "                    goal_stats_dict[\"frequency\"].append(freq)\n",
    "goal_freq_df = pd.DataFrame(goal_stats_dict)\n",
    "print(goal_freq_df)\n",
    "#goal_freq_df.to_csv(\"goal_freq_df.csv\")"
   ]
  },
  {
   "cell_type": "code",
   "execution_count": 541,
   "metadata": {},
   "outputs": [],
   "source": [
    "goal_freq_df.to_csv(\"2018-09-13-goal_freq_df.csv\")"
   ]
  },
  {
   "cell_type": "code",
   "execution_count": 489,
   "metadata": {},
   "outputs": [
    {
     "name": "stderr",
     "output_type": "stream",
     "text": [
      "/home/drew/.local/lib/python3.6/site-packages/rpy2/robjects/pandas2ri.py:191: FutureWarning: from_items is deprecated. Please use DataFrame.from_dict(dict(items), ...) instead. DataFrame.from_dict(OrderedDict(items)) may be used to preserve the key order.\n",
      "  res = PandasDataFrame.from_items(items)\n"
     ]
    },
    {
     "data": {
      "text/plain": [
       "Linear mixed model fit by REML. t-tests use Satterthwaite's method [\n",
       "lmerModLmerTest]\n",
       "Formula: time ~ other_goal_time + (frequency) + (1 | app)\n",
       "   Data: goal_freq_df\n",
       "\n",
       "REML criterion at convergence: 87853.8\n",
       "\n",
       "Scaled residuals: \n",
       "    Min      1Q  Median      3Q     Max \n",
       "-4.7715 -0.5615  0.1083  0.6577  3.5234 \n",
       "\n",
       "Random effects:\n",
       " Groups   Name        Variance Std.Dev.\n",
       " app      (Intercept) 1.638    1.280   \n",
       " Residual             2.501    1.582   \n",
       "Number of obs: 23152, groups:  app, 575\n",
       "\n",
       "Fixed effects:\n",
       "                    Estimate Std. Error         df t value Pr(>|t|)    \n",
       "(Intercept)        5.051e+00  9.597e-02  2.149e+03   52.64   <2e-16 ***\n",
       "other_goal_time    1.044e-01  8.242e-03  2.304e+04   12.67   <2e-16 ***\n",
       "frequencyfrequent -5.011e-01  2.151e-02  2.299e+04  -23.30   <2e-16 ***\n",
       "---\n",
       "Signif. codes:  0 ‘***’ 0.001 ‘**’ 0.01 ‘*’ 0.05 ‘.’ 0.1 ‘ ’ 1\n",
       "\n",
       "Correlation of Fixed Effects:\n",
       "            (Intr) othr__\n",
       "other_gl_tm -0.728       \n",
       "frqncyfrqnt -0.146  0.017\n"
      ]
     },
     "metadata": {},
     "output_type": "display_data"
    }
   ],
   "source": [
    "%%R -i goal_freq_df -w 5 -h 5 --units in -r 200\n",
    "\n",
    "# goodresult RESULT-MOBILE-SYMBIOTIC\n",
    "\n",
    "goal_freq_df$email <- factor(goal_freq_df$email,  ordered=FALSE)\n",
    "goal_freq_df$app <- factor(goal_freq_df$app, ordered=FALSE)\n",
    "goal_freq_df$frequency <- factor(goal_freq_df$frequency, levels=c(\"infrequent\", \"frequent\"))\n",
    "#results <- lmer(time ~ intensity_othergoals_day + (1|frequency), data = goal_freq_df)\n",
    "results <- lmer(time ~ other_goal_time + (frequency) + (1|app), data = goal_freq_df)\n",
    "summary(results)\n"
   ]
  },
  {
   "cell_type": "code",
   "execution_count": 548,
   "metadata": {},
   "outputs": [
    {
     "data": {
      "text/plain": [
       "Linear mixed model fit by REML. t-tests use Satterthwaite's method [\n",
       "lmerModLmerTest]\n",
       "Formula: other_goal_time ~ frequency + (1 | app)\n",
       "   Data: goal_freq_df\n",
       "\n",
       "REML criterion at convergence: 77294.4\n",
       "\n",
       "Scaled residuals: \n",
       "    Min      1Q  Median      3Q     Max \n",
       "-6.6944 -0.4365  0.1633  0.6376  2.7339 \n",
       "\n",
       "Random effects:\n",
       " Groups   Name        Variance Std.Dev.\n",
       " app      (Intercept) 0.4393   0.6628  \n",
       " Residual             1.6066   1.2675  \n",
       "Number of obs: 23152, groups:  app, 575\n",
       "\n",
       "Fixed effects:\n",
       "                    Estimate Std. Error         df t value Pr(>|t|)    \n",
       "(Intercept)        8.480e+00  3.940e-02  4.899e+02 215.220   <2e-16 ***\n",
       "frequencyfrequent -4.423e-02  1.717e-02  2.313e+04  -2.576     0.01 ** \n",
       "---\n",
       "Signif. codes:  0 ‘***’ 0.001 ‘**’ 0.01 ‘*’ 0.05 ‘.’ 0.1 ‘ ’ 1\n",
       "\n",
       "Correlation of Fixed Effects:\n",
       "            (Intr)\n",
       "frqncyfrqnt -0.259\n"
      ]
     },
     "metadata": {},
     "output_type": "display_data"
    }
   ],
   "source": [
    "%%R -i goal_freq_df -w 5 -h 5 --units in -r 200\n",
    "\n",
    "# DREW GOOD RESULT goodresult RESULT-MOBILE-SYMBIOTIC\n",
    "\n",
    "goal_freq_df$email <- factor(goal_freq_df$email,  ordered=FALSE)\n",
    "goal_freq_df$app <- factor(goal_freq_df$app, ordered=FALSE)\n",
    "goal_freq_df$frequency <- factor(goal_freq_df$frequency, levels=c(\"infrequent\", \"frequent\"))\n",
    "#results <- lmer(time ~ intensity_othergoals_day + (1|frequency), data = goal_freq_df)\n",
    "results <- lmer(other_goal_time ~ frequency + (1|app), data = goal_freq_df)\n",
    "summary(results)"
   ]
  },
  {
   "cell_type": "code",
   "execution_count": 443,
   "metadata": {},
   "outputs": [
    {
     "data": {
      "text/plain": [
       "     app               email                time          other_time    \n",
       " Length:23152       Length:23152       Min.   : 0.000   Min.   : 0.000  \n",
       " Class :character   Class :character   1st Qu.: 5.263   1st Qu.: 7.781  \n",
       " Mode  :character   Mode  :character   Median : 6.609   Median : 8.583  \n",
       "                                       Mean   : 6.375   Mean   : 8.350  \n",
       "                                       3rd Qu.: 7.664   3rd Qu.: 9.204  \n",
       "                                       Max.   :11.340   Max.   :11.352  \n",
       "  frequency         intensity_day      intensity_othergoals_day\n",
       " Length:23152       Min.   :0.007634   Min.   :0.0000          \n",
       " Class :character   1st Qu.:0.157350   1st Qu.:0.1233          \n",
       " Mode  :character   Median :0.227501   Median :0.1891          \n",
       "                    Mean   :0.238473   Mean   :0.2021          \n",
       "                    3rd Qu.:0.309091   3rd Qu.:0.2678          \n",
       "                    Max.   :0.796296   Max.   :0.7037          \n",
       " other_goal_time \n",
       " Min.   : 0.000  \n",
       " 1st Qu.: 7.781  \n",
       " Median : 8.583  \n",
       " Mean   : 8.350  \n",
       " 3rd Qu.: 9.204  \n",
       " Max.   :11.352  \n"
      ]
     },
     "metadata": {},
     "output_type": "display_data"
    }
   ],
   "source": [
    "%%R -i goal_freq_df -w 5 -h 5 --units in -r 200\n",
    "\n",
    "goal_freq_df <- subset(goal_freq_df, intensity_othergoals_day != -1)\n",
    "summary(goal_freq_df)"
   ]
  },
  {
   "cell_type": "code",
   "execution_count": 509,
   "metadata": {},
   "outputs": [
    {
     "name": "stderr",
     "output_type": "stream",
     "text": [
      "/home/drew/.local/lib/python3.6/site-packages/rpy2/robjects/pandas2ri.py:191: FutureWarning: from_items is deprecated. Please use DataFrame.from_dict(dict(items), ...) instead. DataFrame.from_dict(OrderedDict(items)) may be used to preserve the key order.\n",
      "  res = PandasDataFrame.from_items(items)\n"
     ]
    },
    {
     "data": {
      "text/plain": [
       "Linear mixed model fit by REML. t-tests use Satterthwaite's method [\n",
       "lmerModLmerTest]\n",
       "Formula: time ~ intensity_othergoals_day + (frequency) + (1 | app)\n",
       "   Data: goal_freq_df\n",
       "\n",
       "REML criterion at convergence: 87670.9\n",
       "\n",
       "Scaled residuals: \n",
       "    Min      1Q  Median      3Q     Max \n",
       "-4.8216 -0.5533  0.1083  0.6548  3.4037 \n",
       "\n",
       "Random effects:\n",
       " Groups   Name        Variance Std.Dev.\n",
       " app      (Intercept) 1.580    1.257   \n",
       " Residual             2.483    1.576   \n",
       "Number of obs: 23152, groups:  app, 575\n",
       "\n",
       "Fixed effects:\n",
       "                           Estimate Std. Error         df t value Pr(>|t|)    \n",
       "(Intercept)               6.349e+00  6.859e-02  6.125e+02   92.56   <2e-16 ***\n",
       "intensity_othergoals_day -1.963e+00  1.064e-01  2.312e+04  -18.44   <2e-16 ***\n",
       "frequencyfrequent        -4.901e-01  2.145e-02  2.299e+04  -22.85   <2e-16 ***\n",
       "---\n",
       "Signif. codes:  0 ‘***’ 0.001 ‘**’ 0.01 ‘*’ 0.05 ‘.’ 0.1 ‘ ’ 1\n",
       "\n",
       "Correlation of Fixed Effects:\n",
       "            (Intr) intn__\n",
       "intnsty_th_ -0.324       \n",
       "frqncyfrqnt -0.173 -0.040\n"
      ]
     },
     "metadata": {},
     "output_type": "display_data"
    }
   ],
   "source": [
    "%%R -i goal_freq_df -w 5 -h 5 --units in -r 200\n",
    "\n",
    "# goodresult RESULT-MOBILE-SYMBIOTIC\n",
    "\n",
    "goal_freq_df <- subset(goal_freq_df, intensity_othergoals_day != -1)\n",
    "\n",
    "# Does non-goal time spent per day on phone inversely depend on goal-time?\n",
    "goal_freq_df$email <- factor(goal_freq_df$email,  ordered=FALSE)\n",
    "goal_freq_df$app <- factor(goal_freq_df$app, ordered=FALSE)\n",
    "goal_freq_df$frequency <- factor(goal_freq_df$frequency, levels=c(\"infrequent\", \"frequent\"))\n",
    "#results <- lmer(time ~ intensity_othergoals_day + (1|frequency), data = goal_freq_df)\n",
    "results <- lmer(time ~ intensity_othergoals_day + (frequency) + (1|app), data = goal_freq_df)\n",
    "#results <- lmer(time ~ intensity_othergoals_day + (1|frequency) + (1|app) + (1|email), data = goal_freq_df)\n",
    "summary(results)"
   ]
  },
  {
   "cell_type": "code",
   "execution_count": null,
   "metadata": {},
   "outputs": [],
   "source": [
    "%%R -i goal_freq_df -w 5 -h 5 --units in -r 200\n",
    "\n",
    "# goodresult RESULT-MOBILE-REDUCED\n",
    "\n",
    "# Does non-goal time spent per day on phone inversely depend on goal-time?\n",
    "goal_freq_df$email <- factor(goal_freq_df$email,  ordered=FALSE)\n",
    "goal_freq_df$app <- factor(goal_freq_df$app, ordered=FALSE)\n",
    "goal_freq_df$frequency <- factor(goal_freq_df$frequency, levels=c(\"infrequent\", \"frequent\"))\n",
    "goal_freq_df$frequency <- goal_freq_df$frequency == 'frequent'\n",
    "results <- t.test(goal_freq_df$time ~ goal_freq_df$frequency)\n",
    "show(results)"
   ]
  },
  {
   "cell_type": "code",
   "execution_count": null,
   "metadata": {},
   "outputs": [],
   "source": [
    "%%R -i goal_freq_df -w 5 -h 5 --units in -r 200\n",
    "\n",
    "# goodresult RESULT-MOBILE-REDUCED\n",
    "\n",
    "# Does non-goal time spent per day on phone inversely depend on goal-time?\n",
    "goal_freq_df$email <- factor(goal_freq_df$email,  ordered=FALSE)\n",
    "goal_freq_df$app <- factor(goal_freq_df$app, ordered=FALSE)\n",
    "goal_freq_df$frequency <- factor(goal_freq_df$frequency, levels=c(\"infrequent\", \"frequent\"))\n",
    "results <- lm(time ~ frequency, data = goal_freq_df)\n",
    "summary(results)"
   ]
  },
  {
   "cell_type": "code",
   "execution_count": 444,
   "metadata": {},
   "outputs": [
    {
     "data": {
      "text/plain": [
       "Linear mixed model fit by REML. t-tests use Satterthwaite's method [\n",
       "lmerModLmerTest]\n",
       "Formula: time ~ frequency + (1 | app)\n",
       "   Data: goal_freq_df\n",
       "\n",
       "REML criterion at convergence: 88005.9\n",
       "\n",
       "Scaled residuals: \n",
       "    Min      1Q  Median      3Q     Max \n",
       "-4.7037 -0.5560  0.1104  0.6596  3.5078 \n",
       "\n",
       "Random effects:\n",
       " Groups   Name        Variance Std.Dev.\n",
       " app      (Intercept) 1.595    1.263   \n",
       " Residual             2.520    1.587   \n",
       "Number of obs: 23152, groups:  app, 575\n",
       "\n",
       "Fixed effects:\n",
       "                    Estimate Std. Error         df t value Pr(>|t|)    \n",
       "(Intercept)        5.940e+00  6.524e-02  4.981e+02   91.05   <2e-16 ***\n",
       "frequencyfrequent -5.060e-01  2.159e-02  2.300e+04  -23.44   <2e-16 ***\n",
       "---\n",
       "Signif. codes:  0 ‘***’ 0.001 ‘**’ 0.01 ‘*’ 0.05 ‘.’ 0.1 ‘ ’ 1\n",
       "\n",
       "Correlation of Fixed Effects:\n",
       "            (Intr)\n",
       "frqncyfrqnt -0.197\n"
      ]
     },
     "metadata": {},
     "output_type": "display_data"
    }
   ],
   "source": [
    "%%R -i goal_freq_df -w 5 -h 5 --units in -r 200\n",
    "\n",
    "# goodresult RESULT-MOBILE-REDUCED\n",
    "\n",
    "# Does non-goal time spent per day on phone inversely depend on goal-time?\n",
    "goal_freq_df$email <- factor(goal_freq_df$email,  ordered=FALSE)\n",
    "goal_freq_df$app <- factor(goal_freq_df$app, ordered=FALSE)\n",
    "goal_freq_df$frequency <- factor(goal_freq_df$frequency, levels=c(\"infrequent\", \"frequent\"))\n",
    "results <- lmer(time ~ frequency + (1|app) , data = goal_freq_df)\n",
    "summary(results)"
   ]
  },
  {
   "cell_type": "code",
   "execution_count": null,
   "metadata": {},
   "outputs": [],
   "source": [
    "%%R -i goal_freq_df -w 5 -h 5 --units in -r 200\n",
    "\n",
    "# goodresult RESULT-MOBILE-REDUCED\n",
    "\n",
    "# Does non-goal time spent per day on phone inversely depend on goal-time?\n",
    "goal_freq_df$email <- factor(goal_freq_df$email,  ordered=FALSE)\n",
    "goal_freq_df$app <- factor(goal_freq_df$app, ordered=FALSE)\n",
    "goal_freq_df$frequency <- factor(goal_freq_df$frequency, levels=c(\"infrequent\", \"frequent\"))\n",
    "results <- lmer(time ~ frequency + (1|app) + (1|email) , data = goal_freq_df)\n",
    "summary(results)"
   ]
  },
  {
   "cell_type": "code",
   "execution_count": 445,
   "metadata": {},
   "outputs": [
    {
     "data": {
      "text/plain": [
       "Linear mixed model fit by REML. t-tests use Satterthwaite's method [\n",
       "lmerModLmerTest]\n",
       "Formula: other_time ~ frequency + (1 | app) + (1 | email)\n",
       "   Data: goal_freq_df\n",
       "\n",
       "REML criterion at convergence: 67748.5\n",
       "\n",
       "Scaled residuals: \n",
       "    Min      1Q  Median      3Q     Max \n",
       "-7.2638 -0.3890  0.1350  0.5646  4.3342 \n",
       "\n",
       "Random effects:\n",
       " Groups   Name        Variance Std.Dev.\n",
       " app      (Intercept) 0.1205   0.3472  \n",
       " email    (Intercept) 1.2221   1.1055  \n",
       " Residual             0.9894   0.9947  \n",
       "Number of obs: 23152, groups:  app, 575; email, 575\n",
       "\n",
       "Fixed effects:\n",
       "                   Estimate Std. Error        df t value Pr(>|t|)    \n",
       "(Intercept)       7.952e+00  5.390e-02 7.394e+02 147.535   <2e-16 ***\n",
       "frequencyfrequent 1.115e-02  1.410e-02 2.264e+04   0.791    0.429    \n",
       "---\n",
       "Signif. codes:  0 ‘***’ 0.001 ‘**’ 0.01 ‘*’ 0.05 ‘.’ 0.1 ‘ ’ 1\n",
       "\n",
       "Correlation of Fixed Effects:\n",
       "            (Intr)\n",
       "frqncyfrqnt -0.152\n"
      ]
     },
     "metadata": {},
     "output_type": "display_data"
    }
   ],
   "source": [
    "%%R -i goal_freq_df -w 5 -h 5 --units in -r 200\n",
    "\n",
    "# goodresult RESULT-MOBILE-REDUCED\n",
    "\n",
    "# Does non-goal time spent per day on phone inversely depend on goal-time?\n",
    "goal_freq_df$email <- factor(goal_freq_df$email,  ordered=FALSE)\n",
    "goal_freq_df$app <- factor(goal_freq_df$app, ordered=FALSE)\n",
    "goal_freq_df$frequency <- factor(goal_freq_df$frequency, levels=c(\"infrequent\", \"frequent\"))\n",
    "results <- lmer(other_time ~ frequency + (1|app) + (1|email), data = goal_freq_df)\n",
    "summary(results)"
   ]
  },
  {
   "cell_type": "code",
   "execution_count": null,
   "metadata": {},
   "outputs": [],
   "source": [
    "\n",
    "freq_time = [0,0]\n",
    "infreq_time = [0,0]\n",
    "other_time = [0,0]\n",
    "num_days = [0, 0]\n",
    "for day in day_stats:\n",
    "    if len(day[FREQ_GOALS]) > 0 and len(day[INFREQ_GOALS]) > 0:\n",
    "        intensity= len(day[FREQ_GOALS])/len(day[INFREQ_GOALS])\n",
    "        if intensity <.5:\n",
    "            num_days[0] += 1\n",
    "            freq_time[0] += math.exp(day[FREQ_TIME])\n",
    "            infreq_time[0] += math.exp(day[GOAL_TIME])-math.exp(day[FREQ_TIME])\n",
    "            other_time[0] += math.exp(day[OTHER_TIME])\n",
    "        elif intensity > .5:\n",
    "            num_days[1] += 1\n",
    "            freq_time[1] += math.exp(day[FREQ_TIME])\n",
    "            infreq_time[1] += math.exp(day[GOAL_TIME])-math.exp(day[FREQ_TIME])\n",
    "            other_time[1] += math.exp(day[OTHER_TIME])   \n",
    "from functools import reduce\n",
    "import numpy as np\n",
    "for i in range(0,2):\n",
    "    pyplot.figure(325 + i * 2 - 1)\n",
    "    labels = 'Freq Time', 'Infreq Time', 'Other Time'\n",
    "    sizes = [freq_time[i], infreq_time[i], other_time[i]]\n",
    "    explode = (0.1, 0.1, 0)  # only \"explode\" the 2nd slice (i.e. 'Hogs')\n",
    "    pyplot.pie(sizes, explode=explode, labels=labels, autopct='%1.1f%%',\n",
    "            shadow=True, startangle=90)\n",
    "    pyplot.axis('equal')  # Equal aspect ratio ensures that pie is drawn as a circle.\n",
    "    pyplot.title(\"Distribution of Time with Intensity \" + (\"<\" if i == 0 else \">\") + \".5\")\n",
    "    pyplot.figure(325 + i * 2)\n",
    "    pyplot.title(\"Distribution of Time with Intensity \" + (\"<\" if i == 0 else \">\") + \".5\")\n",
    "    pyplot.xlabel(\"App Category\")\n",
    "    pyplot.ylabel(\"Arithmetic Average Time Spent Per Day (s)\")\n",
    "    pyplot.bar(labels, list(map(lambda x: x/num_days[i], sizes)))\n",
    "    pyplot.figure(\"Distribution of Time with Intensity\")\n"
   ]
  },
  {
   "cell_type": "code",
   "execution_count": null,
   "metadata": {},
   "outputs": [],
   "source": [
    "intensities = []\n",
    "avg_freq_time = []\n",
    "avg_infreq_time = []\n",
    "ratio = []\n",
    "for item in day_stats:\n",
    "    if len(item[FREQ_GOALS]) > 0 and len(item[INFREQ_GOALS]) > 0 and math.exp(item[GOAL_TIME])-math.exp(item[FREQ_TIME]) > 3:\n",
    "        avg_freq_time_pt = item[FREQ_TIME]/len(item[FREQ_GOALS])\n",
    "        \n",
    "        avg_infreq_time_pt = math.log(math.exp(item[GOAL_TIME])-math.exp(item[FREQ_TIME]))/len(item[INFREQ_GOALS])\n",
    "        if avg_freq_time_pt/avg_infreq_time_pt > 1000:\n",
    "            print(math.exp(item[GOAL_TIME])-math.exp(item[FREQ_TIME]))\n",
    "            print(math.log(math.exp(item[GOAL_TIME])-math.exp(item[FREQ_TIME])))\n",
    "            print(math.log(math.exp(item[GOAL_TIME])-math.exp(item[FREQ_TIME]))/len(item[INFREQ_GOALS]))\n",
    "            print(str(avg_freq_time_pt) + \" \" + str(avg_infreq_time_pt))\n",
    "        intensity = len(item[FREQ_GOALS])/(len(item[FREQ_GOALS].union(item[INFREQ_GOALS])))\n",
    "        if avg_freq_time_pt > 0 and avg_infreq_time_pt > 0:\n",
    "            intensities.append(intensity)\n",
    "            avg_freq_time.append(avg_freq_time_pt)\n",
    "            avg_infreq_time.append(avg_infreq_time_pt)\n",
    "            ratio.append((avg_freq_time_pt/avg_infreq_time_pt))\n",
    "pyplot.figure(62426)\n",
    "pyplot.title(\"Ratio of Average Frequent Goal Time to Average Infrequent Goal Time vs Intensity\")\n",
    "pyplot.xlabel(\"Intensity (fraction of frequent goals)\")\n",
    "pyplot.ylabel(\"Ratio\")\n",
    "pyplot.scatter(intensities, ratio)\n",
    "from scipy import stats\n",
    "slope, intercept, r_value, p_value, std_err = stats.linregress(intensities,ratio)\n",
    "print(r_value)"
   ]
  },
  {
   "cell_type": "code",
   "execution_count": 290,
   "metadata": {},
   "outputs": [],
   "source": [
    "user_to_install = json.loads(req.urlopen(\"http://localhost:5001/get_user_to_all_install_ids?user\").read().decode(\"utf-8\"))"
   ]
  },
  {
   "cell_type": "code",
   "execution_count": null,
   "metadata": {},
   "outputs": [],
   "source": [
    "print(user_to_install)"
   ]
  },
  {
   "cell_type": "code",
   "execution_count": 291,
   "metadata": {},
   "outputs": [
    {
     "name": "stdout",
     "output_type": "stream",
     "text": [
      "getting collection names\n",
      "got collection names\n",
      "0\n",
      "100000\n",
      "200000\n"
     ]
    }
   ],
   "source": [
    "# Get all browser user ids that have goal frequencies collection.\n",
    "print (\"getting collection names\")\n",
    "collection_names = ext_db.list_collection_names()\n",
    "print(\"got collection names\")\n",
    "browser_user_ids = []\n",
    "counter = 0\n",
    "for name in collection_names:\n",
    "    if counter % 100000 == 0:\n",
    "        print(counter)\n",
    "    counter += 1\n",
    "    if \"goal_frequencies\" in name:\n",
    "        user = name[:-len(\"_synced:goal_frequencies\")]\n",
    "        if user in user_to_install and len(user_to_install[user]) == 1:\n",
    "            browser_user_ids.append(user)"
   ]
  },
  {
   "cell_type": "code",
   "execution_count": 502,
   "metadata": {},
   "outputs": [
    {
     "name": "stdout",
     "output_type": "stream",
     "text": [
      "['c8d66c0d7b3573ad940047e7', '883c1ba5c4e5472d2f8067d6', 'd49e6ce9c7fadc10f3baf7bd', '601ef212e501d1cdccebf63b', '9e63d7e9d250c795b9c657e8', 'ca55f0a0e2e0765089529619', '70f7e2720c2ff541f5f6d774', '9aa2418cff3facda9bb90c15', 'a09f4d8b6326097b44238b62', '126dcab7446cd026ebd53a10']\n"
     ]
    }
   ],
   "source": [
    "print(browser_user_ids[:10])"
   ]
  },
  {
   "cell_type": "code",
   "execution_count": 508,
   "metadata": {},
   "outputs": [
    {
     "ename": "ValueError",
     "evalue": "attempted relative import beyond top-level package",
     "output_type": "error",
     "traceback": [
      "\u001b[0;31m---------------------------------------------------------------------------\u001b[0m",
      "\u001b[0;31mValueError\u001b[0m                                Traceback (most recent call last)",
      "\u001b[0;32m<ipython-input-508-91d7306cea8e>\u001b[0m in \u001b[0;36m<module>\u001b[0;34m()\u001b[0m\n\u001b[0;32m----> 1\u001b[0;31m \u001b[0;32mfrom\u001b[0m \u001b[0;34m...\u001b[0m\u001b[0mbrowser_libs\u001b[0m \u001b[0;32mimport\u001b[0m \u001b[0mget_session_info_list_for_user\u001b[0m\u001b[0;34m\u001b[0m\u001b[0m\n\u001b[0m",
      "\u001b[0;31mValueError\u001b[0m: attempted relative import beyond top-level package"
     ]
    }
   ],
   "source": [
    "from browser_libs import get_session_info_list_for_user"
   ]
  },
  {
   "cell_type": "code",
   "execution_count": 321,
   "metadata": {},
   "outputs": [
    {
     "name": "stdout",
     "output_type": "stream",
     "text": [
      "0.9307135470527405%\n",
      "1.9648397104446742%\n",
      "2.998965873836608%\n",
      "3.9296794208893484%\n",
      "4.963805584281282%\n",
      "5.997931747673216%\n",
      "6.928645294725956%\n",
      "7.96277145811789%\n",
      "8.996897621509824%\n",
      "9.927611168562564%\n",
      "10.961737331954497%\n",
      "11.995863495346432%\n",
      "1427c75a5da0d8e5c0baf9e4\n",
      "{'www.wikiwand.com 192', 'www.google.com 824', 'www.manhattanprep.com 6', 'www.youtube.com 643', 'www.google.com 826', 'translate.google.com 20', 'mail.google.com 58', 'mentalfloss.com 0', 'translate.google.com 21', 'www.google.com 822', 'www.google.com 823', 'rj.olx.com.br 6', 'www.youtube.com 629', 'www.youtube.com 640', 'www.youtube.com 642', 'www.wikiwand.com 190', 'www.youtube.com 637', 'www.google.com 827', 'www.youtube.com 641'}\n",
      "{'www.youtube.com 639', 'www.youtube.com 632', 'www.youtube.com 634', 'www.youtube.com 647', 'www.youtube.com 646', 'www.youtube.com 649', 'www.youtube.com 640', 'www.youtube.com 644', 'www.youtube.com 651', 'www.youtube.com 630', 'www.youtube.com 635', 'www.youtube.com 636', 'www.youtube.com 637', 'www.youtube.com 643', 'www.youtube.com 638', 'www.youtube.com 633', 'www.youtube.com 645', 'www.youtube.com 650', 'www.youtube.com 642', 'www.youtube.com 652', 'www.youtube.com 631', 'www.youtube.com 629', 'www.youtube.com 641', 'www.youtube.com 648'}\n",
      "\n",
      "12.926577042399174%\n",
      "7aa307679d508d574906a55b\n",
      "{'www.univers-animeze.net 6', 'www.messenger.com 11', 'www.youtube.com 84', 'www.facebook.com 21', 'www.youtube.com 61', 'www.youtube.com 71', 'www.youtube.com 62', 'www.youtube.com 76', 'www.youtube.com 85', 'www.facebook.com 20', 'www.youtube.com 86', 'mail.google.com 7', 'www.messenger.com 10'}\n",
      "{'www.youtube.com 61', 'www.youtube.com 76', 'www.youtube.com 74', 'www.youtube.com 79', 'www.youtube.com 71', 'www.facebook.com 20', 'www.youtube.com 69', 'www.youtube.com 78', 'www.youtube.com 70', 'www.youtube.com 82', 'www.youtube.com 86', 'mail.google.com 7', 'www.youtube.com 68', 'www.youtube.com 84', 'www.youtube.com 73', 'www.youtube.com 80', 'www.youtube.com 62', 'www.youtube.com 75', 'www.youtube.com 67', 'www.youtube.com 85', 'www.youtube.com 63', 'www.youtube.com 64', 'www.youtube.com 77', 'www.facebook.com 21', 'www.youtube.com 81', 'www.youtube.com 66', 'www.youtube.com 72', 'www.youtube.com 83', 'www.youtube.com 65'}\n",
      "\n",
      "13.960703205791106%\n",
      "14.99482936918304%\n",
      "15.92554291623578%\n",
      "16.959669079627716%\n",
      "17.993795243019648%\n",
      "c610b861496efaffdc84b916\n",
      "{'www.youtube.com 86', 'www.youtube.com 84'}\n",
      "{'www.youtube.com 85', 'www.youtube.com 86', 'www.youtube.com 84'}\n",
      "\n",
      "18.924508790072387%\n",
      "19.958634953464323%\n",
      "20.992761116856258%\n",
      "21.923474663908994%\n",
      "22.95760082730093%\n",
      "9ff869bd1bb5110f66f1ee19\n",
      "{'www.google.com.au 28', 'www.ekka.com.au 2', 'www.youtube.com 21', 'www.google.com.au 29', 'www.ekka.com.au 0', 'www.ekka.com.au 1'}\n",
      "{'www.youtube.com 23', 'www.netflix.com 6', 'www.netflix.com 7', 'www.netflix.com 8', 'www.youtube.com 21', 'www.youtube.com 22', 'www.youtube.com 24', 'www.youtube.com 25', 'www.youtube.com 26'}\n",
      "\n",
      "23.991726990692865%\n",
      "24.922440537745604%\n",
      "25.95656670113754%\n",
      "26.990692864529475%\n",
      "27.92140641158221%\n",
      "28.955532574974146%\n",
      "29.98965873836608%\n",
      "30.920372285418825%\n",
      "31.954498448810753%\n",
      "32.988624612202685%\n",
      "33.91933815925543%\n",
      "34.95346432264736%\n",
      "35.987590486039295%\n",
      "36.918304033092035%\n",
      "37.952430196483974%\n",
      "38.986556359875905%\n",
      "39.917269906928645%\n",
      "40.95139607032058%\n",
      "41.985522233712516%\n",
      "42.916235780765255%\n",
      "43.95036194415719%\n",
      "44.98448810754912%\n",
      "45.91520165460186%\n",
      "46.9493278179938%\n",
      "47.98345398138573%\n",
      "48.91416752843847%\n",
      "4695deda6b34b39075b78589\n",
      "{'www.facebook.com 643', 'campaniafootball.com 6', 'www.facebook.com 644', 'www.facebook.com 641'}\n",
      "{'www.facebook.com 644', 'www.facebook.com 641', 'www.facebook.com 642', 'www.facebook.com 640', 'www.facebook.com 643'}\n",
      "\n",
      "49.9482936918304%\n",
      "50.98241985522234%\n",
      "51.91313340227508%\n",
      "52.94725956566702%\n",
      "53.98138572905895%\n",
      "54.91209927611168%\n",
      "55.946225439503614%\n",
      "56.98035160289555%\n",
      "57.91106514994829%\n",
      "58.94519131334023%\n",
      "59.97931747673216%\n",
      "60.9100310237849%\n",
      "61.94415718717684%\n",
      "62.978283350568766%\n",
      "63.908996897621506%\n",
      "64.94312306101344%\n",
      "65.97724922440537%\n",
      "66.90796277145812%\n",
      "67.94208893485005%\n",
      "68.976215098242%\n",
      "69.90692864529473%\n",
      "70.94105480868666%\n",
      "71.97518097207859%\n",
      "72.90589451913134%\n",
      "73.94002068252327%\n",
      "74.9741468459152%\n",
      "75.90486039296795%\n",
      "76.93898655635988%\n",
      "77.97311271975181%\n",
      "78.90382626680456%\n",
      "79.93795243019648%\n",
      "80.97207859358842%\n",
      "81.90279214064115%\n",
      "82.93691830403309%\n",
      "52d88e6c10e52e086adc82de\n",
      "{'www.youtube.com 36', 'www.facebook.com 35', 'ncase.me 0', 'www.youtube.com 37'}\n",
      "{'www.youtube.com 38', 'www.youtube.com 36', 'www.facebook.com 34', 'www.facebook.com 33', 'www.facebook.com 35', 'www.youtube.com 37'}\n",
      "\n",
      "83.97104446742503%\n",
      "84.90175801447776%\n",
      "85.93588417786971%\n",
      "86.97001034126164%\n",
      "87.90072388831437%\n",
      "88.9348500517063%\n",
      "89.96897621509824%\n",
      "90.89968976215098%\n",
      "91.93381592554292%\n",
      "92.96794208893485%\n",
      "93.8986556359876%\n",
      "94.93278179937953%\n",
      "95.96690796277146%\n",
      "96.89762150982419%\n",
      "97.93174767321614%\n",
      "98.96587383660807%\n",
      "99.8965873836608%\n"
     ]
    }
   ],
   "source": [
    "browser_days = []\n",
    "import moment\n",
    "import math\n",
    "from time_utils import epoch_to_date\n",
    "from datetime import datetime\n",
    "import time\n",
    "# Now the browser side of things!!\n",
    "num_browser_users = len(browser_user_ids)\n",
    "counter = 0\n",
    "for user in browser_user_ids:\n",
    "    # Get freq settings:\n",
    "    counter += 1\n",
    "    if int((counter + 1)/num_browser_users * 100) > int(counter/num_browser_users * 100):\n",
    "        print(str(counter/num_browser_users * 100) + \"%\")\n",
    "    user_stats = get_freq_stats(user)\n",
    "    if len(user_stats) == 0:\n",
    "        continue\n",
    "    browser_day_map = {}\n",
    "    for day_stat in ext_db[user+ \"_synced:seconds_on_domain_per_day\"].find({\"key2\":{\"$gt\": 930}}):\n",
    "        # The key1 serves as a day. However, if we are going to compare same day stuffs for android.\n",
    "        # We need to instead build day string from moment\n",
    "        day = epoch_to_date(int(day_stat['key2']))\n",
    "        if day not in browser_day_map:\n",
    "            browser_day_map[day] = {\"num_sessions\": set([]), \"intervention_sessions\": set([])}\n",
    "        goal = get_name(day_stat['key'], BROWSER_DOMAIN)\n",
    "        if goal:\n",
    "            if goal + \"_domain_time\" not in browser_day_map or day_stat[\"val\"] > browser_day_map[day][goal + \"_domain_time\"]:\n",
    "                browser_day_map[day][goal + \"_domain_time\"] = day_stat[\"val\"]\n",
    "    for intervention_stat in ext_db[user + \"_synced:seconds_on_domain_per_session\"].find():\n",
    "        moment_obj = moment.unix(intervention_stat[\"timestamp_local\"])\n",
    "        date = moment_obj.format(\"YYYY-MM-DD\")\n",
    "        if date in browser_day_map:\n",
    "            browser_day_map[date][\"num_sessions\"].add(intervention_stat[\"key\"] +\" \" + str(intervention_stat[\"key2\"]))\n",
    "    \n",
    "    for intervention_stat in ext_db[user + \"_synced:interventions_active_for_domain_and_session\"].find():\n",
    "        if \"is_preview_mode\" not in intervention_stat or not intervention_stat[\"is_preview_mode\"]:\n",
    "            moment_obj = moment.unix(intervention_stat[\"timestamp_local\"])\n",
    "            date = moment_obj.format(\"YYYY-MM-DD\")\n",
    "            if date in browser_day_map and len(intervention_stat[\"val\"]) > 0:\n",
    "                browser_day_map[date][\"intervention_sessions\"].add(intervention_stat[\"key\"] +\" \" + str(intervention_stat[\"key2\"]))\n",
    "            \n",
    "    for day in browser_day_map:\n",
    "        day_data = { FREQ_TIME: 0, INFREQ_TIME: 0, INTENSITY: 0, INFREQ_GOALS: set([]),  TOTAL_TIME: 0, GOAL_TIME: 0, HASH:user, GOALS: set([]), FREQ_GOALS: set([]), OTHER_TIME: 0, GOAL_TIMES: []}\n",
    "        # weirdly enough, datetime timestamps are seconds, not ms.\n",
    "        isoWeek = str(datetime.fromtimestamp(moment.date(day).epoch() + 8 * (60 ** 2)).isocalendar()[1])\n",
    "        # Add obj and reset data\n",
    "        # take logs of time cuz time is log-norm distributed\n",
    "        # First, count up all domain_times into TOTAL, GOAL, and OTHER\n",
    "        if isoWeek not in user_stats:\n",
    "            continue\n",
    "        day_data[FREQ_GOALS] = user_stats[isoWeek][FREQ_GOALS]\n",
    "        day_data[INFREQ_GOALS] = user_stats[isoWeek][INFREQ_GOALS]\n",
    "        day_data[GOALS] = day_data[FREQ_GOALS].union(day_data[INFREQ_GOALS])\n",
    "        if len(user_stats[isoWeek][FREQ_GOALS].intersection(user_stats[isoWeek][INFREQ_GOALS])) > 0:\n",
    "            continue\n",
    "        for key in browser_day_map[day]:\n",
    "            if \"_domain_time\" in key:\n",
    "                key_goal = key[:-len(\"_domain_time\")]\n",
    "                day_data[TOTAL_TIME] += int(browser_day_map[day][key])\n",
    "                if key_goal in day_data[FREQ_GOALS] or key_goal in day_data[INFREQ_GOALS]:\n",
    "                    frequent = \"frequent\" if key_goal in day_data[FREQ_GOALS] else \"infrequent\"\n",
    "                    if key_goal in day_data[FREQ_GOALS]:\n",
    "                        day_data[FREQ_TIME] += browser_day_map[day][key]\n",
    "                    else:\n",
    "                        day_data[INFREQ_TIME] += browser_day_map[day][key]\n",
    "                    day_data[GOAL_TIMES].append({\"frequency\": frequent, \"goal\": key_goal, \"time\": browser_day_map[day][key]})\n",
    "                    day_data[GOAL_TIME] += browser_day_map[day][key]\n",
    "                else:\n",
    "                    day_data[OTHER_TIME] += browser_day_map[day][key]\n",
    "        for key in day_data:\n",
    "            if \"time\" in key and day_data[key] > 0:\n",
    "                day_data[key]= math.log(day_data[key])\n",
    "        if len(day_data[FREQ_GOALS]) > 0 and len(day_data[INFREQ_GOALS]) > 0:\n",
    "            day_data[AVG_FREQ_TIME] = math.log(math.exp(day_data[FREQ_TIME])/len(day_data[FREQ_GOALS]))\n",
    "            day_data[AVG_INFREQ_TIME] = day_data[INFREQ_TIME]/len(day_data[INFREQ_GOALS])\n",
    "            for goal_time in day_data[GOAL_TIMES]:\n",
    "                    if goal_time[TIME] > 0:\n",
    "                        goal_time[TIME] = math.log(goal_time[TIME])\n",
    "            if len(day_data[FREQ_GOALS])+ len(day_data[INFREQ_GOALS]) > 0:\n",
    "                if len(browser_day_map[day][\"num_sessions\"]) > 0:\n",
    "                    if len(browser_day_map[day][\"num_sessions\"]) < len(browser_day_map[day][\"intervention_sessions\"]):\n",
    "                        print(user)\n",
    "                        print(browser_day_map[day][\"num_sessions\"])\n",
    "                        print((browser_day_map[day][\"intervention_sessions\"]))\n",
    "                        print(\"\")\n",
    "                    browser_day_map[day][\"intervention_sessions\"] = browser_day_map[day][\"intervention_sessions\"].intersection(browser_day_map[day][\"num_sessions\"])\n",
    "                    day_data[INTENSITY] = len(browser_day_map[day][\"intervention_sessions\"])/len(browser_day_map[day][\"num_sessions\"])\n",
    "                    browser_days.append(day_data)\n",
    "                else:\n",
    "                    #print(day + \" \" + str(browser_day_map[day]))\n",
    "                    #print([b for b in ext_db[user + \"_logs:goals\"].find()][-1][\"enabled_goals\"])\n",
    "                    #print(\"after\")\n",
    "                    pass\n",
    "\n"
   ]
  },
  {
   "cell_type": "code",
   "execution_count": 516,
   "metadata": {},
   "outputs": [
    {
     "name": "stdout",
     "output_type": "stream",
     "text": [
      "                     email_hash      time       goal   frequency  \\\n",
      "0      601ef212e501d1cdccebf63b  7.918992   facebook  infrequent   \n",
      "1      601ef212e501d1cdccebf63b  7.379632    twitter    frequent   \n",
      "2      601ef212e501d1cdccebf63b  5.971262     amazon  infrequent   \n",
      "3      601ef212e501d1cdccebf63b  8.535033   facebook  infrequent   \n",
      "4      601ef212e501d1cdccebf63b  7.591357    twitter    frequent   \n",
      "5      9e63d7e9d250c795b9c657e8  3.761200    twitter  infrequent   \n",
      "6      9e63d7e9d250c795b9c657e8  5.697093   facebook  infrequent   \n",
      "7      9e63d7e9d250c795b9c657e8  6.744059     reddit    frequent   \n",
      "8      9e63d7e9d250c795b9c657e8  7.817625    youtube    frequent   \n",
      "9      9e63d7e9d250c795b9c657e8  6.028279   facebook  infrequent   \n",
      "10     9e63d7e9d250c795b9c657e8  7.506042     reddit    frequent   \n",
      "11     9e63d7e9d250c795b9c657e8  5.587249   facebook  infrequent   \n",
      "12     9e63d7e9d250c795b9c657e8  7.025538     reddit    frequent   \n",
      "13     9e63d7e9d250c795b9c657e8  6.222576    youtube    frequent   \n",
      "14     9aa2418cff3facda9bb90c15  6.436150   facebook    frequent   \n",
      "15     9aa2418cff3facda9bb90c15  6.614726  instagram  infrequent   \n",
      "16     9aa2418cff3facda9bb90c15  6.566672    youtube    frequent   \n",
      "17     9aa2418cff3facda9bb90c15  6.785588   facebook    frequent   \n",
      "18     9aa2418cff3facda9bb90c15  6.345636  instagram  infrequent   \n",
      "19     9aa2418cff3facda9bb90c15  8.855093    youtube    frequent   \n",
      "20     9aa2418cff3facda9bb90c15  5.398163  instagram  infrequent   \n",
      "21     9aa2418cff3facda9bb90c15  5.117994   facebook    frequent   \n",
      "22     9aa2418cff3facda9bb90c15  2.890372    youtube    frequent   \n",
      "23     9aa2418cff3facda9bb90c15  6.710523   facebook  infrequent   \n",
      "24     9aa2418cff3facda9bb90c15  6.186209  instagram  infrequent   \n",
      "25     9aa2418cff3facda9bb90c15  7.045777    youtube    frequent   \n",
      "26     9aa2418cff3facda9bb90c15  6.526495   facebook    frequent   \n",
      "27     9aa2418cff3facda9bb90c15  4.574711  instagram  infrequent   \n",
      "28     9aa2418cff3facda9bb90c15  3.367296    youtube    frequent   \n",
      "29     a09f4d8b6326097b44238b62  6.706862   whatsapp    frequent   \n",
      "...                         ...       ...        ...         ...   \n",
      "10763  270232473297dec6637b3c6b  5.298317     reddit  infrequent   \n",
      "10764  c8b0e3c4f63d4dc18538d44f  8.569216    twitter    frequent   \n",
      "10765  c8b0e3c4f63d4dc18538d44f  7.118016     reddit  infrequent   \n",
      "10766  c8b0e3c4f63d4dc18538d44f  5.934894    youtube  infrequent   \n",
      "10767  c8b0e3c4f63d4dc18538d44f  7.457032    twitter    frequent   \n",
      "10768  c8b0e3c4f63d4dc18538d44f  5.451038    youtube  infrequent   \n",
      "10769  c8b0e3c4f63d4dc18538d44f  5.872118     reddit  infrequent   \n",
      "10770  c8b0e3c4f63d4dc18538d44f  7.843849    twitter    frequent   \n",
      "10771  c8b0e3c4f63d4dc18538d44f  8.142936    youtube  infrequent   \n",
      "10772  c8b0e3c4f63d4dc18538d44f  7.653969     reddit  infrequent   \n",
      "10773  c8b0e3c4f63d4dc18538d44f  6.579251    youtube  infrequent   \n",
      "10774  c8b0e3c4f63d4dc18538d44f  7.560080    twitter    frequent   \n",
      "10775  c8b0e3c4f63d4dc18538d44f  6.762730     reddit  infrequent   \n",
      "10776  c8b0e3c4f63d4dc18538d44f  5.620401   facebook    frequent   \n",
      "10777  c8b0e3c4f63d4dc18538d44f  5.225747    youtube  infrequent   \n",
      "10778  c8b0e3c4f63d4dc18538d44f  5.170484    twitter    frequent   \n",
      "10779  c8b0e3c4f63d4dc18538d44f  6.049733     reddit  infrequent   \n",
      "10780  c8b0e3c4f63d4dc18538d44f  6.378426     reddit  infrequent   \n",
      "10781  c8b0e3c4f63d4dc18538d44f  6.967909    youtube    frequent   \n",
      "10782  c8b0e3c4f63d4dc18538d44f  8.170186    twitter    frequent   \n",
      "10783  c8b0e3c4f63d4dc18538d44f  3.828641   facebook  infrequent   \n",
      "10784  c8b0e3c4f63d4dc18538d44f  7.634821    twitter    frequent   \n",
      "10785  c8b0e3c4f63d4dc18538d44f  7.095064     reddit  infrequent   \n",
      "10786  c8b0e3c4f63d4dc18538d44f  7.059618    youtube    frequent   \n",
      "10787  c8b0e3c4f63d4dc18538d44f  6.282267    twitter    frequent   \n",
      "10788  c8b0e3c4f63d4dc18538d44f  6.347389    youtube    frequent   \n",
      "10789  c8b0e3c4f63d4dc18538d44f  7.822044     reddit  infrequent   \n",
      "10790  c8b0e3c4f63d4dc18538d44f  6.731018    youtube    frequent   \n",
      "10791  c8b0e3c4f63d4dc18538d44f  6.590301    twitter    frequent   \n",
      "10792  c8b0e3c4f63d4dc18538d44f  5.983936     reddit  infrequent   \n",
      "\n",
      "       intensity_othergoals_day  other_goal_time  avg_other_goal_time  \n",
      "0                      0.500000         9.033126             8.339979  \n",
      "1                      0.000000         9.161360             8.468213  \n",
      "2                      0.500000         9.281078             8.587931  \n",
      "3                      1.000000         9.456653             8.763506  \n",
      "4                      0.000000         9.674200             8.981053  \n",
      "5                      0.500000         8.300777             6.914483  \n",
      "6                      0.500000         8.235361             6.849066  \n",
      "7                      0.000000         8.077447             6.691153  \n",
      "8                      0.500000         8.958154             7.571860  \n",
      "9                      1.000000         9.194211             7.807917  \n",
      "10                     0.500000         9.040264             7.653969  \n",
      "11                     1.000000         8.374246             6.987952  \n",
      "12                     0.500000         8.153637             6.767343  \n",
      "13                     0.500000         8.318010             6.931716  \n",
      "14                     0.500000         8.841014             8.147867  \n",
      "15                     1.000000         8.823206             8.130059  \n",
      "16                     0.500000         8.828348             8.135200  \n",
      "17                     0.500000         9.399555             8.706408  \n",
      "18                     1.000000         9.425290             8.732143  \n",
      "19                     0.500000         8.692490             7.999343  \n",
      "20                     1.000000         7.670895             6.977748  \n",
      "21                     0.500000         7.695758             7.002611  \n",
      "22                     0.500000         7.761319             7.068172  \n",
      "23                     0.500000         8.826881             8.133734  \n",
      "24                     0.500000         8.874868             8.181720  \n",
      "25                     0.000000         8.777710             8.084562  \n",
      "26                     0.500000         6.933423             6.240276  \n",
      "27                     1.000000         7.385231             6.692084  \n",
      "28                     0.500000         7.426549             6.733402  \n",
      "29                     0.000000         7.201171             6.508024  \n",
      "...                         ...              ...                  ...  \n",
      "10763                  0.500000         9.786898             9.093750  \n",
      "10764                  0.000000         9.261319             8.162706  \n",
      "10765                  0.500000         9.585759             8.487146  \n",
      "10766                  0.500000         9.642902             8.544289  \n",
      "10767                  0.000000         7.845808             6.747195  \n",
      "10768                  0.500000         8.307459             7.208847  \n",
      "10769                  0.500000         8.276903             7.178291  \n",
      "10770                  0.000000         9.475393             8.376781  \n",
      "10771                  0.500000         9.404755             8.306143  \n",
      "10772                  0.500000         9.508666             8.410053  \n",
      "10773                  0.666667         8.701346             7.602734  \n",
      "10774                  0.333333         8.478660             7.380048  \n",
      "10775                  0.666667         8.676928             7.578316  \n",
      "10776                  0.333333         8.772610             7.673998  \n",
      "10777                  0.500000         7.274480             6.175867  \n",
      "10778                  0.000000         7.281386             6.182773  \n",
      "10779                  0.500000         7.094235             5.995623  \n",
      "10780                  0.666667         9.453208             8.354596  \n",
      "10781                  0.333333         9.415401             8.316789  \n",
      "10782                  0.333333         9.190546             8.091933  \n",
      "10783                  0.666667         9.494918             8.396305  \n",
      "10784                  0.500000         8.718664             7.620051  \n",
      "10785                  1.000000         8.850661             7.752049  \n",
      "10786                  0.500000         8.856661             7.758049  \n",
      "10787                  0.500000         8.460834             7.362222  \n",
      "10788                  0.500000         8.453188             7.354576  \n",
      "10789                  1.000000         7.925158             6.826545  \n",
      "10790                  0.500000         8.624252             7.525640  \n",
      "10791                  0.500000         8.643826             7.545214  \n",
      "10792                  1.000000         8.700514             7.601902  \n",
      "\n",
      "[10793 rows x 7 columns]\n"
     ]
    }
   ],
   "source": [
    "import pandas as pd\n",
    "# Dataframe to find effect of frequency on goal times\n",
    "browser_goal_freq_dict = {HASH: [], TIME: [], GOAL: [], FREQUENCY: [], 'intensity_othergoals_day': [], 'other_goal_time': [], 'avg_other_goal_time': []}\n",
    "for day in browser_days:\n",
    "    total_num_goals = len(day[GOAL_TIMES])\n",
    "    total_num_othergoals = total_num_goals - 1\n",
    "    total_num_freq_goals = 0\n",
    "    for goal_time in day[GOAL_TIMES]:\n",
    "        if goal_time[FREQUENCY] == 'frequent':\n",
    "            total_num_freq_goals += 1\n",
    "    for goal_time in day[GOAL_TIMES]:\n",
    "        if (math.exp(day[GOAL_TIME]) - math.exp(goal_time[TIME])) != 0:\n",
    "            browser_goal_freq_dict[HASH].append(day[HASH])\n",
    "            browser_goal_freq_dict[FREQUENCY].append(goal_time[FREQUENCY])\n",
    "            browser_goal_freq_dict[TIME].append(goal_time[TIME])\n",
    "            browser_goal_freq_dict[GOAL].append(goal_time[GOAL])\n",
    "            browser_goal_freq_dict['other_goal_time'].append(math.log(math.exp(day[TOTAL_TIME]) - math.exp(goal_time[TIME])))\n",
    "            browser_goal_freq_dict['avg_other_goal_time'].append(math.log((math.exp(browser_goal_freq_dict['other_goal_time'][-1])/(len(day[GOALS])- 1))))\n",
    "            total_num_freq_othergoals = total_num_freq_goals\n",
    "            if goal_time[FREQUENCY] == 'frequent':\n",
    "                total_num_freq_othergoals -= 1\n",
    "            if total_num_othergoals > 0:\n",
    "                intensity_othergoals = total_num_freq_othergoals / total_num_othergoals\n",
    "            else:\n",
    "                intensity_othergoals = -1\n",
    "            browser_goal_freq_dict['intensity_othergoals_day'].append(intensity_othergoals)\n",
    "\n",
    "browser_goal_freq_df = pd.DataFrame(browser_goal_freq_dict)\n",
    "print(browser_goal_freq_df)\n",
    "browser_goal_freq_df.to_csv(\"2018-09-10-browser_goal_freq_df.csv\")"
   ]
  },
  {
   "cell_type": "code",
   "execution_count": 540,
   "metadata": {},
   "outputs": [],
   "source": [
    "browser_goal_freq_df.to_csv(\"2018-09-13-browser_goal_freq_df.csv\")"
   ]
  },
  {
   "cell_type": "code",
   "execution_count": 304,
   "metadata": {},
   "outputs": [
    {
     "name": "stderr",
     "output_type": "stream",
     "text": [
      "/home/drew/.local/lib/python3.6/site-packages/rpy2/robjects/pandas2ri.py:191: FutureWarning: from_items is deprecated. Please use DataFrame.from_dict(dict(items), ...) instead. DataFrame.from_dict(OrderedDict(items)) may be used to preserve the key order.\n",
      "  res = PandasDataFrame.from_items(items)\n"
     ]
    }
   ],
   "source": [
    "%%R -i browser_goal_freq_df -w 5 -h 5 --units in -r 200\n",
    "\n",
    "library(lme4)\n",
    "library(sjPlot)\n",
    "library(lmerTest)"
   ]
  },
  {
   "cell_type": "code",
   "execution_count": 517,
   "metadata": {},
   "outputs": [
    {
     "name": "stderr",
     "output_type": "stream",
     "text": [
      "/home/drew/.local/lib/python3.6/site-packages/rpy2/robjects/pandas2ri.py:191: FutureWarning: from_items is deprecated. Please use DataFrame.from_dict(dict(items), ...) instead. DataFrame.from_dict(OrderedDict(items)) may be used to preserve the key order.\n",
      "  res = PandasDataFrame.from_items(items)\n"
     ]
    },
    {
     "data": {
      "text/plain": [
       "\n",
       "Call:\n",
       "lm(formula = other_goal_time ~ (frequency), data = browser_goal_freq_df)\n",
       "\n",
       "Residuals:\n",
       "    Min      1Q  Median      3Q     Max \n",
       "-7.1726 -0.4711  0.1634  0.6187  2.4564 \n",
       "\n",
       "Coefficients:\n",
       "                  Estimate Std. Error t value Pr(>|t|)    \n",
       "(Intercept)        8.74372    0.01261 693.303   <2e-16 ***\n",
       "frequencyfrequent  0.03833    0.01785   2.148   0.0318 *  \n",
       "---\n",
       "Signif. codes:  0 ‘***’ 0.001 ‘**’ 0.01 ‘*’ 0.05 ‘.’ 0.1 ‘ ’ 1\n",
       "\n",
       "Residual standard error: 0.9271 on 10791 degrees of freedom\n",
       "Multiple R-squared:  0.0004272,\tAdjusted R-squared:  0.0003346 \n",
       "F-statistic: 4.612 on 1 and 10791 DF,  p-value: 0.03177\n",
       "\n"
      ]
     },
     "metadata": {},
     "output_type": "display_data"
    }
   ],
   "source": [
    "%%R -i browser_goal_freq_df -w 5 -h 5 --units in -r 200\n",
    "\n",
    "#browser_goal_freq_df <- subset(browser_goal_freq_df, intensity_othergoals_day != -1)\n",
    "\n",
    "browser_goal_freq_df$email_hash <- factor(browser_goal_freq_df$email_hash, ordered=FALSE)\n",
    "#browser_goal_freq_df <- subset(browser_goal_freq_df, goal == 'youtube' | goal == 'facebook')\n",
    "browser_goal_freq_df$goal <- factor(browser_goal_freq_df$goal, ordered=FALSE)\n",
    "browser_goal_freq_df$frequency <- factor(browser_goal_freq_df$frequency, levels=c(\"infrequent\", \"frequent\"))\n",
    "results <- lm(other_goal_time ~  (frequency) , data = browser_goal_freq_df)\n",
    "#results <- lmer(time ~ intensity_othergoals_day + (1|frequency), data = browser_goal_freq_df)\n",
    "#results <- lmer(time ~ intensity_othergoals_day + (1|frequency) + (1|goal), data = browser_goal_freq_df)\n",
    "#results <- lmer(time ~ intensity_othergoals_day + (1|frequency) + (1|email_hash) + (1|goal), data = browser_goal_freq_df)\n",
    "summary(results)"
   ]
  },
  {
   "cell_type": "code",
   "execution_count": 518,
   "metadata": {},
   "outputs": [
    {
     "data": {
      "text/plain": [
       "Linear mixed model fit by REML. t-tests use Satterthwaite's method [\n",
       "lmerModLmerTest]\n",
       "Formula: time ~ (frequency) + (1 | goal) + (1 | email_hash)\n",
       "   Data: browser_goal_freq_df\n",
       "\n",
       "REML criterion at convergence: 41098.5\n",
       "\n",
       "Scaled residuals: \n",
       "    Min      1Q  Median      3Q     Max \n",
       "-4.6488 -0.4985  0.1456  0.6589  3.0666 \n",
       "\n",
       "Random effects:\n",
       " Groups     Name        Variance Std.Dev.\n",
       " email_hash (Intercept) 0.5161   0.7184  \n",
       " goal       (Intercept) 0.6559   0.8099  \n",
       " Residual               2.3730   1.5405  \n",
       "Number of obs: 10793, groups:  email_hash, 605; goal, 332\n",
       "\n",
       "Fixed effects:\n",
       "                    Estimate Std. Error         df t value Pr(>|t|)    \n",
       "(Intercept)        5.442e+00  7.237e-02  4.364e+02  75.203   <2e-16 ***\n",
       "frequencyfrequent -8.040e-02  3.164e-02  1.053e+04  -2.541   0.0111 *  \n",
       "---\n",
       "Signif. codes:  0 ‘***’ 0.001 ‘**’ 0.01 ‘*’ 0.05 ‘.’ 0.1 ‘ ’ 1\n",
       "\n",
       "Correlation of Fixed Effects:\n",
       "            (Intr)\n",
       "frqncyfrqnt -0.225\n"
      ]
     },
     "metadata": {},
     "output_type": "display_data"
    }
   ],
   "source": [
    "%%R -i browser_goal_freq_df -w 5 -h 5 --units in -r 200\n",
    "\n",
    "#browser_goal_freq_df <- subset(browser_goal_freq_df, intensity_othergoals_day != -1)\n",
    "\n",
    "browser_goal_freq_df$email_hash <- factor(browser_goal_freq_df$email_hash,  ordered=FALSE)\n",
    "#browser_goal_freq_df <- subset(browser_goal_freq_df, goal == 'youtube' | goal == 'facebook')\n",
    "browser_goal_freq_df$goal <- factor(browser_goal_freq_df$goal, ordered=FALSE)\n",
    "browser_goal_freq_df$frequency <- factor(browser_goal_freq_df$frequency, levels=c(\"infrequent\", \"frequent\"))\n",
    "results <- lmer(time ~ (frequency) + (1|goal) + (1|email_hash), data = browser_goal_freq_df)\n",
    "#results <- lmer(time ~ intensity_othergoals_day + (1|frequency), data = browser_goal_freq_df)\n",
    "#results <- lmer(time ~ intensity_othergoals_day + (1|frequency) + (1|goal), data = browser_goal_freq_df)\n",
    "#results <- lmer(time ~ intensity_othergoals_day + (1|frequency) + (1|email_hash) + (1|goal), data = browser_goal_freq_df)\n",
    "summary(results)"
   ]
  },
  {
   "cell_type": "code",
   "execution_count": 539,
   "metadata": {},
   "outputs": [
    {
     "data": {
      "text/plain": [
       "Linear mixed model fit by REML. t-tests use Satterthwaite's method [\n",
       "lmerModLmerTest]\n",
       "Formula: other_goal_time ~ frequency + (1 | goal)\n",
       "   Data: browser_goal_freq_df\n",
       "\n",
       "REML criterion at convergence: 28883\n",
       "\n",
       "Scaled residuals: \n",
       "    Min      1Q  Median      3Q     Max \n",
       "-7.0524 -0.4852  0.1651  0.6628  2.6936 \n",
       "\n",
       "Random effects:\n",
       " Groups   Name        Variance Std.Dev.\n",
       " goal     (Intercept) 0.09795  0.3130  \n",
       " Residual             0.83192  0.9121  \n",
       "Number of obs: 10793, groups:  goal, 332\n",
       "\n",
       "Fixed effects:\n",
       "                   Estimate Std. Error        df t value Pr(>|t|)    \n",
       "(Intercept)       8.766e+00  2.833e-02 1.757e+02  309.42   <2e-16 ***\n",
       "frequencyfrequent 3.305e-02  1.797e-02 1.068e+04    1.84   0.0659 .  \n",
       "---\n",
       "Signif. codes:  0 ‘***’ 0.001 ‘**’ 0.01 ‘*’ 0.05 ‘.’ 0.1 ‘ ’ 1\n",
       "\n",
       "Correlation of Fixed Effects:\n",
       "            (Intr)\n",
       "frqncyfrqnt -0.325\n"
      ]
     },
     "metadata": {},
     "output_type": "display_data"
    }
   ],
   "source": [
    "%%R -i browser_goal_freq_df -w 5 -h 5 --units in -r 200\n",
    "## DREW GOOD RESULT BROWSER CONSERVATION\n",
    "browser_goal_freq_df$email_hash <- factor(browser_goal_freq_df$email_hash,  ordered=FALSE)\n",
    "#browser_goal_freq_df <- subset(browser_goal_freq_df, goal == 'youtube' | goal == 'facebook')\n",
    "browser_goal_freq_df$goal <- factor(browser_goal_freq_df$goal, ordered=FALSE)\n",
    "browser_goal_freq_df$frequency <- factor(browser_goal_freq_df$frequency, levels=c(\"infrequent\", \"frequent\"))\n",
    "results <- lmer(other_goal_time ~ frequency  + (1|goal), data = browser_goal_freq_df)\n",
    "summary(results)"
   ]
  },
  {
   "cell_type": "code",
   "execution_count": 520,
   "metadata": {},
   "outputs": [
    {
     "data": {
      "text/plain": [
       "Linear mixed model fit by REML. t-tests use Satterthwaite's method [\n",
       "lmerModLmerTest]\n",
       "Formula: time ~ frequency + (1 | email_hash)\n",
       "   Data: browser_goal_freq_df\n",
       "\n",
       "REML criterion at convergence: 41800.7\n",
       "\n",
       "Scaled residuals: \n",
       "    Min      1Q  Median      3Q     Max \n",
       "-4.4245 -0.5372  0.1427  0.6700  3.0570 \n",
       "\n",
       "Random effects:\n",
       " Groups     Name        Variance Std.Dev.\n",
       " email_hash (Intercept) 0.5633   0.7505  \n",
       " Residual               2.6122   1.6162  \n",
       "Number of obs: 10793, groups:  email_hash, 605\n",
       "\n",
       "Fixed effects:\n",
       "                    Estimate Std. Error         df t value Pr(>|t|)    \n",
       "(Intercept)        5.863e+00  4.051e-02  6.975e+02  144.74   <2e-16 ***\n",
       "frequencyfrequent -5.627e-02  3.216e-02  1.051e+04   -1.75   0.0801 .  \n",
       "---\n",
       "Signif. codes:  0 ‘***’ 0.001 ‘**’ 0.01 ‘*’ 0.05 ‘.’ 0.1 ‘ ’ 1\n",
       "\n",
       "Correlation of Fixed Effects:\n",
       "            (Intr)\n",
       "frqncyfrqnt -0.394\n"
      ]
     },
     "metadata": {},
     "output_type": "display_data"
    }
   ],
   "source": [
    "%%R -i browser_goal_freq_df -w 5 -h 5 --units in -r 200\n",
    "\n",
    "browser_goal_freq_df$email_hash <- factor(browser_goal_freq_df$email_hash,  ordered=FALSE)\n",
    "#browser_goal_freq_df <- subset(browser_goal_freq_df, goal == 'youtube')\n",
    "browser_goal_freq_df$goal <- factor(browser_goal_freq_df$goal, ordered=FALSE)\n",
    "browser_goal_freq_df$frequency <- factor(browser_goal_freq_df$frequency, levels=c(\"infrequent\", \"frequent\"))\n",
    "results <- lmer(time ~ frequency + (1|email_hash), data = browser_goal_freq_df)\n",
    "summary(results)"
   ]
  },
  {
   "cell_type": "code",
   "execution_count": 308,
   "metadata": {},
   "outputs": [
    {
     "data": {
      "text/plain": [
       "Linear mixed model fit by REML. t-tests use Satterthwaite's method [\n",
       "lmerModLmerTest]\n",
       "Formula: time ~ frequency + (1 | email_hash)\n",
       "   Data: browser_goal_freq_df\n",
       "\n",
       "REML criterion at convergence: 10417.8\n",
       "\n",
       "Scaled residuals: \n",
       "    Min      1Q  Median      3Q     Max \n",
       "-4.5926 -0.4748  0.1512  0.5946  3.0919 \n",
       "\n",
       "Random effects:\n",
       " Groups     Name        Variance Std.Dev.\n",
       " email_hash (Intercept) 1.379    1.174   \n",
       " Residual               1.666    1.291   \n",
       "Number of obs: 2866, groups:  email_hash, 547\n",
       "\n",
       "Fixed effects:\n",
       "                    Estimate Std. Error         df t value Pr(>|t|)    \n",
       "(Intercept)          5.67690    0.06646  681.73428  85.418   <2e-16 ***\n",
       "frequencyfrequent   -0.05552    0.06586 2857.27487  -0.843    0.399    \n",
       "---\n",
       "Signif. codes:  0 ‘***’ 0.001 ‘**’ 0.01 ‘*’ 0.05 ‘.’ 0.1 ‘ ’ 1\n",
       "\n",
       "Correlation of Fixed Effects:\n",
       "            (Intr)\n",
       "frqncyfrqnt -0.469\n"
      ]
     },
     "metadata": {},
     "output_type": "display_data"
    }
   ],
   "source": [
    "%%R -i browser_goal_freq_df -w 5 -h 5 --units in -r 200\n",
    "\n",
    "browser_goal_freq_df$email_hash <- factor(browser_goal_freq_df$email_hash,  ordered=FALSE)\n",
    "#browser_goal_freq_df <- subset(browser_goal_freq_df, goal == 'facebook')\n",
    "#browser_goal_freq_df$goal <- factor(browser_goal_freq_df$goal, ordered=FALSE)\n",
    "browser_goal_freq_df$frequency <- factor(browser_goal_freq_df$frequency, levels=c(\"infrequent\", \"frequent\"))\n",
    "results <- lmer(time ~ frequency + (1|email_hash), data = browser_goal_freq_df)\n",
    "summary(results)"
   ]
  },
  {
   "cell_type": "code",
   "execution_count": 521,
   "metadata": {},
   "outputs": [
    {
     "data": {
      "text/plain": [
       "Linear mixed model fit by REML. t-tests use Satterthwaite's method [\n",
       "lmerModLmerTest]\n",
       "Formula: time ~ frequency + (1 | email_hash) + (1 | goal)\n",
       "   Data: browser_goal_freq_df\n",
       "\n",
       "REML criterion at convergence: 41098.5\n",
       "\n",
       "Scaled residuals: \n",
       "    Min      1Q  Median      3Q     Max \n",
       "-4.6488 -0.4985  0.1456  0.6589  3.0666 \n",
       "\n",
       "Random effects:\n",
       " Groups     Name        Variance Std.Dev.\n",
       " email_hash (Intercept) 0.5161   0.7184  \n",
       " goal       (Intercept) 0.6559   0.8099  \n",
       " Residual               2.3730   1.5405  \n",
       "Number of obs: 10793, groups:  email_hash, 605; goal, 332\n",
       "\n",
       "Fixed effects:\n",
       "                    Estimate Std. Error         df t value Pr(>|t|)    \n",
       "(Intercept)        5.442e+00  7.237e-02  4.364e+02  75.203   <2e-16 ***\n",
       "frequencyfrequent -8.040e-02  3.164e-02  1.053e+04  -2.541   0.0111 *  \n",
       "---\n",
       "Signif. codes:  0 ‘***’ 0.001 ‘**’ 0.01 ‘*’ 0.05 ‘.’ 0.1 ‘ ’ 1\n",
       "\n",
       "Correlation of Fixed Effects:\n",
       "            (Intr)\n",
       "frqncyfrqnt -0.225\n"
      ]
     },
     "metadata": {},
     "output_type": "display_data"
    }
   ],
   "source": [
    "%%R -i browser_goal_freq_df -w 5 -h 5 --units in -r 200\n",
    "\n",
    "browser_goal_freq_df$email_hash <- factor(browser_goal_freq_df$email_hash,  ordered=FALSE)\n",
    "browser_goal_freq_df$goal <- factor(browser_goal_freq_df$goal, ordered=FALSE)\n",
    "browser_goal_freq_df$frequency <- factor(browser_goal_freq_df$frequency, levels=c(\"infrequent\", \"frequent\"))\n",
    "results <- lmer(time ~ frequency + (1|email_hash) + (1|goal), data = browser_goal_freq_df)\n",
    "summary(results)"
   ]
  },
  {
   "cell_type": "code",
   "execution_count": 310,
   "metadata": {},
   "outputs": [
    {
     "data": {
      "text/plain": [
       "\n",
       "\tWelch Two Sample t-test\n",
       "\n",
       "data:  browser_goal_freq_df$time by browser_goal_freq_df$frequency\n",
       "t = 2.6241, df = 11850, p-value = 0.008698\n",
       "alternative hypothesis: true difference in means is not equal to 0\n",
       "95 percent confidence interval:\n",
       " 0.02174441 0.15013366\n",
       "sample estimates:\n",
       "mean in group FALSE  mean in group TRUE \n",
       "           5.877076            5.791137 \n",
       "\n"
      ]
     },
     "metadata": {},
     "output_type": "display_data"
    }
   ],
   "source": [
    "%%R -i browser_goal_freq_df -w 5 -h 5 --units in -r 200\n",
    "\n",
    "# goodresult RESULT-BROWSER-REDUCED: time on site is reduced on days where the goal is frequent\n",
    "\n",
    "# Does non-goal time spent per day on phone inversely depend on goal-time?\n",
    "browser_goal_freq_df$email_hash <- factor(browser_goal_freq_df$email_hash,  ordered=FALSE)\n",
    "browser_goal_freq_df$goal <- factor(browser_goal_freq_df$goal, ordered=FALSE)\n",
    "browser_goal_freq_df$frequency <- browser_goal_freq_df$frequency == 'frequent'\n",
    "results <- t.test(browser_goal_freq_df$time ~ browser_goal_freq_df$frequency)\n",
    "show(results)\n",
    "#summary(browser_goal_freq_df)"
   ]
  },
  {
   "cell_type": "code",
   "execution_count": 311,
   "metadata": {},
   "outputs": [
    {
     "data": {
      "text/plain": [
       "\n",
       "Call:\n",
       "lm(formula = time ~ frequency, data = browser_goal_freq_df)\n",
       "\n",
       "Residuals:\n",
       "    Min      1Q  Median      3Q     Max \n",
       "-5.8771 -1.0408  0.1978  1.2614  5.2933 \n",
       "\n",
       "Coefficients:\n",
       "                  Estimate Std. Error t value Pr(>|t|)    \n",
       "(Intercept)        5.87708    0.02312 254.220   <2e-16 ***\n",
       "frequencyfrequent -0.08594    0.03275  -2.624   0.0087 ** \n",
       "---\n",
       "Signif. codes:  0 ‘***’ 0.001 ‘**’ 0.01 ‘*’ 0.05 ‘.’ 0.1 ‘ ’ 1\n",
       "\n",
       "Residual standard error: 1.783 on 11852 degrees of freedom\n",
       "Multiple R-squared:  0.0005806,\tAdjusted R-squared:  0.0004963 \n",
       "F-statistic: 6.885 on 1 and 11852 DF,  p-value: 0.008703\n",
       "\n"
      ]
     },
     "metadata": {},
     "output_type": "display_data"
    }
   ],
   "source": [
    "%%R -i browser_goal_freq_df -w 5 -h 5 --units in -r 200\n",
    "\n",
    "# goodresult RESULT-BROWSER-REDUCED: time on site is reduced on days where the goal is frequent\n",
    "\n",
    "# Does non-goal time spent per day on phone inversely depend on goal-time?\n",
    "browser_goal_freq_df$email_hash <- factor(browser_goal_freq_df$email_hash,  ordered=FALSE)\n",
    "browser_goal_freq_df$goal <- factor(browser_goal_freq_df$goal, ordered=FALSE)\n",
    "browser_goal_freq_df$frequency <- factor(browser_goal_freq_df$frequency, levels=c(\"infrequent\", \"frequent\"))\n",
    "results <- lm(time ~ frequency, data = browser_goal_freq_df)\n",
    "summary(results)"
   ]
  },
  {
   "cell_type": "code",
   "execution_count": 312,
   "metadata": {},
   "outputs": [
    {
     "data": {
      "text/plain": [
       "Linear mixed model fit by REML. t-tests use Satterthwaite's method [\n",
       "lmerModLmerTest]\n",
       "Formula: time ~ frequency + (1 | goal)\n",
       "   Data: browser_goal_freq_df\n",
       "\n",
       "REML criterion at convergence: 46386\n",
       "\n",
       "Scaled residuals: \n",
       "    Min      1Q  Median      3Q     Max \n",
       "-3.8308 -0.5430  0.1438  0.6922  2.8103 \n",
       "\n",
       "Random effects:\n",
       " Groups   Name        Variance Std.Dev.\n",
       " goal     (Intercept) 0.8243   0.9079  \n",
       " Residual             2.8336   1.6833  \n",
       "Number of obs: 11854, groups:  goal, 337\n",
       "\n",
       "Fixed effects:\n",
       "                    Estimate Std. Error         df t value Pr(>|t|)    \n",
       "(Intercept)        5.382e+00  6.633e-02  3.074e+02  81.136  < 2e-16 ***\n",
       "frequencyfrequent -9.474e-02  3.186e-02  1.185e+04  -2.974  0.00295 ** \n",
       "---\n",
       "Signif. codes:  0 ‘***’ 0.001 ‘**’ 0.01 ‘*’ 0.05 ‘.’ 0.1 ‘ ’ 1\n",
       "\n",
       "Correlation of Fixed Effects:\n",
       "            (Intr)\n",
       "frqncyfrqnt -0.243\n"
      ]
     },
     "metadata": {},
     "output_type": "display_data"
    }
   ],
   "source": [
    "%%R -i browser_goal_freq_df -w 5 -h 5 --units in -r 200\n",
    "\n",
    "# goodresult RESULT-BROWSER-REDUCED: time on site is reduced on days where the goal is frequent\n",
    "\n",
    "# Does non-goal time spent per day on phone inversely depend on goal-time?\n",
    "browser_goal_freq_df$email_hash <- factor(browser_goal_freq_df$email_hash,  ordered=FALSE)\n",
    "browser_goal_freq_df$goal <- factor(browser_goal_freq_df$goal, ordered=FALSE)\n",
    "browser_goal_freq_df$frequency <- factor(browser_goal_freq_df$frequency, levels=c(\"infrequent\", \"frequent\"))\n",
    "results <- lmer(time ~ frequency + (1|goal), data = browser_goal_freq_df)\n",
    "summary(results)"
   ]
  },
  {
   "cell_type": "code",
   "execution_count": 313,
   "metadata": {},
   "outputs": [
    {
     "data": {
      "text/plain": [
       "Linear mixed model fit by REML. t-tests use Satterthwaite's method [\n",
       "lmerModLmerTest]\n",
       "Formula: time ~ frequency + (1 | email_hash) + (1 | goal)\n",
       "   Data: browser_goal_freq_df\n",
       "\n",
       "REML criterion at convergence: 45432.1\n",
       "\n",
       "Scaled residuals: \n",
       "    Min      1Q  Median      3Q     Max \n",
       "-4.6583 -0.5073  0.1464  0.6624  2.9446 \n",
       "\n",
       "Random effects:\n",
       " Groups     Name        Variance Std.Dev.\n",
       " email_hash (Intercept) 0.5860   0.7655  \n",
       " goal       (Intercept) 0.6703   0.8187  \n",
       " Residual               2.4251   1.5573  \n",
       "Number of obs: 11854, groups:  email_hash, 696; goal, 337\n",
       "\n",
       "Fixed effects:\n",
       "                    Estimate Std. Error         df t value Pr(>|t|)    \n",
       "(Intercept)        5.406e+00  7.219e-02  4.488e+02  74.887  < 2e-16 ***\n",
       "frequencyfrequent -7.962e-02  3.067e-02  1.161e+04  -2.596  0.00945 ** \n",
       "---\n",
       "Signif. codes:  0 ‘***’ 0.001 ‘**’ 0.01 ‘*’ 0.05 ‘.’ 0.1 ‘ ’ 1\n",
       "\n",
       "Correlation of Fixed Effects:\n",
       "            (Intr)\n",
       "frqncyfrqnt -0.217\n"
      ]
     },
     "metadata": {},
     "output_type": "display_data"
    }
   ],
   "source": [
    "%%R -i browser_goal_freq_df -w 5 -h 5 --units in -r 200\n",
    "\n",
    "# goodresult RESULT-BROWSER-REDUCED: time on site is reduced on days where the goal is frequent\n",
    "\n",
    "# Does non-goal time spent per day on phone inversely depend on goal-time?\n",
    "browser_goal_freq_df$email_hash <- factor(browser_goal_freq_df$email_hash,  ordered=FALSE)\n",
    "browser_goal_freq_df$goal <- factor(browser_goal_freq_df$goal, ordered=FALSE)\n",
    "browser_goal_freq_df$frequency <- factor(browser_goal_freq_df$frequency, levels=c(\"infrequent\", \"frequent\"))\n",
    "results <- lmer(time ~ frequency + (1|email_hash) + (1|goal), data = browser_goal_freq_df)\n",
    "summary(results)"
   ]
  },
  {
   "cell_type": "code",
   "execution_count": 314,
   "metadata": {},
   "outputs": [],
   "source": [
    "#print(time)"
   ]
  },
  {
   "cell_type": "code",
   "execution_count": 315,
   "metadata": {},
   "outputs": [
    {
     "name": "stdout",
     "output_type": "stream",
     "text": [
      "      intensity                email_hash  total_time  goal_time  other_time  \\\n",
      "0      0.192308  883c1ba5c4e5472d2f8067d6    7.105786   6.188264    6.595781   \n",
      "1      0.200000  d49e6ce9c7fadc10f3baf7bd    6.788972   0.000000    6.788972   \n",
      "2      0.000000  d49e6ce9c7fadc10f3baf7bd    5.192957   0.000000    5.192957   \n",
      "3      0.159664  d49e6ce9c7fadc10f3baf7bd    6.942157   5.609472    6.635947   \n",
      "4      0.085366  601ef212e501d1cdccebf63b    9.316950   8.464636    8.761080   \n",
      "5      0.084112  601ef212e501d1cdccebf63b    9.791606   8.863757    9.288412   \n",
      "6      0.269841  9e63d7e9d250c795b9c657e8    8.311398   7.081709    7.965546   \n",
      "7      0.373494  9e63d7e9d250c795b9c657e8    9.235521   8.459140    8.619208   \n",
      "8      0.421053  9e63d7e9d250c795b9c657e8    8.434029   7.547502    7.902857   \n",
      "9      0.000000  9e63d7e9d250c795b9c657e8    4.844187   0.000000    4.844187   \n",
      "10     0.241935  9aa2418cff3facda9bb90c15    8.927447   7.640604    8.604288   \n",
      "11     0.265306  9aa2418cff3facda9bb90c15    9.470240   9.043695    8.412499   \n",
      "12     0.136364  9aa2418cff3facda9bb90c15    7.768956   6.006353    7.580700   \n",
      "13     0.333333  9aa2418cff3facda9bb90c15    8.940629   7.805882    8.552753   \n",
      "14     0.400000  9aa2418cff3facda9bb90c15    7.443664   6.695799    6.802395   \n",
      "15     0.250000  9aa2418cff3facda9bb90c15    5.549076   4.060443    5.293305   \n",
      "16     0.100000  a09f4d8b6326097b44238b62    8.224432   2.833213    8.219865   \n",
      "17     0.187500  a09f4d8b6326097b44238b62    7.677400   7.154615    6.778785   \n",
      "18     0.000000  a09f4d8b6326097b44238b62    7.883069   5.164786    7.814803   \n",
      "19     0.047619  a09f4d8b6326097b44238b62    7.993620   3.218876    7.985144   \n",
      "20     0.000000  a09f4d8b6326097b44238b62    6.614726   0.000000    6.614726   \n",
      "21     0.000000  a09f4d8b6326097b44238b62    5.451038   5.337538    3.218876   \n",
      "22     0.166667  6afba4b9d880466f13ce5053    9.417436   8.285009    9.028459   \n",
      "23     0.129870  6afba4b9d880466f13ce5053    9.565073   8.084871    9.306832   \n",
      "24     0.030303  738436695cad09ae1d5cc170    8.661986   7.610358    8.232174   \n",
      "25     0.027397  738436695cad09ae1d5cc170    8.193953   7.576097    7.419381   \n",
      "26     0.000000  738436695cad09ae1d5cc170    8.489616   7.652071    7.922624   \n",
      "27     0.000000  738436695cad09ae1d5cc170    8.462737   7.822044    7.714231   \n",
      "28     0.008197  738436695cad09ae1d5cc170    8.555644   7.642044    8.043021   \n",
      "29     0.025000  738436695cad09ae1d5cc170    7.774015   7.045777    7.114769   \n",
      "...         ...                       ...         ...        ...         ...   \n",
      "4967   0.232704  270232473297dec6637b3c6b    9.774062   8.884333    9.245128   \n",
      "4968   0.163347  270232473297dec6637b3c6b    9.907280   8.960725    9.416134   \n",
      "4969   0.246377  270232473297dec6637b3c6b    9.489789   8.724045    8.864323   \n",
      "4970   0.197183  270232473297dec6637b3c6b    9.473858   8.019942    9.207737   \n",
      "4971   0.121429  270232473297dec6637b3c6b    9.663516   7.806289    9.493788   \n",
      "4972   0.151899  270232473297dec6637b3c6b    8.932213   8.046229    8.400659   \n",
      "4973   0.314286  270232473297dec6637b3c6b    8.657998   8.441176    7.022868   \n",
      "4974   0.342857  270232473297dec6637b3c6b    8.657303   8.363342    7.289611   \n",
      "4975   0.131579  270232473297dec6637b3c6b    9.869207   8.539737    9.561842   \n",
      "4976   0.123077  270232473297dec6637b3c6b    9.798071   7.662938    9.672249   \n",
      "4977   0.050000  3a4dfe874ed3e28c098bcd45    8.888895   6.428105    8.799662   \n",
      "4978   0.000000  3a4dfe874ed3e28c098bcd45    7.962067   0.000000    7.962067   \n",
      "4979   0.164948  c8b0e3c4f63d4dc18538d44f    9.667132   8.836229    9.095042   \n",
      "4980   0.078261  c8b0e3c4f63d4dc18538d44f    8.363342   7.749322    7.584265   \n",
      "4981   0.191011  c8b0e3c4f63d4dc18538d44f    9.654064   8.999372    8.920923   \n",
      "4982   0.142857  c8b0e3c4f63d4dc18538d44f    8.961623   0.000000    8.961623   \n",
      "4983   0.115385  c8b0e3c4f63d4dc18538d44f    8.814479   8.237744    7.989560   \n",
      "4984   0.233333  c8b0e3c4f63d4dc18538d44f    7.395722   6.666957    6.736967   \n",
      "4985   0.321839  c8b0e3c4f63d4dc18538d44f    9.498372   8.562358    9.000483   \n",
      "4986   0.289474  c8b0e3c4f63d4dc18538d44f    9.010058   8.398184    8.228444   \n",
      "4987   0.214286  c8b0e3c4f63d4dc18538d44f    8.568076   8.188967    7.414573   \n",
      "4988   0.666667  c8b0e3c4f63d4dc18538d44f    8.192017   4.644391    8.162801   \n",
      "4989   0.200000  c8b0e3c4f63d4dc18538d44f    8.764522   7.582229    8.398410   \n",
      "4990   0.111111  fe7e509d0561382ad0cf50c2    7.163172   6.970730    5.420535   \n",
      "4991   0.107143  fe7e509d0561382ad0cf50c2    9.215925   8.908559    7.886457   \n",
      "4992   0.111111  fe7e509d0561382ad0cf50c2    9.051227   8.613594    8.014005   \n",
      "4993   0.000000  fe7e509d0561382ad0cf50c2    8.585599   8.584291    1.945910   \n",
      "4994   0.000000  fe7e509d0561382ad0cf50c2    6.011267   0.000000    6.011267   \n",
      "4995   0.062500  fe7e509d0561382ad0cf50c2    8.139732   5.181784    8.086410   \n",
      "4996   0.062500  9a363538b3669d87aabe5ee6    5.198497   4.025352    4.828314   \n",
      "\n",
      "      avg_goal_time  avg_freq_time  freq_frac_time  infreq_frac_time  \\\n",
      "0          5.495117       6.188264        0.399508          0.000820   \n",
      "1         -1.386294       0.000000        0.001126          0.001126   \n",
      "2         -1.386294       0.000000        0.005556          0.005556   \n",
      "3          4.000034       1.402368        0.263768          0.000966   \n",
      "4          7.366024       7.379632        0.144090          0.282337   \n",
      "5          7.765145       7.591357        0.110776          0.284628   \n",
      "6          5.472271       3.372030        0.208600          0.083784   \n",
      "7          6.849702       4.183534        0.419600          0.040468   \n",
      "8          5.938064       3.697861        0.354053          0.058031   \n",
      "9         -1.609438       0.000000        0.007874          0.007874   \n",
      "10         6.541992       3.598343        0.177150          0.098992   \n",
      "11         7.945083       4.486992        0.608806          0.043954   \n",
      "12         4.907741       2.610178        0.078191          0.093407   \n",
      "13         6.707270       7.045777        0.150340          0.171163   \n",
      "14         5.597187       3.284039        0.416618          0.056758   \n",
      "15         2.961831       0.000000        0.003891          0.225681   \n",
      "16         1.734601       2.833213        0.004556          0.000268   \n",
      "17         6.056003       6.706862        0.378879          0.213988   \n",
      "18         4.066174       5.164786        0.065988          0.000377   \n",
      "19         2.120264       3.135494        0.007765          0.000675   \n",
      "20        -1.098612       0.000000        0.001340          0.001340   \n",
      "21         4.238926       0.000000        0.004292          0.892704   \n",
      "22         7.186397       4.096977        0.294204          0.028047   \n",
      "23         6.986258       4.024714        0.219666          0.007925   \n",
      "24         6.000920       1.902589        0.349368          0.000173   \n",
      "25         5.966659       1.894024        0.539099          0.000276   \n",
      "26         6.042633       1.913018        0.432771          0.000206   \n",
      "27         6.212606       1.955511        0.526927          0.000211   \n",
      "28         6.032606       1.910511        0.401078          0.000192   \n",
      "29         5.436339       0.854983        0.005467          0.477292   \n",
      "...             ...            ...             ...               ...   \n",
      "4967       7.785721       4.292986        0.304803          0.105964   \n",
      "4968       7.862112       6.910751        0.049960          0.338115   \n",
      "4969       7.625432       4.948760        0.010662          0.454325   \n",
      "4970       6.921329       6.173786        0.036881          0.196773   \n",
      "4971       6.707677       5.983936        0.025234          0.130871   \n",
      "4972       6.947617       7.169350        0.171553          0.240755   \n",
      "4973       7.342563       6.369901        0.101459          0.703614   \n",
      "4974       7.264730       7.347300        0.269819          0.475487   \n",
      "4975       7.441125       7.619724        0.105454          0.159164   \n",
      "4976       6.564326       5.225747        0.010334          0.107895   \n",
      "4977       5.734958       6.428105        0.085368          0.000138   \n",
      "4978      -0.693147       0.000000        0.000348          0.000348   \n",
      "4979       7.449934       4.284608        0.333566          0.102090   \n",
      "4980       6.363028       3.728516        0.404012          0.137159   \n",
      "4981       7.613078       3.921924        0.163619          0.355983   \n",
      "4982      -1.386294       0.000000        0.000128          0.000128   \n",
      "4983       6.851449       3.847196        0.326252          0.235478   \n",
      "4984       5.280662       2.585242        0.108042          0.374463   \n",
      "4985       7.176063       4.216471        0.344579          0.047608   \n",
      "4986       7.011890       4.040583        0.394991          0.147343   \n",
      "4987       6.802673       3.504253        0.210226          0.474244   \n",
      "4988       3.258097       0.000000        0.000277          0.028793   \n",
      "4989       6.195935       3.678140        0.244573          0.062002   \n",
      "4990       6.277583       0.000000        0.000775          0.824942   \n",
      "4991       8.215412       0.000000        0.000099          0.735382   \n",
      "4992       7.920447       0.000000        0.000117          0.645562   \n",
      "4993       7.891144       0.000000        0.000187          0.998693   \n",
      "4994      -0.693147       0.000000        0.002451          0.002451   \n",
      "4995       4.488636       5.181784        0.051925          0.000292   \n",
      "4996       3.332205       4.025352        0.309392          0.005525   \n",
      "\n",
      "      avg_infreq_time  num_freq_goals  num_infreq_goals  num_goals  \n",
      "0            0.000000               1                 1          2  \n",
      "1            0.000000               3                 1          4  \n",
      "2            0.000000               1                 3          4  \n",
      "3            0.000000               4                 1          5  \n",
      "4            4.026148               1                 2          3  \n",
      "5            4.267517               1                 2          3  \n",
      "6            1.943961               2                 3          5  \n",
      "7            2.009426               2                 3          5  \n",
      "8            1.862416               2                 3          5  \n",
      "9            0.000000               2                 3          5  \n",
      "10           6.614726               2                 1          3  \n",
      "11           6.345636               2                 1          3  \n",
      "12           5.398163               2                 1          3  \n",
      "13           3.587745               1                 2          3  \n",
      "14           4.574711               2                 1          3  \n",
      "15           2.030222               1                 2          3  \n",
      "16           0.000000               1                 2          3  \n",
      "17           3.067782               1                 2          3  \n",
      "18           0.000000               1                 2          3  \n",
      "19           0.346574               1                 2          3  \n",
      "20           0.000000               1                 2          3  \n",
      "21           2.668769               1                 2          3  \n",
      "22           5.843544               2                 1          3  \n",
      "23           4.727388               2                 1          3  \n",
      "24           0.000000               4                 1          5  \n",
      "25           0.000000               4                 1          5  \n",
      "26           0.000000               4                 1          5  \n",
      "27           0.000000               4                 1          5  \n",
      "28           0.000000               4                 1          5  \n",
      "29           3.517194               3                 2          5  \n",
      "...               ...             ...               ...        ...  \n",
      "4967         7.529406               2                 1          3  \n",
      "4968         4.411456               1                 2          3  \n",
      "4969         4.350424               1                 2          3  \n",
      "4970         3.924077               1                 2          3  \n",
      "4971         3.814988               1                 2          3  \n",
      "4972         3.754119               1                 2          3  \n",
      "4973         4.153236               1                 2          3  \n",
      "4974         3.956943               1                 2          3  \n",
      "4975         4.015693               1                 2          3  \n",
      "4976         3.785737               1                 2          3  \n",
      "4977         0.000000               1                 1          2  \n",
      "4978         0.000000               1                 1          2  \n",
      "4979         3.692615               2                 2          4  \n",
      "4980         3.188363               2                 2          4  \n",
      "4981         4.310596               2                 2          4  \n",
      "4982         0.000000               2                 2          4  \n",
      "4983         3.684170               2                 2          4  \n",
      "4984         3.206729               2                 2          4  \n",
      "4985         3.226812               2                 2          4  \n",
      "4986         3.547532               2                 2          4  \n",
      "4987         3.911022               2                 2          4  \n",
      "4988         2.322195               2                 2          4  \n",
      "4989         2.991968               2                 2          4  \n",
      "4990         6.970730               1                 1          2  \n",
      "4991         8.908559               1                 1          2  \n",
      "4992         8.613594               1                 1          2  \n",
      "4993         8.584291               1                 1          2  \n",
      "4994         0.000000               1                 1          2  \n",
      "4995         0.000000               1                 1          2  \n",
      "4996         0.000000               1                 1          2  \n",
      "\n",
      "[4997 rows x 13 columns]\n"
     ]
    }
   ],
   "source": [
    "FREQ_FRAC_TIME = \"freq_frac_time\"\n",
    "INFREQ_FRAC_TIME = \"infreq_frac_time\"\n",
    "AVG_GOAL_TIME= \"avg_goal_time\"\n",
    "intensity_dict ={INTENSITY: [], HASH: [], TOTAL_TIME: [], GOAL_TIME: [], OTHER_TIME: [], AVG_GOAL_TIME: [],\n",
    "                AVG_FREQ_TIME: [], FREQ_FRAC_TIME: [], INFREQ_FRAC_TIME: [], AVG_INFREQ_TIME: [], NUM_FREQ_GOALS: [], NUM_INFREQ_GOALS: [], NUM_GOALS: []}\n",
    "for day in browser_days:\n",
    "    for key in intensity_dict:\n",
    "        if key not in [AVG_GOAL_TIME, NUM_FREQ_GOALS, NUM_INFREQ_GOALS, NUM_GOALS, FREQ_FRAC_TIME, INFREQ_FRAC_TIME]:\n",
    "            intensity_dict[key].append(day[key])\n",
    "    intensity_dict[NUM_FREQ_GOALS].append(len(day[FREQ_GOALS]))\n",
    "    intensity_dict[NUM_INFREQ_GOALS].append(len(day[INFREQ_GOALS]))\n",
    "    intensity_dict[AVG_GOAL_TIME].append(math.log(math.exp(day[GOAL_TIME])/len(day[GOALS])))\n",
    "    intensity_dict[NUM_GOALS].append(len(day[FREQ_GOALS].union(day[INFREQ_GOALS])))\n",
    "    intensity_dict[FREQ_FRAC_TIME].append(math.exp(day[FREQ_TIME])/math.exp(day[TOTAL_TIME]))\n",
    "    intensity_dict[INFREQ_FRAC_TIME].append(math.exp(day[INFREQ_TIME])/math.exp(day[TOTAL_TIME]))\n",
    "browser_df = pd.DataFrame(intensity_dict)\n",
    "browser_df.to_csv(\"2018-09-10-browser_intensity_on_time.csv\")\n",
    "print(browser_df)"
   ]
  },
  {
   "cell_type": "code",
   "execution_count": 316,
   "metadata": {},
   "outputs": [
    {
     "name": "stderr",
     "output_type": "stream",
     "text": [
      "/home/drew/.local/lib/python3.6/site-packages/rpy2/robjects/pandas2ri.py:191: FutureWarning: from_items is deprecated. Please use DataFrame.from_dict(dict(items), ...) instead. DataFrame.from_dict(OrderedDict(items)) may be used to preserve the key order.\n",
      "  res = PandasDataFrame.from_items(items)\n"
     ]
    },
    {
     "data": {
      "text/plain": [
       "Linear mixed model fit by REML. t-tests use Satterthwaite's method [\n",
       "lmerModLmerTest]\n",
       "Formula: goal_time ~ intensity + (1 | email_hash) + (1 | num_goals)\n",
       "   Data: browser_df\n",
       "\n",
       "REML criterion at convergence: 21738.8\n",
       "\n",
       "Scaled residuals: \n",
       "    Min      1Q  Median      3Q     Max \n",
       "-4.2577 -0.3424  0.1818  0.5299  2.7508 \n",
       "\n",
       "Random effects:\n",
       " Groups     Name        Variance Std.Dev.\n",
       " email_hash (Intercept) 2.78358  1.6684  \n",
       " num_goals  (Intercept) 0.05867  0.2422  \n",
       " Residual               3.56141  1.8872  \n",
       "Number of obs: 4997, groups:  email_hash, 707; num_goals, 15\n",
       "\n",
       "Fixed effects:\n",
       "             Estimate Std. Error        df t value Pr(>|t|)    \n",
       "(Intercept)    5.9347     0.1226    9.8648   48.41 4.65e-13 ***\n",
       "intensity      2.5610     0.1952 4959.7311   13.12  < 2e-16 ***\n",
       "---\n",
       "Signif. codes:  0 ‘***’ 0.001 ‘**’ 0.01 ‘*’ 0.05 ‘.’ 0.1 ‘ ’ 1\n",
       "\n",
       "Correlation of Fixed Effects:\n",
       "          (Intr)\n",
       "intensity -0.309\n"
      ]
     },
     "metadata": {},
     "output_type": "display_data"
    }
   ],
   "source": [
    "%%R -i browser_df -w 5 -h 5 --units in -r 200\n",
    "# Does non-goal time spent per day on phone inversely depend on goal-time?\n",
    "browser_df$email_hash <- factor(browser_df$email_hash,  ordered=FALSE)\n",
    "results <- lmer(goal_time ~ intensity + (1|email_hash) + (1|num_goals), data = browser_df)\n",
    "summary(results)"
   ]
  },
  {
   "cell_type": "code",
   "execution_count": 319,
   "metadata": {},
   "outputs": [
    {
     "data": {
      "text/plain": [
       "\n",
       "Call:\n",
       "lm(formula = avg_freq_time ~ intensity, data = browser_df)\n",
       "\n",
       "Residuals:\n",
       "    Min      1Q  Median      3Q     Max \n",
       "-4.0760 -2.4508 -0.4953  1.3323  8.5642 \n",
       "\n",
       "Coefficients:\n",
       "            Estimate Std. Error t value Pr(>|t|)    \n",
       "(Intercept)  2.45079    0.05049  48.539  < 2e-16 ***\n",
       "intensity    1.62526    0.19736   8.235 2.27e-16 ***\n",
       "---\n",
       "Signif. codes:  0 ‘***’ 0.001 ‘**’ 0.01 ‘*’ 0.05 ‘.’ 0.1 ‘ ’ 1\n",
       "\n",
       "Residual standard error: 2.477 on 4995 degrees of freedom\n",
       "Multiple R-squared:  0.01339,\tAdjusted R-squared:  0.0132 \n",
       "F-statistic: 67.81 on 1 and 4995 DF,  p-value: 2.272e-16\n",
       "\n"
      ]
     },
     "metadata": {},
     "output_type": "display_data"
    }
   ],
   "source": [
    "%%R -i browser_df -w 5 -h 5 --units in -r 200\n",
    "\n",
    "# goodresult RESULT-INTENSITY-BROWSER-REDUCED-FREQGOALS\n",
    "\n",
    "# Does non-goal time spent per day on phone inversely depend on goal-time?\n",
    "browser_df$email_hash <- factor(browser_df$email_hash,  ordered=FALSE)\n",
    "results <- lm(avg_freq_time ~ intensity, data = browser_df)\n",
    "summary(results)"
   ]
  },
  {
   "cell_type": "code",
   "execution_count": 318,
   "metadata": {},
   "outputs": [
    {
     "data": {
      "text/plain": [
       "Linear mixed model fit by REML. t-tests use Satterthwaite's method [\n",
       "lmerModLmerTest]\n",
       "Formula: avg_freq_time ~ intensity + (1 | email_hash)\n",
       "   Data: browser_df\n",
       "\n",
       "REML criterion at convergence: 21496.7\n",
       "\n",
       "Scaled residuals: \n",
       "    Min      1Q  Median      3Q     Max \n",
       "-3.5534 -0.5227 -0.0365  0.4808  4.0497 \n",
       "\n",
       "Random effects:\n",
       " Groups     Name        Variance Std.Dev.\n",
       " email_hash (Intercept) 3.229    1.797   \n",
       " Residual               3.314    1.821   \n",
       "Number of obs: 4997, groups:  email_hash, 707\n",
       "\n",
       "Fixed effects:\n",
       "             Estimate Std. Error        df t value Pr(>|t|)    \n",
       "(Intercept) 2.669e+00  8.261e-02 9.135e+02  32.307  < 2e-16 ***\n",
       "intensity   1.086e+00  1.898e-01 4.945e+03   5.722 1.11e-08 ***\n",
       "---\n",
       "Signif. codes:  0 ‘***’ 0.001 ‘**’ 0.01 ‘*’ 0.05 ‘.’ 0.1 ‘ ’ 1\n",
       "\n",
       "Correlation of Fixed Effects:\n",
       "          (Intr)\n",
       "intensity -0.417\n"
      ]
     },
     "metadata": {},
     "output_type": "display_data"
    }
   ],
   "source": [
    "%%R -i browser_df -w 5 -h 5 --units in -r 200\n",
    "\n",
    "# goodresult RESULT-INTENSITY-BROWSER-REDUCED-FREQGOALS\n",
    "\n",
    "# Does non-goal time spent per day on phone inversely depend on goal-time?\n",
    "browser_df$email_hash <- factor(browser_df$email_hash,  ordered=FALSE)\n",
    "results <- lmer(avg_freq_time ~ intensity + (1|email_hash), data = browser_df)\n",
    "summary(results)"
   ]
  },
  {
   "cell_type": "code",
   "execution_count": 320,
   "metadata": {},
   "outputs": [
    {
     "data": {
      "text/plain": [
       "\n",
       "Call:\n",
       "lm(formula = avg_infreq_time ~ intensity, data = browser_df)\n",
       "\n",
       "Residuals:\n",
       "    Min      1Q  Median      3Q     Max \n",
       "-3.9595 -2.5076 -0.4368  1.2150  8.0462 \n",
       "\n",
       "Coefficients:\n",
       "            Estimate Std. Error t value Pr(>|t|)    \n",
       "(Intercept)  2.50759    0.04963  50.524  < 2e-16 ***\n",
       "intensity    1.45187    0.19400   7.484 8.48e-14 ***\n",
       "---\n",
       "Signif. codes:  0 ‘***’ 0.001 ‘**’ 0.01 ‘*’ 0.05 ‘.’ 0.1 ‘ ’ 1\n",
       "\n",
       "Residual standard error: 2.435 on 4995 degrees of freedom\n",
       "Multiple R-squared:  0.01109,\tAdjusted R-squared:  0.01089 \n",
       "F-statistic: 56.01 on 1 and 4995 DF,  p-value: 8.476e-14\n",
       "\n"
      ]
     },
     "metadata": {},
     "output_type": "display_data"
    }
   ],
   "source": [
    "%%R -i browser_df -w 5 -h 5 --units in -r 200\n",
    "\n",
    "# goodresult RESULT-INTENSITY-BROWSER-REDUCED-INFREQGOALS\n",
    "\n",
    "# Does non-goal time spent per day on phone inversely depend on goal-time?\n",
    "browser_df$email_hash <- factor(browser_df$email_hash,  ordered=FALSE)\n",
    "results <- lm(avg_infreq_time ~ intensity, data = browser_df)\n",
    "summary(results)"
   ]
  },
  {
   "cell_type": "code",
   "execution_count": 334,
   "metadata": {},
   "outputs": [
    {
     "name": "stderr",
     "output_type": "stream",
     "text": [
      "/home/drew/.local/lib/python3.6/site-packages/rpy2/robjects/pandas2ri.py:191: FutureWarning: from_items is deprecated. Please use DataFrame.from_dict(dict(items), ...) instead. DataFrame.from_dict(OrderedDict(items)) may be used to preserve the key order.\n",
      "  res = PandasDataFrame.from_items(items)\n"
     ]
    },
    {
     "data": {
      "text/plain": [
       "Linear mixed model fit by REML. t-tests use Satterthwaite's method [\n",
       "lmerModLmerTest]\n",
       "Formula: avg_infreq_time ~ intensity + (1 | email_hash)\n",
       "   Data: browser_df\n",
       "\n",
       "REML criterion at convergence: 21089\n",
       "\n",
       "Scaled residuals: \n",
       "    Min      1Q  Median      3Q     Max \n",
       "-4.3206 -0.5055 -0.0257  0.4662  3.9951 \n",
       "\n",
       "Random effects:\n",
       " Groups     Name        Variance Std.Dev.\n",
       " email_hash (Intercept) 3.440    1.855   \n",
       " Residual               2.997    1.731   \n",
       "Number of obs: 4997, groups:  email_hash, 707\n",
       "\n",
       "Fixed effects:\n",
       "             Estimate Std. Error        df t value Pr(>|t|)    \n",
       "(Intercept) 2.717e+00  8.331e-02 8.784e+02  32.615  < 2e-16 ***\n",
       "intensity   9.271e-01  1.817e-01 4.904e+03   5.103 3.48e-07 ***\n",
       "---\n",
       "Signif. codes:  0 ‘***’ 0.001 ‘**’ 0.01 ‘*’ 0.05 ‘.’ 0.1 ‘ ’ 1\n",
       "\n",
       "Correlation of Fixed Effects:\n",
       "          (Intr)\n",
       "intensity -0.396\n"
      ]
     },
     "metadata": {},
     "output_type": "display_data"
    }
   ],
   "source": [
    "%%R -i browser_df -w 5 -h 5 --units in -r 200\n",
    "\n",
    "# goodresult RESULT-INTENSITY-BROWSER-REDUCED-INFREQGOALS\n",
    "\n",
    "# Does non-goal time spent per day on phone inversely depend on goal-time?\n",
    "browser_df$email_hash <- factor(browser_df$email_hash,  ordered=FALSE)\n",
    "results <- lmer(avg_infreq_time ~ intensity + (1|email_hash), data = browser_df)\n",
    "summary(results)"
   ]
  },
  {
   "cell_type": "code",
   "execution_count": 335,
   "metadata": {},
   "outputs": [
    {
     "data": {
      "text/plain": [
       "   intensity        email_hash          total_time       goal_time     \n",
       " Min.   :0.00000   Length:4997        Min.   : 0.000   Min.   : 0.000  \n",
       " 1st Qu.:0.05587   Class :character   1st Qu.: 7.975   1st Qu.: 5.645  \n",
       " Median :0.14286   Mode  :character   Median : 8.763   Median : 7.193  \n",
       " Mean   :0.18417                      Mean   : 8.494   Mean   : 6.412  \n",
       " 3rd Qu.:0.25641                      3rd Qu.: 9.324   3rd Qu.: 8.124  \n",
       " Max.   :1.00000                      Max.   :11.210   Max.   :11.191  \n",
       "   other_time     avg_goal_time    avg_freq_time    freq_frac_time     \n",
       " Min.   : 0.000   Min.   :-2.890   Min.   : 0.000   Min.   :0.0000288  \n",
       " 1st Qu.: 7.361   1st Qu.: 4.268   1st Qu.: 0.000   1st Qu.:0.0022002  \n",
       " Median : 8.287   Median : 5.757   Median : 2.292   Median :0.0665453  \n",
       " Mean   : 7.924   Mean   : 5.050   Mean   : 2.750   Mean   :0.1535433  \n",
       " 3rd Qu.: 8.929   3rd Qu.: 6.744   3rd Qu.: 4.137   3rd Qu.:0.2184579  \n",
       " Max.   :11.077   Max.   :10.322   Max.   :11.015   Max.   :1.0000000  \n",
       " infreq_frac_time    avg_infreq_time   num_freq_goals   num_infreq_goals\n",
       " Min.   :0.0000145   Min.   : 0.0000   Min.   : 1.000   Min.   : 1.000  \n",
       " 1st Qu.:0.0031534   1st Qu.: 0.2747   1st Qu.: 1.000   1st Qu.: 1.000  \n",
       " Median :0.0714286   Median : 2.3939   Median : 2.000   Median : 2.000  \n",
       " Mean   :0.1664366   Mean   : 2.7750   Mean   : 2.176   Mean   : 2.207  \n",
       " 3rd Qu.:0.2430671   3rd Qu.: 4.0434   3rd Qu.: 3.000   3rd Qu.: 3.000  \n",
       " Max.   :1.0000000   Max.   :10.7204   Max.   :10.000   Max.   :12.000  \n",
       "   num_goals     \n",
       " Min.   : 2.000  \n",
       " 1st Qu.: 3.000  \n",
       " Median : 4.000  \n",
       " Mean   : 4.383  \n",
       " 3rd Qu.: 5.000  \n",
       " Max.   :18.000  \n"
      ]
     },
     "metadata": {},
     "output_type": "display_data"
    }
   ],
   "source": [
    "%%R -i browser_df -w 5 -h 5 --units in -r 200\n",
    "\n",
    "summary(browser_df)"
   ]
  },
  {
   "cell_type": "code",
   "execution_count": 336,
   "metadata": {},
   "outputs": [
    {
     "data": {
      "text/plain": [
       "\n",
       "Call:\n",
       "lm(formula = avg_freq_time ~ intensity, data = browser_df)\n",
       "\n",
       "Residuals:\n",
       "    Min      1Q  Median      3Q     Max \n",
       "-4.0760 -2.4508 -0.4953  1.3323  8.5642 \n",
       "\n",
       "Coefficients:\n",
       "            Estimate Std. Error t value Pr(>|t|)    \n",
       "(Intercept)  2.45079    0.05049  48.539  < 2e-16 ***\n",
       "intensity    1.62526    0.19736   8.235 2.27e-16 ***\n",
       "---\n",
       "Signif. codes:  0 ‘***’ 0.001 ‘**’ 0.01 ‘*’ 0.05 ‘.’ 0.1 ‘ ’ 1\n",
       "\n",
       "Residual standard error: 2.477 on 4995 degrees of freedom\n",
       "Multiple R-squared:  0.01339,\tAdjusted R-squared:  0.0132 \n",
       "F-statistic: 67.81 on 1 and 4995 DF,  p-value: 2.272e-16\n",
       "\n"
      ]
     },
     "metadata": {},
     "output_type": "display_data"
    }
   ],
   "source": [
    "%%R -i browser_df -w 5 -h 5 --units in -r 200\n",
    "\n",
    "# goodresult RESULT-INTENSITY-BROWSER-REDUCED-FREQGOALS\n",
    "\n",
    "# Does non-goal time spent per day on phone inversely depend on goal-time?\n",
    "browser_df$email_hash <- factor(browser_df$email_hash,  ordered=FALSE)\n",
    "results <- lm(avg_freq_time ~ intensity, data = browser_df)\n",
    "summary(results)"
   ]
  },
  {
   "cell_type": "code",
   "execution_count": 337,
   "metadata": {},
   "outputs": [
    {
     "data": {
      "text/plain": [
       "\n",
       "Call:\n",
       "lm(formula = avg_infreq_time ~ intensity, data = browser_df)\n",
       "\n",
       "Residuals:\n",
       "    Min      1Q  Median      3Q     Max \n",
       "-3.9595 -2.5076 -0.4368  1.2150  8.0462 \n",
       "\n",
       "Coefficients:\n",
       "            Estimate Std. Error t value Pr(>|t|)    \n",
       "(Intercept)  2.50759    0.04963  50.524  < 2e-16 ***\n",
       "intensity    1.45187    0.19400   7.484 8.48e-14 ***\n",
       "---\n",
       "Signif. codes:  0 ‘***’ 0.001 ‘**’ 0.01 ‘*’ 0.05 ‘.’ 0.1 ‘ ’ 1\n",
       "\n",
       "Residual standard error: 2.435 on 4995 degrees of freedom\n",
       "Multiple R-squared:  0.01109,\tAdjusted R-squared:  0.01089 \n",
       "F-statistic: 56.01 on 1 and 4995 DF,  p-value: 8.476e-14\n",
       "\n"
      ]
     },
     "metadata": {},
     "output_type": "display_data"
    }
   ],
   "source": [
    "%%R -i browser_df -w 5 -h 5 --units in -r 200\n",
    "\n",
    "# goodresult RESULT-INTENSITY-BROWSER-REDUCED-INFREQGOALS\n",
    "\n",
    "# Does non-goal time spent per day on phone inversely depend on goal-time?\n",
    "browser_df$email_hash <- factor(browser_df$email_hash,  ordered=FALSE)\n",
    "results <- lm(avg_infreq_time ~ intensity, data = browser_df)\n",
    "summary(results)"
   ]
  },
  {
   "cell_type": "code",
   "execution_count": 338,
   "metadata": {},
   "outputs": [
    {
     "data": {
      "text/plain": [
       "   intensity        email_hash          total_time       goal_time     \n",
       " Min.   :0.00000   Length:4997        Min.   : 0.000   Min.   : 0.000  \n",
       " 1st Qu.:0.05587   Class :character   1st Qu.: 7.975   1st Qu.: 5.645  \n",
       " Median :0.14286   Mode  :character   Median : 8.763   Median : 7.193  \n",
       " Mean   :0.18417                      Mean   : 8.494   Mean   : 6.412  \n",
       " 3rd Qu.:0.25641                      3rd Qu.: 9.324   3rd Qu.: 8.124  \n",
       " Max.   :1.00000                      Max.   :11.210   Max.   :11.191  \n",
       "   other_time     avg_goal_time    avg_freq_time    freq_frac_time     \n",
       " Min.   : 0.000   Min.   :-2.890   Min.   : 0.000   Min.   :0.0000288  \n",
       " 1st Qu.: 7.361   1st Qu.: 4.268   1st Qu.: 0.000   1st Qu.:0.0022002  \n",
       " Median : 8.287   Median : 5.757   Median : 2.292   Median :0.0665453  \n",
       " Mean   : 7.924   Mean   : 5.050   Mean   : 2.750   Mean   :0.1535433  \n",
       " 3rd Qu.: 8.929   3rd Qu.: 6.744   3rd Qu.: 4.137   3rd Qu.:0.2184579  \n",
       " Max.   :11.077   Max.   :10.322   Max.   :11.015   Max.   :1.0000000  \n",
       " infreq_frac_time    avg_infreq_time   num_freq_goals   num_infreq_goals\n",
       " Min.   :0.0000145   Min.   : 0.0000   Min.   : 1.000   Min.   : 1.000  \n",
       " 1st Qu.:0.0031534   1st Qu.: 0.2747   1st Qu.: 1.000   1st Qu.: 1.000  \n",
       " Median :0.0714286   Median : 2.3939   Median : 2.000   Median : 2.000  \n",
       " Mean   :0.1664366   Mean   : 2.7750   Mean   : 2.176   Mean   : 2.207  \n",
       " 3rd Qu.:0.2430671   3rd Qu.: 4.0434   3rd Qu.: 3.000   3rd Qu.: 3.000  \n",
       " Max.   :1.0000000   Max.   :10.7204   Max.   :10.000   Max.   :12.000  \n",
       "   num_goals     \n",
       " Min.   : 2.000  \n",
       " 1st Qu.: 3.000  \n",
       " Median : 4.000  \n",
       " Mean   : 4.383  \n",
       " 3rd Qu.: 5.000  \n",
       " Max.   :18.000  \n"
      ]
     },
     "metadata": {},
     "output_type": "display_data"
    }
   ],
   "source": [
    "%%R -i browser_df -w 5 -h 5 --units in -r 200\n",
    "\n",
    "\n",
    "summary(browser_df)"
   ]
  },
  {
   "cell_type": "code",
   "execution_count": 339,
   "metadata": {},
   "outputs": [
    {
     "data": {
      "text/plain": [
       "Linear mixed model fit by REML. t-tests use Satterthwaite's method [\n",
       "lmerModLmerTest]\n",
       "Formula: goal_time ~ intensity + (1 | email_hash)\n",
       "   Data: browser_df\n",
       "\n",
       "REML criterion at convergence: 21743.6\n",
       "\n",
       "Scaled residuals: \n",
       "    Min      1Q  Median      3Q     Max \n",
       "-4.2583 -0.3441  0.1804  0.5315  2.7406 \n",
       "\n",
       "Random effects:\n",
       " Groups     Name        Variance Std.Dev.\n",
       " email_hash (Intercept) 2.828    1.682   \n",
       " Residual               3.564    1.888   \n",
       "Number of obs: 4997, groups:  email_hash, 707\n",
       "\n",
       "Fixed effects:\n",
       "             Estimate Std. Error        df t value Pr(>|t|)    \n",
       "(Intercept) 5.837e+00  7.984e-02 9.543e+02   73.12   <2e-16 ***\n",
       "intensity   2.594e+00  1.950e-01 4.982e+03   13.31   <2e-16 ***\n",
       "---\n",
       "Signif. codes:  0 ‘***’ 0.001 ‘**’ 0.01 ‘*’ 0.05 ‘.’ 0.1 ‘ ’ 1\n",
       "\n",
       "Correlation of Fixed Effects:\n",
       "          (Intr)\n",
       "intensity -0.443\n"
      ]
     },
     "metadata": {},
     "output_type": "display_data"
    }
   ],
   "source": [
    "%%R -i browser_df -w 5 -h 5 --units in -r 200\n",
    "\n",
    "# goodresult RESULT-INTENSITY-BROWSER-REDUCED-ALLGOALS\n",
    "\n",
    "# Does non-goal time spent per day on phone inversely depend on goal-time?\n",
    "browser_df$email_hash <- factor(browser_df$email_hash,  ordered=FALSE)\n",
    "results <- lmer(goal_time ~ intensity + (1|email_hash), data = browser_df)\n",
    "summary(results)"
   ]
  },
  {
   "cell_type": "code",
   "execution_count": 340,
   "metadata": {},
   "outputs": [
    {
     "data": {
      "text/plain": [
       "Linear mixed model fit by REML. t-tests use Satterthwaite's method [\n",
       "lmerModLmerTest]\n",
       "Formula: avg_goal_time ~ intensity + (1 | email_hash)\n",
       "   Data: browser_df\n",
       "\n",
       "REML criterion at convergence: 21742\n",
       "\n",
       "Scaled residuals: \n",
       "    Min      1Q  Median      3Q     Max \n",
       "-4.2455 -0.3476  0.1786  0.5282  2.7716 \n",
       "\n",
       "Random effects:\n",
       " Groups     Name        Variance Std.Dev.\n",
       " email_hash (Intercept) 2.868    1.693   \n",
       " Residual               3.556    1.886   \n",
       "Number of obs: 4997, groups:  email_hash, 707\n",
       "\n",
       "Fixed effects:\n",
       "             Estimate Std. Error        df t value Pr(>|t|)    \n",
       "(Intercept) 4.568e+00  8.019e-02 9.551e+02   56.97   <2e-16 ***\n",
       "intensity   2.471e+00  1.949e-01 4.980e+03   12.68   <2e-16 ***\n",
       "---\n",
       "Signif. codes:  0 ‘***’ 0.001 ‘**’ 0.01 ‘*’ 0.05 ‘.’ 0.1 ‘ ’ 1\n",
       "\n",
       "Correlation of Fixed Effects:\n",
       "          (Intr)\n",
       "intensity -0.441\n"
      ]
     },
     "metadata": {},
     "output_type": "display_data"
    }
   ],
   "source": [
    "%%R -i browser_df -w 5 -h 5 --units in -r 200\n",
    "\n",
    "# goodresult RESULT-INTENSITY-BROWSER-REDUCED-ALLGOALS\n",
    "\n",
    "# Does non-goal time spent per day on phone inversely depend on goal-time?\n",
    "browser_df$email_hash <- factor(browser_df$email_hash,  ordered=FALSE)\n",
    "results <- lmer(avg_goal_time ~ intensity + (1|email_hash), data = browser_df)\n",
    "summary(results)"
   ]
  },
  {
   "cell_type": "code",
   "execution_count": 341,
   "metadata": {},
   "outputs": [
    {
     "data": {
      "text/plain": [
       "\n",
       "Call:\n",
       "lm(formula = avg_goal_time ~ intensity, data = browser_df)\n",
       "\n",
       "Residuals:\n",
       "     Min       1Q   Median       3Q      Max \n",
       "-10.3714  -0.8283   0.6654   1.6558   6.0691 \n",
       "\n",
       "Coefficients:\n",
       "            Estimate Std. Error t value Pr(>|t|)    \n",
       "(Intercept)  4.25270    0.05058   84.08   <2e-16 ***\n",
       "intensity    4.32693    0.19770   21.89   <2e-16 ***\n",
       "---\n",
       "Signif. codes:  0 ‘***’ 0.001 ‘**’ 0.01 ‘*’ 0.05 ‘.’ 0.1 ‘ ’ 1\n",
       "\n",
       "Residual standard error: 2.482 on 4995 degrees of freedom\n",
       "Multiple R-squared:  0.0875,\tAdjusted R-squared:  0.08732 \n",
       "F-statistic:   479 on 1 and 4995 DF,  p-value: < 2.2e-16\n",
       "\n"
      ]
     },
     "metadata": {},
     "output_type": "display_data"
    }
   ],
   "source": [
    "%%R -i browser_df -w 5 -h 5 --units in -r 200\n",
    "\n",
    "# goodresult RESULT-INTENSITY-BROWSER-REDUCED-ALLGOALS\n",
    "\n",
    "# Does non-goal time spent per day on phone inversely depend on goal-time?\n",
    "browser_df$email_hash <- factor(browser_df$email_hash,  ordered=FALSE)\n",
    "results <- lm(avg_goal_time ~ intensity, data = browser_df)\n",
    "summary(results)"
   ]
  },
  {
   "cell_type": "code",
   "execution_count": 342,
   "metadata": {},
   "outputs": [
    {
     "data": {
      "text/plain": [
       "\n",
       "Call:\n",
       "lm(formula = goal_time ~ intensity, data = browser_df)\n",
       "\n",
       "Residuals:\n",
       "     Min       1Q   Median       3Q      Max \n",
       "-10.3362  -0.7909   0.7430   1.6469   5.4893 \n",
       "\n",
       "Coefficients:\n",
       "            Estimate Std. Error t value Pr(>|t|)    \n",
       "(Intercept)  5.52572    0.05035  109.76   <2e-16 ***\n",
       "intensity    4.81053    0.19679   24.45   <2e-16 ***\n",
       "---\n",
       "Signif. codes:  0 ‘***’ 0.001 ‘**’ 0.01 ‘*’ 0.05 ‘.’ 0.1 ‘ ’ 1\n",
       "\n",
       "Residual standard error: 2.47 on 4995 degrees of freedom\n",
       "Multiple R-squared:  0.1068,\tAdjusted R-squared:  0.1067 \n",
       "F-statistic: 597.6 on 1 and 4995 DF,  p-value: < 2.2e-16\n",
       "\n"
      ]
     },
     "metadata": {},
     "output_type": "display_data"
    }
   ],
   "source": [
    "%%R -i browser_df -w 5 -h 5 --units in -r 200\n",
    "\n",
    "# goodresult RESULT-INTENSITY-BROWSER-REDUCED-ALLGOALS\n",
    "\n",
    "# Does non-goal time spent per day on phone inversely depend on goal-time?\n",
    "browser_df$email_hash <- factor(browser_df$email_hash,  ordered=FALSE)\n",
    "results <- lm(goal_time ~ intensity, data = browser_df)\n",
    "summary(results)"
   ]
  },
  {
   "cell_type": "code",
   "execution_count": 343,
   "metadata": {},
   "outputs": [
    {
     "data": {
      "text/plain": [
       "\n",
       "Call:\n",
       "lm(formula = avg_goal_time ~ intensity, data = browser_df)\n",
       "\n",
       "Residuals:\n",
       "     Min       1Q   Median       3Q      Max \n",
       "-10.3714  -0.8283   0.6654   1.6558   6.0691 \n",
       "\n",
       "Coefficients:\n",
       "            Estimate Std. Error t value Pr(>|t|)    \n",
       "(Intercept)  4.25270    0.05058   84.08   <2e-16 ***\n",
       "intensity    4.32693    0.19770   21.89   <2e-16 ***\n",
       "---\n",
       "Signif. codes:  0 ‘***’ 0.001 ‘**’ 0.01 ‘*’ 0.05 ‘.’ 0.1 ‘ ’ 1\n",
       "\n",
       "Residual standard error: 2.482 on 4995 degrees of freedom\n",
       "Multiple R-squared:  0.0875,\tAdjusted R-squared:  0.08732 \n",
       "F-statistic:   479 on 1 and 4995 DF,  p-value: < 2.2e-16\n",
       "\n"
      ]
     },
     "metadata": {},
     "output_type": "display_data"
    }
   ],
   "source": [
    "%%R -i browser_df -w 5 -h 5 --units in -r 200\n",
    "\n",
    "# goodresult RESULT-INTENSITY-BROWSER-REDUCED-ALLGOALS\n",
    "\n",
    "# Does non-goal time spent per day on phone inversely depend on goal-time?\n",
    "browser_df$email_hash <- factor(browser_df$email_hash,  ordered=FALSE)\n",
    "results <- lm(avg_goal_time ~ intensity, data = browser_df)\n",
    "summary(results)"
   ]
  },
  {
   "cell_type": "code",
   "execution_count": 344,
   "metadata": {},
   "outputs": [
    {
     "data": {
      "text/plain": [
       "Linear mixed model fit by REML. t-tests use Satterthwaite's method [\n",
       "lmerModLmerTest]\n",
       "Formula: avg_goal_time ~ intensity + (1 | email_hash)\n",
       "   Data: browser_df\n",
       "\n",
       "REML criterion at convergence: 21742\n",
       "\n",
       "Scaled residuals: \n",
       "    Min      1Q  Median      3Q     Max \n",
       "-4.2455 -0.3476  0.1786  0.5282  2.7716 \n",
       "\n",
       "Random effects:\n",
       " Groups     Name        Variance Std.Dev.\n",
       " email_hash (Intercept) 2.868    1.693   \n",
       " Residual               3.556    1.886   \n",
       "Number of obs: 4997, groups:  email_hash, 707\n",
       "\n",
       "Fixed effects:\n",
       "             Estimate Std. Error        df t value Pr(>|t|)    \n",
       "(Intercept) 4.568e+00  8.019e-02 9.551e+02   56.97   <2e-16 ***\n",
       "intensity   2.471e+00  1.949e-01 4.980e+03   12.68   <2e-16 ***\n",
       "---\n",
       "Signif. codes:  0 ‘***’ 0.001 ‘**’ 0.01 ‘*’ 0.05 ‘.’ 0.1 ‘ ’ 1\n",
       "\n",
       "Correlation of Fixed Effects:\n",
       "          (Intr)\n",
       "intensity -0.441\n"
      ]
     },
     "metadata": {},
     "output_type": "display_data"
    }
   ],
   "source": [
    "%%R -i browser_df -w 5 -h 5 --units in -r 200\n",
    "\n",
    "# goodresult RESULT-INTENSITY-BROWSER-REDUCED-ALLGOALS\n",
    "\n",
    "# Does non-goal time spent per day on phone inversely depend on goal-time?\n",
    "browser_df$email_hash <- factor(browser_df$email_hash,  ordered=FALSE)\n",
    "results <- lmer(avg_goal_time ~ intensity + (1|email_hash), data = browser_df)\n",
    "summary(results)"
   ]
  },
  {
   "cell_type": "code",
   "execution_count": 345,
   "metadata": {},
   "outputs": [
    {
     "data": {
      "text/plain": [
       "Linear mixed model fit by REML. t-tests use Satterthwaite's method [\n",
       "lmerModLmerTest]\n",
       "Formula: other_time ~ intensity + (1 | email_hash) + (1 | num_goals)\n",
       "   Data: browser_df\n",
       "\n",
       "REML criterion at convergence: 17098.8\n",
       "\n",
       "Scaled residuals: \n",
       "    Min      1Q  Median      3Q     Max \n",
       "-7.0061 -0.3194  0.1524  0.5385  4.8186 \n",
       "\n",
       "Random effects:\n",
       " Groups     Name        Variance Std.Dev.\n",
       " email_hash (Intercept) 0.78171  0.8841  \n",
       " num_goals  (Intercept) 0.01262  0.1123  \n",
       " Residual               1.46503  1.2104  \n",
       "Number of obs: 4997, groups:  email_hash, 707; num_goals, 15\n",
       "\n",
       "Fixed effects:\n",
       "              Estimate Std. Error         df t value Pr(>|t|)    \n",
       "(Intercept)    8.52072    0.06331    5.18421  134.59 2.18e-10 ***\n",
       "intensity     -3.71710    0.12274 4903.92055  -30.28  < 2e-16 ***\n",
       "---\n",
       "Signif. codes:  0 ‘***’ 0.001 ‘**’ 0.01 ‘*’ 0.05 ‘.’ 0.1 ‘ ’ 1\n",
       "\n",
       "Correlation of Fixed Effects:\n",
       "          (Intr)\n",
       "intensity -0.371\n"
      ]
     },
     "metadata": {},
     "output_type": "display_data"
    }
   ],
   "source": [
    "%%R -i browser_df -w 5 -h 5 --units in -r 200\n",
    "# Does non-goal time spent per day on phone inversely depend on goal-time?\n",
    "browser_df$email_hash <- factor(browser_df$email_hash,  ordered=FALSE)\n",
    "results <- lmer(other_time ~ intensity + (1|email_hash) + (1|num_goals), data = browser_df)\n",
    "summary(results)"
   ]
  },
  {
   "cell_type": "code",
   "execution_count": 346,
   "metadata": {},
   "outputs": [
    {
     "data": {
      "text/plain": [
       "Linear mixed model fit by REML. t-tests use Satterthwaite's method [\n",
       "lmerModLmerTest]\n",
       "Formula: avg_goal_time ~ intensity + (1 | email_hash)\n",
       "   Data: browser_df\n",
       "\n",
       "REML criterion at convergence: 21742\n",
       "\n",
       "Scaled residuals: \n",
       "    Min      1Q  Median      3Q     Max \n",
       "-4.2455 -0.3476  0.1786  0.5282  2.7716 \n",
       "\n",
       "Random effects:\n",
       " Groups     Name        Variance Std.Dev.\n",
       " email_hash (Intercept) 2.868    1.693   \n",
       " Residual               3.556    1.886   \n",
       "Number of obs: 4997, groups:  email_hash, 707\n",
       "\n",
       "Fixed effects:\n",
       "             Estimate Std. Error        df t value Pr(>|t|)    \n",
       "(Intercept) 4.568e+00  8.019e-02 9.551e+02   56.97   <2e-16 ***\n",
       "intensity   2.471e+00  1.949e-01 4.980e+03   12.68   <2e-16 ***\n",
       "---\n",
       "Signif. codes:  0 ‘***’ 0.001 ‘**’ 0.01 ‘*’ 0.05 ‘.’ 0.1 ‘ ’ 1\n",
       "\n",
       "Correlation of Fixed Effects:\n",
       "          (Intr)\n",
       "intensity -0.441\n"
      ]
     },
     "metadata": {},
     "output_type": "display_data"
    }
   ],
   "source": [
    "%%R -i browser_df -w 5 -h 5 --units in -r 200\n",
    "# Does non-goal time spent per day on phone inversely depend on goal-time?\n",
    "browser_df$email_hash <- factor(browser_df$email_hash,  ordered=FALSE)\n",
    "results <- lmer(avg_goal_time ~ intensity + (1|email_hash), data = browser_df)\n",
    "summary(results)"
   ]
  },
  {
   "cell_type": "code",
   "execution_count": 347,
   "metadata": {},
   "outputs": [
    {
     "data": {
      "text/plain": [
       "Linear mixed model fit by REML. t-tests use Satterthwaite's method [\n",
       "lmerModLmerTest]\n",
       "Formula: avg_goal_time ~ intensity + (1 | email_hash)\n",
       "   Data: browser_df\n",
       "\n",
       "REML criterion at convergence: 21742\n",
       "\n",
       "Scaled residuals: \n",
       "    Min      1Q  Median      3Q     Max \n",
       "-4.2455 -0.3476  0.1786  0.5282  2.7716 \n",
       "\n",
       "Random effects:\n",
       " Groups     Name        Variance Std.Dev.\n",
       " email_hash (Intercept) 2.868    1.693   \n",
       " Residual               3.556    1.886   \n",
       "Number of obs: 4997, groups:  email_hash, 707\n",
       "\n",
       "Fixed effects:\n",
       "             Estimate Std. Error        df t value Pr(>|t|)    \n",
       "(Intercept) 4.568e+00  8.019e-02 9.551e+02   56.97   <2e-16 ***\n",
       "intensity   2.471e+00  1.949e-01 4.980e+03   12.68   <2e-16 ***\n",
       "---\n",
       "Signif. codes:  0 ‘***’ 0.001 ‘**’ 0.01 ‘*’ 0.05 ‘.’ 0.1 ‘ ’ 1\n",
       "\n",
       "Correlation of Fixed Effects:\n",
       "          (Intr)\n",
       "intensity -0.441\n"
      ]
     },
     "metadata": {},
     "output_type": "display_data"
    }
   ],
   "source": [
    "%%R -i browser_df -w 5 -h 5 --units in -r 200\n",
    "# Does non-goal time spent per day on phone inversely depend on goal-time?\n",
    "browser_df$email_hash <- factor(browser_df$email_hash,  ordered=FALSE)\n",
    "results <- lmer(avg_goal_time ~  intensity + (1|email_hash), data = browser_df)\n",
    "summary(results)"
   ]
  },
  {
   "cell_type": "code",
   "execution_count": 348,
   "metadata": {},
   "outputs": [
    {
     "data": {
      "text/plain": [
       "Linear mixed model fit by REML. t-tests use Satterthwaite's method [\n",
       "lmerModLmerTest]\n",
       "Formula: avg_freq_time ~ intensity + (1 | email_hash)\n",
       "   Data: browser_df\n",
       "\n",
       "REML criterion at convergence: 21496.7\n",
       "\n",
       "Scaled residuals: \n",
       "    Min      1Q  Median      3Q     Max \n",
       "-3.5534 -0.5227 -0.0365  0.4808  4.0497 \n",
       "\n",
       "Random effects:\n",
       " Groups     Name        Variance Std.Dev.\n",
       " email_hash (Intercept) 3.229    1.797   \n",
       " Residual               3.314    1.821   \n",
       "Number of obs: 4997, groups:  email_hash, 707\n",
       "\n",
       "Fixed effects:\n",
       "             Estimate Std. Error        df t value Pr(>|t|)    \n",
       "(Intercept) 2.669e+00  8.261e-02 9.135e+02  32.307  < 2e-16 ***\n",
       "intensity   1.086e+00  1.898e-01 4.945e+03   5.722 1.11e-08 ***\n",
       "---\n",
       "Signif. codes:  0 ‘***’ 0.001 ‘**’ 0.01 ‘*’ 0.05 ‘.’ 0.1 ‘ ’ 1\n",
       "\n",
       "Correlation of Fixed Effects:\n",
       "          (Intr)\n",
       "intensity -0.417\n"
      ]
     },
     "metadata": {},
     "output_type": "display_data"
    }
   ],
   "source": [
    "%%R -i browser_df -w 5 -h 5 --units in -r 200\n",
    "\n",
    "# goodresult RESULT-INTENSITY-BROWSER-REDUCED\n",
    "\n",
    "# Does non-goal time spent per day on phone inversely depend on goal-time?\n",
    "browser_df$email_hash <- factor(browser_df$email_hash,  ordered=FALSE)\n",
    "results <- lmer(avg_freq_time ~ intensity + (1|email_hash), data = browser_df)\n",
    "summary(results)"
   ]
  },
  {
   "cell_type": "code",
   "execution_count": 349,
   "metadata": {
    "scrolled": false
   },
   "outputs": [
    {
     "data": {
      "text/plain": [
       "Linear mixed model fit by REML. t-tests use Satterthwaite's method [\n",
       "lmerModLmerTest]\n",
       "Formula: avg_freq_time ~ intensity + (1 | email_hash)\n",
       "   Data: browser_df\n",
       "\n",
       "REML criterion at convergence: 21496.7\n",
       "\n",
       "Scaled residuals: \n",
       "    Min      1Q  Median      3Q     Max \n",
       "-3.5534 -0.5227 -0.0365  0.4808  4.0497 \n",
       "\n",
       "Random effects:\n",
       " Groups     Name        Variance Std.Dev.\n",
       " email_hash (Intercept) 3.229    1.797   \n",
       " Residual               3.314    1.821   \n",
       "Number of obs: 4997, groups:  email_hash, 707\n",
       "\n",
       "Fixed effects:\n",
       "             Estimate Std. Error        df t value Pr(>|t|)    \n",
       "(Intercept) 2.669e+00  8.261e-02 9.135e+02  32.307  < 2e-16 ***\n",
       "intensity   1.086e+00  1.898e-01 4.945e+03   5.722 1.11e-08 ***\n",
       "---\n",
       "Signif. codes:  0 ‘***’ 0.001 ‘**’ 0.01 ‘*’ 0.05 ‘.’ 0.1 ‘ ’ 1\n",
       "\n",
       "Correlation of Fixed Effects:\n",
       "          (Intr)\n",
       "intensity -0.417\n"
      ]
     },
     "metadata": {},
     "output_type": "display_data"
    }
   ],
   "source": [
    "%%R -i browser_df -w 5 -h 5 --units in -r 200\n",
    "\n",
    "# goodresult RESULT-INTENSITY-BROWSER-REDUCED\n",
    "\n",
    "# Does non-goal time spent per day on phone inversely depend on goal-time?\n",
    "browser_df$email_hash <- factor(browser_df$email_hash,  ordered=FALSE)\n",
    "results <- lmer(avg_freq_time ~ intensity + (1|email_hash), data = browser_df)\n",
    "summary(results)"
   ]
  },
  {
   "cell_type": "code",
   "execution_count": 350,
   "metadata": {},
   "outputs": [
    {
     "data": {
      "text/plain": [
       "Linear mixed model fit by REML. t-tests use Satterthwaite's method [\n",
       "lmerModLmerTest]\n",
       "Formula: avg_infreq_time ~ intensity + (1 | email_hash)\n",
       "   Data: browser_df\n",
       "\n",
       "REML criterion at convergence: 21089\n",
       "\n",
       "Scaled residuals: \n",
       "    Min      1Q  Median      3Q     Max \n",
       "-4.3206 -0.5055 -0.0257  0.4662  3.9951 \n",
       "\n",
       "Random effects:\n",
       " Groups     Name        Variance Std.Dev.\n",
       " email_hash (Intercept) 3.440    1.855   \n",
       " Residual               2.997    1.731   \n",
       "Number of obs: 4997, groups:  email_hash, 707\n",
       "\n",
       "Fixed effects:\n",
       "             Estimate Std. Error        df t value Pr(>|t|)    \n",
       "(Intercept) 2.717e+00  8.331e-02 8.784e+02  32.615  < 2e-16 ***\n",
       "intensity   9.271e-01  1.817e-01 4.904e+03   5.103 3.48e-07 ***\n",
       "---\n",
       "Signif. codes:  0 ‘***’ 0.001 ‘**’ 0.01 ‘*’ 0.05 ‘.’ 0.1 ‘ ’ 1\n",
       "\n",
       "Correlation of Fixed Effects:\n",
       "          (Intr)\n",
       "intensity -0.396\n"
      ]
     },
     "metadata": {},
     "output_type": "display_data"
    }
   ],
   "source": [
    "%%R -i browser_df -w 5 -h 5 --units in -r 200\n",
    "# Does non-goal time spent per day on phone inversely depend on goal-time?\n",
    "browser_df$email_hash <- factor(browser_df$email_hash,  ordered=FALSE)\n",
    "results <- lmer(avg_infreq_time ~ intensity + (1|email_hash), data = browser_df)\n",
    "summary(results)"
   ]
  },
  {
   "cell_type": "code",
   "execution_count": 351,
   "metadata": {},
   "outputs": [
    {
     "data": {
      "text/plain": [
       "Linear mixed model fit by REML. t-tests use Satterthwaite's method [\n",
       "lmerModLmerTest]\n",
       "Formula: freq_frac_time ~ intensity + (1 | email_hash)\n",
       "   Data: browser_df\n",
       "\n",
       "REML criterion at convergence: -2767.3\n",
       "\n",
       "Scaled residuals: \n",
       "    Min      1Q  Median      3Q     Max \n",
       "-3.1681 -0.4830 -0.1675  0.2721  5.3778 \n",
       "\n",
       "Random effects:\n",
       " Groups     Name        Variance Std.Dev.\n",
       " email_hash (Intercept) 0.01168  0.1081  \n",
       " Residual               0.02816  0.1678  \n",
       "Number of obs: 4997, groups:  email_hash, 707\n",
       "\n",
       "Fixed effects:\n",
       "             Estimate Std. Error        df t value Pr(>|t|)    \n",
       "(Intercept) 8.556e-02  5.819e-03 9.333e+02   14.70   <2e-16 ***\n",
       "intensity   3.817e-01  1.672e-02 4.904e+03   22.83   <2e-16 ***\n",
       "---\n",
       "Signif. codes:  0 ‘***’ 0.001 ‘**’ 0.01 ‘*’ 0.05 ‘.’ 0.1 ‘ ’ 1\n",
       "\n",
       "Correlation of Fixed Effects:\n",
       "          (Intr)\n",
       "intensity -0.520\n"
      ]
     },
     "metadata": {},
     "output_type": "display_data"
    }
   ],
   "source": [
    "%%R -i browser_df -w 5 -h 5 --units in -r 200\n",
    "# Does non-goal time spent per day on phone inversely depend on goal-time?\n",
    "browser_df$email_hash <- factor(browser_df$email_hash,  ordered=FALSE)\n",
    "results <- lmer(freq_frac_time ~ intensity + (1|email_hash), data = browser_df)\n",
    "summary(results)"
   ]
  },
  {
   "cell_type": "code",
   "execution_count": 352,
   "metadata": {},
   "outputs": [
    {
     "data": {
      "text/plain": [
       "Linear mixed model fit by REML. t-tests use Satterthwaite's method [\n",
       "lmerModLmerTest]\n",
       "Formula: infreq_frac_time ~ intensity + (1 | email_hash)\n",
       "   Data: browser_df\n",
       "\n",
       "REML criterion at convergence: -2660.9\n",
       "\n",
       "Scaled residuals: \n",
       "    Min      1Q  Median      3Q     Max \n",
       "-4.8025 -0.4909 -0.1624  0.3097  4.8513 \n",
       "\n",
       "Random effects:\n",
       " Groups     Name        Variance Std.Dev.\n",
       " email_hash (Intercept) 0.01435  0.1198  \n",
       " Residual               0.02821  0.1679  \n",
       "Number of obs: 4997, groups:  email_hash, 707\n",
       "\n",
       "Fixed effects:\n",
       "             Estimate Std. Error        df t value Pr(>|t|)    \n",
       "(Intercept) 1.035e-01  6.174e-03 9.703e+02   16.77   <2e-16 ***\n",
       "intensity   3.489e-01  1.694e-02 4.972e+03   20.60   <2e-16 ***\n",
       "---\n",
       "Signif. codes:  0 ‘***’ 0.001 ‘**’ 0.01 ‘*’ 0.05 ‘.’ 0.1 ‘ ’ 1\n",
       "\n",
       "Correlation of Fixed Effects:\n",
       "          (Intr)\n",
       "intensity -0.497\n"
      ]
     },
     "metadata": {},
     "output_type": "display_data"
    }
   ],
   "source": [
    "%%R -i browser_df -w 5 -h 5 --units in -r 200\n",
    "# Does non-goal time spent per day on phone inversely depend on goal-time?\n",
    "browser_df$email_hash <- factor(browser_df$email_hash,  ordered=FALSE)\n",
    "results <- lmer(infreq_frac_time ~ intensity + (1|email_hash), data = browser_df)\n",
    "summary(results)"
   ]
  },
  {
   "cell_type": "code",
   "execution_count": 353,
   "metadata": {},
   "outputs": [
    {
     "data": {
      "image/png": "[encoded data removed]",
      "text/plain": [
       "<Figure size 432x288 with 1 Axes>"
      ]
     },
     "metadata": {},
     "output_type": "display_data"
    },
    {
     "data": {
      "image/png": "[encoded data removed]",
      "text/plain": [
       "<Figure size 432x288 with 1 Axes>"
      ]
     },
     "metadata": {},
     "output_type": "display_data"
    }
   ],
   "source": [
    "\n",
    "freq_time = [0,0]\n",
    "infreq_time = [0,0]\n",
    "other_time = [0,0]\n",
    "for day in browser_days:\n",
    "    if day[INTENSITY] <.5:\n",
    "        freq_time[0] += math.exp(day[FREQ_TIME])\n",
    "        infreq_time[0] += math.exp(day[INFREQ_TIME])\n",
    "        other_time[0] += math.exp(day[OTHER_TIME])\n",
    "    elif day[INTENSITY] > .5:\n",
    "        freq_time[1] += math.exp(day[FREQ_TIME])\n",
    "        infreq_time[1] += math.exp(day[INFREQ_TIME])\n",
    "        other_time[1] += math.exp(day[OTHER_TIME])   \n",
    "for i in range(0,2):\n",
    "    pyplot.figure(765 + i)\n",
    "    labels = 'Freq Time', 'Infreq Time', 'Other Time'\n",
    "    sizes = [freq_time[i], infreq_time[i], other_time[i]]\n",
    "    explode = (0.1, 0.1, 0)  # only \"explode\" the 2nd slice (i.e. 'Hogs')\n",
    "    pyplot.pie(sizes, explode=explode, labels=labels, autopct='%1.1f%%',\n",
    "            shadow=True, startangle=90)\n",
    "    pyplot.axis('equal')  # Equal aspect ratio ensures that pie is drawn as a circle.\n",
    "    pyplot.title(\"Distribution of Time with Intensity \" + (\"<\" if i == 0 else \">\") + \".5\")"
   ]
  },
  {
   "cell_type": "code",
   "execution_count": 354,
   "metadata": {},
   "outputs": [
    {
     "name": "stdout",
     "output_type": "stream",
     "text": [
      "0.08816328305377098\n"
     ]
    },
    {
     "data": {
      "image/png": "[encoded data removed]",
      "text/plain": [
       "<Figure size 432x288 with 1 Axes>"
      ]
     },
     "metadata": {
      "needs_background": "light"
     },
     "output_type": "display_data"
    }
   ],
   "source": [
    "intensities = []\n",
    "avg_freq_time = []\n",
    "avg_infreq_time = []\n",
    "ratio = []\n",
    "from scipy import stats\n",
    "for item in browser_days:\n",
    "    if item[AVG_INFREQ_TIME] > 0 and item[AVG_FREQ_TIME] > 0:\n",
    "        intensities.append(item[INTENSITY])\n",
    "        avg_freq_time.append(item[AVG_FREQ_TIME])\n",
    "        avg_infreq_time.append(item[AVG_INFREQ_TIME])\n",
    "        ratio.append(item[AVG_FREQ_TIME]/item[AVG_INFREQ_TIME])\n",
    "pyplot.figure(6246)\n",
    "pyplot.title(\"Ratio of Average Frequent Goal Time to Average Infrequent Goal Time vs Intensity\")\n",
    "pyplot.xlabel(\"Intensity (fraction of frequent goals)\")\n",
    "pyplot.ylabel(\"Ratio\")\n",
    "pyplot.scatter(intensities, ratio)\n",
    "slope, intercept, r_value, p_value, std_err = stats.linregress(intensities,ratio)\n",
    "print(r_value)"
   ]
  },
  {
   "cell_type": "code",
   "execution_count": 488,
   "metadata": {},
   "outputs": [
    {
     "data": {
      "text/plain": [
       "<BarContainer object of 2 artists>"
      ]
     },
     "execution_count": 488,
     "metadata": {},
     "output_type": "execute_result"
    },
    {
     "data": {
      "image/png": "[encoded data removed]",
      "text/plain": [
       "<Figure size 432x288 with 1 Axes>"
      ]
     },
     "metadata": {
      "needs_background": "light"
     },
     "output_type": "display_data"
    }
   ],
   "source": [
    "# Now let's try to generate that graph we made for Android -> change in time when goal changes frequency setting\n",
    "user_goal_freq_avg = {}\n",
    "for day in browser_days:\n",
    "    user = day[HASH]\n",
    "    if user not in user_goal_freq_avg:\n",
    "        user_goal_freq_avg[user] = {}\n",
    "    for goal_data in day[GOAL_TIMES]:\n",
    "        if goal_data['goal'] != \"www\":\n",
    "            if goal not in user_goal_freq_avg[user]:\n",
    "                user_goal_freq_avg[user][goal] = {\"time\": {\"frequent\": [], \"infrequent\": []}, \"other\": {\"frequent\": [], \"infrequent\": []}}\n",
    "            if (math.exp(day[TOTAL_TIME]) - math.exp(goal_data[\"time\"])) > 0:\n",
    "                user_goal_freq_avg[user][goal][\"time\"][goal_data[\"frequency\"]].append(math.exp(goal_data[\"time\"]))\n",
    "                user_goal_freq_avg[user][goal][\"other\"][goal_data[\"frequency\"]].append((math.exp(day[GOAL_TIME]) - math.exp(goal_data[\"time\"])))\n",
    "change_in_goal_time = []\n",
    "change_in_other_time = []\n",
    "for user in user_goal_freq_avg:\n",
    "    for goal in user_goal_freq_avg[user]:\n",
    "        goal_data = user_goal_freq_avg[user][goal]\n",
    "        if len(goal_data[\"time\"][\"frequent\"]) > 0 and len(goal_data[\"time\"][\"infrequent\"]) > 0:\n",
    "            mean_freq_time = mean(goal_data[\"time\"][\"frequent\"])\n",
    "            mean_infreq_time = mean(goal_data[\"time\"][\"infrequent\"])\n",
    "            mean_freq_other = mean(goal_data[\"other\"][\"frequent\"])\n",
    "            mean_infreq_other = mean(goal_data[\"other\"][\"infrequent\"])\n",
    "            change_in_goal_time.append(mean_freq_time - mean_infreq_time)\n",
    "            change_in_other_time.append(mean_freq_other - mean_infreq_other)\n",
    "pyplot.title(\"Effect of Increasing Interventions on Goal Time and Other Time\")\n",
    "pyplot.ylabel(\"Change in time (s)\")\n",
    "pyplot.bar([\"Change in goal time\", \"Change in other time\"], [(mean(change_in_goal_time)), mean(change_in_other_time)] , .8, yerr=[1.96 * sem(change_in_goal_time), 1.96 * sem(change_in_other_time)])\n",
    "    "
   ]
  },
  {
   "cell_type": "code",
   "execution_count": null,
   "metadata": {},
   "outputs": [],
   "source": [
    "pyplot.figure(123)\n",
    "pyplot.hist([day[INTENSITY] for day in browser_days])"
   ]
  },
  {
   "cell_type": "code",
   "execution_count": null,
   "metadata": {},
   "outputs": [],
   "source": []
  },
  {
   "cell_type": "code",
   "execution_count": null,
   "metadata": {},
   "outputs": [],
   "source": []
  },
  {
   "cell_type": "code",
   "execution_count": null,
   "metadata": {},
   "outputs": [],
   "source": []
  },
  {
   "cell_type": "code",
   "execution_count": null,
   "metadata": {},
   "outputs": [],
   "source": []
  }
 ],
 "metadata": {
  "kernelspec": {
   "display_name": "Python 3",
   "language": "python",
   "name": "python3"
  },
  "language_info": {
   "codemirror_mode": {
    "name": "ipython",
    "version": 3
   },
   "file_extension": ".py",
   "mimetype": "text/x-python",
   "name": "python",
   "nbconvert_exporter": "python",
   "pygments_lexer": "ipython3",
   "version": "3.6.5"
  }
 },
 "nbformat": 4,
 "nbformat_minor": 2
}
