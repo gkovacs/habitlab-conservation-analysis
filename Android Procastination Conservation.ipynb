{
 "cells": [
  {
   "cell_type": "code",
   "execution_count": null,
   "metadata": {},
   "outputs": [],
   "source": [
    "import sys\n",
    "!{sys.executable} -m pip install pymongo\n",
    "!{sys.executable} -m pip install pyyaml\n",
    "!{sys.executable} -m pip install matplotlib\n",
    "!{sys.executable} -m pip install scipy\n",
    "!{sys.executable} -m pip install pandas\n",
    "import os\n",
    "print(os.getcwd())\n",
    "\n"
   ]
  },
  {
   "cell_type": "code",
   "execution_count": null,
   "metadata": {},
   "outputs": [],
   "source": [
    "# Get Mongo database\n",
    "from yaml import load\n",
    "from pymongo import MongoClient\n",
    "from getsecret import getsecret\n",
    "\n",
    "client = MongoClient(getsecret(\"MONGODB_URI\"))\n",
    "db = client[getsecret(\"DB_NAME\")]"
   ]
  },
  {
   "cell_type": "code",
   "execution_count": null,
   "metadata": {},
   "outputs": [],
   "source": [
    "# Get all synced accounts and their respective users.\n",
    "import urllib.request as req\n",
    "import json\n",
    "accounts = json.loads(req.urlopen(\"http://localhost:5000/synced_emails\").read().decode(\"utf-8\"))"
   ]
  },
  {
   "cell_type": "code",
   "execution_count": null,
   "metadata": {},
   "outputs": [],
   "source": [
    "# Organize sessions by goal and frequent vs. infrequent for Android\n",
    "goals = {}\n",
    "print(\"Beginning\")\n",
    "for account in accounts:\n",
    "    \n",
    "    for user in account[\"android\"]:\n",
    "        print(user)\n",
    "        for session in db[user + \"_sessions\"].find({\"enabled\": True}):\n",
    "            domain = session[\"domain\"]\n",
    "            if domain not in goals:\n",
    "                goals[domain] = {\"freq\":[], \"infreq\":[]}\n",
    "            if session[\"frequent\"]:\n",
    "                goals[domain][\"freq\"].append(session)\n",
    "            else:\n",
    "                goals[domain][\"infreq\"].append(session)"
   ]
  },
  {
   "cell_type": "code",
   "execution_count": null,
   "metadata": {},
   "outputs": [],
   "source": [
    "import matplotlib.pyplot as pyplot\n",
    "from statistics import mean, median\n",
    "from scipy.stats import sem, norm \n",
    "# Now show graphs for each domain to compare frequent sessions vs infrequent sessions.\n",
    "domain_stats = []\n",
    "for domain in goals:\n",
    "    if len(goals[domain][\"freq\"]) > 0 and len(goals[domain][\"infreq\"]) > 0:\n",
    "        freq_durations = [session[\"duration\"] for session in goals[domain][\"freq\"]]\n",
    "        freq_avg = mean(freq_durations)\n",
    "        freq_err = sem(freq_durations)\n",
    "        infreq_durations = [session[\"duration\"] for session in goals[domain][\"infreq\"]] \n",
    "        infreq_avg = mean(infreq_durations)\n",
    "        infreq_err = sem(infreq_durations)\n",
    "        domain_stats.append({\"domain\": domain, \"freq\": freq_avg, \n",
    "                             \"infreq\": infreq_avg, \"freq_pts\":len(goals[domain][\"freq\"]),\n",
    "                            \"infreq_pts\":len(goals[domain][\"infreq\"]), \"freq_err\": freq_err,\n",
    "                            \"infreq_err\": infreq_err})\n",
    "\n",
    "        domain_stats = sorted(domain_stats, key=lambda stat: int(stat[\"freq_pts\"] + stat[\"infreq_pts\"]))\n",
    "counter = 0\n",
    "for stat in domain_stats:\n",
    "    print(int(stat[\"freq_pts\"] + stat[\"infreq_pts\"]))\n",
    "    print(stat['domain'] + \" with \" + str(stat[\"freq_pts\"]) + \" freq points \" + \" and \" + str(stat[\"infreq_pts\"]) + \" infreq pts\")\n",
    "    print(\"freq avg: \" + str(stat[\"freq\"]))\n",
    "    print(\"infreq avg: \" + str(stat[\"infreq\"]))\n",
    "    print(\"\")\n",
    "    # If there is a statistically significant difference (95% conf intervals don't overlap), we will show the graph.\n",
    "    if stat[\"freq\"] - 1.64 * stat[\"freq_err\"] > stat[\"infreq\"] + 1.64 * stat[\"infreq_err\"] or stat[\"infreq\"] -  1.64 * stat[\"infreq_err\"] > stat[\"freq\"] + 1.64 * stat[\"freq_err\"]:\n",
    "        pyplot.figure(counter)\n",
    "        counter += 1\n",
    "        pyplot.title(stat[\"domain\"])\n",
    "        pyplot.ylabel('Average session duration')\n",
    "        pyplot.bar([\"sessions with frequent setting\", \"sessions with infrequent setting\"], [stat[\"freq\"], stat[\"infreq\"]] , .8, yerr=[1.64 * stat[\"freq_err\"], 1.64 * stat[\"infreq_err\"]])\n",
    "    "
   ]
  },
  {
   "cell_type": "code",
   "execution_count": null,
   "metadata": {},
   "outputs": [],
   "source": [
    "improvement_stats = {\"freq\": [], \"infreq\": []}\n",
    "for account in accounts:\n",
    "    for user in account[\"android\"]:\n",
    "        # We now want to see if they have goals that have alternated from freq to infreq.\n",
    "        goals={}\n",
    "        for session in db[user + \"_sessions\"].find({\"enabled\": True}):\n",
    "            domain = session[\"domain\"]\n",
    "            if domain not in goals:\n",
    "                goals[domain] = {\"freq_duration\":0, \"freq_count\": 0, \"infreq_duration\":0, \"infreq_count\":0}\n",
    "            if session[\"frequent\"]:\n",
    "                goals[domain][\"freq_duration\"] += session[\"duration\"]\n",
    "                goals[domain][\"freq_count\"] += 1\n",
    "            else:\n",
    "                goals[domain][\"infreq_duration\"] += session[\"duration\"]\n",
    "                goals[domain][\"infreq_count\"] += 1\n",
    "        # Compute averages\n",
    "        for domain in goals:\n",
    "            print(str(goals[domain][\"freq_count\"]) + \" \" + str(goals[domain][\"infreq_count\"]) )\n",
    "            if goals[domain][\"freq_count\"] > 20 and goals[domain][\"infreq_count\"] > 20:\n",
    "                freq_avg = goals[domain][\"freq_duration\"]/goals[domain][\"freq_count\"]\n",
    "                infreq_avg = goals[domain][\"infreq_duration\"]/goals[domain][\"infreq_count\"]\n",
    "                # print(\"for \" + user +\": \" + str(freq_avg) + \" \" + str(infreq_avg))\n",
    "                improvement_stats[\"freq\"].append(freq_avg)\n",
    "                improvement_stats[\"infreq\"].append(infreq_avg)\n"
   ]
  },
  {
   "cell_type": "code",
   "execution_count": null,
   "metadata": {},
   "outputs": [],
   "source": [
    "from scipy.stats import ttest_ind\n",
    "print(str(len(improvement_stats[\"freq\"])))\n",
    "print(str(improvement_stats))\n",
    "results = ttest_ind(improvement_stats[\"freq\"], improvement_stats[\"infreq\"])\n",
    "print(str(results))"
   ]
  },
  {
   "cell_type": "code",
   "execution_count": null,
   "metadata": {},
   "outputs": [],
   "source": [
    "\n",
    "# Now let's analyze which interventions are most effective.\n",
    "import matplotlib.pyplot as pyplot\n",
    "interventions = {}\n",
    "for account in accounts:\n",
    "    for user in account[\"android\"]:\n",
    "        for session in db[user + \"_sessions\"].find({\"enabled\": True}):\n",
    "            if \"interventions\" in session:\n",
    "                for intervention in session[\"interventions\"]:\n",
    "                    intervention_name = intervention[\"intervention\"]\n",
    "                    if intervention_name not in interventions:\n",
    "                        interventions[intervention_name] = {\"total\": 0, \"count\": 0}\n",
    "                    interventions[intervention_name][\"total\"] += session[\"duration\"]\n",
    "                    interventions[intervention_name][\"count\"] += 1 \n",
    "\"\"\"\n",
    "\"\"\"\n",
    "pyplot.figure(counter)\n",
    "counter += 1\n",
    "pyplot.title('Average Session Duration When Assigned Interventions')\n",
    "pyplot.ylabel('Average Session Duration (s)')\n",
    "pyplot.xticks(rotation=90)\n",
    "pyplot.bar([name for name in interventions], [interventions[name][\"total\"]/interventions[name][\"count\"] for name in interventions])\n"
   ]
  },
  {
   "cell_type": "code",
   "execution_count": null,
   "metadata": {},
   "outputs": [],
   "source": [
    "# Let's get the distribution of session lengths (hopefully log-norm for LMM)\n",
    "import math\n",
    "session_durations = []\n",
    "for account in accounts:\n",
    "    for user in account[\"android\"]:\n",
    "        for session in db[user + \"_sessions\"].find({\"enabled\": True}):\n",
    "            if session[\"duration\"] > 5 and \"interventions\" in session and \"frequent\" in session:\n",
    "                session_durations.append({\"frequent\": session[\"frequent\"], \"duration\": math.log(session[\"duration\"]), \"interventions\": session[\"interventions\"], \"user\": user, \"goal\": session[\"domain\"]})\n",
    "\"\"\"\n",
    "pyplot.figure(counter)\n",
    "counter += 1\n",
    "pyplot.hist([session[\"duration\"] for session in session_durations], bins=50)\n",
    "from scipy.stats import shapiro\n",
    "print(shapiro([session[\"duration\"] for session in session_durations]))\n",
    "\"\"\""
   ]
  },
  {
   "cell_type": "code",
   "execution_count": null,
   "metadata": {},
   "outputs": [],
   "source": [
    "#Ehh.... our Shapiro test didn't fare too well, but we'll export to a CSV and let Geza run an LMM anyway.\n",
    "import csv\n",
    "with open('sessions_for_intervention.csv', 'w', newline='') as file:\n",
    "    writer = csv.writer(file)\n",
    "    writer.writerow(['frequent', 'duration (log(s))', 'interventions', 'user', 'goal'])\n",
    "    for session in session_durations:\n",
    "        writer.writerow([session[name] for name in session])"
   ]
  },
  {
   "cell_type": "code",
   "execution_count": null,
   "metadata": {},
   "outputs": [],
   "source": [
    "# Now, let's see which version is responsible for the super low sessions (it was a bug)\n",
    "version_counts = {}\n",
    "for account in accounts:\n",
    "    for user in account[\"android\"]:\n",
    "        for session in db[user + \"_sessions\"].find({\"enabled\": True, \"version\": {\"$exists\": True}}):\n",
    "            version = session[\"version\"]\n",
    "            if version not in version_counts:\n",
    "                version_counts[version] = {\"small\": 0, \"all\": 0}\n",
    "            version_counts[version][\"all\"] += 1\n",
    "            if session[\"duration\"] < 1:\n",
    "                version_counts[version][\"small\"] += 1\n",
    "print([str(version) + \":\" + str(version_counts[version][\"small\"]/version_counts[version][\"all\"]) + \" \" for version in version_counts])\n"
   ]
  },
  {
   "cell_type": "code",
   "execution_count": null,
   "metadata": {},
   "outputs": [],
   "source": [
    "# Now, let's do some clean up.\n",
    "# ABORT: VERY FEW HABITLAB SESSIONS First, we should remove 0-length sessions. They really shouldn't happen.\n",
    "# Next, we should also remove sessions that are longer than a day. That was because of a bug in my code.\n",
    "\n"
   ]
  },
  {
   "cell_type": "markdown",
   "metadata": {},
   "source": []
  },
  {
   "cell_type": "code",
   "execution_count": null,
   "metadata": {},
   "outputs": [],
   "source": []
  },
  {
   "cell_type": "code",
   "execution_count": null,
   "metadata": {},
   "outputs": [],
   "source": [
    "# Find number of users who didn't make it past onboarding.\n",
    "num_users = 0\n",
    "num_quit_users = 0\n",
    "collections = db.list_collection_names()\n",
    "for account in accounts:\n",
    "    for user in account[\"android\"]:\n",
    "        num_users += 1\n",
    "        if user+\"_sessions\" not in collections:\n",
    "            num_quit_users += 1\n",
    "print(\"Total Android users: \" + str(num_users))\n",
    "print(\"Android users who didn't make it past onboarding: \" + str(num_quit_users))\n",
    "print(\"% of quitters: \" + str(num_quit_users/num_users))"
   ]
  },
  {
   "cell_type": "code",
   "execution_count": null,
   "metadata": {},
   "outputs": [],
   "source": [
    "import pandas\n",
    "from statistics import mean\n",
    "# Analyze conservation within Android\n",
    "total_sessions_per_day = 0\n",
    "count_sessions_per_day = 0\n",
    "for account in accounts:\n",
    "    for user in account[\"android\"]:\n",
    "        sessions_per_day = {}\n",
    "        for session in db[user + \"_sessions\"].find():\n",
    "            ts = pandas.Timestamp(ts_input=session[\"timestamp\"], unit=\"ms\")\n",
    "            day = str(ts.year) + str(ts.month) + str(ts.day)\n",
    "            if day not in sessions_per_day:\n",
    "                sessions_per_day[day] = 0\n",
    "            sessions_per_day[day] += 1\n",
    "        arr = [sessions_per_day[day] for day in sessions_per_day]\n",
    "        if (len(arr) > 0):\n",
    "            total_sessions_per_day += mean(arr)\n",
    "            count_sessions_per_day += 1\n",
    "print(str(total_sessions_per_day/count_sessions_per_day))\n",
    "        \n",
    "        "
   ]
  },
  {
   "cell_type": "code",
   "execution_count": null,
   "metadata": {},
   "outputs": [],
   "source": [
    "ANDROID = \"android\"\n",
    "BROWSER = \"browser\"\n",
    "SHARED = \"shared\"\n",
    "SPEND_LESS_TIME_LENGTH = len(\"custom/spend_less_time_\")\n",
    "# Associate users with domain name which will function as our key.\n",
    "def get_name(name, device):\n",
    "    \"\"\"\n",
    "    @param name: goal name (package name for Android)\n",
    "    @param device: \"android\" or \"browser\"\n",
    "    @return name of goal with subdomains removed and goal annotation removed (i.e. spend_less_time)\n",
    "    \"\"\"\n",
    "    name = name.lower()\n",
    "    if device == ANDROID: \n",
    "        subs = list(filter(lambda x: x != \"android\" and x != \"google\", name.split('.')))\n",
    "        if len(subs) < 2:\n",
    "            return subs[0]\n",
    "        return subs[1]\n",
    "    # must be custom browser goal\n",
    "    if \"custom\" in name:\n",
    "        name = name[SPEND_LESS_TIME_LENGTH:]\n",
    "        subs = name.split('.')\n",
    "        if len(subs) < 2:\n",
    "            return subs[0]\n",
    "        return subs[len(subs) - 2]\n",
    "    # Must be normal browser goal\n",
    "    return name.split('/spend')[0]\n",
    "        \n",
    "    \n",
    "def organize_stats(shared_goals, stats, device):\n",
    "    \"\"\"\n",
    "    Organizes that stats object into shared_goals for device.\n",
    "    @param shared_goals: dictionary\n",
    "    @param stats:  stats object returned from freq_stats\n",
    "    @param device: ANDROID or BROWSER\n",
    "    \"\"\"\n",
    "    for iso in stats:\n",
    "        for freq in stats[iso]:\n",
    "            for goal in stats[iso][freq]:\n",
    "                name = get_name(goal, device)\n",
    "                if name not in shared_goals:\n",
    "                    shared_goals[name] = {ANDROID: {}, BROWSER: {}}\n",
    "                shared_goals[name][device][goal] = freq\n",
    "                if len(shared_goals[name][ANDROID]) > 0 and len(shared_goals[name][BROWSER]) > 0:\n",
    "                    shared_goals[SHARED].append(name)\n",
    "\n",
    "\"\"\"\n",
    "Unit Tests:\n",
    "print(get_name(\"custom/spend_less_time_gizmodo.com\", BROWSER))\n",
    "print(get_name(\"facebook/spend_less_time\", BROWSER))\n",
    "print(get_name(\"com.duolingo\", ANDROID))\n",
    "print(get_name(\"com.android.chrome\", ANDROID))\n",
    "\"\"\"\n"
   ]
  },
  {
   "cell_type": "code",
   "execution_count": null,
   "metadata": {},
   "outputs": [],
   "source": [
    "# Analyze conservation across devices\n",
    "shared_data = {}\n",
    "for account in accounts:\n",
    "    shared_goals = {SHARED: []}\n",
    "    if len(account[ANDROID]) > 0 and len(account[BROWSER]) > 0: # It's possible they have overlapping goals.\n",
    "        for user in account[ANDROID]:\n",
    "            stats = json.loads(req.urlopen(\"http://localhost:5000/freq_stats_for_user?id=\"+user).read().decode(\"utf-8\"))\n",
    "            organize_stats(shared_goals, stats, ANDROID)\n",
    "        for user in account[BROWSER]:\n",
    "            stats = json.loads(req.urlopen('http://localhost:5000/freq_stats_for_user_browser?id='+user).read().decode(\"utf-8\"))\n",
    "            organize_stats(shared_goals, stats, BROWSER)\n",
    "        for name in shared_goals[SHARED]:\n",
    "            # Cool. Let's put them in the goals\n",
    "            \n",
    "            "
   ]
  },
  {
   "cell_type": "code",
   "execution_count": 22,
   "metadata": {},
   "outputs": [
    {
     "name": "stdout",
     "output_type": "stream",
     "text": [
      "{'user': '9cb8c59eabbb60ad6447345c', 'sessions': 538}\n",
      "{'user': 'b219926d16e6e46fa426cafd', 'sessions': 591}\n",
      "{'user': 'U1532437453047928', 'sessions': 1844}\n",
      "{'user': '010cf6179f52b3d62184ee17', 'sessions': 4301}\n",
      "{'user': '0b0d1da5c036cb9637aff5d5', 'sessions': 1836}\n",
      "{'user': 'f6c5e87bbe828ffc4278d4b7', 'sessions': 0}\n",
      "{'user': '38a4b3e06ead18a13442f5a7', 'sessions': 1143}\n",
      "{'user': 'f463f9d5191a4bc1d1374298', 'sessions': 52}\n",
      "{'user': 'c4f80e629327886902828290', 'sessions': 0}\n",
      "{'user': '7f2cc2756b7c8c658a86ce6c', 'sessions': 0}\n",
      "{'user': 'ec0dbd76f4093d26176ba153', 'sessions': 1099}\n",
      "{'user': '3d9e01f13145754f3ee22cdb', 'sessions': 3249}\n",
      "{'user': 'c9991373fd8cd5ce69292511', 'sessions': 1303}\n",
      "{'user': '741de6a9c48bdd2ec81e68cd', 'sessions': 348}\n",
      "{'user': '87cd8b98991c55a2a3c0e93f', 'sessions': 5988}\n",
      "{'user': 'e91d2715bdf89bad899ace3b', 'sessions': 4426}\n",
      "{'user': 'bd64f8d80507c8b24a33cd88', 'sessions': 1444}\n",
      "{'user': '034217b8528a36106114f877', 'sessions': 2658}\n",
      "{'user': 'c1dac05a9d1ce5b860630b4d', 'sessions': 1899}\n",
      "{'user': '7c2c2166750632f06ae6a9ad', 'sessions': 1462}\n",
      "{'user': '9a92f87c8566dd3fdfa7ec7e', 'sessions': 3408}\n",
      "{'user': '9aeba07f2c133e01cdc3de97', 'sessions': 5155}\n",
      "{'user': '7f674a53c4b05571895977bb', 'sessions': 3071}\n",
      "{'user': '8a24231eb598b3e8f082c816', 'sessions': 5892}\n",
      "{'user': '0cc2046b7516f3cc1581188d', 'sessions': 2964}\n",
      "{'user': '356629ce18533cd8a47fd588', 'sessions': 3414}\n",
      "{'user': '909db4d140c64444f6b49d97', 'sessions': 3159}\n",
      "{'user': '4aeda8a5b8cdebecaac7dd65', 'sessions': 4547}\n",
      "{'user': '82614dc534d555ee4a365901', 'sessions': 5623}\n",
      "{'user': '515b559a2e85ded5c8af5adc', 'sessions': 3714}\n",
      "{'user': 'abfd029cb3f787f0a8f09dae', 'sessions': 8202}\n",
      "{'user': '421619f90f941a563deb6eb9', 'sessions': 10346}\n",
      "{'user': 'a06f3a950a4d20e8dafb1aee', 'sessions': 4878}\n",
      "{'user': 'bab02945c9756596a03659d4', 'sessions': 9026}\n",
      "{'user': '23cab28916f19d8853ad97a2', 'sessions': 4798}\n"
     ]
    }
   ],
   "source": [
    "# Let's find the ten most active users!!\n",
    "ten_most_active_users = []\n",
    "for account in accounts:\n",
    "    for user in account[\"android\"]:\n",
    "        num_sessions = len([s for s in db[user + \"_sessions\"].find()])\n",
    "        if len(ten_most_active_users) < 10 or ten_most_active_users[0][\"sessions\"] < num_sessions:\n",
    "            user_obj = {\"user\": user, \"sessions\": num_sessions}\n",
    "            print(user_obj)\n",
    "            if (len(ten_most_active_users) < 10):\n",
    "                ten_most_active_users.append(user_obj)\n",
    "            else:\n",
    "                ten_most_active_users[0] = user_obj\n",
    "                ten_most_active_users = sorted(ten_most_active_users, key=lambda user: user[\"sessions\"])"
   ]
  },
  {
   "cell_type": "code",
   "execution_count": 23,
   "metadata": {},
   "outputs": [
    {
     "name": "stdout",
     "output_type": "stream",
     "text": [
      "[{'user': '4aeda8a5b8cdebecaac7dd65', 'sessions': 4547}, {'user': '23cab28916f19d8853ad97a2', 'sessions': 4798}, {'user': 'a06f3a950a4d20e8dafb1aee', 'sessions': 4878}, {'user': '9aeba07f2c133e01cdc3de97', 'sessions': 5155}, {'user': '82614dc534d555ee4a365901', 'sessions': 5623}, {'user': '8a24231eb598b3e8f082c816', 'sessions': 5892}, {'user': '87cd8b98991c55a2a3c0e93f', 'sessions': 5988}, {'user': 'abfd029cb3f787f0a8f09dae', 'sessions': 8202}, {'user': 'bab02945c9756596a03659d4', 'sessions': 9026}, {'user': '421619f90f941a563deb6eb9', 'sessions': 10346}]\n"
     ]
    }
   ],
   "source": [
    "print(ten_most_active_users)"
   ]
  },
  {
   "cell_type": "code",
   "execution_count": 32,
   "metadata": {},
   "outputs": [
    {
     "name": "stdout",
     "output_type": "stream",
     "text": [
      "{'com.GameCoaster.DungeonMaker': {'freq': {32}, 'infreq': set()}, 'com.android.chrome': {'freq': set(), 'infreq': {32, 33}}, 'com.google.android.apps.inbox': {'freq': {32, 33}, 'infreq': set()}, 'com.facebook.katana': {'freq': {32}, 'infreq': {33}}, 'com.rayark.sdorica': {'freq': set(), 'infreq': {32}}, 'com.amazon.kindle': {'freq': {32}, 'infreq': {33}}, 'com.instagram.android': {'freq': set(), 'infreq': {32, 33}}, 'com.google.android.youtube': {'freq': {33}, 'infreq': {32}}, 'com.ideashower.readitlater.pro': {'freq': {33}, 'infreq': {32}}, 'com.google.android.apps.books': {'freq': set(), 'infreq': {32}}}\n",
      "{'com.android.chrome': {'freq': {32}, 'infreq': set()}, 'com.sparkslab.dcardreader': {'freq': {32}, 'infreq': set()}, 'jp.naver.line.android': {'freq': {33}, 'infreq': {32}}, 'com.google.android.gm': {'freq': {33}, 'infreq': {32}}, 'com.facebook.orca': {'freq': {32}, 'infreq': set()}, 'com.facebook.katana': {'freq': {32}, 'infreq': {33}}, 'com.evernote': {'freq': {33}, 'infreq': {32}}, 'com.devhd.feedly': {'freq': set(), 'infreq': {32, 33}}, 'com.google.android.youtube': {'freq': {32, 33}, 'infreq': {32}}, 'flipboard.app': {'freq': {32}, 'infreq': set()}, 'com.machipopo.swag': {'freq': {32, 33}, 'infreq': set()}, 'com.instagram.android': {'freq': set(), 'infreq': {32}}}\n",
      "{'com.facebook.orca': {'freq': {33}, 'infreq': {32}}, 'com.facebook.katana': {'freq': {32, 33}, 'infreq': set()}, 'com.android.chrome': {'freq': {33}, 'infreq': {32}}, 'com.instagram.android': {'freq': {32}, 'infreq': set()}, 'com.google.android.youtube': {'freq': set(), 'infreq': {32}}}\n",
      "{'com.facebook.katana': {'freq': {33, 31}, 'infreq': {32}}, 'com.snapchat.android': {'freq': {33, 31}, 'infreq': {32}}, 'com.facebook.orca': {'freq': {32}, 'infreq': {33, 31}}, 'com.netflix.mediaclient': {'freq': {33}, 'infreq': {32}}}\n",
      "{'com.google.android.youtube': {'freq': {33}, 'infreq': {32}}, 'com.twitter.android': {'freq': {32}, 'infreq': {33}}, 'com.tencent.mm': {'freq': {32}, 'infreq': {33}}, 'jp.naver.line.android': {'freq': {32}, 'infreq': {33}}, 'com.tencent.mobileqq': {'freq': {33}, 'infreq': {32}}, 'com.android.chrome': {'freq': {32}, 'infreq': {33}}, 'com.google.android.gm': {'freq': set(), 'infreq': {32}}, 'com.amazon.mShop.android.shopping': {'freq': {33}, 'infreq': {32}}, 'com.google.android.apps.messaging': {'freq': {33}, 'infreq': {32}}, 'com.facebook.katana': {'freq': {33}, 'infreq': {32}}, 'com.facebook.orca': {'freq': {33}, 'infreq': {32}}, 'com.google.android.apps.docs': {'freq': {32}, 'infreq': {33}}}\n",
      "{'com.facebook.katana': {'freq': {31}, 'infreq': {32, 33}}, 'com.reddit.frontpage': {'freq': set(), 'infreq': {32, 33}}, 'com.instagram.android': {'freq': {32}, 'infreq': {33}}, 'com.linkedin.android': {'freq': {32}, 'infreq': {33}}}\n",
      "{'com.instagram.android': {'freq': {33, 31}, 'infreq': {32}}, 'com.google.android.youtube': {'freq': {33, 31}, 'infreq': {32}}, 'com.onelouder.baconreader': {'freq': {32}, 'infreq': {33, 31}}}\n",
      "{'com.facebook.mlite': {'freq': {32, 33}, 'infreq': {32}}, 'jp.naver.line.android': {'freq': set(), 'infreq': {32, 33}}, 'com.facebook.katana': {'freq': {33}, 'infreq': {32}}, 'com.instagram.android': {'freq': {32}, 'infreq': set()}, 'com.plurk.android': {'freq': {32, 33}, 'infreq': set()}, 'com.joshua.jptt': {'freq': {32, 33}, 'infreq': set()}, 'com.pocketuniverse.ike': {'freq': {33}, 'infreq': {32}}, 'com.ideashower.readitlater.pro': {'freq': {32, 33}, 'infreq': set()}, 'com.microsoft.office.onenote': {'freq': set(), 'infreq': {32}}, 'com.medium.reader': {'freq': {33}, 'infreq': {32}}, 'com.hyread.reader.v3': {'freq': {32}, 'infreq': {33}}, 'com.trello': {'freq': set(), 'infreq': {33}}}\n",
      "{'com.android.chrome': {'freq': {33}, 'infreq': {32}}, 'com.whatsapp': {'freq': {33}, 'infreq': {32}}, 'com.tencent.mm': {'freq': set(), 'infreq': {32, 33}}, 'jp.r246.twicca': {'freq': {32}, 'infreq': {33}}, 'com.google.android.youtube': {'freq': {32}, 'infreq': {33}}, 'com.amazon.kindle': {'freq': set(), 'infreq': {32, 33}}, 'com.curiosity.dailycuriosity': {'freq': {33}, 'infreq': set()}, 'com.duolingo': {'freq': {33}, 'infreq': set()}}\n",
      "{'com.joshua.jptt': {'freq': set(), 'infreq': {32, 33}}, 'com.facebook.katana': {'freq': {32, 33}, 'infreq': set()}, 'jp.naver.line.android': {'freq': {32}, 'infreq': {33}}, 'com.mobile01.android.forum': {'freq': {32}, 'infreq': {33}}, 'com.devhd.feedly': {'freq': {33}, 'infreq': {32}}, 'com.amazon.kindlefc': {'freq': set(), 'infreq': {32}}, 'com.ichi2.anki': {'freq': {33}, 'infreq': {32}}, 'com.android.chrome': {'freq': {33}, 'infreq': {32}}, 'com.tencent.mm': {'freq': {32}, 'infreq': {33}}, 'com.amazon.kindlefs': {'freq': set(), 'infreq': {32}}, 'com.tencent.mobileqq': {'freq': {33}, 'infreq': {32}}, 'com.zhihu.android': {'freq': {32}, 'infreq': {33}}}\n"
     ]
    }
   ],
   "source": [
    "for user_obj in ten_most_active_users:\n",
    "    user = user_obj[\"user\"]\n",
    "    goals = {}\n",
    "    for session in db[user + \"_sessions\"].find({\"enabled\": True, \"frequent\": {\"$exists\": True}, \"isoWeek\": {\"$exists\": True}}):\n",
    "        domain = session[\"domain\"]\n",
    "        if domain not in goals:\n",
    "            goals[domain] = {\"freq\": set([]), \"infreq\": set([])}        \n",
    "        goals[domain][ \"freq\" if session[\"frequent\"] else \"infreq\"].add(session[\"isoWeek\"])\n",
    "    print(goals)"
   ]
  },
  {
   "cell_type": "code",
   "execution_count": null,
   "metadata": {},
   "outputs": [],
   "source": []
  }
 ],
 "metadata": {
  "kernelspec": {
   "display_name": "Python 3",
   "language": "python",
   "name": "python3"
  },
  "language_info": {
   "codemirror_mode": {
    "name": "ipython",
    "version": 3
   },
   "file_extension": ".py",
   "mimetype": "text/x-python",
   "name": "python",
   "nbconvert_exporter": "python",
   "pygments_lexer": "ipython3",
   "version": "3.6.5"
  }
 },
 "nbformat": 4,
 "nbformat_minor": 2
}
