{
 "cells": [
  {
   "cell_type": "code",
   "execution_count": 1,
   "metadata": {},
   "outputs": [],
   "source": [
    "# enables the %%R magic, not necessary if you've already done this\n",
    "%load_ext rpy2.ipython"
   ]
  },
  {
   "cell_type": "code",
   "execution_count": 2,
   "metadata": {},
   "outputs": [],
   "source": [
    "import pandas as pd\n",
    "import json"
   ]
  },
  {
   "cell_type": "code",
   "execution_count": 3,
   "metadata": {},
   "outputs": [],
   "source": [
    "df = pd.DataFrame({\n",
    "    'cups_of_coffee': [0, 1, 2, 3, 4, 5, 6, 7, 8, 9],\n",
    "    'productivity': [2, 5, 6, 8, 9, 8, 0, 1, 0, -1]\n",
    "})"
   ]
  },
  {
   "cell_type": "code",
   "execution_count": 4,
   "metadata": {},
   "outputs": [],
   "source": [
    "df = pd.read_csv('sessions_for_intervention.csv')"
   ]
  },
  {
   "cell_type": "code",
   "execution_count": null,
   "metadata": {},
   "outputs": [],
   "source": []
  },
  {
   "cell_type": "code",
   "execution_count": null,
   "metadata": {},
   "outputs": [],
   "source": []
  },
  {
   "cell_type": "code",
   "execution_count": 5,
   "metadata": {},
   "outputs": [],
   "source": [
    "all_intervention_info_list = json.load(open('mobile_intervention_info_list.json'))\n",
    "intervention_name_to_info = {intervention_info['shortname']: intervention_info for intervention_info in all_intervention_info_list}\n",
    "\n",
    "def is_target_app(intervention_name):\n",
    "  intervention_info = intervention_name_to_info[intervention_name]\n",
    "  return intervention_info['target'] == 'app'\n",
    "\n",
    "def get_intervention_names(intervention_json):\n",
    "  intervention_info_list = json.loads(intervention_json.replace(\"'\", '\"'))\n",
    "  intervention_name_list = [x['intervention'] for x in intervention_info_list]\n",
    "  intervention_name_list = [x for x in intervention_name_list if is_target_app(x)]\n",
    "  return intervention_name_list\n",
    "\n",
    "def get_intervention_name(intervention_json):\n",
    "  intervention_name_list = get_intervention_names(intervention_json)\n",
    "  if len(intervention_name_list) == 0:\n",
    "    return ''\n",
    "  if len(intervention_name_list) == 1:\n",
    "    return intervention_name_list[0]\n",
    "  raise ValueError('have multiple target app interventions: ' + intervention_json)\n"
   ]
  },
  {
   "cell_type": "code",
   "execution_count": 6,
   "metadata": {},
   "outputs": [],
   "source": [
    "def is_valid_row(intervention_json):\n",
    "  intervention_info_list = json.loads(intervention_json.replace(\"'\", '\"'))\n",
    "  intervention_name_list = [x['intervention'] for x in intervention_info_list]\n",
    "  for intervention_name in intervention_name_list:\n",
    "    if intervention_name not in intervention_name_to_info:\n",
    "      return False\n",
    "  return True\n",
    "\n",
    "\n",
    "df['is_valid_row'] = df['interventions'].map(is_valid_row)\n",
    "df = df[df.is_valid_row == True].copy()"
   ]
  },
  {
   "cell_type": "code",
   "execution_count": 7,
   "metadata": {},
   "outputs": [],
   "source": [
    "#print(df)"
   ]
  },
  {
   "cell_type": "code",
   "execution_count": 8,
   "metadata": {},
   "outputs": [],
   "source": [
    "df['first_intervention'] = df['interventions'].map(get_intervention_name)"
   ]
  },
  {
   "cell_type": "code",
   "execution_count": 9,
   "metadata": {},
   "outputs": [],
   "source": [
    "df['num_interventions'] = df['interventions'].map(lambda x: len(json.loads(x.replace(\"'\", '\"'))))"
   ]
  },
  {
   "cell_type": "code",
   "execution_count": 10,
   "metadata": {},
   "outputs": [],
   "source": [
    "df['duration'] = df['duration (log(s))']\n",
    "ndata = df"
   ]
  },
  {
   "cell_type": "code",
   "execution_count": 11,
   "metadata": {},
   "outputs": [
    {
     "name": "stderr",
     "output_type": "stream",
     "text": [
      "/Library/Frameworks/Python.framework/Versions/3.6/lib/python3.6/site-packages/rpy2/robjects/pandas2ri.py:191: FutureWarning: from_items is deprecated. Please use DataFrame.from_dict(dict(items), ...) instead. DataFrame.from_dict(OrderedDict(items)) may be used to preserve the key order.\n",
      "  res = PandasDataFrame.from_items(items)\n",
      "/Library/Frameworks/Python.framework/Versions/3.6/lib/python3.6/site-packages/rpy2/rinterface/__init__.py:146: RRuntimeWarning: Loading required package: Matrix\n",
      "\n",
      "  warnings.warn(x, RRuntimeWarning)\n"
     ]
    }
   ],
   "source": [
    "%%R -i ndata -w 5 -h 5 --units in -r 200\n",
    "\n",
    "#install.packages('ez')\n",
    "#install.packages('lme4')\n",
    "\n",
    "library(lme4)\n",
    "#library(ez)"
   ]
  },
  {
   "cell_type": "code",
   "execution_count": 33,
   "metadata": {},
   "outputs": [
    {
     "data": {
      "text/plain": [
       "Generalized linear mixed model fit by maximum likelihood (Laplace\n",
       "  Approximation) [glmerMod]\n",
       " Family: Gamma  ( inverse )\n",
       "Formula: duration ~ frequent + (1 | user) + (1 | goal)\n",
       "   Data: ndata\n",
       "      AIC       BIC    logLik  deviance  df.resid \n",
       "125191.30 125234.40 -62590.65 125181.30     40887 \n",
       "Random effects:\n",
       " Groups   Name        Std.Dev.\n",
       " goal     (Intercept) 0.02839 \n",
       " user     (Intercept) 0.01827 \n",
       " Residual             0.30869 \n",
       "Number of obs: 40892, groups:  goal, 285; user, 234\n",
       "Fixed Effects:\n",
       " (Intercept)  frequentTRUE  \n",
       "    0.261194      0.002406  \n",
       "convergence code 0; 1 optimizer warnings; 0 lme4 warnings \n",
       "Data: ndata\n",
       "Models:\n",
       "resultsnull: duration ~ (1 | user) + (1 | goal)\n",
       "results: duration ~ frequent + (1 | user) + (1 | goal)\n",
       "            Df    AIC    BIC logLik deviance Chisq Chi Df Pr(>Chisq)  \n",
       "resultsnull  4 125196 125230 -62594   125188                          \n",
       "results      5 125191 125234 -62591   125181 6.514      1     0.0107 *\n",
       "---\n",
       "Signif. codes:  0 ‘***’ 0.001 ‘**’ 0.01 ‘*’ 0.05 ‘.’ 0.1 ‘ ’ 1\n"
      ]
     },
     "metadata": {},
     "output_type": "display_data"
    }
   ],
   "source": [
    "%%R -i ndata -w 5 -h 5 --units in -r 200\n",
    "\n",
    "# SIGNIFCANT: does the frequency have an effect on duration, controlling for user and goal?\n",
    "\n",
    "results <- glmer(duration ~ frequent + (1|user) + (1|goal), data = ndata, family = Gamma)\n",
    "\n",
    "resultsnull <- glmer(duration ~ (1|user) + (1|goal), data = ndata, family = Gamma)\n",
    "\n",
    "show(results)\n",
    "show(anova(resultsnull, results))\n"
   ]
  },
  {
   "cell_type": "code",
   "execution_count": 32,
   "metadata": {},
   "outputs": [
    {
     "data": {
      "text/plain": [
       "Generalized linear mixed model fit by maximum likelihood (Laplace\n",
       "  Approximation) [glmerMod]\n",
       " Family: Gamma  ( inverse )\n",
       "Formula: duration ~ first_intervention + (1 | frequent) + (1 | user) +  \n",
       "    (1 | goal)\n",
       "   Data: ndata\n",
       "      AIC       BIC    logLik  deviance  df.resid \n",
       "125016.31 125180.07 -62489.16 124978.31     40873 \n",
       "Random effects:\n",
       " Groups   Name        Std.Dev. \n",
       " goal     (Intercept) 0.0283876\n",
       " user     (Intercept) 0.0182829\n",
       " frequent (Intercept) 0.0006328\n",
       " Residual             0.3081150\n",
       "Number of obs: 40892, groups:  goal, 285; user, 234; frequent, 2\n",
       "Fixed Effects:\n",
       "                                   (Intercept)  \n",
       "                                     0.2619959  \n",
       "          first_interventionAPPLICATION_SLIDER  \n",
       "                                     0.0099253  \n",
       "     first_interventionCOUNTDOWN_TIMER_OVERLAY  \n",
       "                                     0.0188338  \n",
       "       first_interventionCOUNTUP_TIMER_OVERLAY  \n",
       "                                     0.0075315  \n",
       "              first_interventionDIMMER_OVERLAY  \n",
       "                                     0.0396524  \n",
       "         first_interventionFULL_SCREEN_OVERLAY  \n",
       "                                     0.0039933  \n",
       "                first_interventionINTERSTITIAL  \n",
       "                                     0.0056241  \n",
       "first_interventionPOSITIVE_FULL_SCREEN_OVERLAY  \n",
       "                                     0.0080522  \n",
       "              first_interventionPOSITIVE_TOAST  \n",
       "                                     0.0032637  \n",
       "                first_interventionUSAGE_DIALOG  \n",
       "                                    -0.0018219  \n",
       "          first_interventionUSAGE_NOTIFICATION  \n",
       "                                    -0.0024933  \n",
       "                 first_interventionUSAGE_TOAST  \n",
       "                                    -0.0005957  \n",
       "                first_interventionVISIT_DIALOG  \n",
       "                                    -0.0032923  \n",
       "          first_interventionVISIT_NOTIFICATION  \n",
       "                                    -0.0010030  \n",
       "                 first_interventionVISIT_TOAST  \n",
       "                                    -0.0040818  \n",
       "convergence code 0; 2 optimizer warnings; 0 lme4 warnings \n",
       "Data: ndata\n",
       "Models:\n",
       "resultsnull: duration ~ (1 | frequent) + (1 | user) + (1 | goal)\n",
       "results: duration ~ first_intervention + (1 | frequent) + (1 | user) + \n",
       "results:     (1 | goal)\n",
       "            Df    AIC    BIC logLik deviance  Chisq Chi Df Pr(>Chisq)    \n",
       "resultsnull  5 125193 125236 -62592   125183                             \n",
       "results     19 125016 125180 -62489   124978 204.89     14  < 2.2e-16 ***\n",
       "---\n",
       "Signif. codes:  0 ‘***’ 0.001 ‘**’ 0.01 ‘*’ 0.05 ‘.’ 0.1 ‘ ’ 1\n"
      ]
     },
     "metadata": {},
     "output_type": "display_data"
    }
   ],
   "source": [
    "%%R -i ndata -w 5 -h 5 --units in -r 200\n",
    "\n",
    "# SIGNIFCANT: does the intervention have an effect on duration, controlling for user and goal and frequency?\n",
    "\n",
    "results <- glmer(duration ~ first_intervention + (1|frequent) + (1|user) + (1|goal), data = ndata, family= Gamma)\n",
    "\n",
    "resultsnull <- glmer(duration ~ (1|frequent) + (1|user) + (1|goal), data = ndata, family=Gamma)\n",
    "\n",
    "\n",
    "show(results)\n",
    "show(anova(resultsnull, results))\n"
   ]
  },
  {
   "cell_type": "code",
   "execution_count": null,
   "metadata": {},
   "outputs": [],
   "source": []
  },
  {
   "cell_type": "code",
   "execution_count": null,
   "metadata": {},
   "outputs": [],
   "source": []
  },
  {
   "cell_type": "code",
   "execution_count": 14,
   "metadata": {},
   "outputs": [
    {
     "name": "stdout",
     "output_type": "stream",
     "text": [
      "count    40892.000000\n",
      "mean         0.606867\n",
      "std          0.541542\n",
      "min          0.000000\n",
      "25%          0.000000\n",
      "50%          1.000000\n",
      "75%          1.000000\n",
      "max          4.000000\n",
      "Name: num_interventions, dtype: float64\n"
     ]
    }
   ],
   "source": [
    "print(df['num_interventions'].describe())"
   ]
  },
  {
   "cell_type": "code",
   "execution_count": 15,
   "metadata": {},
   "outputs": [
    {
     "data": {
      "text/plain": [
       "frequent              17156\n",
       "duration (log(s))     17156\n",
       "interventions         17156\n",
       "user                  17156\n",
       "goal                  17156\n",
       "is_valid_row          17156\n",
       "first_intervention    17156\n",
       "num_interventions     17156\n",
       "duration              17156\n",
       "dtype: int64"
      ]
     },
     "execution_count": 15,
     "metadata": {},
     "output_type": "execute_result"
    }
   ],
   "source": [
    "df[df['num_interventions'] == 0].count()"
   ]
  },
  {
   "cell_type": "code",
   "execution_count": 16,
   "metadata": {},
   "outputs": [
    {
     "data": {
      "text/plain": [
       "frequent              22691\n",
       "duration (log(s))     22691\n",
       "interventions         22691\n",
       "user                  22691\n",
       "goal                  22691\n",
       "is_valid_row          22691\n",
       "first_intervention    22691\n",
       "num_interventions     22691\n",
       "duration              22691\n",
       "dtype: int64"
      ]
     },
     "execution_count": 16,
     "metadata": {},
     "output_type": "execute_result"
    }
   ],
   "source": [
    "df[df['num_interventions'] == 1].count()"
   ]
  },
  {
   "cell_type": "code",
   "execution_count": 17,
   "metadata": {},
   "outputs": [
    {
     "data": {
      "text/plain": [
       "frequent              1013\n",
       "duration (log(s))     1013\n",
       "interventions         1013\n",
       "user                  1013\n",
       "goal                  1013\n",
       "is_valid_row          1013\n",
       "first_intervention    1013\n",
       "num_interventions     1013\n",
       "duration              1013\n",
       "dtype: int64"
      ]
     },
     "execution_count": 17,
     "metadata": {},
     "output_type": "execute_result"
    }
   ],
   "source": [
    "df[df['num_interventions'] == 2].count()"
   ]
  },
  {
   "cell_type": "code",
   "execution_count": 18,
   "metadata": {},
   "outputs": [
    {
     "data": {
      "text/plain": [
       "frequent              29\n",
       "duration (log(s))     29\n",
       "interventions         29\n",
       "user                  29\n",
       "goal                  29\n",
       "is_valid_row          29\n",
       "first_intervention    29\n",
       "num_interventions     29\n",
       "duration              29\n",
       "dtype: int64"
      ]
     },
     "execution_count": 18,
     "metadata": {},
     "output_type": "execute_result"
    }
   ],
   "source": [
    "df[df['num_interventions'] == 3].count()"
   ]
  },
  {
   "cell_type": "code",
   "execution_count": 19,
   "metadata": {
    "scrolled": true
   },
   "outputs": [
    {
     "data": {
      "text/plain": [
       "frequent              3\n",
       "duration (log(s))     3\n",
       "interventions         3\n",
       "user                  3\n",
       "goal                  3\n",
       "is_valid_row          3\n",
       "first_intervention    3\n",
       "num_interventions     3\n",
       "duration              3\n",
       "dtype: int64"
      ]
     },
     "execution_count": 19,
     "metadata": {},
     "output_type": "execute_result"
    }
   ],
   "source": [
    "df[df['num_interventions'] == 4].count()"
   ]
  },
  {
   "cell_type": "code",
   "execution_count": 20,
   "metadata": {},
   "outputs": [
    {
     "name": "stderr",
     "output_type": "stream",
     "text": [
      "/Library/Frameworks/Python.framework/Versions/3.6/lib/python3.6/site-packages/rpy2/robjects/pandas2ri.py:191: FutureWarning: from_items is deprecated. Please use DataFrame.from_dict(dict(items), ...) instead. DataFrame.from_dict(OrderedDict(items)) may be used to preserve the key order.\n",
      "  res = PandasDataFrame.from_items(items)\n"
     ]
    },
    {
     "data": {
      "text/plain": [
       "  frequent       duration..log.s.. interventions          user          \n",
       " Mode :logical   Min.   : 1.792    Length:40892       Length:40892      \n",
       " FALSE:21092     1st Qu.: 2.708    Class :character   Class :character  \n",
       " TRUE :19800     Median : 3.611    Mode  :character   Mode  :character  \n",
       "                 Mean   : 3.737                                         \n",
       "                 3rd Qu.: 4.595                                         \n",
       "                 Max.   :11.299                                         \n",
       "     goal           is_valid_row   first_intervention num_interventions\n",
       " Length:40892       Mode:logical   Length:40892       Min.   :0.0000   \n",
       " Class :character   TRUE:40892     Class :character   1st Qu.:0.0000   \n",
       " Mode  :character                  Mode  :character   Median :1.0000   \n",
       "                                                      Mean   :0.6069   \n",
       "                                                      3rd Qu.:1.0000   \n",
       "                                                      Max.   :4.0000   \n",
       "    duration     \n",
       " Min.   : 1.792  \n",
       " 1st Qu.: 2.708  \n",
       " Median : 3.611  \n",
       " Mean   : 3.737  \n",
       " 3rd Qu.: 4.595  \n",
       " Max.   :11.299  \n"
      ]
     },
     "metadata": {},
     "output_type": "display_data"
    }
   ],
   "source": [
    "%%R -i df -w 5 -h 5 --units in -r 200\n",
    "\n",
    "summary(df)"
   ]
  },
  {
   "cell_type": "code",
   "execution_count": 21,
   "metadata": {},
   "outputs": [
    {
     "name": "stdout",
     "output_type": "stream",
     "text": [
      "\n",
      "Error in library(ggplot2) : there is no package called ‘ggplot2’\n"
     ]
    },
    {
     "name": "stderr",
     "output_type": "stream",
     "text": [
      "/Library/Frameworks/Python.framework/Versions/3.6/lib/python3.6/site-packages/rpy2/rinterface/__init__.py:146: RRuntimeWarning: Error in library(ggplot2) : there is no package called ‘ggplot2’\n",
      "\n",
      "  warnings.warn(x, RRuntimeWarning)\n"
     ]
    }
   ],
   "source": [
    "%%R -i df -w 5 -h 5 --units in -r 200\n",
    "# import df from global environment\n",
    "# make default figure size 5 by 5 inches with 200 dpi resolution\n",
    "\n",
    "#install.packages(\"ggplot2\", repos='http://cran.us.r-project.org', quiet=TRUE)\n",
    "library(ggplot2)\n",
    "ggplot(df, aes(x=cups_of_coffee, y=productivity)) + geom_line()"
   ]
  }
 ],
 "metadata": {
  "kernelspec": {
   "display_name": "Python 3",
   "language": "python",
   "name": "python3"
  },
  "language_info": {
   "codemirror_mode": {
    "name": "ipython",
    "version": 3
   },
   "file_extension": ".py",
   "mimetype": "text/x-python",
   "name": "python",
   "nbconvert_exporter": "python",
   "pygments_lexer": "ipython3",
   "version": "3.6.5"
  }
 },
 "nbformat": 4,
 "nbformat_minor": 2
}
