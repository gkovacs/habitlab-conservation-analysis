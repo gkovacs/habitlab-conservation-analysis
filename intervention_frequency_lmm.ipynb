{
 "cells": [
  {
   "cell_type": "code",
   "execution_count": 1,
   "metadata": {},
   "outputs": [
    {
     "name": "stderr",
     "output_type": "stream",
     "text": [
      "/usr/lib/python3.6/importlib/_bootstrap.py:219: RuntimeWarning: numpy.dtype size changed, may indicate binary incompatibility. Expected 96, got 88\n",
      "  return f(*args, **kwds)\n",
      "/usr/lib/python3.6/importlib/_bootstrap.py:219: RuntimeWarning: numpy.dtype size changed, may indicate binary incompatibility. Expected 96, got 88\n",
      "  return f(*args, **kwds)\n"
     ]
    }
   ],
   "source": [
    "# enables the %%R magic, not necessary if you've already done this\n",
    "%load_ext rpy2.ipython"
   ]
  },
  {
   "cell_type": "code",
   "execution_count": 2,
   "metadata": {},
   "outputs": [],
   "source": [
    "import pandas as pd\n",
    "import json"
   ]
  },
  {
   "cell_type": "code",
   "execution_count": 3,
   "metadata": {},
   "outputs": [],
   "source": [
    "df = pd.DataFrame({\n",
    "    'cups_of_coffee': [0, 1, 2, 3, 4, 5, 6, 7, 8, 9],\n",
    "    'productivity': [2, 5, 6, 8, 9, 8, 0, 1, 0, -1]\n",
    "})"
   ]
  },
  {
   "cell_type": "code",
   "execution_count": 4,
   "metadata": {},
   "outputs": [],
   "source": [
    "df = pd.read_csv('sessions_for_intervention.csv')"
   ]
  },
  {
   "cell_type": "code",
   "execution_count": 44,
   "metadata": {},
   "outputs": [
    {
     "name": "stderr",
     "output_type": "stream",
     "text": [
      "/home/geza/.local/lib/python3.6/site-packages/rpy2/robjects/pandas2ri.py:191: FutureWarning: from_items is deprecated. Please use DataFrame.from_dict(dict(items), ...) instead. DataFrame.from_dict(OrderedDict(items)) may be used to preserve the key order.\n",
      "  res = PandasDataFrame.from_items(items)\n"
     ]
    }
   ],
   "source": []
  },
  {
   "cell_type": "code",
   "execution_count": 39,
   "metadata": {},
   "outputs": [
    {
     "name": "stderr",
     "output_type": "stream",
     "text": [
      "/home/geza/.local/lib/python3.6/site-packages/rpy2/rinterface/__init__.py:146: RRuntimeWarning: refitting model(s) with ML (instead of REML)\n",
      "\n",
      "  warnings.warn(x, RRuntimeWarning)\n"
     ]
    },
    {
     "data": {
      "text/plain": [
       "Data: ndata\n",
       "Models:\n",
       "resultsnull: duration ~ (1 | user) + (1 | goal)\n",
       "results: duration ~ frequent + (1 | user) + (1 | goal)\n",
       "            Df    AIC    BIC logLik deviance  Chisq Chi Df Pr(>Chisq)   \n",
       "resultsnull  4 109505 109539 -54749   109497                            \n",
       "results      5 109499 109541 -54744   109489 8.6452      1   0.003279 **\n",
       "---\n",
       "Signif. codes:  0 ‘***’ 0.001 ‘**’ 0.01 ‘*’ 0.05 ‘.’ 0.1 ‘ ’ 1\n"
      ]
     },
     "metadata": {},
     "output_type": "display_data"
    }
   ],
   "source": []
  },
  {
   "cell_type": "code",
   "execution_count": 42,
   "metadata": {},
   "outputs": [],
   "source": [
    "all_intervention_info_list = json.load(open('mobile_intervention_info_list.json'))\n",
    "intervention_name_to_info = {intervention_info['shortname']: intervention_info for intervention_info in all_intervention_info_list}\n",
    "\n",
    "def is_target_app(intervention_name):\n",
    "  intervention_info = intervention_name_to_info[intervention_name]\n",
    "  return intervention_info['target'] == 'app'\n",
    "\n",
    "def get_intervention_names(intervention_json):\n",
    "  intervention_info_list = json.loads(intervention_json.replace(\"'\", '\"'))\n",
    "  intervention_name_list = [x['intervention'] for x in intervention_info_list]\n",
    "  intervention_name_list = [x for x in intervention_name_list if is_target_app(x)]\n",
    "  return intervention_name_list\n",
    "\n",
    "def get_intervention_name(intervention_json):\n",
    "  intervention_name_list = get_intervention_names(intervention_json)\n",
    "  if len(intervention_name_list) == 0:\n",
    "    return ''\n",
    "  if len(intervention_name_list) == 1:\n",
    "    return intervention_name_list[0]\n",
    "  raise ValueError('have multiple target app interventions: ' + intervention_json)\n"
   ]
  },
  {
   "cell_type": "code",
   "execution_count": 50,
   "metadata": {},
   "outputs": [
    {
     "name": "stderr",
     "output_type": "stream",
     "text": [
      "/home/geza/.local/lib/python3.6/site-packages/ipykernel_launcher.py:10: SettingWithCopyWarning: \n",
      "A value is trying to be set on a copy of a slice from a DataFrame.\n",
      "Try using .loc[row_indexer,col_indexer] = value instead\n",
      "\n",
      "See the caveats in the documentation: http://pandas.pydata.org/pandas-docs/stable/indexing.html#indexing-view-versus-copy\n",
      "  # Remove the CWD from sys.path while we load stuff.\n"
     ]
    }
   ],
   "source": [
    "def is_valid_row(intervention_json):\n",
    "  intervention_info_list = json.loads(intervention_json.replace(\"'\", '\"'))\n",
    "  intervention_name_list = [x['intervention'] for x in intervention_info_list]\n",
    "  for intervention_name in intervention_name_list:\n",
    "    if intervention_name not in intervention_name_to_info:\n",
    "      return False\n",
    "  return True\n",
    "\n",
    "\n",
    "df['is_valid_row'] = df['interventions'].map(is_valid_row)\n",
    "df = df[df.is_valid_row == True].copy()"
   ]
  },
  {
   "cell_type": "code",
   "execution_count": 29,
   "metadata": {},
   "outputs": [],
   "source": [
    "#print(df)"
   ]
  },
  {
   "cell_type": "code",
   "execution_count": 51,
   "metadata": {},
   "outputs": [],
   "source": [
    "df['first_intervention'] = df['interventions'].map(get_intervention_name)"
   ]
  },
  {
   "cell_type": "code",
   "execution_count": 52,
   "metadata": {},
   "outputs": [],
   "source": [
    "df['num_interventions'] = df['interventions'].map(lambda x: len(json.loads(x.replace(\"'\", '\"'))))"
   ]
  },
  {
   "cell_type": "code",
   "execution_count": 55,
   "metadata": {},
   "outputs": [],
   "source": [
    "df['duration'] = df['duration (log(s))']\n",
    "ndata = df"
   ]
  },
  {
   "cell_type": "code",
   "execution_count": null,
   "metadata": {},
   "outputs": [],
   "source": [
    "%%R -i ndata -w 5 -h 5 --units in -r 200\n",
    "\n",
    "#install.packages('ez')\n",
    "#install.packages('lme4')\n",
    "\n",
    "library(lme4)\n",
    "#library(ez)"
   ]
  },
  {
   "cell_type": "code",
   "execution_count": 57,
   "metadata": {},
   "outputs": [
    {
     "data": {
      "text/plain": [
       "Data: ndata\n",
       "Models:\n",
       "resultsnull: duration ~ (1 | user) + (1 | goal)\n",
       "results: duration ~ frequent + (1 | user) + (1 | goal)\n",
       "            Df    AIC    BIC logLik deviance  Chisq Chi Df Pr(>Chisq)   \n",
       "resultsnull  4 109346 109380 -54669   109338                            \n",
       "results      5 109340 109382 -54665   109330 8.6415      1   0.003286 **\n",
       "---\n",
       "Signif. codes:  0 ‘***’ 0.001 ‘**’ 0.01 ‘*’ 0.05 ‘.’ 0.1 ‘ ’ 1\n"
      ]
     },
     "metadata": {},
     "output_type": "display_data"
    }
   ],
   "source": [
    "%%R -i ndata -w 5 -h 5 --units in -r 200\n",
    "\n",
    "# SIGNIFCANT: does the frequency have an effect on duration, controlling for user and goal?\n",
    "\n",
    "results <- lmer(duration ~ frequent + (1|user) + (1|goal), data = ndata)\n",
    "\n",
    "resultsnull <- lmer(duration ~ (1|user) + (1|goal), data = ndata)\n",
    "\n",
    "show(anova(resultsnull, results))\n"
   ]
  },
  {
   "cell_type": "code",
   "execution_count": 56,
   "metadata": {},
   "outputs": [
    {
     "name": "stderr",
     "output_type": "stream",
     "text": [
      "/home/geza/.local/lib/python3.6/site-packages/rpy2/robjects/pandas2ri.py:191: FutureWarning: from_items is deprecated. Please use DataFrame.from_dict(dict(items), ...) instead. DataFrame.from_dict(OrderedDict(items)) may be used to preserve the key order.\n",
      "  res = PandasDataFrame.from_items(items)\n",
      "/home/geza/.local/lib/python3.6/site-packages/rpy2/rinterface/__init__.py:146: RRuntimeWarning: refitting model(s) with ML (instead of REML)\n",
      "\n",
      "  warnings.warn(x, RRuntimeWarning)\n"
     ]
    },
    {
     "data": {
      "text/plain": [
       "Data: ndata\n",
       "Models:\n",
       "resultsnull: duration ~ frequent + (1 | user) + (1 | goal)\n",
       "results: duration ~ first_intervention + frequent + (1 | user) + (1 | \n",
       "results:     goal)\n",
       "            Df    AIC    BIC logLik deviance  Chisq Chi Df Pr(>Chisq)    \n",
       "resultsnull  5 109340 109382 -54665   109330                             \n",
       "results     19 109225 109386 -54594   109187 142.43     14  < 2.2e-16 ***\n",
       "---\n",
       "Signif. codes:  0 ‘***’ 0.001 ‘**’ 0.01 ‘*’ 0.05 ‘.’ 0.1 ‘ ’ 1\n"
      ]
     },
     "metadata": {},
     "output_type": "display_data"
    }
   ],
   "source": [
    "%%R -i ndata -w 5 -h 5 --units in -r 200\n",
    "\n",
    "# SIGNIFCANT: does the intervention have an effect on duration, controlling for user and goal and frequency?\n",
    "\n",
    "results <- lmer(duration ~ first_intervention + frequent + (1|user) + (1|goal), data = ndata)\n",
    "\n",
    "resultsnull <- lmer(duration ~ frequent + (1|user) + (1|goal), data = ndata)\n",
    "\n",
    "show(anova(resultsnull, results))\n"
   ]
  },
  {
   "cell_type": "code",
   "execution_count": 20,
   "metadata": {},
   "outputs": [
    {
     "data": {
      "text/plain": [
       "Data: ndata\n",
       "Models:\n",
       "resultsnull: duration ~ (1 | user) + (1 | goal)\n",
       "results: duration ~ frequent + (1 | user) + (1 | goal)\n",
       "            Df    AIC    BIC logLik deviance  Chisq Chi Df Pr(>Chisq)   \n",
       "resultsnull  4 109505 109539 -54749   109497                            \n",
       "results      5 109499 109541 -54744   109489 8.6452      1   0.003279 **\n",
       "---\n",
       "Signif. codes:  0 ‘***’ 0.001 ‘**’ 0.01 ‘*’ 0.05 ‘.’ 0.1 ‘ ’ 1\n"
      ]
     },
     "metadata": {},
     "output_type": "display_data"
    }
   ],
   "source": []
  },
  {
   "cell_type": "code",
   "execution_count": null,
   "metadata": {},
   "outputs": [],
   "source": []
  },
  {
   "cell_type": "code",
   "execution_count": 8,
   "metadata": {},
   "outputs": [
    {
     "name": "stdout",
     "output_type": "stream",
     "text": [
      "count    34598.000000\n",
      "mean         0.612492\n",
      "std          0.541795\n",
      "min          0.000000\n",
      "25%          0.000000\n",
      "50%          1.000000\n",
      "75%          1.000000\n",
      "max          4.000000\n",
      "Name: num_interventions, dtype: float64\n"
     ]
    }
   ],
   "source": [
    "print(df['num_interventions'].describe())"
   ]
  },
  {
   "cell_type": "code",
   "execution_count": 24,
   "metadata": {},
   "outputs": [
    {
     "data": {
      "text/plain": [
       "frequent             5303\n",
       "duration (log(s))    5303\n",
       "interventions        5303\n",
       "user                 5303\n",
       "goal                 5303\n",
       "num_interventions    5303\n",
       "dtype: int64"
      ]
     },
     "execution_count": 24,
     "metadata": {},
     "output_type": "execute_result"
    }
   ],
   "source": [
    "df[df['num_interventions'] == 0].count()"
   ]
  },
  {
   "cell_type": "code",
   "execution_count": 23,
   "metadata": {},
   "outputs": [
    {
     "data": {
      "text/plain": [
       "frequent             7911\n",
       "duration (log(s))    7911\n",
       "interventions        7911\n",
       "user                 7911\n",
       "goal                 7911\n",
       "num_interventions    7911\n",
       "dtype: int64"
      ]
     },
     "execution_count": 23,
     "metadata": {},
     "output_type": "execute_result"
    }
   ],
   "source": [
    "df[df['num_interventions'] == 1].count()"
   ]
  },
  {
   "cell_type": "code",
   "execution_count": 25,
   "metadata": {},
   "outputs": [
    {
     "data": {
      "text/plain": [
       "frequent             282\n",
       "duration (log(s))    282\n",
       "interventions        282\n",
       "user                 282\n",
       "goal                 282\n",
       "num_interventions    282\n",
       "dtype: int64"
      ]
     },
     "execution_count": 25,
     "metadata": {},
     "output_type": "execute_result"
    }
   ],
   "source": [
    "df[df['num_interventions'] == 2].count()"
   ]
  },
  {
   "cell_type": "code",
   "execution_count": 26,
   "metadata": {},
   "outputs": [
    {
     "data": {
      "text/plain": [
       "frequent             17\n",
       "duration (log(s))    17\n",
       "interventions        17\n",
       "user                 17\n",
       "goal                 17\n",
       "num_interventions    17\n",
       "dtype: int64"
      ]
     },
     "execution_count": 26,
     "metadata": {},
     "output_type": "execute_result"
    }
   ],
   "source": [
    "df[df['num_interventions'] == 3].count()"
   ]
  },
  {
   "cell_type": "code",
   "execution_count": 27,
   "metadata": {
    "scrolled": true
   },
   "outputs": [
    {
     "data": {
      "text/plain": [
       "frequent             2\n",
       "duration (log(s))    2\n",
       "interventions        2\n",
       "user                 2\n",
       "goal                 2\n",
       "num_interventions    2\n",
       "dtype: int64"
      ]
     },
     "execution_count": 27,
     "metadata": {},
     "output_type": "execute_result"
    }
   ],
   "source": [
    "df[df['num_interventions'] == 4].count()"
   ]
  },
  {
   "cell_type": "code",
   "execution_count": 19,
   "metadata": {},
   "outputs": [
    {
     "name": "stderr",
     "output_type": "stream",
     "text": [
      "/home/geza/.local/lib/python3.6/site-packages/rpy2/robjects/pandas2ri.py:191: FutureWarning: from_items is deprecated. Please use DataFrame.from_dict(dict(items), ...) instead. DataFrame.from_dict(OrderedDict(items)) may be used to preserve the key order.\n",
      "  res = PandasDataFrame.from_items(items)\n"
     ]
    },
    {
     "data": {
      "text/plain": [
       "  frequent       duration..log.s.. interventions          user          \n",
       " Mode :logical   Min.   : 1.792    Length:13515       Length:13515      \n",
       " FALSE:6763      1st Qu.: 2.708    Class :character   Class :character  \n",
       " TRUE :6752      Median : 3.664    Mode  :character   Mode  :character  \n",
       "                 Mean   : 3.769                                         \n",
       "                 3rd Qu.: 4.663                                         \n",
       "                 Max.   :11.001                                         \n",
       "     goal           num_interventions\n",
       " Length:13515       Min.   :0.0000   \n",
       " Class :character   1st Qu.:0.0000   \n",
       " Mode  :character   Median :1.0000   \n",
       "                    Mean   :0.6314   \n",
       "                    3rd Qu.:1.0000   \n",
       "                    Max.   :4.0000   \n"
      ]
     },
     "metadata": {},
     "output_type": "display_data"
    }
   ],
   "source": [
    "%%R -i df -w 5 -h 5 --units in -r 200\n",
    "\n",
    "summary(df)"
   ]
  },
  {
   "cell_type": "code",
   "execution_count": 6,
   "metadata": {},
   "outputs": [
    {
     "name": "stderr",
     "output_type": "stream",
     "text": [
      "/home/geza/.local/lib/python3.6/site-packages/rpy2/robjects/pandas2ri.py:191: FutureWarning: from_items is deprecated. Please use DataFrame.from_dict(dict(items), ...) instead. DataFrame.from_dict(OrderedDict(items)) may be used to preserve the key order.\n",
      "  res = PandasDataFrame.from_items(items)\n"
     ]
    },
    {
     "data": {
      "image/png": "[encoded data removed]"
     },
     "metadata": {},
     "output_type": "display_data"
    }
   ],
   "source": [
    "%%R -i df -w 5 -h 5 --units in -r 200\n",
    "# import df from global environment\n",
    "# make default figure size 5 by 5 inches with 200 dpi resolution\n",
    "\n",
    "#install.packages(\"ggplot2\", repos='http://cran.us.r-project.org', quiet=TRUE)\n",
    "library(ggplot2)\n",
    "ggplot(df, aes(x=cups_of_coffee, y=productivity)) + geom_line()"
   ]
  }
 ],
 "metadata": {
  "kernelspec": {
   "display_name": "Python 3",
   "language": "python",
   "name": "python3"
  },
  "language_info": {
   "codemirror_mode": {
    "name": "ipython",
    "version": 3
   },
   "file_extension": ".py",
   "mimetype": "text/x-python",
   "name": "python",
   "nbconvert_exporter": "python",
   "pygments_lexer": "ipython3",
   "version": "3.6.5"
  }
 },
 "nbformat": 4,
 "nbformat_minor": 2
}
