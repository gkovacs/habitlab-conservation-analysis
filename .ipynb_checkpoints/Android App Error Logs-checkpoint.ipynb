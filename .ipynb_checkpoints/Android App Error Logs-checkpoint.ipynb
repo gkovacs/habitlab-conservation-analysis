{
 "cells": [
  {
   "cell_type": "code",
   "execution_count": 1,
   "metadata": {},
   "outputs": [
    {
     "name": "stdout",
     "output_type": "stream",
     "text": [
      "Requirement already satisfied: pymongo in /Library/Frameworks/Python.framework/Versions/3.6/lib/python3.6/site-packages (3.7.1)\n",
      "Requirement already satisfied: pyyaml in /Library/Frameworks/Python.framework/Versions/3.6/lib/python3.6/site-packages (3.13)\n"
     ]
    }
   ],
   "source": [
    "import sys\n",
    "!{sys.executable} -m pip install pymongo\n",
    "!{sys.executable} -m pip install pyyaml"
   ]
  },
  {
   "cell_type": "code",
   "execution_count": 6,
   "metadata": {},
   "outputs": [],
   "source": [
    "# Get Mongo database\n",
    "from yaml import load\n",
    "from pymongo import MongoClient\n",
    "secret = load(open(\"../../.getsecret.yaml\"))\n",
    "\n",
    "client = MongoClient(secret[\"MONGODB_URI\"])\n",
    "db = client[secret[\"DB_NAME\"]]\n",
    "import urllib.request as req\n",
    "import json\n",
    "accounts = json.loads(req.urlopen(\"http://localhost:5000/synced_emails\").read().decode(\"utf-8\"))\n",
    "# counter for figures\n",
    "counter = 0"
   ]
  },
  {
   "cell_type": "code",
   "execution_count": 3,
   "metadata": {},
   "outputs": [],
   "source": [
    "# Look through errors.\n",
    "for name in db.list_collection_names():\n",
    "    if \"error\" in name:\n",
    "        for error in db[name].find({\"timestamp\":{\"$gt\": 1534355736646}}):\n",
    "            print(name)\n",
    "            print(error)"
   ]
  },
  {
   "cell_type": "code",
   "execution_count": 10,
   "metadata": {},
   "outputs": [
    {
     "name": "stdout",
     "output_type": "stream",
     "text": [
      "USER ---- 9cb8c59eabbb60ad6447345c\n",
      "USER ---- b219926d16e6e46fa426cafd\n",
      "USER ---- U1532437453047928\n",
      "USER ---- 010cf6179f52b3d62184ee17\n",
      "USER ---- 0b0d1da5c036cb9637aff5d5\n",
      "Num of sessions: 1846\n",
      "Num of bad sessions: 25\n",
      "{'_id': ObjectId('5b740b5b9e26fc00142a24d0'), 'timestamp': 1534331739824.0, 'duration': 1534331738, 'enabled': False, 'frequent': False, 'domain': '', 'utcOffset': 600, 'interventions': [{'intervention': 'GLANCE_NOTIFICATION', 'timestamp': 1534327602871.0}, {'intervention': 'GLANCE_NOTIFICATION', 'timestamp': 1534331727691.0}], 'isoWeek': 33, 'version': 37}\n",
      "{'_id': ObjectId('5b740b749e26fc00142a24f1'), 'timestamp': 1534331764831.0, 'duration': 1534331764, 'enabled': False, 'frequent': False, 'domain': '', 'utcOffset': 600, 'interventions': [{'intervention': 'GLANCE_NOTIFICATION', 'timestamp': 1534327602871.0}, {'intervention': 'GLANCE_NOTIFICATION', 'timestamp': 1534331727691.0}], 'isoWeek': 33, 'version': 37}\n",
      "{'_id': ObjectId('5b740c329e26fc00142a25bc'), 'timestamp': 1534331954325.0, 'duration': 1534331953, 'enabled': False, 'frequent': False, 'domain': '', 'utcOffset': 600, 'interventions': [], 'isoWeek': 33, 'version': 37}\n",
      "{'_id': ObjectId('5b740d3a9e26fc00142a267c'), 'timestamp': 1534332218694.0, 'duration': 1534332217, 'enabled': False, 'frequent': False, 'domain': '', 'utcOffset': 600, 'interventions': [{'intervention': 'USAGE_NOTIFICATION', 'timestamp': 1534331956888.0}, {'intervention': 'GLANCE_NOTIFICATION', 'timestamp': 1534332216383.0}, {'intervention': 'GLANCE_NOTIFICATION', 'timestamp': 1534332216678.0}], 'isoWeek': 33, 'version': 37}\n",
      "{'_id': ObjectId('5b740e3b9e26fc00142a2724'), 'timestamp': 1534332475205.0, 'duration': 1534332473, 'enabled': False, 'frequent': False, 'domain': '', 'utcOffset': 600, 'interventions': [{'intervention': 'USAGE_NOTIFICATION', 'timestamp': 1534332224907.0}], 'isoWeek': 33, 'version': 37}\n",
      "{'_id': ObjectId('5b740ebd9e26fc00142a2774'), 'timestamp': 1534332605424.0, 'duration': 1534332605, 'enabled': False, 'frequent': False, 'domain': '', 'utcOffset': 600, 'interventions': [], 'isoWeek': 33, 'version': 37}\n",
      "{'_id': ObjectId('5b7410049e26fc00142a2899'), 'timestamp': 1534332932386.0, 'duration': 1534332929, 'enabled': False, 'frequent': False, 'domain': '', 'utcOffset': 600, 'interventions': [{'intervention': 'GLANCE_NOTIFICATION', 'timestamp': 1534332605046.0}], 'isoWeek': 33, 'version': 37}\n",
      "{'_id': ObjectId('5b74169f9e26fc00142a2daf'), 'timestamp': 1534334623787.0, 'duration': 1534334617, 'enabled': False, 'frequent': False, 'domain': '', 'utcOffset': 600, 'interventions': [], 'isoWeek': 33, 'version': 37}\n",
      "{'_id': ObjectId('5b74197e9e26fc00142a2f52'), 'timestamp': 1534335358298.0, 'duration': 1534335356, 'enabled': False, 'frequent': False, 'domain': '', 'utcOffset': 600, 'interventions': [{'intervention': 'GLANCE_NOTIFICATION', 'timestamp': 1534335355697.0}], 'isoWeek': 33, 'version': 37}\n",
      "{'_id': ObjectId('5b7419a39e26fc00142a2f66'), 'timestamp': 1534335395325.0, 'duration': 1534335395, 'enabled': False, 'frequent': False, 'domain': '', 'utcOffset': 600, 'interventions': [{'intervention': 'GLANCE_NOTIFICATION', 'timestamp': 1534335390086.0}], 'isoWeek': 33, 'version': 37}\n",
      "{'_id': ObjectId('5b741a169e26fc00142a2fb6'), 'timestamp': 1534335510714.0, 'duration': 1534335510, 'enabled': False, 'frequent': False, 'domain': '', 'utcOffset': 600, 'interventions': [{'intervention': 'GLANCE_NOTIFICATION', 'timestamp': 1534335499510.0}], 'isoWeek': 33, 'version': 37}\n",
      "{'_id': ObjectId('5b741ac89e26fc00142a3076'), 'timestamp': 1534335688824.0, 'duration': 1534335687, 'enabled': False, 'frequent': False, 'domain': '', 'utcOffset': 600, 'interventions': [{'intervention': 'GLANCE_NOTIFICATION', 'timestamp': 1534335499510.0}, {'intervention': 'GLANCE_NOTIFICATION', 'timestamp': 1534335675977.0}], 'isoWeek': 33, 'version': 37}\n",
      "{'_id': ObjectId('5b7425729e26fc00142a38b9'), 'timestamp': 1534338418257.0, 'duration': 1534338417, 'enabled': False, 'frequent': False, 'domain': '', 'utcOffset': 600, 'interventions': [{'intervention': 'USAGE_NOTIFICATION', 'timestamp': 1534337553382.0}], 'isoWeek': 33, 'version': 37}\n",
      "{'_id': ObjectId('5b7426b69e26fc00142a3982'), 'timestamp': 1534338742398.0, 'duration': 1534338740, 'enabled': False, 'frequent': False, 'domain': '', 'utcOffset': 600, 'interventions': [{'intervention': 'USAGE_TOAST', 'timestamp': 1534338416845.0}, {'intervention': 'GLANCE_NOTIFICATION', 'timestamp': 1534338418069.0}, {'intervention': 'GLANCE_NOTIFICATION', 'timestamp': 1534338740026.0}], 'isoWeek': 33, 'version': 37}\n",
      "{'_id': ObjectId('5b7426eb9e26fc00142a39a2'), 'timestamp': 1534338795881.0, 'duration': 1534338795, 'enabled': False, 'frequent': False, 'domain': '', 'utcOffset': 600, 'interventions': [{'intervention': 'USAGE_DIALOG', 'timestamp': 1534338744263.0}], 'isoWeek': 33, 'version': 37}\n",
      "{'_id': ObjectId('5b742ab09e26fc00142a3c60'), 'timestamp': 1534339760835.0, 'duration': 1534339759, 'enabled': False, 'frequent': False, 'domain': '', 'utcOffset': 600, 'interventions': [{'intervention': 'GLANCE_NOTIFICATION', 'timestamp': 1534338795446.0}], 'isoWeek': 33, 'version': 37}\n",
      "{'_id': ObjectId('5b742c919e26fc00142a3e56'), 'timestamp': 1534340241747.0, 'duration': 1534340241, 'enabled': False, 'frequent': False, 'domain': '', 'utcOffset': 600, 'interventions': [{'intervention': 'VISIT_TOAST', 'timestamp': 1534339961900.0}, {'intervention': 'GLANCE_NOTIFICATION', 'timestamp': 1534340211714.0}], 'isoWeek': 33, 'version': 37}\n",
      "{'_id': ObjectId('5b742d469e26fc00142a3ee9'), 'timestamp': 1534340422964.0, 'duration': 1534340421, 'enabled': False, 'frequent': False, 'domain': '', 'utcOffset': 600, 'interventions': [{'intervention': 'VISIT_TOAST', 'timestamp': 1534339961900.0}, {'intervention': 'GLANCE_NOTIFICATION', 'timestamp': 1534340211714.0}, {'intervention': 'GLANCE_NOTIFICATION', 'timestamp': 1534340410966.0}], 'isoWeek': 33, 'version': 37}\n",
      "{'_id': ObjectId('5b742de79e26fc00142a3f7e'), 'timestamp': 1534340583048.0, 'duration': 1534340579, 'enabled': False, 'frequent': False, 'domain': '', 'utcOffset': 600, 'interventions': [{'intervention': 'VISIT_TOAST', 'timestamp': 1534339961900.0}, {'intervention': 'GLANCE_NOTIFICATION', 'timestamp': 1534340211714.0}, {'intervention': 'GLANCE_NOTIFICATION', 'timestamp': 1534340410966.0}, {'intervention': 'GLANCE_NOTIFICATION', 'timestamp': 1534340578528.0}], 'isoWeek': 33, 'version': 37}\n",
      "{'_id': ObjectId('5b742e669e26fc00142a4044'), 'timestamp': 1534340710767.0, 'duration': 1534340709, 'enabled': False, 'frequent': False, 'domain': '', 'utcOffset': 600, 'interventions': [{'intervention': 'GLANCE_NOTIFICATION', 'timestamp': 1534340678907.0}], 'isoWeek': 33, 'version': 37}\n",
      "{'_id': ObjectId('5b747f3b9e26fc00142a8179'), 'timestamp': 1534361403758.0, 'duration': 1534361402, 'enabled': False, 'frequent': False, 'domain': '', 'utcOffset': 600, 'interventions': [{'intervention': 'GLANCE_NOTIFICATION', 'timestamp': 1534340678907.0}], 'isoWeek': 33, 'version': 37}\n",
      "{'_id': ObjectId('5b7490cc9e26fc00142a8ad7'), 'timestamp': 1534365900845.0, 'duration': 1534365899, 'enabled': False, 'frequent': False, 'domain': '', 'utcOffset': 600, 'interventions': [{'intervention': 'GLANCE_NOTIFICATION', 'timestamp': 1534365893580.0}], 'isoWeek': 33, 'version': 37}\n",
      "{'_id': ObjectId('5b7497719e26fc00142a8f9e'), 'timestamp': 1534367601087.0, 'duration': 1534367599, 'enabled': False, 'frequent': False, 'domain': '', 'utcOffset': 600, 'interventions': [{'intervention': 'GLANCE_NOTIFICATION', 'timestamp': 1534367589048.0}], 'isoWeek': 33, 'version': 37}\n",
      "{'_id': ObjectId('5b74a1e49e26fc00142a9674'), 'timestamp': 1534370276006.0, 'duration': 1534370275, 'enabled': False, 'frequent': False, 'domain': '', 'utcOffset': 600, 'interventions': [{'intervention': 'GLANCE_NOTIFICATION', 'timestamp': 1534367589048.0}], 'isoWeek': 33, 'version': 37}\n",
      "{'_id': ObjectId('5b74a26f9e26fc00142a96db'), 'timestamp': 1534370415681.0, 'duration': 1534370415, 'enabled': False, 'frequent': False, 'domain': '', 'utcOffset': 600, 'interventions': [{'intervention': 'VISIT_TOAST', 'timestamp': 1534370382334.0}], 'isoWeek': 33, 'version': 37}\n",
      "After delete: 1821\n"
     ]
    }
   ],
   "source": [
    "# Unfortunately, we're still getting those erroneous logs of huge time spent on \"\" domain since some updates aren't fully reflected yet. Let's delete them again.\n",
    "done = False\n",
    "for account in accounts:\n",
    "    if not done:\n",
    "        for user in account[\"android\"]:\n",
    "            if not done:\n",
    "                print(\"USER ---- \" + user)\n",
    "                if len([s for s in db[user + \"_sessions\"].find({\"duration\": {\"$gt\": 60 ** 2 * 24 * 7}})]) > 0:\n",
    "                    print(\"Num of sessions: \" + str(len([s for s in db[user+\"_sessions\"].find()])))\n",
    "                    print(\"Num of bad sessions: \" + str(len([s for s in db[user + \"_sessions\"].find({\"domain\": \"\", \"duration\": {\"$gt\": 60 ** 2 * 24}})])))\n",
    "                    db[user + \"_sessions\"].delete_many({\"domain\": \"\",\"duration\": {\"$gt\": 60 ** 2 * 24}})\n",
    "                    print(\"After delete: \" + str(len([s for s in db[user+\"_sessions\"].find()])))\n",
    "\n"
   ]
  },
  {
   "cell_type": "code",
   "execution_count": null,
   "metadata": {},
   "outputs": [],
   "source": []
  }
 ],
 "metadata": {
  "kernelspec": {
   "display_name": "Python 3",
   "language": "python",
   "name": "python3"
  },
  "language_info": {
   "codemirror_mode": {
    "name": "ipython",
    "version": 3
   },
   "file_extension": ".py",
   "mimetype": "text/x-python",
   "name": "python",
   "nbconvert_exporter": "python",
   "pygments_lexer": "ipython3",
   "version": "3.6.5"
  }
 },
 "nbformat": 4,
 "nbformat_minor": 2
}
