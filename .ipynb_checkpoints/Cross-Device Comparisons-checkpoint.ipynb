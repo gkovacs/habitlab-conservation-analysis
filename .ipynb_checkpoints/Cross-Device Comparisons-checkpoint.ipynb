{
 "cells": [
  {
   "cell_type": "code",
   "execution_count": 1,
   "metadata": {},
   "outputs": [
    {
     "name": "stdout",
     "output_type": "stream",
     "text": [
      "Requirement already satisfied: pymongo in /Library/Frameworks/Python.framework/Versions/3.6/lib/python3.6/site-packages (3.7.1)\n",
      "Requirement already satisfied: pyyaml in /Library/Frameworks/Python.framework/Versions/3.6/lib/python3.6/site-packages (3.13)\n",
      "Requirement already satisfied: matplotlib in /Library/Frameworks/Python.framework/Versions/3.6/lib/python3.6/site-packages (2.2.2)\n",
      "Requirement already satisfied: pytz in /Library/Frameworks/Python.framework/Versions/3.6/lib/python3.6/site-packages (from matplotlib) (2018.5)\n",
      "Requirement already satisfied: python-dateutil>=2.1 in /Library/Frameworks/Python.framework/Versions/3.6/lib/python3.6/site-packages (from matplotlib) (2.7.3)\n",
      "Requirement already satisfied: cycler>=0.10 in /Library/Frameworks/Python.framework/Versions/3.6/lib/python3.6/site-packages (from matplotlib) (0.10.0)\n",
      "Requirement already satisfied: kiwisolver>=1.0.1 in /Library/Frameworks/Python.framework/Versions/3.6/lib/python3.6/site-packages (from matplotlib) (1.0.1)\n",
      "Requirement already satisfied: six>=1.10 in /Library/Frameworks/Python.framework/Versions/3.6/lib/python3.6/site-packages (from matplotlib) (1.11.0)\n",
      "Requirement already satisfied: pyparsing!=2.0.4,!=2.1.2,!=2.1.6,>=2.0.1 in /Library/Frameworks/Python.framework/Versions/3.6/lib/python3.6/site-packages (from matplotlib) (2.2.0)\n",
      "Requirement already satisfied: numpy>=1.7.1 in /Library/Frameworks/Python.framework/Versions/3.6/lib/python3.6/site-packages (from matplotlib) (1.14.5)\n",
      "Requirement already satisfied: setuptools in /Library/Frameworks/Python.framework/Versions/3.6/lib/python3.6/site-packages (from kiwisolver>=1.0.1->matplotlib) (39.0.1)\n",
      "Requirement already satisfied: scipy in /Library/Frameworks/Python.framework/Versions/3.6/lib/python3.6/site-packages (1.1.0)\n",
      "Requirement already satisfied: numpy>=1.8.2 in /Library/Frameworks/Python.framework/Versions/3.6/lib/python3.6/site-packages (from scipy) (1.14.5)\n",
      "Requirement already satisfied: pandas in /Library/Frameworks/Python.framework/Versions/3.6/lib/python3.6/site-packages (0.23.4)\n",
      "Requirement already satisfied: numpy>=1.9.0 in /Library/Frameworks/Python.framework/Versions/3.6/lib/python3.6/site-packages (from pandas) (1.14.5)\n",
      "Requirement already satisfied: pytz>=2011k in /Library/Frameworks/Python.framework/Versions/3.6/lib/python3.6/site-packages (from pandas) (2018.5)\n",
      "Requirement already satisfied: python-dateutil>=2.5.0 in /Library/Frameworks/Python.framework/Versions/3.6/lib/python3.6/site-packages (from pandas) (2.7.3)\n",
      "Requirement already satisfied: six>=1.5 in /Library/Frameworks/Python.framework/Versions/3.6/lib/python3.6/site-packages (from python-dateutil>=2.5.0->pandas) (1.11.0)\n",
      "/Users/drewgregory/JupyterNotebooks/habitlab-data-analysis\n"
     ]
    }
   ],
   "source": [
    "import sys\n",
    "!{sys.executable} -m pip install pymongo\n",
    "!{sys.executable} -m pip install pyyaml\n",
    "!{sys.executable} -m pip install matplotlib\n",
    "!{sys.executable} -m pip install scipy\n",
    "!{sys.executable} -m pip install pandas\n",
    "import os\n",
    "print(os.getcwd())\n",
    "# Get Mongo database\n",
    "from yaml import load\n",
    "from pymongo import MongoClient\n",
    "secret = load(open(\"../../.getsecret.yaml\"))\n",
    "\n",
    "client = MongoClient(secret[\"MONGODB_URI\"])\n",
    "db = client[secret[\"DB_NAME\"]]\n",
    "# Get all synced accounts and their respective users.\n",
    "import urllib.request as req\n",
    "import json\n",
    "accounts = json.loads(req.urlopen(\"http://localhost:5000/synced_emails\").read().decode(\"utf-8\"))\n",
    "# counter for figures\n",
    "counter = 0"
   ]
  },
  {
   "cell_type": "code",
   "execution_count": 2,
   "metadata": {},
   "outputs": [
    {
     "data": {
      "text/plain": [
       "'\\nUnit Tests:\\nprint(get_name(\"custom/spend_less_time_gizmodo.com\", BROWSER))\\nprint(get_name(\"facebook/spend_less_time\", BROWSER))\\nprint(get_name(\"com.duolingo\", ANDROID))\\nprint(get_name(\"com.android.chrome\", ANDROID))\\n'"
      ]
     },
     "execution_count": 2,
     "metadata": {},
     "output_type": "execute_result"
    }
   ],
   "source": [
    "ANDROID = \"android\"\n",
    "BROWSER = \"browser\"\n",
    "SHARED = \"shared\"\n",
    "PACKAGES = \"packages\"\n",
    "SPEND_LESS_TIME_LENGTH = len(\"custom/spend_less_time_\")\n",
    "# Associate users with domain name which will function as our key.\n",
    "def get_name(name, device):\n",
    "    \"\"\"\n",
    "    @param name: goal name (package name for Android)\n",
    "    @param device: \"android\" or \"browser\"\n",
    "    @return name of goal with subdomains removed and goal annotation removed (i.e. spend_less_time)\n",
    "    \"\"\"\n",
    "    name = name.lower()\n",
    "    if device == ANDROID: \n",
    "        subs = list(filter(lambda x: x != \"android\" and x != \"google\", name.split('.')))\n",
    "        if len(subs) < 2:\n",
    "            return subs[0]\n",
    "        return subs[1]\n",
    "    # must be custom browser goal\n",
    "    if \"custom\" in name:\n",
    "        name = name[SPEND_LESS_TIME_LENGTH:]\n",
    "        subs = name.split('.')\n",
    "        if len(subs) < 2:\n",
    "            return subs[0]\n",
    "        return subs[len(subs) - 2]\n",
    "    # Must be normal browser goal\n",
    "    return name.split('/spend')[0]\n",
    "        \n",
    "    \n",
    "def organize_stats(shared_goals, stats, device):\n",
    "    \"\"\"\n",
    "    Organizes that stats object into shared_goals for device.\n",
    "    @param shared_goals: dictionary\n",
    "    @param stats:  stats object returned from freq_stats\n",
    "    @param device: ANDROID or BROWSER\n",
    "    \"\"\"\n",
    "    for iso in stats:\n",
    "        for freq in stats[iso]:\n",
    "            for goal in stats[iso][freq]:\n",
    "                name = get_name(goal, device)\n",
    "                if name not in shared_goals:\n",
    "                    shared_goals[name] = {ANDROID: {} PACKAGES:[], BROWSER: {}, PACKAGES:[]}\n",
    "                shared_goals[name][device][name][iso] = freq\n",
    "                if len(shared_goals[name][ANDROID]) > 0 and len(shared_goals[name][BROWSER]) > 0:\n",
    "                    shared_goals[SHARED].append(name)\n",
    "\n",
    "\"\"\"\n",
    "Unit Tests:\n",
    "print(get_name(\"custom/spend_less_time_gizmodo.com\", BROWSER))\n",
    "print(get_name(\"facebook/spend_less_time\", BROWSER))\n",
    "print(get_name(\"com.duolingo\", ANDROID))\n",
    "print(get_name(\"com.android.chrome\", ANDROID))\n",
    "\"\"\"\n"
   ]
  },
  {
   "cell_type": "code",
   "execution_count": 5,
   "metadata": {},
   "outputs": [
    {
     "name": "stdout",
     "output_type": "stream",
     "text": [
      "73\n"
     ]
    }
   ],
   "source": [
    "# Analyze conservation across devices\n",
    "shared_data = {}\n",
    "num_shared_goals = 0\n",
    "for account in accounts:\n",
    "    shared_goals = {SHARED: []}\n",
    "    if len(account[ANDROID]) > 0 and len(account[BROWSER]) > 0: # It's possible they have overlapping goals.\n",
    "        for user in account[ANDROID]:\n",
    "            stats = json.loads(req.urlopen(\"http://localhost:5000/freq_stats_for_user?id=\"+user).read().decode(\"utf-8\"))\n",
    "            organize_stats(shared_goals, stats, ANDROID)\n",
    "        for user in account[BROWSER]:\n",
    "            stats = json.loads(req.urlopen('http://localhost:5000/freq_stats_for_user_browser?id='+user).read().decode(\"utf-8\"))\n",
    "            organize_stats(shared_goals, stats, BROWSER)\n",
    "        for name in shared_goals[SHARED]:\n",
    "            # Cool. Let's put them in the goals\n",
    "            num_shared_goals += 1\n",
    "            # Now, we're looking for a scenario where one device stays constant while the other switches its freq setting\n",
    "            isoWeeks = shared_goals[name][ANDROID]\n",
    "print(num_shared_goals)"
   ]
  },
  {
   "cell_type": "code",
   "execution_count": null,
   "metadata": {},
   "outputs": [],
   "source": []
  }
 ],
 "metadata": {
  "kernelspec": {
   "display_name": "Python 3",
   "language": "python",
   "name": "python3"
  },
  "language_info": {
   "codemirror_mode": {
    "name": "ipython",
    "version": 3
   },
   "file_extension": ".py",
   "mimetype": "text/x-python",
   "name": "python",
   "nbconvert_exporter": "python",
   "pygments_lexer": "ipython3",
   "version": "3.6.5"
  }
 },
 "nbformat": 4,
 "nbformat_minor": 2
}
