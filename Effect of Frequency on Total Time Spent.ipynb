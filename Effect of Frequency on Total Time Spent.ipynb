{
 "cells": [
  {
   "cell_type": "code",
   "execution_count": 1,
   "metadata": {},
   "outputs": [],
   "source": [
    "import sys\n",
    "#!{sys.executable} -m pip install pymongo\n",
    "#!{sys.executable} -m pip install pyyaml\n",
    "#!{sys.executable} -m pip install matplotlib\n",
    "#!{sys.executable} -m pip install scipy\n",
    "#!{sys.executable} -m pip install pandas\n",
    "#!{sys.executable} -m pip install isoweek"
   ]
  },
  {
   "cell_type": "code",
   "execution_count": 2,
   "metadata": {},
   "outputs": [
    {
     "name": "stdout",
     "output_type": "stream",
     "text": [
      "/home/geza/habitlab-data-analysis\n"
     ]
    }
   ],
   "source": [
    "\n",
    "import os\n",
    "print(os.getcwd())\n",
    "# Get Mongo database\n",
    "from yaml import load\n",
    "from pymongo import MongoClient\n",
    "from getsecret import getsecret\n",
    "\n",
    "client = MongoClient(getsecret(\"MONGODB_URI\"))\n",
    "db = client[getsecret(\"MOBILE_NAME\")]\n",
    "ext_client = MongoClient(getsecret(\"EXT_URI\"))\n",
    "\n",
    "ext_db = ext_client[getsecret(\"DB_NAME\")]\n",
    "# Get all synced accounts and their respective users.\n",
    "import urllib.request as req\n",
    "import json\n",
    "accounts = json.loads(req.urlopen(\"http://localhost:5000/synced_emails\").read().decode(\"utf-8\"))\n",
    "\n",
    "\n",
    "### CONSTANTS ###\n",
    "INTENSITY = \"intensity\"\n",
    "TOTAL_TIME = \"total_time\"\n",
    "ANDROID = \"android\"\n",
    "HASH = \"email_hash\"\n",
    "INSTALL = \"install_id\"\n",
    "GOALS = \"goals\"\n",
    "FREQ_GOALS = \"freq_goals\"\n",
    "INFREQ_GOALS = \"infreq_goals\"\n",
    "OTHER_TIME = \"other_time\"\n",
    "FREQ_TIME =\"freq_time\"\n",
    "GOAL_TIME = \"goal_time\"\n",
    "TARGET_TIME = \"target_time\"\n",
    "BROWSER = \"browser\"\n",
    "BROWSER_DOMAIN = \"browser_domain\"\n",
    "GOAL_TIMES = \"goal_frequency_days\"\n",
    "FREQ_GOALS = \"freq_goals\"\n",
    "INFREQ_GOALS = \"infreq_goals\"\n",
    "BROWSER = \"browser\"\n",
    "FREQUENCY = \"frequency\"\n",
    "TIME = \"time\"\n",
    "GOAL = \"goal\"\n",
    "SPEND_LESS_TIME_LENGTH = len(\"custom/spend_less_time_\")\n",
    "AVG_FREQ_TIME = \"avg_freq_time\"\n",
    "AVG_INFREQ_TIME = \"avg_infreq_time\"\n",
    "AVG_GOAL_TIME = \"avg_goal_time\"\n",
    "UNPRODUCTIVE_TIME = \"unproductive_time\"\n",
    "PRODUCTIVE_TIME = \"productive_time\"\n",
    "INFREQ_TIME = \"infreq_time\"\n",
    "NUM_FREQ_GOALS = \"num_freq_goals\"\n",
    "NUM_INFREQ_GOALS = \"num_infreq_goals\"\n",
    "import time\n",
    "\n",
    "\n",
    "### FUNCTIONS ###\n",
    "# Get freq stats\n",
    "# week -> goal -> freq\n",
    "# Top-level-domain-names that are not pertinent to the application.\n",
    "TLDs = ['aaa', 'abb', 'abc', 'ac', 'aco', 'ad', 'ads', 'ae', 'aeg', 'af', 'afl', 'ag', 'ai', 'aig', 'al', 'am', 'anz', 'ao', 'aol', 'app', 'aq', 'ar', 'art', 'as', 'at', 'au', 'aw', 'aws', 'ax', 'axa', 'az', 'ba', 'bar', 'bb', 'bbc', 'bbt', 'bcg', 'bcn', 'bd', 'be', 'bet', 'bf', 'bg', 'bh', 'bi', 'bid', 'bio', 'biz', 'bj', 'bm', 'bms', 'bmw', 'bn', 'bnl', 'bo', 'bom', 'boo', 'bot', 'box', 'br', 'bs', 'bt', 'buy', 'bv', 'bw', 'by', 'bz', 'bzh', 'ca', 'cab', 'cal', 'cam', 'car', 'cat', 'cba', 'cbn', 'cbs', 'cc', 'cd', 'ceb', 'ceo', 'cf', 'cfa', 'cfd', 'cg', 'ch', 'ci', 'ck', 'cl', 'cm', 'cn', 'co', 'com', 'cr', 'crs', 'csc', 'cu', 'cv', 'cw', 'cx', 'cy', 'cz', 'dad', 'day', 'dds', 'de', 'dev', 'dhl', 'diy', 'dj', 'dk', 'dm', 'dnp', 'do', 'dog', 'dot', 'dtv', 'dvr', 'dz', 'eat', 'ec', 'eco', 'edu', 'ee', 'eg', 'er', 'es', 'esq', 'et', 'eu', 'eus', 'fan', 'fi', 'fit', 'fj', 'fk', 'fly', 'fm', 'fo', 'foo', 'fox', 'fr', 'frl', 'ftr', 'fun', 'fyi', 'ga', 'gal', 'gap', 'gb', 'gd', 'gdn', 'ge', 'gea', 'gf', 'gg', 'gh', 'gi', 'gl', 'gle', 'gm', 'gmo', 'gmx', 'gn', 'goo', 'gop', 'got', 'gov', 'gp', 'gq', 'gr', 'gs', 'gt', 'gu', 'gw', 'gy', 'hbo', 'hiv', 'hk', 'hkt', 'hm', 'hn', 'hot', 'how', 'hr', 'ht', 'hu', 'ibm', 'ice', 'icu', 'id', 'ie', 'ifm', 'il', 'im', 'in', 'inc', 'ing', 'ink', 'int', 'io', 'iq', 'ir', 'is', 'ist', 'it', 'itv', 'jcb', 'jcp', 'je', 'jio', 'jlc', 'jll', 'jm', 'jmp', 'jnj', 'jo', 'jot', 'joy', 'jp', 'ke', 'kfh', 'kg', 'kh', 'ki', 'kia', 'kim', 'km', 'kn', 'kp', 'kpn', 'kr', 'krd', 'kw', 'ky', 'kz', 'la', 'lat', 'law', 'lb', 'lc', 'lds', 'li', 'lk', 'llc', 'lol', 'lpl', 'lr', 'ls', 'lt', 'ltd', 'lu', 'lv', 'ly', 'ma', 'man', 'map', 'mba', 'mc', 'md', 'me', 'med', 'men', 'mg', 'mh', 'mil', 'mit', 'mk', 'ml', 'mlb', 'mls', 'mm', 'mma', 'mn', 'mo', 'moe', 'moi', 'mom', 'mov', 'mp', 'mq', 'mr', 'ms', 'msd', 'mt', 'mtn', 'mtr', 'mu', 'mv', 'mw', 'mx', 'my', 'mz', 'na', 'nab', 'nba', 'nc', 'ne', 'nec', 'net', 'new', 'nf', 'nfl', 'ng', 'ngo', 'nhk', 'ni', 'nl', 'no', 'now', 'np', 'nr', 'nra', 'nrw', 'ntt', 'nu', 'nyc', 'nz', 'obi', 'off', 'om', 'one', 'ong', 'onl', 'ooo', 'org', 'ott', 'ovh', 'pa', 'pay', 'pe', 'pet', 'pf', 'pg', 'ph', 'phd', 'pid', 'pin', 'pk', 'pl', 'pm', 'pn', 'pnc', 'pr', 'pro', 'pru', 'ps', 'pt', 'pub', 'pw', 'pwc', 'py', 'qa', 'qvc', 're', 'red', 'ren', 'ril', 'rio', 'rip', 'ro', 'rs', 'ru', 'run', 'rw', 'rwe', 'sa', 'sap', 'sas', 'sb', 'sbi', 'sbs', 'sc', 'sca', 'scb', 'sd', 'se', 'ses', 'sew', 'sex', 'sfr', 'sg', 'sh', 'si', 'sj', 'sk', 'ski', 'sky', 'sl', 'sm', 'sn', 'so', 'soy', 'sr', 'srl', 'srt', 'st', 'stc', 'su', 'sv', 'sx', 'sy', 'sz', 'tab', 'tax', 'tc', 'tci', 'td', 'tdk', 'tel', 'tf', 'tg', 'th', 'thd', 'tj', 'tjx', 'tk', 'tl', 'tm', 'tn', 'to', 'top', 'tr', 'trv', 'tt', 'tui', 'tv', 'tvs', 'tw', 'tz', 'ua', 'ubs', 'ug', 'uk', 'uno', 'uol', 'ups', 'us', 'uy', 'uz', 'va', 'vc', 've', 'vet', 'vg', 'vi', 'vig', 'vin', 'vip', 'vn', 'vu', 'wed', 'wf', 'win', 'wme', 'wow', 'ws', 'wtc', 'wtf', 'xin', 'xxx', 'xyz', 'ye', 'you', 'yt', 'yun', 'za', 'zip', 'zm', 'zw']\n",
    "def get_name(name, device):\n",
    "    \"\"\"\n",
    "    @param name: goal name (package name for Android)\n",
    "    @param device: \"android\" or \"browser\" or \"browser_domain\"\n",
    "    @return name of goal with subdomains removed and goal annotation removed (i.e. spend_less_time)\n",
    "    \"\"\"\n",
    "    if device == ANDROID  and name ==\"com.google.android.gm\" or device == BROWSER and \"gmail\" in name:\n",
    "        return \"gmail\"\n",
    "    name = name.lower()\n",
    "    if \"custom\" in name and device == BROWSER:\n",
    "        # strip off the \"custom/spend_less_time_\"\n",
    "        name = name[SPEND_LESS_TIME_LENGTH:]\n",
    "    elif device == BROWSER:\n",
    "        return name.split('/spend')[0]\n",
    "    # Now we have to get juicy part of domain.\n",
    "    subs = list(filter(lambda x: x != \"android\" and x != \"google\" and x != \"apps\" and x not in TLDs, name.split('.')))\n",
    "    if device == ANDROID: \n",
    "        if len(subs) > 0:\n",
    "            return subs[0]\n",
    "        return name\n",
    "    else:\n",
    "        if len(subs) > 0:\n",
    "            return subs[len(subs) - 1]    \n",
    "        \n",
    "def get_freq_stats(user):\n",
    "    \"\"\"\n",
    "    Gets the frequency stats for browser.\n",
    "    :param user user id \n",
    "    :return {week: {FREQ_GOALS: set(), INFREQ_GOALS: set()}}\n",
    "    \"\"\"\n",
    "    stat = {}\n",
    "    for setting in ext_db[user + \"_synced:goal_frequencies\"].find():\n",
    "        val = json.loads(setting[\"val\"])\n",
    "        if val[\"algorithm\"] == \"isoweek_random\":\n",
    "            isoWeek = int(datetime.fromtimestamp(setting[\"timestamp_local\"]/1000 + 8 * (60 ** 2)).isocalendar()[1])\n",
    "            currentIsoWeek = int(datetime.fromtimestamp(time.time()).isocalendar()[1])\n",
    "            for week in range(isoWeek, currentIsoWeek + 1):\n",
    "                if str(week) not in stat:\n",
    "                    stat[str(week)] = {FREQ_GOALS: set([]), INFREQ_GOALS: set([])}\n",
    "                if val[\"onweeks\"][week] == 1:\n",
    "                    stat[str(week)][FREQ_GOALS].add(get_name(setting[\"key\"], BROWSER))\n",
    "                else:\n",
    "                    stat[str(week)][INFREQ_GOALS].add(get_name(setting[\"key\"], BROWSER))\n",
    "    return stat\n"
   ]
  },
  {
   "cell_type": "code",
   "execution_count": null,
   "metadata": {},
   "outputs": [],
   "source": []
  },
  {
   "cell_type": "code",
   "execution_count": 3,
   "metadata": {},
   "outputs": [],
   "source": [
    "%load_ext rpy2.ipython"
   ]
  },
  {
   "cell_type": "code",
   "execution_count": 4,
   "metadata": {},
   "outputs": [],
   "source": [
    "# Now, let's get the mapping from productive apps to unproductive ones.\n",
    "from statistics import mode, median, StatisticsError\n",
    "name_to_prod = {}\n",
    "with open('domain_to_productivity.json', 'r') as f:\n",
    "    domain_to_prod = json.load(f)\n",
    "    for domain in domain_to_prod:\n",
    "        name = get_name(domain, BROWSER_DOMAIN)\n",
    "        if name not in name_to_prod: \n",
    "            name_to_prod[name] = []\n",
    "        name_to_prod[name].append(domain_to_prod[domain])\n",
    "for name in name_to_prod:\n",
    "    try:\n",
    "        name_to_prod[name] = mode(name_to_prod[name])\n",
    "    except StatisticsError:\n",
    "        name_to_prod[name] = median(name_to_prod[name])"
   ]
  },
  {
   "cell_type": "code",
   "execution_count": 5,
   "metadata": {},
   "outputs": [],
   "source": [
    "# Now, for each day, get frequency intensity\n",
    "day_stats = []\n",
    "import math\n",
    "import moment\n",
    "for account in accounts:\n",
    "    curr_date = \"\"\n",
    "    day_data = {PRODUCTIVE_TIME: 0, UNPRODUCTIVE_TIME: 0,INTENSITY: 0, INFREQ_GOALS: set([]), TARGET_TIME:0,\n",
    "                FREQ_TIME: 0, TOTAL_TIME: 0, GOAL_TIME: 0, HASH: account[\"_id\"], GOALS: set([]), \n",
    "                FREQ_GOALS: set([]), OTHER_TIME: 0, INSTALL: '' }\n",
    "    for user in account[ANDROID]:\n",
    "        day_data[INSTALL] = user\n",
    "        for s in db[user+ \"_sessions\"].find({\"enabled\": {\"$exists\": True}, \"duration\": {\"$lt\": 86400}}):\n",
    "            if (s[\"duration\"] <= 0):\n",
    "              continue\n",
    "            time = moment.unix(s[\"timestamp\"])\n",
    "            date = time.format(\"YYYY-MM-DD\")\n",
    "            if date != curr_date:\n",
    "                if curr_date != \"\" and day_data[TOTAL_TIME] > 0 and len(day_data[GOALS]) > 0 and day_data[GOAL_TIME] > 0 and day_data[OTHER_TIME] > 0:\n",
    "                    # Add obj and reset data\n",
    "                    # take logs of time cuz time is log-norm distributed\n",
    "                    # Have a more clever way of determining intensity: the % time spent on freq goals\n",
    "                    for key in day_data:\n",
    "                        if \"time\" in key and day_data[key] > 0:\n",
    "                            day_data[key]= math.log(day_data[key])\n",
    "                    day_stats.append(day_data)\n",
    "                    day_data = {PRODUCTIVE_TIME: 0, UNPRODUCTIVE_TIME: 0,INTENSITY: 0, INFREQ_GOALS: set([]), TARGET_TIME:0,\n",
    "                                FREQ_TIME: 0, TOTAL_TIME: 0, GOAL_TIME: 0, HASH: account[\"_id\"], GOALS: set([]), \n",
    "                                FREQ_GOALS: set([]), OTHER_TIME: 0, INSTALL: user }\n",
    "                curr_date = date\n",
    "            if \"enabled\" in s:\n",
    "                if s[\"enabled\"]:\n",
    "                    day_data[GOALS].add(s[\"domain\"])\n",
    "                    if s[\"duration\"] > 0:\n",
    "                        if s[\"domain\"] + \"_domain_time\" not in day_data:\n",
    "                            day_data[s[\"domain\"]+\"_domain_time\"] = 0\n",
    "                        day_data[s[\"domain\"]+\"_domain_time\"] += s[\"duration\"]\n",
    "                    if \"frequent\" in s and s[\"frequent\"]:\n",
    "                        day_data[FREQ_TIME] += s[\"duration\"]\n",
    "                        day_data[FREQ_GOALS].add(s[\"domain\"])\n",
    "                    elif \"frequent\" in s:\n",
    "                        day_data[INFREQ_GOALS].add(s[\"domain\"])\n",
    "                    day_data[GOAL_TIME] += s[\"duration\"]\n",
    "                elif \"target\" in s and s[\"target\"]:\n",
    "                    day_data[TARGET_TIME] += s[\"duration\"]                        \n",
    "                else:\n",
    "                    day_data[OTHER_TIME] += s[\"duration\"]\n",
    "            name = get_name(s[\"domain\"], ANDROID)\n",
    "            if name in name_to_prod:\n",
    "                if name_to_prod[name] > 0:\n",
    "                    day_data[PRODUCTIVE_TIME] += s[\"duration\"]\n",
    "                elif name_to_prod[name] < 0:\n",
    "                    day_data[UNPRODUCTIVE_TIME] += s[\"duration\"]\n",
    "            day_data[TOTAL_TIME] += (s[\"duration\"])\n",
    "            "
   ]
  },
  {
   "cell_type": "code",
   "execution_count": 6,
   "metadata": {},
   "outputs": [
    {
     "data": {
      "text/plain": [
       "(array([2.089e+03, 1.846e+03, 1.073e+03, 7.510e+02, 5.050e+02, 3.030e+02,\n",
       "        3.100e+02, 4.100e+01, 3.000e+00, 5.000e+00, 1.000e+00, 1.000e+00,\n",
       "        1.000e+00, 1.000e+00, 1.000e+00, 0.000e+00, 0.000e+00, 0.000e+00,\n",
       "        1.000e+00, 1.000e+00]),\n",
       " array([4.5000000e+01, 1.2592050e+04, 2.5139100e+04, 3.7686150e+04,\n",
       "        5.0233200e+04, 6.2780250e+04, 7.5327300e+04, 8.7874350e+04,\n",
       "        1.0042140e+05, 1.1296845e+05, 1.2551550e+05, 1.3806255e+05,\n",
       "        1.5060960e+05, 1.6315665e+05, 1.7570370e+05, 1.8825075e+05,\n",
       "        2.0079780e+05, 2.1334485e+05, 2.2589190e+05, 2.3843895e+05,\n",
       "        2.5098600e+05]),\n",
       " <a list of 20 Patch objects>)"
      ]
     },
     "execution_count": 6,
     "metadata": {},
     "output_type": "execute_result"
    }
   ],
   "source": [
    "import matplotlib.pyplot as pyplot\n",
    "pyplot.figure(12)\n",
    "pyplot.hist([math.exp(day[TOTAL_TIME]) for day in day_stats if math.exp(day[TOTAL_TIME])], bins=20)"
   ]
  },
  {
   "cell_type": "code",
   "execution_count": 7,
   "metadata": {},
   "outputs": [
    {
     "name": "stdout",
     "output_type": "stream",
     "text": [
      "6933\n",
      "      productive_time  unproductive_time  intensity  \\\n",
      "0            7.313220           0.000000   0.333333   \n",
      "1            4.430817           3.044522   0.500000   \n",
      "2            5.541264           7.882692   0.333333   \n",
      "3            5.899897           7.902857   0.666667   \n",
      "4            5.680173           8.218787   0.666667   \n",
      "5            6.274762           8.939974   0.800000   \n",
      "6            4.859812           8.122371   0.250000   \n",
      "7            7.121252           7.741968   0.333333   \n",
      "8            6.720220           8.000685   0.500000   \n",
      "9            5.356586           6.150603   0.500000   \n",
      "10           5.789960           8.883502   1.000000   \n",
      "11           6.496775           9.277719   0.750000   \n",
      "12           6.448889           8.040769   0.666667   \n",
      "13           6.413459           8.809863   0.750000   \n",
      "14           5.241747           8.592672   0.750000   \n",
      "15           4.418841           9.062188   0.200000   \n",
      "16           4.663439           9.302828   0.800000   \n",
      "17           0.000000           2.302585   0.500000   \n",
      "18           7.604894           9.117567   0.250000   \n",
      "19           4.770685           9.080573   0.250000   \n",
      "20           0.000000           9.124891   0.250000   \n",
      "21           0.000000          10.020070   0.200000   \n",
      "22           3.637586          10.736223   0.400000   \n",
      "23           2.302585           9.099744   0.400000   \n",
      "24           3.688879           9.049467   0.250000   \n",
      "25           4.532599           9.002085   0.400000   \n",
      "26           4.043051           9.065777   0.400000   \n",
      "27           6.327937           8.562358   0.250000   \n",
      "28           4.382027           9.667005   0.250000   \n",
      "29           1.098612           9.252058   0.500000   \n",
      "...               ...                ...        ...   \n",
      "4976         7.390799           8.001355   0.400000   \n",
      "4977         5.537334           8.767173   0.600000   \n",
      "4978         0.000000           7.703459   0.600000   \n",
      "4979         3.135494           8.312135   0.600000   \n",
      "4980         4.890349           9.616139   0.500000   \n",
      "4981         3.295837          10.437522   0.500000   \n",
      "4982         2.833213          10.287252   0.500000   \n",
      "4983         5.164786           8.650325   0.400000   \n",
      "4984         3.850148           8.567316   0.500000   \n",
      "4985         0.693147           9.359364   0.500000   \n",
      "4986         6.678342           8.183397   0.666667   \n",
      "4987        10.481869           7.736307   0.250000   \n",
      "4988         9.936971           8.659734   0.333333   \n",
      "4989        11.287554           8.808220   0.250000   \n",
      "4990         4.983607           8.972083   0.500000   \n",
      "4991         5.141664          10.073526   0.750000   \n",
      "4992         0.000000           4.499810   0.500000   \n",
      "4993         8.222822           7.810758   0.500000   \n",
      "4994         1.386294           5.111988   0.500000   \n",
      "4995         3.688879           9.599676   0.800000   \n",
      "4996         0.000000           8.560253   1.000000   \n",
      "4997        10.781474           9.398478   0.200000   \n",
      "4998        10.836144           9.278466   0.200000   \n",
      "4999         3.891820          10.536885   0.500000   \n",
      "5000         6.716595           7.240650   0.800000   \n",
      "5001         6.210600           7.179308   1.000000   \n",
      "5002         6.350886           6.340359   0.500000   \n",
      "5003         5.433722           9.431482   0.666667   \n",
      "5004         2.397895           8.579980   0.333333   \n",
      "5005         8.128880           6.603944   0.666667   \n",
      "\n",
      "                                           infreq_goals  target_time  \\\n",
      "0           {com.android.chrome, com.google.android.gm}     0.000000   \n",
      "1                               {com.google.android.gm}     0.000000   \n",
      "2      {com.audible.application, com.google.android.gm}     0.000000   \n",
      "3                               {com.instagram.android}     0.000000   \n",
      "4                               {com.instagram.android}     0.000000   \n",
      "5                               {com.instagram.android}     0.000000   \n",
      "6     {com.linkedin.android, com.ideashower.readitla...     0.000000   \n",
      "7     {com.linkedin.android, com.ideashower.readitla...     0.000000   \n",
      "8     {com.linkedin.android, com.ideashower.readitla...     0.000000   \n",
      "9                                {com.linkedin.android}     0.000000   \n",
      "10                              {com.instagram.android}     1.945910   \n",
      "11                              {com.instagram.android}     2.484907   \n",
      "12                              {com.instagram.android}     1.791759   \n",
      "13                              {com.instagram.android}     1.791759   \n",
      "14                              {com.instagram.android}     0.000000   \n",
      "15    {com.amazon.avod.thirdpartyclient, com.faceboo...     0.000000   \n",
      "16    {com.facebook.lite, com.whatsapp, com.amazon.a...     0.000000   \n",
      "17                              {com.instagram.android}     0.000000   \n",
      "18    {com.facebook.lite, com.instagram.android, com...     0.000000   \n",
      "19    {com.facebook.lite, com.instagram.android, com...     0.000000   \n",
      "20    {com.facebook.lite, com.instagram.android, com...     0.000000   \n",
      "21    {com.pinterest, com.facebook.lite, com.instagr...     0.000000   \n",
      "22    {com.facebook.lite, com.instagram.android, com...     0.000000   \n",
      "23    {com.facebook.lite, com.instagram.android, com...     0.000000   \n",
      "24    {com.facebook.lite, com.instagram.android, com...     0.000000   \n",
      "25    {com.facebook.lite, com.instagram.android, com...     0.000000   \n",
      "26    {com.facebook.lite, com.instagram.android, com...     0.000000   \n",
      "27    {com.facebook.lite, com.instagram.android, com...     0.000000   \n",
      "28    {com.facebook.lite, com.instagram.android, com...     0.000000   \n",
      "29    {com.facebook.lite, com.instagram.android, com...     0.000000   \n",
      "...                                                 ...          ...   \n",
      "4976  {com.evernote, com.coolapk.market, com.google....     0.000000   \n",
      "4977            {com.android.chrome, com.facebook.orca}     0.000000   \n",
      "4978            {com.android.chrome, com.facebook.orca}     0.000000   \n",
      "4979            {com.android.chrome, com.facebook.orca}     4.615121   \n",
      "4980                                     {com.whatsapp}     0.000000   \n",
      "4981                                     {com.whatsapp}     0.000000   \n",
      "4982                                     {com.whatsapp}     0.000000   \n",
      "4983  {org.mozilla.firefox, com.google.android.apps....     0.000000   \n",
      "4984  {org.mozilla.firefox, com.google.android.apps....     3.891820   \n",
      "4985  {org.mozilla.firefox, com.google.android.apps....     8.108322   \n",
      "4986                              {com.twitter.android}     7.368970   \n",
      "4987  {com.android.chrome, com.facebook.katana, com....     0.000000   \n",
      "4988          {com.android.chrome, com.facebook.katana}     0.000000   \n",
      "4989  {com.android.chrome, com.facebook.katana, com....     0.000000   \n",
      "4990                 {co.nano.nanowallet, com.whatsapp}     0.000000   \n",
      "4991                                     {com.whatsapp}     0.000000   \n",
      "4992                                     {com.whatsapp}     0.000000   \n",
      "4993                       {com.google.android.youtube}     8.218787   \n",
      "4994                                {com.facebook.orca}     0.000000   \n",
      "4995    {com.google.android.youtube, com.facebook.orca}     0.000000   \n",
      "4996          {com.snapchat.android, com.facebook.orca}     0.000000   \n",
      "4997  {com.android.chrome, com.amazon.mShop.android....     6.875232   \n",
      "4998  {com.android.chrome, com.amazon.mShop.android....     6.740519   \n",
      "4999  {com.google.android.googlequicksearchbox, com....     3.367296   \n",
      "5000                            {com.google.android.gm}     0.000000   \n",
      "5001  {com.android.chrome, com.google.android.gm, co...     0.000000   \n",
      "5002            {com.android.chrome, com.facebook.orca}     0.000000   \n",
      "5003  {com.android.chrome, jp.naver.line.android, co...     0.000000   \n",
      "5004  {com.android.chrome, com.google.android.youtub...     0.000000   \n",
      "5005              {com.instagram.android, com.whatsapp}     0.000000   \n",
      "\n",
      "      freq_time  total_time  goal_time  \\\n",
      "0      2.397895    8.973351   8.610137   \n",
      "1      3.044522    6.470800   4.787492   \n",
      "2      4.127134    8.444407   5.402677   \n",
      "3      6.829794    8.808967   7.603399   \n",
      "4      7.551712    8.747987   7.870930   \n",
      "5      7.883069   10.758201   8.076515   \n",
      "6      6.882437   10.330518   7.717796   \n",
      "7      4.997212   10.535025   7.083388   \n",
      "8      7.412764    8.865594   7.638198   \n",
      "9      5.758902    7.501634   6.169611   \n",
      "10     7.859027    9.452345   7.860956   \n",
      "11     7.918992    9.750861   8.204125   \n",
      "12     6.864848    9.022443   6.993015   \n",
      "13     7.957877   10.605669   7.995644   \n",
      "14     7.496097    9.127285   7.598399   \n",
      "15     1.791759    9.411974   9.019180   \n",
      "16     6.744059    9.512665   9.288319   \n",
      "17     0.693147    6.862758   2.302585   \n",
      "18     8.888067    9.955321   9.061144   \n",
      "19     8.749732    9.888729   9.077038   \n",
      "20     8.807322    9.430439   9.120853   \n",
      "21     9.914625   10.195149  10.018288   \n",
      "22    10.664597   10.820678  10.732192   \n",
      "23     8.604105    9.925983   9.099744   \n",
      "24     8.521982    9.481054   9.049467   \n",
      "25     8.396606    9.644069   8.998755   \n",
      "26     8.001020    9.592946   9.063811   \n",
      "27     8.014005    8.992806   8.562358   \n",
      "28     9.428270    9.787403   9.663071   \n",
      "29     8.989818    9.488729   9.252058   \n",
      "...         ...         ...        ...   \n",
      "4976   6.118097   10.713106   7.976939   \n",
      "4977   7.130899    9.217117   8.707318   \n",
      "4978   6.218600    8.686936   7.669028   \n",
      "4979   6.647688    8.726319   7.673223   \n",
      "4980   6.630683    9.834887   7.067320   \n",
      "4981   8.833900   10.752634   8.921191   \n",
      "4982   8.870944   10.684371   8.901367   \n",
      "4983   6.993015    9.293762   8.345693   \n",
      "4984   7.201171    9.146974   8.924390   \n",
      "4985   6.857514    9.633383   9.192685   \n",
      "4986   7.185387    9.524202   7.896181   \n",
      "4987   7.191429   10.553388   7.754910   \n",
      "4988   7.821242   10.236167   8.524764   \n",
      "4989   7.853216   11.379485   8.527144   \n",
      "4990   8.843615    9.782111   9.294498   \n",
      "4991   8.668196   10.403505   8.965845   \n",
      "4992   4.736198    9.100972   5.081404   \n",
      "4993   5.978886   10.966231   6.985642   \n",
      "4994   0.693147    7.065613   4.304065   \n",
      "4995   8.956351    9.889794   9.120306   \n",
      "4996   8.292048    8.737292   8.376090   \n",
      "4997   7.857481   11.287241   9.623840   \n",
      "4998   7.119636   11.279050   9.712569   \n",
      "4999   7.721349   10.723466  10.614720   \n",
      "5000   7.410952    8.354439   7.484930   \n",
      "5001   7.877776    8.659213   8.526153   \n",
      "5002   6.495266    7.593374   7.167038   \n",
      "5003   7.157735    9.594514   8.856518   \n",
      "5004   6.352629   10.608464   8.147288   \n",
      "5005   3.367296    9.563178   6.603944   \n",
      "\n",
      "                                             email_hash  \\\n",
      "0     0744f7e9f4323685b86a1522b101550c9415ba2488d7e7...   \n",
      "1     e8493f5e2cc89f1ca9328c889763125a1a117bd0e8f4e4...   \n",
      "2     e8493f5e2cc89f1ca9328c889763125a1a117bd0e8f4e4...   \n",
      "3     739e11589479d8e6b88aec1b86ec8c4a023691db6c9d0a...   \n",
      "4     739e11589479d8e6b88aec1b86ec8c4a023691db6c9d0a...   \n",
      "5     739e11589479d8e6b88aec1b86ec8c4a023691db6c9d0a...   \n",
      "6     739e11589479d8e6b88aec1b86ec8c4a023691db6c9d0a...   \n",
      "7     739e11589479d8e6b88aec1b86ec8c4a023691db6c9d0a...   \n",
      "8     739e11589479d8e6b88aec1b86ec8c4a023691db6c9d0a...   \n",
      "9     739e11589479d8e6b88aec1b86ec8c4a023691db6c9d0a...   \n",
      "10    739e11589479d8e6b88aec1b86ec8c4a023691db6c9d0a...   \n",
      "11    739e11589479d8e6b88aec1b86ec8c4a023691db6c9d0a...   \n",
      "12    739e11589479d8e6b88aec1b86ec8c4a023691db6c9d0a...   \n",
      "13    739e11589479d8e6b88aec1b86ec8c4a023691db6c9d0a...   \n",
      "14    739e11589479d8e6b88aec1b86ec8c4a023691db6c9d0a...   \n",
      "15    c3e36aee683e96002d1441743cf8580ebe5e4916e76c04...   \n",
      "16    c3e36aee683e96002d1441743cf8580ebe5e4916e76c04...   \n",
      "17    c3e36aee683e96002d1441743cf8580ebe5e4916e76c04...   \n",
      "18    c3e36aee683e96002d1441743cf8580ebe5e4916e76c04...   \n",
      "19    c3e36aee683e96002d1441743cf8580ebe5e4916e76c04...   \n",
      "20    c3e36aee683e96002d1441743cf8580ebe5e4916e76c04...   \n",
      "21    c3e36aee683e96002d1441743cf8580ebe5e4916e76c04...   \n",
      "22    c3e36aee683e96002d1441743cf8580ebe5e4916e76c04...   \n",
      "23    c3e36aee683e96002d1441743cf8580ebe5e4916e76c04...   \n",
      "24    c3e36aee683e96002d1441743cf8580ebe5e4916e76c04...   \n",
      "25    c3e36aee683e96002d1441743cf8580ebe5e4916e76c04...   \n",
      "26    c3e36aee683e96002d1441743cf8580ebe5e4916e76c04...   \n",
      "27    c3e36aee683e96002d1441743cf8580ebe5e4916e76c04...   \n",
      "28    c3e36aee683e96002d1441743cf8580ebe5e4916e76c04...   \n",
      "29    c3e36aee683e96002d1441743cf8580ebe5e4916e76c04...   \n",
      "...                                                 ...   \n",
      "4976  af5356397ca66655d02845add5aa0684e0bb9a8236de3a...   \n",
      "4977  fe1459e391a814ce6207afa0d852e087fc6bbc6c23f505...   \n",
      "4978  fe1459e391a814ce6207afa0d852e087fc6bbc6c23f505...   \n",
      "4979  fe1459e391a814ce6207afa0d852e087fc6bbc6c23f505...   \n",
      "4980  18869f97ce851d00c2de8a5d6041a7ae985a178d84aa28...   \n",
      "4981  18869f97ce851d00c2de8a5d6041a7ae985a178d84aa28...   \n",
      "4982  18869f97ce851d00c2de8a5d6041a7ae985a178d84aa28...   \n",
      "4983  7110b20107973d6604dc63fbc9d2632229c867e1006efe...   \n",
      "4984  7110b20107973d6604dc63fbc9d2632229c867e1006efe...   \n",
      "4985  7110b20107973d6604dc63fbc9d2632229c867e1006efe...   \n",
      "4986  7110b20107973d6604dc63fbc9d2632229c867e1006efe...   \n",
      "4987  48a30e1e97753ef4d4fcc2fcefc63c4bcee1d87da6bd2f...   \n",
      "4988  48a30e1e97753ef4d4fcc2fcefc63c4bcee1d87da6bd2f...   \n",
      "4989  48a30e1e97753ef4d4fcc2fcefc63c4bcee1d87da6bd2f...   \n",
      "4990  988642d4d56f4b9fb1f9e63633279eb2746c111ac2e99a...   \n",
      "4991  988642d4d56f4b9fb1f9e63633279eb2746c111ac2e99a...   \n",
      "4992  988642d4d56f4b9fb1f9e63633279eb2746c111ac2e99a...   \n",
      "4993  7df97aa9cf474c5bf1158569da47a1eee2c8f4f061dbe0...   \n",
      "4994  cbb7d54f09fd4c160652549b5e1027804157019c47d710...   \n",
      "4995  cbb7d54f09fd4c160652549b5e1027804157019c47d710...   \n",
      "4996  cbb7d54f09fd4c160652549b5e1027804157019c47d710...   \n",
      "4997  08d5aef413aac5060fa893a382e8f61dd9b3b2a206354c...   \n",
      "4998  08d5aef413aac5060fa893a382e8f61dd9b3b2a206354c...   \n",
      "4999  a0d69f36e211de808c9779cba4d75e7373ab9c7aeedaff...   \n",
      "5000  30ab3b7d8e869b799000ff6bb8f56c3dfc77bf08e38a91...   \n",
      "5001  30ab3b7d8e869b799000ff6bb8f56c3dfc77bf08e38a91...   \n",
      "5002  5d743a5b702f3f28d3c885272654ee13842ad71b7e6da5...   \n",
      "5003  5d743a5b702f3f28d3c885272654ee13842ad71b7e6da5...   \n",
      "5004  b61cca5b82beb44368ed17dd899a857c74abf3da5cab41...   \n",
      "5005  068275c33f5e5179e06b4ba44479e13ed728451f1bdabf...   \n",
      "\n",
      "                                                  goals  \\\n",
      "0     {com.android.chrome, com.strintec.jiramini, co...   \n",
      "1      {com.netflix.mediaclient, com.google.android.gm}   \n",
      "2     {com.netflix.mediaclient, com.audible.applicat...   \n",
      "3     {com.linkedin.android, com.instagram.android, ...   \n",
      "4     {com.linkedin.android, com.instagram.android, ...   \n",
      "5     {com.amazon.kindle, com.facebook.katana, com.t...   \n",
      "6     {com.linkedin.android, com.ideashower.readitla...   \n",
      "7     {com.linkedin.android, com.ideashower.readitla...   \n",
      "8     {com.linkedin.android, com.ideashower.readitla...   \n",
      "9           {com.linkedin.android, com.twitter.android}   \n",
      "10    {com.linkedin.android, com.instagram.android, ...   \n",
      "11    {com.facebook.katana, com.linkedin.android, co...   \n",
      "12    {com.linkedin.android, com.instagram.android, ...   \n",
      "13    {com.instagram.android, com.linkedin.android, ...   \n",
      "14    {com.instagram.android, com.linkedin.android, ...   \n",
      "15    {com.facebook.lite, com.whatsapp, com.amazon.a...   \n",
      "16    {com.facebook.lite, com.whatsapp, com.amazon.a...   \n",
      "17    {com.instagram.android, com.amazon.avod.thirdp...   \n",
      "18    {com.amazon.avod.thirdpartyclient, com.faceboo...   \n",
      "19    {com.amazon.avod.thirdpartyclient, com.faceboo...   \n",
      "20    {com.amazon.avod.thirdpartyclient, com.faceboo...   \n",
      "21    {com.facebook.lite, com.whatsapp, com.amazon.a...   \n",
      "22    {com.netflix.mediaclient, com.facebook.lite, c...   \n",
      "23    {com.facebook.lite, com.whatsapp, com.amazon.a...   \n",
      "24    {com.amazon.avod.thirdpartyclient, com.faceboo...   \n",
      "25    {com.facebook.lite, com.whatsapp, com.amazon.a...   \n",
      "26    {com.facebook.lite, com.whatsapp, com.amazon.a...   \n",
      "27    {com.amazon.avod.thirdpartyclient, com.faceboo...   \n",
      "28    {com.whatsapp, com.facebook.lite, com.instagra...   \n",
      "29    {com.amazon.avod.thirdpartyclient, com.faceboo...   \n",
      "...                                                 ...   \n",
      "4976  {com.android.chrome, com.coolapk.market, com.g...   \n",
      "4977  {com.android.chrome, com.google.android.gm, co...   \n",
      "4978  {com.android.chrome, com.google.android.gm, co...   \n",
      "4979  {com.android.chrome, com.facebook.orca, com.tw...   \n",
      "4980                     {com.gbwhatsapp, com.whatsapp}   \n",
      "4981                     {com.gbwhatsapp, com.whatsapp}   \n",
      "4982                     {com.gbwhatsapp, com.whatsapp}   \n",
      "4983  {com.google.android.apps.magazines, com.facebo...   \n",
      "4984  {com.android.chrome, com.amazon.mShop.android....   \n",
      "4985  {com.android.chrome, com.amazon.mShop.android....   \n",
      "4986  {com.facebook.katana, com.google.android.apps....   \n",
      "4987  {com.android.chrome, com.facebook.katana, com....   \n",
      "4988  {com.android.chrome, com.facebook.katana, com....   \n",
      "4989  {com.android.chrome, com.facebook.katana, com....   \n",
      "4990  {org.mozilla.focus, co.nano.nanowallet, com.go...   \n",
      "4991  {com.netflix.mediaclient, org.mozilla.focus, c...   \n",
      "4992              {com.google.android.gm, com.whatsapp}   \n",
      "4993  {com.facebook.katana, com.google.android.youtube}   \n",
      "4994         {net.musopia.kalatuner, com.facebook.orca}   \n",
      "4995  {com.facebook.katana, com.facebook.orca, com.s...   \n",
      "4996  {com.instagram.android, com.snapchat.android, ...   \n",
      "4997  {com.android.chrome, com.amazon.mShop.android....   \n",
      "4998  {com.android.chrome, com.amazon.mShop.android....   \n",
      "4999  {com.android.chrome, mobisocial.arcade, com.mi...   \n",
      "5000  {com.android.chrome, com.whatsapp, com.google....   \n",
      "5001  {com.android.chrome, com.google.android.gm, co...   \n",
      "5002  {com.android.chrome, air.com.coworkdream.Picro...   \n",
      "5003  {com.android.chrome, jp.naver.line.android, co...   \n",
      "5004  {com.android.chrome, com.google.android.youtub...   \n",
      "5005  {com.facebook.katana, com.instagram.android, c...   \n",
      "\n",
      "                                             freq_goals  other_time  \\\n",
      "0                               {com.strintec.jiramini}    7.784473   \n",
      "1                             {com.netflix.mediaclient}    6.265301   \n",
      "2                             {com.netflix.mediaclient}    8.395477   \n",
      "3           {com.linkedin.android, com.twitter.android}    8.452975   \n",
      "4           {com.linkedin.android, com.twitter.android}    8.210124   \n",
      "5     {com.amazon.kindle, com.facebook.katana, com.l...   10.687298   \n",
      "6                               {com.instagram.android}   10.254356   \n",
      "7                                 {com.twitter.android}   10.502818   \n",
      "8          {com.instagram.android, com.twitter.android}    8.518792   \n",
      "9                                 {com.twitter.android}    7.195187   \n",
      "10    {com.linkedin.android, com.instagram.android, ...    9.223947   \n",
      "11    {com.linkedin.android, com.facebook.katana, co...    9.510519   \n",
      "12          {com.linkedin.android, com.twitter.android}    8.880725   \n",
      "13    {com.linkedin.android, com.facebook.katana, co...   10.529132   \n",
      "14    {com.linkedin.android, com.facebook.katana, co...    8.882947   \n",
      "15                                      {com.pinterest}    8.287528   \n",
      "16    {com.amazon.avod.thirdpartyclient, com.faceboo...    7.908019   \n",
      "17                   {com.amazon.avod.thirdpartyclient}    6.852243   \n",
      "18                   {com.amazon.avod.thirdpartyclient}    9.429476   \n",
      "19                   {com.amazon.avod.thirdpartyclient}    9.301551   \n",
      "20                   {com.amazon.avod.thirdpartyclient}    8.107117   \n",
      "21                   {com.amazon.avod.thirdpartyclient}    8.375630   \n",
      "22    {com.netflix.mediaclient, com.amazon.avod.thir...    8.351847   \n",
      "23    {com.pinterest, com.amazon.avod.thirdpartyclient}    9.350276   \n",
      "24                   {com.amazon.avod.thirdpartyclient}    8.432724   \n",
      "25    {com.pinterest, com.amazon.avod.thirdpartyclient}    8.900685   \n",
      "26    {com.pinterest, com.amazon.avod.thirdpartyclient}    8.703507   \n",
      "27                   {com.amazon.avod.thirdpartyclient}    7.942362   \n",
      "28                   {com.amazon.avod.thirdpartyclient}    7.641084   \n",
      "29     {com.whatsapp, com.amazon.avod.thirdpartyclient}    7.931644   \n",
      "...                                                 ...         ...   \n",
      "4976  {com.android.chrome, com.google.android.apps.p...   10.646091   \n",
      "4977  {com.instagram.android, com.google.android.gm,...    8.299286   \n",
      "4978  {com.instagram.android, com.google.android.gm,...    8.238537   \n",
      "4979  {com.google.android.youtube, com.instagram.and...    8.271804   \n",
      "4980                                   {com.gbwhatsapp}    9.770013   \n",
      "4981                                   {com.gbwhatsapp}   10.578063   \n",
      "4982                                   {com.gbwhatsapp}   10.500289   \n",
      "4983           {com.facebook.katana, com.facebook.orca}    8.803574   \n",
      "4984  {com.android.chrome, com.amazon.mShop.android....    7.508787   \n",
      "4985  {com.android.chrome, com.amazon.mShop.android....    7.658700   \n",
      "4986  {com.facebook.katana, com.google.android.apps....    9.149953   \n",
      "4987                            {com.instagram.android}   10.490552   \n",
      "4988                            {com.instagram.android}   10.036969   \n",
      "4989                            {com.instagram.android}   11.320044   \n",
      "4990         {org.mozilla.focus, com.google.android.gm}    8.829958   \n",
      "4991  {com.netflix.mediaclient, org.mozilla.focus, c...   10.132375   \n",
      "4992                            {com.google.android.gm}    9.082848   \n",
      "4993                              {com.facebook.katana}   10.879838   \n",
      "4994                            {net.musopia.kalatuner}    7.000334   \n",
      "4995  {com.instagram.android, com.facebook.katana, c...    9.267571   \n",
      "4996  {com.instagram.android, com.snapchat.android, ...    7.543803   \n",
      "4997                              {com.facebook.katana}   11.062065   \n",
      "4998                              {com.facebook.katana}   11.031270   \n",
      "4999  {com.android.chrome, mobisocial.arcade, com.di...    8.444622   \n",
      "5000  {com.android.chrome, com.pinterest, com.facebo...    7.811163   \n",
      "5001  {com.android.chrome, com.google.android.gm, co...    6.576470   \n",
      "5002  {com.facebook.katana, air.com.coworkdream.Picr...    6.535241   \n",
      "5003  {com.android.chrome, jp.naver.line.android, co...    8.944289   \n",
      "5004                            {com.instagram.android}   10.519268   \n",
      "5005                {com.facebook.katana, com.whatsapp}    9.509926   \n",
      "\n",
      "                    install_id  avg_goal_time  avg_freq_time  avg_infreq_time  \\\n",
      "0     9cb8c59eabbb60ad6447345c       2.870046       2.397895         4.304065   \n",
      "1     b219926d16e6e46fa426cafd       2.393746       3.044522         4.595120   \n",
      "2     b219926d16e6e46fa426cafd       1.800892       4.127134         2.537587   \n",
      "3            U1532437453047928       2.534466       3.414897         6.984716   \n",
      "4            U1532437453047928       2.623643       3.775856         6.573680   \n",
      "5            U1532437453047928       1.615303       1.970767         6.338594   \n",
      "6            U1532437453047928       1.929449       6.882437         2.383044   \n",
      "7            U1532437453047928       2.361129       4.997212         3.475407   \n",
      "8            U1532437453047928       1.909550       3.706382         3.018935   \n",
      "9            U1532437453047928       3.084805       5.758902         5.081404   \n",
      "10           U1532437453047928       2.620319       2.619676         1.609438   \n",
      "11           U1532437453047928       2.051031       2.639664         6.810142   \n",
      "12           U1532437453047928       2.331005       3.432424         4.875197   \n",
      "13           U1532437453047928       1.998911       2.652626         4.700480   \n",
      "14           U1532437453047928       1.899600       2.498699         5.267858   \n",
      "15    010cf6179f52b3d62184ee17       1.803836       1.791759         2.254613   \n",
      "16    010cf6179f52b3d62184ee17       1.857664       1.686015         1.841307   \n",
      "17    010cf6179f52b3d62184ee17       1.151293       0.693147         2.079442   \n",
      "18    010cf6179f52b3d62184ee17       2.265286       8.888067         2.407279   \n",
      "19    010cf6179f52b3d62184ee17       2.269259       8.749732         2.600327   \n",
      "20    010cf6179f52b3d62184ee17       2.280213       8.807322         2.602774   \n",
      "21    010cf6179f52b3d62184ee17       2.003658       9.914625         1.925074   \n",
      "22    010cf6179f52b3d62184ee17       2.146438       5.332299         2.668122   \n",
      "23    010cf6179f52b3d62184ee17       1.819949       4.302052         2.720077   \n",
      "24    010cf6179f52b3d62184ee17       2.262367       8.521982         2.719219   \n",
      "25    010cf6179f52b3d62184ee17       1.799751       4.198303         2.735164   \n",
      "26    010cf6179f52b3d62184ee17       1.812762       4.000510         2.879981   \n",
      "27    010cf6179f52b3d62184ee17       2.140589       8.014005         2.566614   \n",
      "28    010cf6179f52b3d62184ee17       2.415768       9.428270         2.699649   \n",
      "29    010cf6179f52b3d62184ee17       2.313014       4.494909         2.595102   \n",
      "...                        ...            ...            ...              ...   \n",
      "4976  468380c4c55e7a8a88e4be86       1.595388       3.059049         1.951878   \n",
      "4977  1035d4088e09f34092f8b3ae       1.741464       2.376966         4.237873   \n",
      "4978  1035d4088e09f34092f8b3ae       1.533806       2.072867         3.700921   \n",
      "4979  1035d4088e09f34092f8b3ae       1.534645       2.215896         3.614557   \n",
      "4980  64ac1c28897547e340b163eb       3.533660       6.630683         6.028279   \n",
      "4981  64ac1c28897547e340b163eb       4.460595       8.833900         6.439350   \n",
      "4982  64ac1c28897547e340b163eb       4.450683       8.870944         5.393628   \n",
      "4983  d49d5929e24bbeace46a84b4       1.669139       3.496508         2.682183   \n",
      "4984  d49d5929e24bbeace46a84b4       1.487398       2.400390         2.909259   \n",
      "4985  d49d5929e24bbeace46a84b4       1.532114       2.285838         3.030294   \n",
      "4986  3e5442da4d1a4eea7e7f0fcd       2.632060       3.592694         7.220374   \n",
      "4987  5cdcedea34a3996de5c7c922       1.938728       7.191429         2.304248   \n",
      "4988  5cdcedea34a3996de5c7c922       2.841588       7.821242         3.920943   \n",
      "4989  5cdcedea34a3996de5c7c922       2.131786       7.853216         1.953600   \n",
      "4990  147a99087013d51e3ad23507       2.323624       4.421808         4.140482   \n",
      "4991  147a99087013d51e3ad23507       2.241461       2.889399         7.608871   \n",
      "4992  147a99087013d51e3ad23507       2.540702       4.736198         3.850148   \n",
      "4993  88feb1b11632cc489477e001       3.492821       5.978886         6.530878   \n",
      "4994  96093f4401f652add85121a4       2.152033       0.693147         4.276666   \n",
      "4995  96093f4401f652add85121a4       1.824061       2.239088         3.615644   \n",
      "4996  96093f4401f652add85121a4       2.792030       2.764016         2.928967   \n",
      "4997  3b26dd0db4bbc3a322e90ada       1.924768       7.857481         2.359090   \n",
      "4998  3b26dd0db4bbc3a322e90ada       1.942514       7.119636         2.408706   \n",
      "4999  43bff042ade9d5e914bd2b20       1.769120       2.573783         3.519246   \n",
      "5000  17d86ad9bd3a9e5c544c0d06       1.496986       1.852738         4.844187   \n",
      "5001  17d86ad9bd3a9e5c544c0d06       2.131538       1.969444         2.595379   \n",
      "5002  7338317acf9dd08601fea59f       1.791759       3.247633         3.226024   \n",
      "5003  7338317acf9dd08601fea59f       1.476086       1.789434         1.730903   \n",
      "5004  a3ed89bfb58f343524e20ed8       2.715763       6.352629         2.655182   \n",
      "5005  de14491f00dfaac4a924a6a9       2.201315       1.683648         3.281928   \n",
      "\n",
      "      num_goals  infreq_time  \n",
      "0             3     8.608130  \n",
      "1             2     4.595120  \n",
      "2             3     5.075174  \n",
      "3             3     6.984716  \n",
      "4             3     6.573680  \n",
      "5             5     6.338594  \n",
      "6             4     7.149132  \n",
      "7             3     6.950815  \n",
      "8             4     6.037871  \n",
      "9             2     5.081404  \n",
      "10            3     1.609438  \n",
      "11            4     6.810142  \n",
      "12            3     4.875197  \n",
      "13            4     4.700480  \n",
      "14            4     5.267858  \n",
      "15            5     9.018453  \n",
      "16            5     9.206533  \n",
      "17            2     2.079442  \n",
      "18            4     7.221836  \n",
      "19            4     7.800982  \n",
      "20            4     7.808323  \n",
      "21            5     7.700295  \n",
      "22            5     8.004366  \n",
      "23            5     8.160232  \n",
      "24            4     8.157657  \n",
      "25            5     8.205492  \n",
      "26            5     8.639942  \n",
      "27            4     7.699842  \n",
      "28            4     8.098947  \n",
      "29            4     7.785305  \n",
      "...         ...          ...  \n",
      "4976          5     7.807510  \n",
      "4977          5     8.475746  \n",
      "4978          5     7.401842  \n",
      "4979          5     7.229114  \n",
      "4980          2     6.028279  \n",
      "4981          2     6.439350  \n",
      "4982          2     5.393628  \n",
      "4983          5     8.046549  \n",
      "4984          6     8.727778  \n",
      "4985          6     9.090881  \n",
      "4986          3     7.220374  \n",
      "4987          4     6.912743  \n",
      "4988          3     7.841886  \n",
      "4989          4     7.814400  \n",
      "4990          4     8.280964  \n",
      "4991          4     7.608871  \n",
      "4992          2     3.850148  \n",
      "4993          2     6.530878  \n",
      "4994          2     4.276666  \n",
      "4995          5     7.231287  \n",
      "4996          3     5.857933  \n",
      "4997          5     9.436360  \n",
      "4998          5     9.634823  \n",
      "4999          6    10.557738  \n",
      "5000          5     4.844187  \n",
      "5001          4     7.786136  \n",
      "5002          4     6.452049  \n",
      "5003          6     8.654517  \n",
      "5004          3     7.965546  \n",
      "5005          3     6.563856  \n",
      "\n",
      "[5006 rows x 18 columns]\n"
     ]
    }
   ],
   "source": [
    "import pandas as pd\n",
    "INFREQ_TIME = \"infreq_time\"\n",
    "data_frame_dict = { key: [] for key in day_stats[0] if \"domain_time\" not in key}\n",
    "NUM_GOALS = \"num_goals\"\n",
    "data_frame_dict[AVG_GOAL_TIME] = []\n",
    "data_frame_dict[AVG_FREQ_TIME] = []\n",
    "data_frame_dict[AVG_INFREQ_TIME] = []\n",
    "data_frame_dict[NUM_GOALS] = []\n",
    "data_frame_dict[INFREQ_TIME] = []\n",
    "# Let's also count up the freq to see if they're roughly equal\n",
    "field_stats = {}\n",
    "print(len(day_stats))\n",
    "for item in day_stats:\n",
    "    if len(item[FREQ_GOALS]) > 0 and item[FREQ_TIME] != item[GOAL_TIME]:\n",
    "        for key in item:\n",
    "            #if key == 'install_id':\n",
    "            #  continue\n",
    "            #print(key)\n",
    "            if \"domain_time\" not in key:\n",
    "                if key == INTENSITY:\n",
    "                    data_frame_dict[key].append(len(item[FREQ_GOALS])/len(item[GOALS]))\n",
    "                    #data_frame_dict[key].append(1-math.exp(item[FREQ_TIME])/math.exp(item[TOTAL_TIME]))\n",
    "                else:\n",
    "                    data_frame_dict[key].append((item[key]))\n",
    "        data_frame_dict[AVG_GOAL_TIME].append(item[GOAL_TIME]/len(item[GOALS]))\n",
    "        data_frame_dict[AVG_FREQ_TIME].append(item[FREQ_TIME]/len(item[FREQ_GOALS]))\n",
    "        data_frame_dict[AVG_INFREQ_TIME].append(math.log(math.exp(item[GOAL_TIME])-math.exp(item[FREQ_TIME]))/len(item[INFREQ_GOALS]))\n",
    "        data_frame_dict[INFREQ_TIME].append(math.log(math.exp(item[GOAL_TIME])-math.exp(item[FREQ_TIME])))\n",
    "        data_frame_dict[NUM_GOALS].append(len(item[GOALS]))\n",
    "df = pd.DataFrame(data_frame_dict)\n",
    "print(df)\n",
    "\n",
    "\n",
    "#mean([len(item[GOALS]) for item in day_stats])\n",
    "df.to_csv('effect_freq_time_spent_2018_09_10.csv')"
   ]
  },
  {
   "cell_type": "code",
   "execution_count": 8,
   "metadata": {},
   "outputs": [
    {
     "name": "stderr",
     "output_type": "stream",
     "text": [
      "/home/geza/.local/lib/python3.6/site-packages/rpy2/robjects/pandas2ri.py:67: UserWarning: Error while trying to convert the column \"infreq_goals\". Fall back to string conversion. The error is: Conversion 'py2ri' not defined for objects of type '<class 'set'>'\n",
      "  (name, str(e)))\n",
      "/home/geza/.local/lib/python3.6/site-packages/rpy2/robjects/pandas2ri.py:67: UserWarning: Error while trying to convert the column \"goals\". Fall back to string conversion. The error is: Conversion 'py2ri' not defined for objects of type '<class 'set'>'\n",
      "  (name, str(e)))\n",
      "/home/geza/.local/lib/python3.6/site-packages/rpy2/robjects/pandas2ri.py:67: UserWarning: Error while trying to convert the column \"freq_goals\". Fall back to string conversion. The error is: Conversion 'py2ri' not defined for objects of type '<class 'set'>'\n",
      "  (name, str(e)))\n",
      "/home/geza/.local/lib/python3.6/site-packages/rpy2/robjects/pandas2ri.py:191: FutureWarning: from_items is deprecated. Please use DataFrame.from_dict(dict(items), ...) instead. DataFrame.from_dict(OrderedDict(items)) may be used to preserve the key order.\n",
      "  res = PandasDataFrame.from_items(items)\n",
      "/home/geza/.local/lib/python3.6/site-packages/rpy2/rinterface/__init__.py:146: RRuntimeWarning: 载入需要的程辑包：Matrix\n",
      "\n",
      "  warnings.warn(x, RRuntimeWarning)\n",
      "/home/geza/.local/lib/python3.6/site-packages/rpy2/rinterface/__init__.py:146: RRuntimeWarning: #refugeeswelcome\n",
      "\n",
      "  warnings.warn(x, RRuntimeWarning)\n",
      "/home/geza/.local/lib/python3.6/site-packages/rpy2/rinterface/__init__.py:146: RRuntimeWarning: \n",
      "载入程辑包：‘lmerTest’\n",
      "\n",
      "\n",
      "  warnings.warn(x, RRuntimeWarning)\n",
      "/home/geza/.local/lib/python3.6/site-packages/rpy2/rinterface/__init__.py:146: RRuntimeWarning: The following object is masked from ‘package:lme4’:\n",
      "\n",
      "    lmer\n",
      "\n",
      "\n",
      "  warnings.warn(x, RRuntimeWarning)\n",
      "/home/geza/.local/lib/python3.6/site-packages/rpy2/rinterface/__init__.py:146: RRuntimeWarning: The following object is masked from ‘package:stats’:\n",
      "\n",
      "    step\n",
      "\n",
      "\n",
      "  warnings.warn(x, RRuntimeWarning)\n"
     ]
    }
   ],
   "source": [
    "%%R -i df -w 5 -h 5 --units in -r 200\n",
    "\n",
    "#install.packages('ez')\n",
    "#install.packages('lme4')\n",
    "\n",
    "library(lme4)\n",
    "library(sjPlot)\n",
    "library(lmerTest)\n",
    "#library(ez)\n"
   ]
  },
  {
   "cell_type": "code",
   "execution_count": 9,
   "metadata": {},
   "outputs": [],
   "source": [
    "#for index, row in df.iterrows():\n",
    "#  if row['total_time'] > 12:\n",
    "#    print(row['email_hash'])"
   ]
  },
  {
   "cell_type": "code",
   "execution_count": 10,
   "metadata": {},
   "outputs": [
    {
     "name": "stderr",
     "output_type": "stream",
     "text": [
      "/home/geza/.local/lib/python3.6/site-packages/rpy2/robjects/pandas2ri.py:67: UserWarning: Error while trying to convert the column \"infreq_goals\". Fall back to string conversion. The error is: Conversion 'py2ri' not defined for objects of type '<class 'set'>'\n",
      "  (name, str(e)))\n",
      "/home/geza/.local/lib/python3.6/site-packages/rpy2/robjects/pandas2ri.py:67: UserWarning: Error while trying to convert the column \"goals\". Fall back to string conversion. The error is: Conversion 'py2ri' not defined for objects of type '<class 'set'>'\n",
      "  (name, str(e)))\n",
      "/home/geza/.local/lib/python3.6/site-packages/rpy2/robjects/pandas2ri.py:67: UserWarning: Error while trying to convert the column \"freq_goals\". Fall back to string conversion. The error is: Conversion 'py2ri' not defined for objects of type '<class 'set'>'\n",
      "  (name, str(e)))\n",
      "/home/geza/.local/lib/python3.6/site-packages/rpy2/robjects/pandas2ri.py:191: FutureWarning: from_items is deprecated. Please use DataFrame.from_dict(dict(items), ...) instead. DataFrame.from_dict(OrderedDict(items)) may be used to preserve the key order.\n",
      "  res = PandasDataFrame.from_items(items)\n"
     ]
    },
    {
     "data": {
      "text/plain": [
       "[1] 5006\n"
      ]
     },
     "metadata": {},
     "output_type": "display_data"
    }
   ],
   "source": [
    "%%R -i df -w 5 -h 5 --units in -r 200\n",
    "\n",
    "nrow(df)"
   ]
  },
  {
   "cell_type": "code",
   "execution_count": 11,
   "metadata": {},
   "outputs": [
    {
     "data": {
      "text/plain": [
       " productive_time  unproductive_time   intensity       infreq_goals      \n",
       " Min.   : 0.000   Min.   : 0.000    Min.   :0.09091   Length:5006       \n",
       " 1st Qu.: 4.248   1st Qu.: 7.729    1st Qu.:0.37500   Class :character  \n",
       " Median : 6.170   Median : 8.668    Median :0.50000   Mode  :character  \n",
       " Mean   : 5.914   Mean   : 8.379    Mean   :0.52016                     \n",
       " 3rd Qu.: 7.977   3rd Qu.: 9.429    3rd Qu.:0.66667                     \n",
       " Max.   :11.628   Max.   :11.436    Max.   :1.00000                     \n",
       "  target_time        freq_time        total_time       goal_time     \n",
       " Min.   : 0.0000   Min.   : 0.000   Min.   : 4.159   Min.   : 2.303  \n",
       " 1st Qu.: 0.0000   1st Qu.: 6.660   1st Qu.: 9.336   1st Qu.: 8.042  \n",
       " Median : 0.0000   Median : 7.782   Median : 9.961   Median : 8.745  \n",
       " Mean   : 0.9446   Mean   : 7.457   Mean   : 9.880   Mean   : 8.608  \n",
       " 3rd Qu.: 0.0000   3rd Qu.: 8.592   3rd Qu.:10.618   3rd Qu.: 9.339  \n",
       " Max.   :10.4579   Max.   :11.001   Max.   :12.115   Max.   :11.353  \n",
       "  email_hash           goals            freq_goals          other_time    \n",
       " Length:5006        Length:5006        Length:5006        Min.   : 2.398  \n",
       " Class :character   Class :character   Class :character   1st Qu.: 8.319  \n",
       " Mode  :character   Mode  :character   Mode  :character   Median : 9.274  \n",
       "                                                          Mean   : 9.178  \n",
       "                                                          3rd Qu.:10.249  \n",
       "                                                          Max.   :12.091  \n",
       "  install_id        avg_goal_time    avg_freq_time    avg_infreq_time \n",
       " Length:5006        Min.   :0.4404   Min.   : 0.000   Min.   : 0.000  \n",
       " Class :character   1st Qu.:1.3811   1st Qu.: 2.212   1st Qu.: 2.217  \n",
       " Mode  :character   Median :1.8471   Median : 3.209   Median : 3.211  \n",
       "                    Mean   :2.0894   Mean   : 3.808   Mean   : 3.828  \n",
       "                    3rd Qu.:2.5650   3rd Qu.: 4.734   3rd Qu.: 4.736  \n",
       "                    Max.   :9.8119   Max.   :10.430   Max.   :10.819  \n",
       "   num_goals       infreq_time    \n",
       " Min.   : 1.000   Min.   : 0.000  \n",
       " 1st Qu.: 3.000   1st Qu.: 6.668  \n",
       " Median : 5.000   Median : 7.790  \n",
       " Mean   : 5.081   Mean   : 7.505  \n",
       " 3rd Qu.: 6.000   3rd Qu.: 8.628  \n",
       " Max.   :20.000   Max.   :11.340  \n"
      ]
     },
     "metadata": {},
     "output_type": "display_data"
    }
   ],
   "source": [
    "%%R -i df -w 5 -h 5 --units in -r 200\n",
    "\n",
    "summary(df)"
   ]
  },
  {
   "cell_type": "code",
   "execution_count": 12,
   "metadata": {},
   "outputs": [
    {
     "data": {
      "text/plain": [
       "Linear mixed model fit by REML. t-tests use Satterthwaite's method [\n",
       "lmerModLmerTest]\n",
       "Formula: total_time ~ intensity + (1 | email_hash)\n",
       "   Data: df\n",
       "\n",
       "REML criterion at convergence: 11452.4\n",
       "\n",
       "Scaled residuals: \n",
       "    Min      1Q  Median      3Q     Max \n",
       "-7.1255 -0.3840  0.1491  0.5447  3.5176 \n",
       "\n",
       "Random effects:\n",
       " Groups     Name        Variance Std.Dev.\n",
       " email_hash (Intercept) 0.6536   0.8084  \n",
       " Residual               0.4461   0.6679  \n",
       "Number of obs: 5006, groups:  email_hash, 567\n",
       "\n",
       "Fixed effects:\n",
       "             Estimate Std. Error        df t value Pr(>|t|)    \n",
       "(Intercept) 9.644e+00  4.813e-02 1.316e+03 200.398   <2e-16 ***\n",
       "intensity   5.079e-02  5.869e-02 4.741e+03   0.865    0.387    \n",
       "---\n",
       "Signif. codes:  0 ‘***’ 0.001 ‘**’ 0.01 ‘*’ 0.05 ‘.’ 0.1 ‘ ’ 1\n",
       "\n",
       "Correlation of Fixed Effects:\n",
       "          (Intr)\n",
       "intensity -0.643\n"
      ]
     },
     "metadata": {},
     "output_type": "display_data"
    }
   ],
   "source": [
    "%%R -i df -w 5 -h 5 --units in -r 200\n",
    "df$email_hash <- factor(df$email_hash,  ordered=FALSE)\n",
    "results <- lmer(total_time ~ intensity + (1|email_hash), data = df)\n",
    "summary(results)\n",
    "#results <- lm(goal_time ~ intensity, data = df)\n",
    "#summary(results)\n",
    "#results <- lm(avg_goal_time ~ intensity, data = df)\n",
    "#summary(results)\n"
   ]
  },
  {
   "cell_type": "code",
   "execution_count": 13,
   "metadata": {},
   "outputs": [
    {
     "data": {
      "text/plain": [
       "\n",
       "Call:\n",
       "lm(formula = total_time ~ intensity, data = df)\n",
       "\n",
       "Residuals:\n",
       "    Min      1Q  Median      3Q     Max \n",
       "-5.7214 -0.5432  0.0806  0.7377  2.2345 \n",
       "\n",
       "Coefficients:\n",
       "             Estimate Std. Error t value Pr(>|t|)    \n",
       "(Intercept)  9.881411   0.039835 248.058   <2e-16 ***\n",
       "intensity   -0.002316   0.071962  -0.032    0.974    \n",
       "---\n",
       "Signif. codes:  0 ‘***’ 0.001 ‘**’ 0.01 ‘*’ 0.05 ‘.’ 0.1 ‘ ’ 1\n",
       "\n",
       "Residual standard error: 0.9641 on 5004 degrees of freedom\n",
       "Multiple R-squared:  2.07e-07,\tAdjusted R-squared:  -0.0001996 \n",
       "F-statistic: 0.001036 on 1 and 5004 DF,  p-value: 0.9743\n",
       "\n"
      ]
     },
     "metadata": {},
     "output_type": "display_data"
    }
   ],
   "source": [
    "%%R -i df -w 5 -h 5 --units in -r 200\n",
    "df$email_hash <- factor(df$email_hash,  ordered=FALSE)\n",
    "#results <- lmer(goal_time ~ intensity + (1|email_hash), data = df)\n",
    "#summary(results)\n",
    "#results <- lm(goal_time ~ intensity, data = df)\n",
    "#summary(results)\n",
    "results <- lm(total_time ~ intensity, data = df)\n",
    "summary(results)\n"
   ]
  },
  {
   "cell_type": "code",
   "execution_count": 14,
   "metadata": {},
   "outputs": [
    {
     "data": {
      "text/plain": [
       "Linear mixed model fit by REML. t-tests use Satterthwaite's method [\n",
       "lmerModLmerTest]\n",
       "Formula: goal_time ~ intensity + (1 | email_hash)\n",
       "   Data: df\n",
       "\n",
       "REML criterion at convergence: 13463.2\n",
       "\n",
       "Scaled residuals: \n",
       "    Min      1Q  Median      3Q     Max \n",
       "-8.0698 -0.4274  0.0959  0.5678  4.8007 \n",
       "\n",
       "Random effects:\n",
       " Groups     Name        Variance Std.Dev.\n",
       " email_hash (Intercept) 0.6673   0.8169  \n",
       " Residual               0.6933   0.8326  \n",
       "Number of obs: 5006, groups:  email_hash, 567\n",
       "\n",
       "Fixed effects:\n",
       "              Estimate Std. Error         df t value Pr(>|t|)    \n",
       "(Intercept)    8.44882    0.05422 1585.17547 155.831   <2e-16 ***\n",
       "intensity     -0.05127    0.07255 4833.76750  -0.707     0.48    \n",
       "---\n",
       "Signif. codes:  0 ‘***’ 0.001 ‘**’ 0.01 ‘*’ 0.05 ‘.’ 0.1 ‘ ’ 1\n",
       "\n",
       "Correlation of Fixed Effects:\n",
       "          (Intr)\n",
       "intensity -0.705\n"
      ]
     },
     "metadata": {},
     "output_type": "display_data"
    }
   ],
   "source": [
    "%%R -i df -w 5 -h 5 --units in -r 200\n",
    "df$email_hash <- factor(df$email_hash,  ordered=FALSE)\n",
    "results <- lmer(goal_time ~ intensity + (1|email_hash), data = df)\n",
    "summary(results)\n",
    "#results <- lm(goal_time ~ intensity, data = df)\n",
    "#summary(results)\n",
    "#results <- lm(avg_goal_time ~ intensity, data = df)\n",
    "#summary(results)\n"
   ]
  },
  {
   "cell_type": "code",
   "execution_count": 94,
   "metadata": {},
   "outputs": [
    {
     "data": {
      "text/plain": [
       "\n",
       "Call:\n",
       "lm(formula = avg_freq_time ~ intensity, data = df)\n",
       "\n",
       "Residuals:\n",
       "    Min      1Q  Median      3Q     Max \n",
       "-5.2538 -1.2605 -0.3628  0.9891  7.8116 \n",
       "\n",
       "Coefficients:\n",
       "            Estimate Std. Error t value Pr(>|t|)    \n",
       "(Intercept)  6.62368    0.07511   88.18   <2e-16 ***\n",
       "intensity   -5.41388    0.13570  -39.90   <2e-16 ***\n",
       "---\n",
       "Signif. codes:  0 ‘***’ 0.001 ‘**’ 0.01 ‘*’ 0.05 ‘.’ 0.1 ‘ ’ 1\n",
       "\n",
       "Residual standard error: 1.818 on 5004 degrees of freedom\n",
       "Multiple R-squared:  0.2413,\tAdjusted R-squared:  0.2412 \n",
       "F-statistic:  1592 on 1 and 5004 DF,  p-value: < 2.2e-16\n",
       "\n"
      ]
     },
     "metadata": {},
     "output_type": "display_data"
    }
   ],
   "source": [
    "%%R -i df -w 5 -h 5 --units in -r 200\n",
    "\n",
    "# goodresult RESULT-INTENSITY-MOBILE-REDUCED-ALLGOALS\n",
    "\n",
    "df$email_hash <- factor(df$email_hash,  ordered=FALSE)\n",
    "results <- lm(avg_freq_time ~ intensity, data = df)\n",
    "summary(results)\n",
    "#results <- lm(goal_time ~ intensity, data = df)\n",
    "#summary(results)\n",
    "#results <- lm(avg_goal_time ~ intensity, data = df)\n",
    "#summary(results)\n"
   ]
  },
  {
   "cell_type": "code",
   "execution_count": 93,
   "metadata": {},
   "outputs": [
    {
     "data": {
      "text/plain": [
       "\n",
       "Call:\n",
       "lm(formula = avg_goal_time ~ intensity, data = df)\n",
       "\n",
       "Residuals:\n",
       "    Min      1Q  Median      3Q     Max \n",
       "-1.6738 -0.7183 -0.2299  0.4774  7.4813 \n",
       "\n",
       "Coefficients:\n",
       "            Estimate Std. Error t value Pr(>|t|)    \n",
       "(Intercept)  1.82798    0.04227  43.250  < 2e-16 ***\n",
       "intensity    0.50264    0.07635   6.583 5.08e-11 ***\n",
       "---\n",
       "Signif. codes:  0 ‘***’ 0.001 ‘**’ 0.01 ‘*’ 0.05 ‘.’ 0.1 ‘ ’ 1\n",
       "\n",
       "Residual standard error: 1.023 on 5004 degrees of freedom\n",
       "Multiple R-squared:  0.008586,\tAdjusted R-squared:  0.008388 \n",
       "F-statistic: 43.34 on 1 and 5004 DF,  p-value: 5.085e-11\n",
       "\n"
      ]
     },
     "metadata": {},
     "output_type": "display_data"
    }
   ],
   "source": [
    "%%R -i df -w 5 -h 5 --units in -r 200\n",
    "\n",
    "# goodresult RESULT-INTENSITY-MOBILE-REDUCED-ALLGOALS\n",
    "\n",
    "df$email_hash <- factor(df$email_hash,  ordered=FALSE)\n",
    "results <- lm(avg_goal_time ~ intensity, data = df)\n",
    "summary(results)\n",
    "#results <- lm(goal_time ~ intensity, data = df)\n",
    "#summary(results)\n",
    "#results <- lm(avg_goal_time ~ intensity, data = df)\n",
    "#summary(results)\n"
   ]
  },
  {
   "cell_type": "code",
   "execution_count": 92,
   "metadata": {},
   "outputs": [
    {
     "data": {
      "text/plain": [
       "\n",
       "Call:\n",
       "lm(formula = avg_infreq_time ~ intensity, data = df)\n",
       "\n",
       "Residuals:\n",
       "    Min      1Q  Median      3Q     Max \n",
       "-5.4078 -1.3240 -0.3712  0.9790  7.0855 \n",
       "\n",
       "Coefficients:\n",
       "            Estimate Std. Error t value Pr(>|t|)    \n",
       "(Intercept)  1.39031    0.07962   17.46   <2e-16 ***\n",
       "intensity    4.68705    0.14384   32.59   <2e-16 ***\n",
       "---\n",
       "Signif. codes:  0 ‘***’ 0.001 ‘**’ 0.01 ‘*’ 0.05 ‘.’ 0.1 ‘ ’ 1\n",
       "\n",
       "Residual standard error: 1.927 on 5004 degrees of freedom\n",
       "Multiple R-squared:  0.1751,\tAdjusted R-squared:  0.1749 \n",
       "F-statistic:  1062 on 1 and 5004 DF,  p-value: < 2.2e-16\n",
       "\n"
      ]
     },
     "metadata": {},
     "output_type": "display_data"
    }
   ],
   "source": [
    "%%R -i df -w 5 -h 5 --units in -r 200\n",
    "\n",
    "# goodresult RESULT-INTENSITY-MOBILE-REDUCED-INFREQGOALS\n",
    "\n",
    "df$email_hash <- factor(df$email_hash,  ordered=FALSE)\n",
    "results <- lm(avg_infreq_time ~ intensity, data = df)\n",
    "summary(results)\n",
    "#results <- lm(goal_time ~ intensity, data = df)\n",
    "#summary(results)\n",
    "#results <- lm(avg_goal_time ~ intensity, data = df)\n",
    "#summary(results)\n"
   ]
  },
  {
   "cell_type": "code",
   "execution_count": 67,
   "metadata": {},
   "outputs": [
    {
     "data": {
      "text/plain": [
       "Linear mixed model fit by REML. t-tests use Satterthwaite's method [\n",
       "lmerModLmerTest]\n",
       "Formula: avg_infreq_time ~ intensity + (1 | email_hash)\n",
       "   Data: df\n",
       "\n",
       "REML criterion at convergence: 18837.4\n",
       "\n",
       "Scaled residuals: \n",
       "    Min      1Q  Median      3Q     Max \n",
       "-4.6054 -0.5388 -0.0744  0.4406  4.1459 \n",
       "\n",
       "Random effects:\n",
       " Groups     Name        Variance Std.Dev.\n",
       " email_hash (Intercept) 1.699    1.303   \n",
       " Residual               2.057    1.434   \n",
       "Number of obs: 5006, groups:  email_hash, 567\n",
       "\n",
       "Fixed effects:\n",
       "             Estimate Std. Error        df t value Pr(>|t|)    \n",
       "(Intercept) 1.792e+00  9.039e-02 1.889e+03   19.83   <2e-16 ***\n",
       "intensity   4.153e+00  1.245e-01 4.889e+03   33.35   <2e-16 ***\n",
       "---\n",
       "Signif. codes:  0 ‘***’ 0.001 ‘**’ 0.01 ‘*’ 0.05 ‘.’ 0.1 ‘ ’ 1\n",
       "\n",
       "Correlation of Fixed Effects:\n",
       "          (Intr)\n",
       "intensity -0.725\n"
      ]
     },
     "metadata": {},
     "output_type": "display_data"
    }
   ],
   "source": [
    "%%R -i df -w 5 -h 5 --units in -r 200\n",
    "\n",
    "# goodresult RESULT-INTENSITY-MOBILE-REDUCED-INFREQGOALS\n",
    "\n",
    "df$email_hash <- factor(df$email_hash,  ordered=FALSE)\n",
    "results <- lmer(avg_infreq_time ~ intensity + (1|email_hash), data = df)\n",
    "summary(results)\n",
    "#results <- lm(goal_time ~ intensity, data = df)\n",
    "#summary(results)\n",
    "#results <- lm(avg_goal_time ~ intensity, data = df)\n",
    "#summary(results)\n"
   ]
  },
  {
   "cell_type": "code",
   "execution_count": 68,
   "metadata": {},
   "outputs": [
    {
     "data": {
      "text/plain": [
       "Linear mixed model fit by REML. t-tests use Satterthwaite's method [\n",
       "lmerModLmerTest]\n",
       "Formula: avg_freq_time ~ intensity + (1 | email_hash)\n",
       "   Data: df\n",
       "\n",
       "REML criterion at convergence: 18121.5\n",
       "\n",
       "Scaled residuals: \n",
       "    Min      1Q  Median      3Q     Max \n",
       "-4.9786 -0.5390 -0.0950  0.4563  4.4985 \n",
       "\n",
       "Random effects:\n",
       " Groups     Name        Variance Std.Dev.\n",
       " email_hash (Intercept) 1.717    1.310   \n",
       " Residual               1.756    1.325   \n",
       "Number of obs: 5006, groups:  email_hash, 567\n",
       "\n",
       "Fixed effects:\n",
       "              Estimate Std. Error         df t value Pr(>|t|)    \n",
       "(Intercept)    6.92443    0.08659 1719.58694   79.96   <2e-16 ***\n",
       "intensity     -5.72951    0.11551 4850.95522  -49.60   <2e-16 ***\n",
       "---\n",
       "Signif. codes:  0 ‘***’ 0.001 ‘**’ 0.01 ‘*’ 0.05 ‘.’ 0.1 ‘ ’ 1\n",
       "\n",
       "Correlation of Fixed Effects:\n",
       "          (Intr)\n",
       "intensity -0.703\n"
      ]
     },
     "metadata": {},
     "output_type": "display_data"
    }
   ],
   "source": [
    "%%R -i df -w 5 -h 5 --units in -r 200\n",
    "df$email_hash <- factor(df$email_hash,  ordered=FALSE)\n",
    "results <- lmer(avg_freq_time ~ intensity + (1|email_hash), data = df)\n",
    "summary(results)\n",
    "#results <- lm(goal_time ~ intensity, data = df)\n",
    "#summary(results)\n",
    "#results <- lm(avg_goal_time ~ intensity, data = df)\n",
    "#summary(results)\n"
   ]
  },
  {
   "cell_type": "code",
   "execution_count": 69,
   "metadata": {},
   "outputs": [
    {
     "data": {
      "text/plain": [
       "Linear mixed model fit by REML. t-tests use Satterthwaite's method [\n",
       "lmerModLmerTest]\n",
       "Formula: avg_goal_time ~ intensity + (1 | email_hash)\n",
       "   Data: df\n",
       "\n",
       "REML criterion at convergence: 11358.1\n",
       "\n",
       "Scaled residuals: \n",
       "    Min      1Q  Median      3Q     Max \n",
       "-3.8703 -0.4534 -0.0896  0.3371  8.7696 \n",
       "\n",
       "Random effects:\n",
       " Groups     Name        Variance Std.Dev.\n",
       " email_hash (Intercept) 0.7346   0.8571  \n",
       " Residual               0.4314   0.6568  \n",
       "Number of obs: 5006, groups:  email_hash, 567\n",
       "\n",
       "Fixed effects:\n",
       "             Estimate Std. Error        df t value Pr(>|t|)    \n",
       "(Intercept) 2.040e+00  4.929e-02 1.292e+03   41.39  < 2e-16 ***\n",
       "intensity   3.437e-01  5.787e-02 4.728e+03    5.94 3.05e-09 ***\n",
       "---\n",
       "Signif. codes:  0 ‘***’ 0.001 ‘**’ 0.01 ‘*’ 0.05 ‘.’ 0.1 ‘ ’ 1\n",
       "\n",
       "Correlation of Fixed Effects:\n",
       "          (Intr)\n",
       "intensity -0.619\n"
      ]
     },
     "metadata": {},
     "output_type": "display_data"
    }
   ],
   "source": [
    "%%R -i df -w 5 -h 5 --units in -r 200\n",
    "df$email_hash <- factor(df$email_hash,  ordered=FALSE)\n",
    "results <- lmer(avg_goal_time ~ intensity + (1|email_hash), data = df)\n",
    "summary(results)\n",
    "#results <- lm(goal_time ~ intensity, data = df)\n",
    "#summary(results)\n",
    "#results <- lm(avg_goal_time ~ intensity, data = df)\n",
    "#summary(results)\n"
   ]
  },
  {
   "cell_type": "code",
   "execution_count": 16,
   "metadata": {},
   "outputs": [
    {
     "data": {
      "text/plain": [
       "\n",
       "Call:\n",
       "lm(formula = goal_time ~ intensity, data = df)\n",
       "\n",
       "Residuals:\n",
       "    Min      1Q  Median      3Q     Max \n",
       "-6.3084 -0.5678  0.1352  0.7277  2.7636 \n",
       "\n",
       "Coefficients:\n",
       "            Estimate Std. Error t value Pr(>|t|)    \n",
       "(Intercept)  8.67577    0.04515  192.15   <2e-16 ***\n",
       "intensity   -0.12966    0.08157   -1.59    0.112    \n",
       "---\n",
       "Signif. codes:  0 ‘***’ 0.001 ‘**’ 0.01 ‘*’ 0.05 ‘.’ 0.1 ‘ ’ 1\n",
       "\n",
       "Residual standard error: 1.093 on 5004 degrees of freedom\n",
       "Multiple R-squared:  0.0005047,\tAdjusted R-squared:  0.000305 \n",
       "F-statistic: 2.527 on 1 and 5004 DF,  p-value: 0.112\n",
       "\n"
      ]
     },
     "metadata": {},
     "output_type": "display_data"
    }
   ],
   "source": [
    "%%R -i df -w 5 -h 5 --units in -r 200\n",
    "df$email_hash <- factor(df$email_hash,  ordered=FALSE)\n",
    "#results <- lmer(goal_time ~ intensity + (1|email_hash), data = df)\n",
    "#summary(results)\n",
    "#results <- lm(goal_time ~ intensity, data = df)\n",
    "#summary(results)\n",
    "results <- lm(goal_time ~ intensity, data = df)\n",
    "summary(results)\n"
   ]
  },
  {
   "cell_type": "code",
   "execution_count": 17,
   "metadata": {},
   "outputs": [
    {
     "data": {
      "text/plain": [
       "\n",
       "Call:\n",
       "lm(formula = avg_goal_time ~ intensity, data = df)\n",
       "\n",
       "Residuals:\n",
       "    Min      1Q  Median      3Q     Max \n",
       "-1.6738 -0.7183 -0.2299  0.4774  7.4813 \n",
       "\n",
       "Coefficients:\n",
       "            Estimate Std. Error t value Pr(>|t|)    \n",
       "(Intercept)  1.82798    0.04227  43.250  < 2e-16 ***\n",
       "intensity    0.50264    0.07635   6.583 5.08e-11 ***\n",
       "---\n",
       "Signif. codes:  0 ‘***’ 0.001 ‘**’ 0.01 ‘*’ 0.05 ‘.’ 0.1 ‘ ’ 1\n",
       "\n",
       "Residual standard error: 1.023 on 5004 degrees of freedom\n",
       "Multiple R-squared:  0.008586,\tAdjusted R-squared:  0.008388 \n",
       "F-statistic: 43.34 on 1 and 5004 DF,  p-value: 5.085e-11\n",
       "\n"
      ]
     },
     "metadata": {},
     "output_type": "display_data"
    }
   ],
   "source": [
    "%%R -i df -w 5 -h 5 --units in -r 200\n",
    "df$email_hash <- factor(df$email_hash,  ordered=FALSE)\n",
    "#results <- lmer(goal_time ~ intensity + (1|email_hash), data = df)\n",
    "#summary(results)\n",
    "#results <- lm(goal_time ~ intensity, data = df)\n",
    "#summary(results)\n",
    "results <- lm(avg_goal_time ~ intensity, data = df)\n",
    "summary(results)\n"
   ]
  },
  {
   "cell_type": "code",
   "execution_count": 18,
   "metadata": {},
   "outputs": [
    {
     "data": {
      "text/plain": [
       "Linear mixed model fit by REML. t-tests use Satterthwaite's method [\n",
       "lmerModLmerTest]\n",
       "Formula: goal_time ~ intensity + (1 | email_hash)\n",
       "   Data: df\n",
       "\n",
       "REML criterion at convergence: 13463.2\n",
       "\n",
       "Scaled residuals: \n",
       "    Min      1Q  Median      3Q     Max \n",
       "-8.0698 -0.4274  0.0959  0.5678  4.8007 \n",
       "\n",
       "Random effects:\n",
       " Groups     Name        Variance Std.Dev.\n",
       " email_hash (Intercept) 0.6673   0.8169  \n",
       " Residual               0.6933   0.8326  \n",
       "Number of obs: 5006, groups:  email_hash, 567\n",
       "\n",
       "Fixed effects:\n",
       "              Estimate Std. Error         df t value Pr(>|t|)    \n",
       "(Intercept)    8.44882    0.05422 1585.17547 155.831   <2e-16 ***\n",
       "intensity     -0.05127    0.07255 4833.76750  -0.707     0.48    \n",
       "---\n",
       "Signif. codes:  0 ‘***’ 0.001 ‘**’ 0.01 ‘*’ 0.05 ‘.’ 0.1 ‘ ’ 1\n",
       "\n",
       "Correlation of Fixed Effects:\n",
       "          (Intr)\n",
       "intensity -0.705\n"
      ]
     },
     "metadata": {},
     "output_type": "display_data"
    }
   ],
   "source": [
    "%%R -i df -w 5 -h 5 --units in -r 200\n",
    "df$email_hash <- factor(df$email_hash,  ordered=FALSE)\n",
    "results <- lmer(goal_time ~ intensity + (1|email_hash), data = df)\n",
    "summary(results)"
   ]
  },
  {
   "cell_type": "code",
   "execution_count": 19,
   "metadata": {},
   "outputs": [
    {
     "data": {
      "text/plain": [
       "Linear mixed model fit by REML. t-tests use Satterthwaite's method [\n",
       "lmerModLmerTest]\n",
       "Formula: avg_freq_time ~ intensity + (1 | email_hash)\n",
       "   Data: df\n",
       "\n",
       "REML criterion at convergence: 18121.5\n",
       "\n",
       "Scaled residuals: \n",
       "    Min      1Q  Median      3Q     Max \n",
       "-4.9786 -0.5390 -0.0950  0.4563  4.4985 \n",
       "\n",
       "Random effects:\n",
       " Groups     Name        Variance Std.Dev.\n",
       " email_hash (Intercept) 1.717    1.310   \n",
       " Residual               1.756    1.325   \n",
       "Number of obs: 5006, groups:  email_hash, 567\n",
       "\n",
       "Fixed effects:\n",
       "              Estimate Std. Error         df t value Pr(>|t|)    \n",
       "(Intercept)    6.92443    0.08659 1719.58694   79.96   <2e-16 ***\n",
       "intensity     -5.72951    0.11551 4850.95522  -49.60   <2e-16 ***\n",
       "---\n",
       "Signif. codes:  0 ‘***’ 0.001 ‘**’ 0.01 ‘*’ 0.05 ‘.’ 0.1 ‘ ’ 1\n",
       "\n",
       "Correlation of Fixed Effects:\n",
       "          (Intr)\n",
       "intensity -0.703\n"
      ]
     },
     "metadata": {},
     "output_type": "display_data"
    }
   ],
   "source": [
    "%%R -i df -w 5 -h 5 --units in -r 200\n",
    "df$email_hash <- factor(df$email_hash,  ordered=FALSE)\n",
    "results <- lmer(avg_freq_time ~ intensity + (1|email_hash), data = df)\n",
    "summary(results)"
   ]
  },
  {
   "cell_type": "code",
   "execution_count": 20,
   "metadata": {},
   "outputs": [
    {
     "data": {
      "text/plain": [
       "Linear mixed model fit by REML. t-tests use Satterthwaite's method [\n",
       "lmerModLmerTest]\n",
       "Formula: avg_infreq_time ~ intensity + (1 | email_hash)\n",
       "   Data: df\n",
       "\n",
       "REML criterion at convergence: 18837.4\n",
       "\n",
       "Scaled residuals: \n",
       "    Min      1Q  Median      3Q     Max \n",
       "-4.6054 -0.5388 -0.0744  0.4406  4.1459 \n",
       "\n",
       "Random effects:\n",
       " Groups     Name        Variance Std.Dev.\n",
       " email_hash (Intercept) 1.699    1.303   \n",
       " Residual               2.057    1.434   \n",
       "Number of obs: 5006, groups:  email_hash, 567\n",
       "\n",
       "Fixed effects:\n",
       "             Estimate Std. Error        df t value Pr(>|t|)    \n",
       "(Intercept) 1.792e+00  9.039e-02 1.889e+03   19.83   <2e-16 ***\n",
       "intensity   4.153e+00  1.245e-01 4.889e+03   33.35   <2e-16 ***\n",
       "---\n",
       "Signif. codes:  0 ‘***’ 0.001 ‘**’ 0.01 ‘*’ 0.05 ‘.’ 0.1 ‘ ’ 1\n",
       "\n",
       "Correlation of Fixed Effects:\n",
       "          (Intr)\n",
       "intensity -0.725\n"
      ]
     },
     "metadata": {},
     "output_type": "display_data"
    }
   ],
   "source": [
    "%%R -i df -w 5 -h 5 --units in -r 200\n",
    "df$email_hash <- factor(df$email_hash,  ordered=FALSE)\n",
    "results <- lmer(avg_infreq_time ~ intensity + (1|email_hash), data = df)\n",
    "summary(results)"
   ]
  },
  {
   "cell_type": "code",
   "execution_count": 21,
   "metadata": {},
   "outputs": [
    {
     "data": {
      "text/plain": [
       "Linear mixed model fit by REML. t-tests use Satterthwaite's method [\n",
       "lmerModLmerTest]\n",
       "Formula: unproductive_time ~ intensity + (1 | email_hash) + (num_goals)\n",
       "   Data: df\n",
       "\n",
       "REML criterion at convergence: 16199.6\n",
       "\n",
       "Scaled residuals: \n",
       "    Min      1Q  Median      3Q     Max \n",
       "-7.6531 -0.3830  0.0879  0.5108  4.9253 \n",
       "\n",
       "Random effects:\n",
       " Groups     Name        Variance Std.Dev.\n",
       " email_hash (Intercept) 2.294    1.514   \n",
       " Residual               1.113    1.055   \n",
       "Number of obs: 5006, groups:  email_hash, 567\n",
       "\n",
       "Fixed effects:\n",
       "             Estimate Std. Error        df t value Pr(>|t|)    \n",
       "(Intercept) 7.376e+00  9.721e-02 1.791e+03  75.877   <2e-16 ***\n",
       "intensity   5.974e-02  9.320e-02 4.672e+03   0.641    0.522    \n",
       "num_goals   1.568e-01  1.060e-02 4.998e+03  14.790   <2e-16 ***\n",
       "---\n",
       "Signif. codes:  0 ‘***’ 0.001 ‘**’ 0.01 ‘*’ 0.05 ‘.’ 0.1 ‘ ’ 1\n",
       "\n",
       "Correlation of Fixed Effects:\n",
       "          (Intr) intnst\n",
       "intensity -0.506       \n",
       "num_goals -0.510  0.000\n"
      ]
     },
     "metadata": {},
     "output_type": "display_data"
    }
   ],
   "source": [
    "%%R -i df -w 5 -h 5 --units in -r 200\n",
    "df$email_hash <- factor(df$email_hash,  ordered=FALSE)\n",
    "results <- lmer(unproductive_time ~ intensity + (1|email_hash) + (num_goals), data = df)\n",
    "summary(results)"
   ]
  },
  {
   "cell_type": "code",
   "execution_count": 22,
   "metadata": {},
   "outputs": [
    {
     "data": {
      "text/plain": [
       "Linear mixed model fit by REML. t-tests use Satterthwaite's method [\n",
       "lmerModLmerTest]\n",
       "Formula: avg_infreq_time ~ avg_freq_time + (1 | email_hash)\n",
       "   Data: df\n",
       "\n",
       "REML criterion at convergence: 19846\n",
       "\n",
       "Scaled residuals: \n",
       "    Min      1Q  Median      3Q     Max \n",
       "-4.0406 -0.5896 -0.1749  0.4573  3.7612 \n",
       "\n",
       "Random effects:\n",
       " Groups     Name        Variance Std.Dev.\n",
       " email_hash (Intercept) 2.062    1.436   \n",
       " Residual               2.516    1.586   \n",
       "Number of obs: 5006, groups:  email_hash, 567\n",
       "\n",
       "Fixed effects:\n",
       "                Estimate Std. Error         df t value Pr(>|t|)    \n",
       "(Intercept)      4.01021    0.08716 1184.30487  46.010   <2e-16 ***\n",
       "avg_freq_time   -0.00804    0.01376 4992.23383  -0.584    0.559    \n",
       "---\n",
       "Signif. codes:  0 ‘***’ 0.001 ‘**’ 0.01 ‘*’ 0.05 ‘.’ 0.1 ‘ ’ 1\n",
       "\n",
       "Correlation of Fixed Effects:\n",
       "            (Intr)\n",
       "avg_freq_tm -0.617\n"
      ]
     },
     "metadata": {},
     "output_type": "display_data"
    }
   ],
   "source": [
    "%%R -i df -w 5 -h 5 --units in -r 200\n",
    "df$email_hash <- factor(df$email_hash,  ordered=FALSE)\n",
    "results <- lmer(avg_infreq_time ~ avg_freq_time + (1|email_hash), data = df)\n",
    "summary(results)"
   ]
  },
  {
   "cell_type": "code",
   "execution_count": null,
   "metadata": {},
   "outputs": [],
   "source": []
  },
  {
   "cell_type": "code",
   "execution_count": null,
   "metadata": {},
   "outputs": [],
   "source": []
  },
  {
   "cell_type": "code",
   "execution_count": 23,
   "metadata": {},
   "outputs": [
    {
     "data": {
      "text/plain": [
       "Linear mixed model fit by REML. t-tests use Satterthwaite's method [\n",
       "lmerModLmerTest]\n",
       "Formula: total_time ~ intensity + (1 | num_goals) + (1 | email_hash)\n",
       "   Data: df\n",
       "\n",
       "REML criterion at convergence: 11290\n",
       "\n",
       "Scaled residuals: \n",
       "    Min      1Q  Median      3Q     Max \n",
       "-7.0714 -0.4170  0.1251  0.5797  3.2095 \n",
       "\n",
       "Random effects:\n",
       " Groups     Name        Variance Std.Dev.\n",
       " email_hash (Intercept) 0.64682  0.8043  \n",
       " num_goals  (Intercept) 0.08895  0.2982  \n",
       " Residual               0.42649  0.6531  \n",
       "Number of obs: 5006, groups:  email_hash, 567; num_goals, 19\n",
       "\n",
       "Fixed effects:\n",
       "             Estimate Std. Error        df t value Pr(>|t|)    \n",
       "(Intercept) 9.952e+00  9.350e-02 2.487e+01 106.441   <2e-16 ***\n",
       "intensity   1.785e-02  5.840e-02 4.722e+03   0.306     0.76    \n",
       "---\n",
       "Signif. codes:  0 ‘***’ 0.001 ‘**’ 0.01 ‘*’ 0.05 ‘.’ 0.1 ‘ ’ 1\n",
       "\n",
       "Correlation of Fixed Effects:\n",
       "          (Intr)\n",
       "intensity -0.349\n"
      ]
     },
     "metadata": {},
     "output_type": "display_data"
    }
   ],
   "source": [
    "%%R -i df -w 5 -h 5 --units in -r 200\n",
    "# Does total time spent per day on phone change depending on percentage\n",
    "df$email_hash <- factor(df$email_hash,  ordered=FALSE)\n",
    "results <- lmer(total_time ~ intensity + (1|num_goals) + (1|email_hash), data = df)\n",
    "summary(results)"
   ]
  },
  {
   "cell_type": "code",
   "execution_count": 24,
   "metadata": {},
   "outputs": [
    {
     "data": {
      "text/plain": [
       "Linear mixed model fit by REML. t-tests use Satterthwaite's method [\n",
       "lmerModLmerTest]\n",
       "Formula: goal_time ~ intensity + (1 | email_hash) + (num_goals)\n",
       "   Data: df\n",
       "\n",
       "REML criterion at convergence: 12579.1\n",
       "\n",
       "Scaled residuals: \n",
       "    Min      1Q  Median      3Q     Max \n",
       "-8.1307 -0.4638  0.0750  0.5620  4.6462 \n",
       "\n",
       "Random effects:\n",
       " Groups     Name        Variance Std.Dev.\n",
       " email_hash (Intercept) 0.6257   0.7910  \n",
       " Residual               0.5736   0.7574  \n",
       "Number of obs: 5006, groups:  email_hash, 567\n",
       "\n",
       "Fixed effects:\n",
       "              Estimate Std. Error         df t value Pr(>|t|)    \n",
       "(Intercept)  7.360e+00  6.141e-02  2.373e+03 119.850   <2e-16 ***\n",
       "intensity   -4.401e-02  6.617e-02  4.807e+03  -0.665    0.506    \n",
       "num_goals    2.296e-01  7.338e-03  4.818e+03  31.288   <2e-16 ***\n",
       "---\n",
       "Signif. codes:  0 ‘***’ 0.001 ‘**’ 0.01 ‘*’ 0.05 ‘.’ 0.1 ‘ ’ 1\n",
       "\n",
       "Correlation of Fixed Effects:\n",
       "          (Intr) intnst\n",
       "intensity -0.570       \n",
       "num_goals -0.564  0.003\n"
      ]
     },
     "metadata": {},
     "output_type": "display_data"
    }
   ],
   "source": [
    "%%R -i df -w 5 -h 5 --units in -r 200\n",
    "# Does goal time spent per day on phone change depending on percentage\n",
    "df$email_hash <- factor(df$email_hash,  ordered=FALSE)\n",
    "results <- lmer(goal_time ~ intensity + (1|email_hash) + (num_goals), data = df)\n",
    "summary(results)"
   ]
  },
  {
   "cell_type": "code",
   "execution_count": 25,
   "metadata": {},
   "outputs": [
    {
     "data": {
      "text/plain": [
       "Linear mixed model fit by REML. t-tests use Satterthwaite's method [\n",
       "lmerModLmerTest]\n",
       "Formula: other_time ~ intensity + (1 | email_hash) + (num_goals)\n",
       "   Data: df\n",
       "\n",
       "REML criterion at convergence: 14018.5\n",
       "\n",
       "Scaled residuals: \n",
       "    Min      1Q  Median      3Q     Max \n",
       "-7.2950 -0.4418  0.1126  0.5615  2.9695 \n",
       "\n",
       "Random effects:\n",
       " Groups     Name        Variance Std.Dev.\n",
       " email_hash (Intercept) 1.2754   1.1293  \n",
       " Residual               0.7315   0.8553  \n",
       "Number of obs: 5006, groups:  email_hash, 567\n",
       "\n",
       "Fixed effects:\n",
       "             Estimate Std. Error        df t value Pr(>|t|)    \n",
       "(Intercept) 8.680e+00  7.595e-02 2.015e+03 114.292  < 2e-16 ***\n",
       "intensity   1.603e-01  7.538e-02 4.720e+03   2.127   0.0335 *  \n",
       "num_goals   3.938e-02  8.525e-03 5.001e+03   4.620 3.94e-06 ***\n",
       "---\n",
       "Signif. codes:  0 ‘***’ 0.001 ‘**’ 0.01 ‘*’ 0.05 ‘.’ 0.1 ‘ ’ 1\n",
       "\n",
       "Correlation of Fixed Effects:\n",
       "          (Intr) intnst\n",
       "intensity -0.524       \n",
       "num_goals -0.526  0.001\n"
      ]
     },
     "metadata": {},
     "output_type": "display_data"
    }
   ],
   "source": [
    "%%R -i df -w 5 -h 5 --units in -r 200\n",
    "# Does non-goal time spent per day on phone change depending on percentage\n",
    "df$email_hash <- factor(df$email_hash,  ordered=FALSE)\n",
    "results <- lmer(other_time ~ intensity + (1|email_hash) + (num_goals), data = df)\n",
    "summary(results)"
   ]
  },
  {
   "cell_type": "code",
   "execution_count": 26,
   "metadata": {},
   "outputs": [
    {
     "data": {
      "text/plain": [
       "Linear mixed model fit by REML. t-tests use Satterthwaite's method [\n",
       "lmerModLmerTest]\n",
       "Formula: target_time ~ intensity + (1 | email_hash)\n",
       "   Data: df\n",
       "\n",
       "REML criterion at convergence: 20041.1\n",
       "\n",
       "Scaled residuals: \n",
       "    Min      1Q  Median      3Q     Max \n",
       "-3.9252 -0.1514 -0.0500 -0.0154  5.2894 \n",
       "\n",
       "Random effects:\n",
       " Groups     Name        Variance Std.Dev.\n",
       " email_hash (Intercept) 2.458    1.568   \n",
       " Residual               2.584    1.607   \n",
       "Number of obs: 5006, groups:  email_hash, 567\n",
       "\n",
       "Fixed effects:\n",
       "             Estimate Std. Error        df t value Pr(>|t|)    \n",
       "(Intercept)    0.7716     0.1044 1816.0266   7.391 2.22e-13 ***\n",
       "intensity      0.1858     0.1400 4865.7585   1.327    0.185    \n",
       "---\n",
       "Signif. codes:  0 ‘***’ 0.001 ‘**’ 0.01 ‘*’ 0.05 ‘.’ 0.1 ‘ ’ 1\n",
       "\n",
       "Correlation of Fixed Effects:\n",
       "          (Intr)\n",
       "intensity -0.707\n"
      ]
     },
     "metadata": {},
     "output_type": "display_data"
    }
   ],
   "source": [
    "%%R -i df -w 5 -h 5 --units in -r 200\n",
    "# Does goal time spent per day on phone change depending on percentage\n",
    "df$email_hash <- factor(df$email_hash,  ordered=FALSE)\n",
    "results <- lmer(target_time ~ intensity + (1|email_hash), data = df)\n",
    "summary(results)"
   ]
  },
  {
   "cell_type": "code",
   "execution_count": 27,
   "metadata": {},
   "outputs": [
    {
     "data": {
      "text/plain": [
       "Linear mixed model fit by REML. t-tests use Satterthwaite's method [\n",
       "lmerModLmerTest]\n",
       "Formula: infreq_time ~ intensity + (1 | email_hash) + num_goals\n",
       "   Data: df\n",
       "\n",
       "REML criterion at convergence: 17257.2\n",
       "\n",
       "Scaled residuals: \n",
       "    Min      1Q  Median      3Q     Max \n",
       "-5.7145 -0.4429  0.1018  0.5954  3.8238 \n",
       "\n",
       "Random effects:\n",
       " Groups     Name        Variance Std.Dev.\n",
       " email_hash (Intercept) 0.8217   0.9065  \n",
       " Residual               1.5552   1.2471  \n",
       "Number of obs: 5006, groups:  email_hash, 567\n",
       "\n",
       "Fixed effects:\n",
       "              Estimate Std. Error         df t value Pr(>|t|)    \n",
       "(Intercept)    7.70908    0.09042 2690.53933   85.26   <2e-16 ***\n",
       "intensity     -2.87686    0.10697 4956.13171  -26.89   <2e-16 ***\n",
       "num_goals      0.23834    0.01135 3706.02715   20.99   <2e-16 ***\n",
       "---\n",
       "Signif. codes:  0 ‘***’ 0.001 ‘**’ 0.01 ‘*’ 0.05 ‘.’ 0.1 ‘ ’ 1\n",
       "\n",
       "Correlation of Fixed Effects:\n",
       "          (Intr) intnst\n",
       "intensity -0.627       \n",
       "num_goals -0.601  0.008\n"
      ]
     },
     "metadata": {},
     "output_type": "display_data"
    }
   ],
   "source": [
    "%%R -i df -w 5 -h 5 --units in -r 200\n",
    "# Does goal time spent per day on phone change depending on percentage\n",
    "df$email_hash <- factor(df$email_hash,  ordered=FALSE)\n",
    "results <- lmer(infreq_time ~ intensity + (1|email_hash) + num_goals, data = df)\n",
    "summary(results)"
   ]
  },
  {
   "cell_type": "code",
   "execution_count": 28,
   "metadata": {
    "scrolled": true
   },
   "outputs": [
    {
     "name": "stdout",
     "output_type": "stream",
     "text": [
      "735fc385e38dd2166db9fdabff905b4a985c5ebc496708618fe3548dbafd2f8e\n"
     ]
    },
    {
     "data": {
      "text/plain": [
       "<matplotlib.collections.PathCollection at 0x7fb0779b0668>"
      ]
     },
     "execution_count": 28,
     "metadata": {},
     "output_type": "execute_result"
    },
    {
     "data": {
      "image/png": "[encoded data removed]",
      "text/plain": [
       "<Figure size 432x288 with 1 Axes>"
      ]
     },
     "metadata": {
      "needs_background": "light"
     },
     "output_type": "display_data"
    }
   ],
   "source": [
    "import matplotlib.pyplot as pyplot\n",
    "import collections\n",
    "\n",
    "most_active_users = {\"\": 0}\n",
    "most_active_user = \"\"\n",
    "for stat in day_stats:\n",
    "    email = stat[HASH]\n",
    "    if email not in most_active_users:\n",
    "        most_active_users[email] = 0\n",
    "    most_active_users[email] += 1\n",
    "    if most_active_users[email] > most_active_users[most_active_user]:\n",
    "        most_active_user = email\n",
    "print(most_active_user)\n",
    "pyplot.figure(43)\n",
    "pyplot.title(\"Number of app goals versus total time spent on other apps\")\n",
    "pyplot.ylabel(\"Average goal time (log(s))\")\n",
    "pyplot.xlabel(\"Number of goals\")\n",
    "pyplot.scatter([len(stat[GOALS]) for stat in day_stats], [(stat[TOTAL_TIME]) for stat in day_stats])\n"
   ]
  },
  {
   "cell_type": "code",
   "execution_count": 29,
   "metadata": {},
   "outputs": [
    {
     "name": "stderr",
     "output_type": "stream",
     "text": [
      "/home/geza/.local/lib/python3.6/site-packages/rpy2/robjects/pandas2ri.py:67: UserWarning: Error while trying to convert the column \"infreq_goals\". Fall back to string conversion. The error is: Conversion 'py2ri' not defined for objects of type '<class 'set'>'\n",
      "  (name, str(e)))\n",
      "/home/geza/.local/lib/python3.6/site-packages/rpy2/robjects/pandas2ri.py:67: UserWarning: Error while trying to convert the column \"goals\". Fall back to string conversion. The error is: Conversion 'py2ri' not defined for objects of type '<class 'set'>'\n",
      "  (name, str(e)))\n",
      "/home/geza/.local/lib/python3.6/site-packages/rpy2/robjects/pandas2ri.py:67: UserWarning: Error while trying to convert the column \"freq_goals\". Fall back to string conversion. The error is: Conversion 'py2ri' not defined for objects of type '<class 'set'>'\n",
      "  (name, str(e)))\n",
      "/home/geza/.local/lib/python3.6/site-packages/rpy2/robjects/pandas2ri.py:191: FutureWarning: from_items is deprecated. Please use DataFrame.from_dict(dict(items), ...) instead. DataFrame.from_dict(OrderedDict(items)) may be used to preserve the key order.\n",
      "  res = PandasDataFrame.from_items(items)\n"
     ]
    },
    {
     "data": {
      "text/plain": [
       "Linear mixed model fit by REML. t-tests use Satterthwaite's method [\n",
       "lmerModLmerTest]\n",
       "Formula: other_time ~ intensity + (1 | email_hash) + (1 | num_goals)\n",
       "   Data: df\n",
       "\n",
       "REML criterion at convergence: 14027.2\n",
       "\n",
       "Scaled residuals: \n",
       "    Min      1Q  Median      3Q     Max \n",
       "-7.3319 -0.4435  0.1133  0.5612  3.0101 \n",
       "\n",
       "Random effects:\n",
       " Groups     Name        Variance Std.Dev.\n",
       " email_hash (Intercept) 1.2674   1.1258  \n",
       " num_goals  (Intercept) 0.0109   0.1044  \n",
       " Residual               0.7319   0.8555  \n",
       "Number of obs: 5006, groups:  email_hash, 567; num_goals, 19\n",
       "\n",
       "Fixed effects:\n",
       "             Estimate Std. Error        df t value Pr(>|t|)    \n",
       "(Intercept) 8.953e+00  7.381e-02 7.042e+01   121.3   <2e-16 ***\n",
       "intensity   1.365e-01  7.585e-02 4.453e+03     1.8   0.0719 .  \n",
       "---\n",
       "Signif. codes:  0 ‘***’ 0.001 ‘**’ 0.01 ‘*’ 0.05 ‘.’ 0.1 ‘ ’ 1\n",
       "\n",
       "Correlation of Fixed Effects:\n",
       "          (Intr)\n",
       "intensity -0.558\n"
      ]
     },
     "metadata": {},
     "output_type": "display_data"
    }
   ],
   "source": [
    "%%R -i df -w 5 -h 5 --units in -r 200\n",
    "# Does non-goal time spent per day on phone inversely depend on goal-time?\n",
    "df$email_hash <- factor(df$email_hash,  ordered=FALSE)\n",
    "results <- lmer(other_time ~ intensity +  (1|email_hash) + (1|num_goals), data = df)\n",
    "summary(results)"
   ]
  },
  {
   "cell_type": "code",
   "execution_count": 30,
   "metadata": {},
   "outputs": [
    {
     "data": {
      "text/plain": [
       "Linear mixed model fit by REML. t-tests use Satterthwaite's method [\n",
       "lmerModLmerTest]\n",
       "Formula: target_time ~ avg_goal_time + (1 | email_hash)\n",
       "   Data: df\n",
       "\n",
       "REML criterion at convergence: 20041.9\n",
       "\n",
       "Scaled residuals: \n",
       "    Min      1Q  Median      3Q     Max \n",
       "-3.8649 -0.1562 -0.0475 -0.0138  5.3093 \n",
       "\n",
       "Random effects:\n",
       " Groups     Name        Variance Std.Dev.\n",
       " email_hash (Intercept) 2.476    1.573   \n",
       " Residual               2.581    1.606   \n",
       "Number of obs: 5006, groups:  email_hash, 567\n",
       "\n",
       "Fixed effects:\n",
       "               Estimate Std. Error        df t value Pr(>|t|)    \n",
       "(Intercept)   7.245e-01  1.046e-01 1.521e+03   6.928  6.3e-12 ***\n",
       "avg_goal_time 6.537e-02  3.332e-02 4.857e+03   1.962   0.0498 *  \n",
       "---\n",
       "Signif. codes:  0 ‘***’ 0.001 ‘**’ 0.01 ‘*’ 0.05 ‘.’ 0.1 ‘ ’ 1\n",
       "\n",
       "Correlation of Fixed Effects:\n",
       "            (Intr)\n",
       "avg_goal_tm -0.706\n"
      ]
     },
     "metadata": {},
     "output_type": "display_data"
    }
   ],
   "source": [
    "%%R -i df -w 5 -h 5 --units in -r 200\n",
    "# Does goal time spent per day on phone change depending on percentage\n",
    "df$email_hash <- factor(df$email_hash,  ordered=FALSE)\n",
    "results <- lmer(target_time ~ avg_goal_time + (1|email_hash), data = df)\n",
    "summary(results)"
   ]
  },
  {
   "cell_type": "code",
   "execution_count": null,
   "metadata": {},
   "outputs": [],
   "source": []
  },
  {
   "cell_type": "code",
   "execution_count": 31,
   "metadata": {
    "scrolled": false
   },
   "outputs": [
    {
     "name": "stdout",
     "output_type": "stream",
     "text": [
      "4.3694478524670215\n",
      "8.339739766019143\n",
      "8.733594061863055\n",
      "9.11679862756782\n",
      "9.914625296946584\n",
      "10.663124474364906\n",
      "11.05668271897453\n",
      "11.340082840810044\n"
     ]
    }
   ],
   "source": [
    "# see average change for time spent in goals vs. outside of goal when freq setting changes\n",
    "from statistics import mean, StatisticsError\n",
    "goal_time_change_stats = []\n",
    "other_time_change_stats = []\n",
    "user_stats = {}\n",
    "max_time = 0\n",
    "for day in day_stats:\n",
    "    email = day[HASH]\n",
    "    if day[HASH] not in user_stats:\n",
    "        user_stats[email] = {FREQ_GOALS: set([]), INFREQ_GOALS: set([])}\n",
    "    user_stats[email][FREQ_GOALS] = user_stats[email][FREQ_GOALS].union(day[FREQ_GOALS])\n",
    "    user_stats[email][INFREQ_GOALS] = user_stats[email][INFREQ_GOALS].union(day[INFREQ_GOALS])\n",
    "    for domain_time in day:\n",
    "        if \"_domain_time\" in domain_time:\n",
    "            domain = domain_time[:-len(\"_domain_time\")]\n",
    "            if domain not in user_stats[email]:\n",
    "                user_stats[email][domain] = {\"frequent_goal\": [], \"infrequent_goal\": [], \"frequent_other\": [], \"infrequent_other\": []}\n",
    "            if not (domain in day[FREQ_GOALS] and domain in day[INFREQ_GOALS]):\n",
    "                freq = \"frequent\" if domain in day[FREQ_GOALS] else \"infrequent\"\n",
    "                if day[domain_time] > max_time:\n",
    "                    max_time = day[domain_time]\n",
    "                    print(max_time)\n",
    "                user_stats[email][domain][freq + \"_goal\"].append(day[domain_time])\n",
    "                user_stats[email][domain][freq+\"_other\"].append(day[TOTAL_TIME] - day[domain_time])\n",
    "for user in user_stats:\n",
    "    for domain in user_stats[user][FREQ_GOALS].intersection(user_stats[user][INFREQ_GOALS]):\n",
    "        if 0 not in user_stats[user][domain][\"frequent_goal\"] and 0 not in user_stats[user][domain][\"infrequent_goal\"]:\n",
    "            try:\n",
    "                mean_freq_goal = mean(user_stats[user][domain][\"frequent_goal\"])\n",
    "                # print(\"frequent\" + str(user_stats[user][domain][\"frequent_goal\"]))\n",
    "                # print(\"infrequent  \" + str(user_stats[user][domain][\"infrequent_goal\"]))\n",
    "                goal_change = mean_freq_goal - mean(user_stats[user][domain][\"infrequent_goal\"])\n",
    "                other_change = mean(user_stats[user][domain][\"frequent_other\"]) - mean(user_stats[user][domain][\"infrequent_other\"])\n",
    "                goal_time_change_stats.append(goal_change)\n",
    "                other_time_change_stats.append(other_change)\n",
    "            except StatisticsError:\n",
    "                pass"
   ]
  },
  {
   "cell_type": "code",
   "execution_count": 109,
   "metadata": {},
   "outputs": [],
   "source": [
    "# our next data set: goal_time, freq, goal, and email_hash\n",
    "goal_stats_dict = {\"app\": [], \"email\": [], \"time\": [], \"other_time\": [], \"frequency\": [], 'intensity_day': [], 'intensity_othergoals_day': []}\n",
    "for day in day_stats:\n",
    "    for key in day:\n",
    "        if \"domain_time\" in key:\n",
    "            domain = key[:-len(\"_domain_time\")]\n",
    "            if not (domain in day[FREQ_GOALS] and domain in day[INFREQ_GOALS]) and (domain in day[FREQ_GOALS] or domain in day[INFREQ_GOALS]):\n",
    "                freq = \"frequent\" if domain in day[FREQ_GOALS] else \"infrequent\"\n",
    "                total_num_goals = len(day[FREQ_GOALS]) + len(day[INFREQ_GOALS])\n",
    "                total_num_othergoals = total_num_goals - 1\n",
    "                intensity = len(day[FREQ_GOALS]) / total_num_goals\n",
    "                num_freq_othergoals = len(day[FREQ_GOALS])\n",
    "                if freq == 'frequent':\n",
    "                    num_freq_othergoals -= 1\n",
    "                goal_stats_dict['intensity_day'].append(intensity)\n",
    "                if total_num_othergoals > 0:\n",
    "                    intensity_othergoals = num_freq_othergoals / total_num_othergoals\n",
    "                    goal_stats_dict['intensity_othergoals_day'].append(intensity_othergoals)\n",
    "                else:\n",
    "                    goal_stats_dict['intensity_othergoals_day'].append(-1)\n",
    "                goal_stats_dict[\"app\"].append(domain)\n",
    "                goal_stats_dict[\"email\"].append(day[HASH])\n",
    "                goal_stats_dict[\"time\"].append(day[key])\n",
    "                goal_stats_dict[\"other_time\"].append(day[GOAL_TIME] - day[key])\n",
    "                goal_stats_dict[\"frequency\"].append(freq)\n",
    "goal_freq_df = pd.DataFrame(goal_stats_dict)\n",
    "#goal_freq_df.to_csv(\"goal_freq_df.csv\")"
   ]
  },
  {
   "cell_type": "code",
   "execution_count": 111,
   "metadata": {},
   "outputs": [
    {
     "data": {
      "text/plain": [
       "     app               email                time          other_time       \n",
       " Length:27385       Length:27385       Min.   : 0.000   Min.   : 0.000116  \n",
       " Class :character   Class :character   1st Qu.: 4.898   1st Qu.: 1.173065  \n",
       " Mode  :character   Mode  :character   Median : 6.366   Median : 2.259344  \n",
       "                                       Mean   : 6.108   Mean   : 2.618673  \n",
       "                                       3rd Qu.: 7.520   3rd Qu.: 3.727062  \n",
       "                                       Max.   :11.340   Max.   :11.258678  \n",
       "  frequency         intensity_day    intensity_othergoals_day\n",
       " Length:27385       Min.   :0.0000   Min.   :0.0000          \n",
       " Class :character   1st Qu.:0.3333   1st Qu.:0.3333          \n",
       " Mode  :character   Median :0.5000   Median :0.5000          \n",
       "                    Mean   :0.4959   Mean   :0.4960          \n",
       "                    3rd Qu.:0.6667   3rd Qu.:0.6667          \n",
       "                    Max.   :1.0000   Max.   :1.0000          \n"
      ]
     },
     "metadata": {},
     "output_type": "display_data"
    }
   ],
   "source": [
    "%%R -i goal_freq_df -w 5 -h 5 --units in -r 200\n",
    "\n",
    "goal_freq_df <- subset(goal_freq_df, intensity_othergoals_day != -1)\n",
    "summary(goal_freq_df)"
   ]
  },
  {
   "cell_type": "code",
   "execution_count": 120,
   "metadata": {},
   "outputs": [
    {
     "data": {
      "text/plain": [
       "Linear mixed model fit by REML. t-tests use Satterthwaite's method [\n",
       "lmerModLmerTest]\n",
       "Formula: time ~ intensity_othergoals_day + (1 | frequency) + (1 | app)\n",
       "   Data: goal_freq_df\n",
       "\n",
       "REML criterion at convergence: 108305.7\n",
       "\n",
       "Scaled residuals: \n",
       "    Min      1Q  Median      3Q     Max \n",
       "-4.5539 -0.5698  0.1237  0.6710  3.4793 \n",
       "\n",
       "Random effects:\n",
       " Groups    Name        Variance Std.Dev.\n",
       " app       (Intercept) 1.812192 1.34618 \n",
       " frequency (Intercept) 0.001942 0.04407 \n",
       " Residual              2.933343 1.71270 \n",
       "Number of obs: 27385, groups:  app, 727; frequency, 2\n",
       "\n",
       "Fixed effects:\n",
       "                           Estimate Std. Error         df t value Pr(>|t|)    \n",
       "(Intercept)               5.190e+00  7.104e-02  2.126e+01  73.061   <2e-16 ***\n",
       "intensity_othergoals_day -6.488e-02  3.828e-02  2.711e+04  -1.695   0.0901 .  \n",
       "---\n",
       "Signif. codes:  0 ‘***’ 0.001 ‘**’ 0.01 ‘*’ 0.05 ‘.’ 0.1 ‘ ’ 1\n",
       "\n",
       "Correlation of Fixed Effects:\n",
       "            (Intr)\n",
       "intnsty_th_ -0.272\n"
      ]
     },
     "metadata": {},
     "output_type": "display_data"
    }
   ],
   "source": [
    "%%R -i goal_freq_df -w 5 -h 5 --units in -r 200\n",
    "\n",
    "# goodresult RESULT-MOBILE-SYMBIOTIC\n",
    "\n",
    "goal_freq_df <- subset(goal_freq_df, intensity_othergoals_day != -1)\n",
    "\n",
    "# Does non-goal time spent per day on phone inversely depend on goal-time?\n",
    "goal_freq_df$email <- factor(goal_freq_df$email,  ordered=FALSE)\n",
    "goal_freq_df$app <- factor(goal_freq_df$app, ordered=FALSE)\n",
    "goal_freq_df$frequency <- factor(goal_freq_df$frequency, levels=c(\"infrequent\", \"frequent\"))\n",
    "#results <- lmer(time ~ intensity_othergoals_day + (1|frequency), data = goal_freq_df)\n",
    "results <- lmer(time ~ intensity_othergoals_day + (1|frequency) + (1|app), data = goal_freq_df)\n",
    "#results <- lmer(time ~ intensity_othergoals_day + (1|frequency) + (1|app) + (1|email), data = goal_freq_df)\n",
    "summary(results)"
   ]
  },
  {
   "cell_type": "code",
   "execution_count": 80,
   "metadata": {},
   "outputs": [
    {
     "data": {
      "text/plain": [
       "\n",
       "\tWelch Two Sample t-test\n",
       "\n",
       "data:  goal_freq_df$time by goal_freq_df$frequency\n",
       "t = 2.1447, df = 28343, p-value = 0.03198\n",
       "alternative hypothesis: true difference in means is not equal to 0\n",
       "95 percent confidence interval:\n",
       " 0.004211949 0.093614307\n",
       "sample estimates:\n",
       "mean in group FALSE  mean in group TRUE \n",
       "           6.155786            6.106873 \n",
       "\n"
      ]
     },
     "metadata": {},
     "output_type": "display_data"
    }
   ],
   "source": [
    "%%R -i goal_freq_df -w 5 -h 5 --units in -r 200\n",
    "\n",
    "# goodresult RESULT-MOBILE-REDUCED\n",
    "\n",
    "# Does non-goal time spent per day on phone inversely depend on goal-time?\n",
    "goal_freq_df$email <- factor(goal_freq_df$email,  ordered=FALSE)\n",
    "goal_freq_df$app <- factor(goal_freq_df$app, ordered=FALSE)\n",
    "goal_freq_df$frequency <- factor(goal_freq_df$frequency, levels=c(\"infrequent\", \"frequent\"))\n",
    "goal_freq_df$frequency <- goal_freq_df$frequency == 'frequent'\n",
    "results <- t.test(goal_freq_df$time ~ goal_freq_df$frequency)\n",
    "show(results)"
   ]
  },
  {
   "cell_type": "code",
   "execution_count": 71,
   "metadata": {},
   "outputs": [
    {
     "data": {
      "text/plain": [
       "\n",
       "Call:\n",
       "lm(formula = time ~ frequency, data = goal_freq_df)\n",
       "\n",
       "Residuals:\n",
       "    Min      1Q  Median      3Q     Max \n",
       "-6.1558 -1.2141  0.2579  1.4182  5.1843 \n",
       "\n",
       "Coefficients:\n",
       "                  Estimate Std. Error t value Pr(>|t|)    \n",
       "(Intercept)        6.15579    0.01608 382.935   <2e-16 ***\n",
       "frequencyfrequent -0.04891    0.02281  -2.145    0.032 *  \n",
       "---\n",
       "Signif. codes:  0 ‘***’ 0.001 ‘**’ 0.01 ‘*’ 0.05 ‘.’ 0.1 ‘ ’ 1\n",
       "\n",
       "Residual standard error: 1.92 on 28343 degrees of freedom\n",
       "Multiple R-squared:  0.0001622,\tAdjusted R-squared:  0.000127 \n",
       "F-statistic: 4.599 on 1 and 28343 DF,  p-value: 0.032\n",
       "\n"
      ]
     },
     "metadata": {},
     "output_type": "display_data"
    }
   ],
   "source": [
    "%%R -i goal_freq_df -w 5 -h 5 --units in -r 200\n",
    "\n",
    "# goodresult RESULT-MOBILE-REDUCED\n",
    "\n",
    "# Does non-goal time spent per day on phone inversely depend on goal-time?\n",
    "goal_freq_df$email <- factor(goal_freq_df$email,  ordered=FALSE)\n",
    "goal_freq_df$app <- factor(goal_freq_df$app, ordered=FALSE)\n",
    "goal_freq_df$frequency <- factor(goal_freq_df$frequency, levels=c(\"infrequent\", \"frequent\"))\n",
    "results <- lm(time ~ frequency, data = goal_freq_df)\n",
    "summary(results)"
   ]
  },
  {
   "cell_type": "code",
   "execution_count": 70,
   "metadata": {},
   "outputs": [
    {
     "data": {
      "text/plain": [
       "Linear mixed model fit by REML. t-tests use Satterthwaite's method [\n",
       "lmerModLmerTest]\n",
       "Formula: time ~ frequency + (1 | app)\n",
       "   Data: goal_freq_df\n",
       "\n",
       "REML criterion at convergence: 112298.3\n",
       "\n",
       "Scaled residuals: \n",
       "    Min      1Q  Median      3Q     Max \n",
       "-4.5253 -0.5683  0.1272  0.6721  3.4678 \n",
       "\n",
       "Random effects:\n",
       " Groups   Name        Variance Std.Dev.\n",
       " app      (Intercept) 1.814    1.347   \n",
       " Residual             2.957    1.720   \n",
       "Number of obs: 28345, groups:  app, 733\n",
       "\n",
       "Fixed effects:\n",
       "                    Estimate Std. Error         df t value Pr(>|t|)    \n",
       "(Intercept)        5.194e+00  6.154e-02  6.538e+02  84.406  < 2e-16 ***\n",
       "frequencyfrequent -6.971e-02  2.094e-02  2.819e+04  -3.329 0.000872 ***\n",
       "---\n",
       "Signif. codes:  0 ‘***’ 0.001 ‘**’ 0.01 ‘*’ 0.05 ‘.’ 0.1 ‘ ’ 1\n",
       "\n",
       "Correlation of Fixed Effects:\n",
       "            (Intr)\n",
       "frqncyfrqnt -0.166\n"
      ]
     },
     "metadata": {},
     "output_type": "display_data"
    }
   ],
   "source": [
    "%%R -i goal_freq_df -w 5 -h 5 --units in -r 200\n",
    "\n",
    "# goodresult RESULT-MOBILE-REDUCED\n",
    "\n",
    "# Does non-goal time spent per day on phone inversely depend on goal-time?\n",
    "goal_freq_df$email <- factor(goal_freq_df$email,  ordered=FALSE)\n",
    "goal_freq_df$app <- factor(goal_freq_df$app, ordered=FALSE)\n",
    "goal_freq_df$frequency <- factor(goal_freq_df$frequency, levels=c(\"infrequent\", \"frequent\"))\n",
    "results <- lmer(time ~ frequency + (1|app) , data = goal_freq_df)\n",
    "summary(results)"
   ]
  },
  {
   "cell_type": "code",
   "execution_count": 33,
   "metadata": {},
   "outputs": [
    {
     "name": "stderr",
     "output_type": "stream",
     "text": [
      "/home/geza/.local/lib/python3.6/site-packages/rpy2/robjects/pandas2ri.py:191: FutureWarning: from_items is deprecated. Please use DataFrame.from_dict(dict(items), ...) instead. DataFrame.from_dict(OrderedDict(items)) may be used to preserve the key order.\n",
      "  res = PandasDataFrame.from_items(items)\n"
     ]
    },
    {
     "data": {
      "text/plain": [
       "Linear mixed model fit by REML. t-tests use Satterthwaite's method [\n",
       "lmerModLmerTest]\n",
       "Formula: time ~ frequency + (1 | app) + (1 | email)\n",
       "   Data: goal_freq_df\n",
       "\n",
       "REML criterion at convergence: 110148.5\n",
       "\n",
       "Scaled residuals: \n",
       "    Min      1Q  Median      3Q     Max \n",
       "-5.1144 -0.5407  0.1294  0.6555  3.7531 \n",
       "\n",
       "Random effects:\n",
       " Groups   Name        Variance Std.Dev.\n",
       " app      (Intercept) 1.7946   1.3396  \n",
       " email    (Intercept) 0.5152   0.7178  \n",
       " Residual             2.6325   1.6225  \n",
       "Number of obs: 28345, groups:  app, 733; email, 617\n",
       "\n",
       "Fixed effects:\n",
       "                    Estimate Std. Error         df t value Pr(>|t|)    \n",
       "(Intercept)        5.238e+00  6.922e-02  9.457e+02  75.671  < 2e-16 ***\n",
       "frequencyfrequent -6.517e-02  2.059e-02  2.814e+04  -3.165  0.00155 ** \n",
       "---\n",
       "Signif. codes:  0 ‘***’ 0.001 ‘**’ 0.01 ‘*’ 0.05 ‘.’ 0.1 ‘ ’ 1\n",
       "\n",
       "Correlation of Fixed Effects:\n",
       "            (Intr)\n",
       "frqncyfrqnt -0.142\n"
      ]
     },
     "metadata": {},
     "output_type": "display_data"
    }
   ],
   "source": [
    "%%R -i goal_freq_df -w 5 -h 5 --units in -r 200\n",
    "\n",
    "# goodresult RESULT-MOBILE-REDUCED\n",
    "\n",
    "# Does non-goal time spent per day on phone inversely depend on goal-time?\n",
    "goal_freq_df$email <- factor(goal_freq_df$email,  ordered=FALSE)\n",
    "goal_freq_df$app <- factor(goal_freq_df$app, ordered=FALSE)\n",
    "goal_freq_df$frequency <- factor(goal_freq_df$frequency, levels=c(\"infrequent\", \"frequent\"))\n",
    "results <- lmer(time ~ frequency + (1|app) + (1|email) , data = goal_freq_df)\n",
    "summary(results)"
   ]
  },
  {
   "cell_type": "code",
   "execution_count": 34,
   "metadata": {},
   "outputs": [
    {
     "name": "stdout",
     "output_type": "stream",
     "text": [
      "1461\n",
      "0.4989733059548255\n",
      "[-0.07416062065205994, 0.05023662886411406]\n"
     ]
    },
    {
     "data": {
      "text/plain": [
       "<BarContainer object of 2 artists>"
      ]
     },
     "execution_count": 34,
     "metadata": {},
     "output_type": "execute_result"
    },
    {
     "data": {
      "image/png": "[encoded data removed]",
      "text/plain": [
       "<Figure size 432x288 with 1 Axes>"
      ]
     },
     "metadata": {
      "needs_background": "light"
     },
     "output_type": "display_data"
    }
   ],
   "source": [
    "from scipy.stats import sem\n",
    "pyplot.figure(32)\n",
    "print(len(goal_time_change_stats))\n",
    "pyplot.title(\"Effect of Increasing Frequency of Interventions on Goal and Other Apps Time\")\n",
    "pyplot.ylabel('Change in time (log(s))')\n",
    "print(len([stat for stat in other_time_change_stats if stat > 0])/len(goal_time_change_stats))\n",
    "print([mean(goal_time_change_stats), mean(other_time_change_stats)])\n",
    "pyplot.bar([\"Change in goal time\", \"Change in other time\"], [mean(goal_time_change_stats), mean(other_time_change_stats)] , .8, yerr=[sem(goal_time_change_stats), sem(other_time_change_stats)])"
   ]
  },
  {
   "cell_type": "code",
   "execution_count": 35,
   "metadata": {},
   "outputs": [
    {
     "data": {
      "image/png": "[encoded data removed]",
      "text/plain": [
       "<Figure size 432x288 with 1 Axes>"
      ]
     },
     "metadata": {},
     "output_type": "display_data"
    },
    {
     "data": {
      "image/png": "[encoded data removed]",
      "text/plain": [
       "<Figure size 432x288 with 1 Axes>"
      ]
     },
     "metadata": {
      "needs_background": "light"
     },
     "output_type": "display_data"
    },
    {
     "data": {
      "image/png": "[encoded data removed]",
      "text/plain": [
       "<Figure size 432x288 with 1 Axes>"
      ]
     },
     "metadata": {},
     "output_type": "display_data"
    },
    {
     "data": {
      "image/png": "[encoded data removed]",
      "text/plain": [
       "<Figure size 432x288 with 1 Axes>"
      ]
     },
     "metadata": {
      "needs_background": "light"
     },
     "output_type": "display_data"
    }
   ],
   "source": [
    "\n",
    "freq_time = [0,0]\n",
    "infreq_time = [0,0]\n",
    "other_time = [0,0]\n",
    "num_days = [0, 0]\n",
    "for day in day_stats:\n",
    "    if len(day[FREQ_GOALS]) > 0 and len(day[INFREQ_GOALS]) > 0:\n",
    "        intensity= len(day[FREQ_GOALS])/len(day[INFREQ_GOALS])\n",
    "        if intensity <.5:\n",
    "            num_days[0] += 1\n",
    "            freq_time[0] += math.exp(day[FREQ_TIME])\n",
    "            infreq_time[0] += math.exp(day[GOAL_TIME])-math.exp(day[FREQ_TIME])\n",
    "            other_time[0] += math.exp(day[OTHER_TIME])\n",
    "        elif intensity > .5:\n",
    "            num_days[1] += 1\n",
    "            freq_time[1] += math.exp(day[FREQ_TIME])\n",
    "            infreq_time[1] += math.exp(day[GOAL_TIME])-math.exp(day[FREQ_TIME])\n",
    "            other_time[1] += math.exp(day[OTHER_TIME])   \n",
    "from functools import reduce\n",
    "import numpy as np\n",
    "for i in range(0,2):\n",
    "    pyplot.figure(325 + i * 2 - 1)\n",
    "    labels = 'Freq Time', 'Infreq Time', 'Other Time'\n",
    "    sizes = [freq_time[i], infreq_time[i], other_time[i]]\n",
    "    explode = (0.1, 0.1, 0)  # only \"explode\" the 2nd slice (i.e. 'Hogs')\n",
    "    pyplot.pie(sizes, explode=explode, labels=labels, autopct='%1.1f%%',\n",
    "            shadow=True, startangle=90)\n",
    "    pyplot.axis('equal')  # Equal aspect ratio ensures that pie is drawn as a circle.\n",
    "    pyplot.title(\"Distribution of Time with Intensity \" + (\"<\" if i == 0 else \">\") + \".5\")\n",
    "    pyplot.figure(325 + i * 2)\n",
    "    pyplot.title(\"Distribution of Time with Intensity \" + (\"<\" if i == 0 else \">\") + \".5\")\n",
    "    pyplot.xlabel(\"App Category\")\n",
    "    pyplot.ylabel(\"Arithmetic Average Time Spent Per Day (s)\")\n",
    "    pyplot.bar(labels, list(map(lambda x: x/num_days[i], sizes)))\n",
    "    pyplot.figure(\"Distribution of Time with Intensity\")\n"
   ]
  },
  {
   "cell_type": "code",
   "execution_count": 36,
   "metadata": {},
   "outputs": [
    {
     "name": "stdout",
     "output_type": "stream",
     "text": [
      "-0.7254083780641535\n"
     ]
    },
    {
     "data": {
      "image/png": "[encoded data removed]",
      "text/plain": [
       "<Figure size 432x288 with 1 Axes>"
      ]
     },
     "metadata": {
      "needs_background": "light"
     },
     "output_type": "display_data"
    }
   ],
   "source": [
    "intensities = []\n",
    "avg_freq_time = []\n",
    "avg_infreq_time = []\n",
    "ratio = []\n",
    "for item in day_stats:\n",
    "    if len(item[FREQ_GOALS]) > 0 and len(item[INFREQ_GOALS]) > 0 and math.exp(item[GOAL_TIME])-math.exp(item[FREQ_TIME]) > 3:\n",
    "        avg_freq_time_pt = item[FREQ_TIME]/len(item[FREQ_GOALS])\n",
    "        \n",
    "        avg_infreq_time_pt = math.log(math.exp(item[GOAL_TIME])-math.exp(item[FREQ_TIME]))/len(item[INFREQ_GOALS])\n",
    "        if avg_freq_time_pt/avg_infreq_time_pt > 1000:\n",
    "            print(math.exp(item[GOAL_TIME])-math.exp(item[FREQ_TIME]))\n",
    "            print(math.log(math.exp(item[GOAL_TIME])-math.exp(item[FREQ_TIME])))\n",
    "            print(math.log(math.exp(item[GOAL_TIME])-math.exp(item[FREQ_TIME]))/len(item[INFREQ_GOALS]))\n",
    "            print(str(avg_freq_time_pt) + \" \" + str(avg_infreq_time_pt))\n",
    "        intensity = len(item[FREQ_GOALS])/(len(item[FREQ_GOALS].union(item[INFREQ_GOALS])))\n",
    "        if avg_freq_time_pt > 0 and avg_infreq_time_pt > 0:\n",
    "            intensities.append(intensity)\n",
    "            avg_freq_time.append(avg_freq_time_pt)\n",
    "            avg_infreq_time.append(avg_infreq_time_pt)\n",
    "            ratio.append((avg_freq_time_pt/avg_infreq_time_pt))\n",
    "pyplot.figure(62426)\n",
    "pyplot.title(\"Ratio of Average Frequent Goal Time to Average Infrequent Goal Time vs Intensity\")\n",
    "pyplot.xlabel(\"Intensity (fraction of frequent goals)\")\n",
    "pyplot.ylabel(\"Ratio\")\n",
    "pyplot.scatter(intensities, ratio)\n",
    "from scipy import stats\n",
    "slope, intercept, r_value, p_value, std_err = stats.linregress(intensities,ratio)\n",
    "print(r_value)"
   ]
  },
  {
   "cell_type": "code",
   "execution_count": null,
   "metadata": {},
   "outputs": [],
   "source": []
  },
  {
   "cell_type": "code",
   "execution_count": 37,
   "metadata": {},
   "outputs": [
    {
     "name": "stdout",
     "output_type": "stream",
     "text": [
      "getting collection names\n",
      "got collection names\n",
      "0\n",
      "100000\n",
      "200000\n"
     ]
    }
   ],
   "source": [
    "# Get all browser user ids that have goal frequencies collection.\n",
    "print (\"getting collection names\")\n",
    "collection_names = ext_db.list_collection_names()\n",
    "print(\"got collection names\")\n",
    "browser_user_ids = []\n",
    "counter = 0\n",
    "for name in collection_names:\n",
    "    if counter % 100000 == 0:\n",
    "        print(counter)\n",
    "    counter += 1\n",
    "    if \"goal_frequencies\" in name:\n",
    "        browser_user_ids.append(name[:-len(\"_synced:goal_frequencies\")])"
   ]
  },
  {
   "cell_type": "code",
   "execution_count": 38,
   "metadata": {},
   "outputs": [
    {
     "name": "stdout",
     "output_type": "stream",
     "text": [
      "1451\n"
     ]
    }
   ],
   "source": [
    "print(len(browser_user_ids))"
   ]
  },
  {
   "cell_type": "code",
   "execution_count": 39,
   "metadata": {},
   "outputs": [
    {
     "name": "stdout",
     "output_type": "stream",
     "text": [
      "0.9648518263266712%\n",
      "1.9986216402481045%\n",
      "2.963473466574776%\n",
      "3.997243280496209%\n",
      "4.962095106822881%\n",
      "5.995864920744314%\n",
      "6.960716747070986%\n",
      "7.994486560992418%\n",
      "8.959338387319091%\n",
      "9.993108201240524%\n",
      "10.957960027567196%\n",
      "11.991729841488628%\n",
      "12.9565816678153%\n",
      "13.990351481736733%\n",
      "14.955203308063405%\n",
      "15.988973121984836%\n",
      "16.95382494831151%\n",
      "17.98759476223294%\n",
      "18.952446588559614%\n",
      "19.98621640248105%\n",
      "20.951068228807717%\n",
      "21.98483804272915%\n",
      "22.949689869055824%\n",
      "23.983459682977255%\n",
      "24.948311509303927%\n",
      "25.982081323225366%\n",
      "26.94693314955203%\n",
      "27.980702963473465%\n",
      "28.945554789800138%\n",
      "29.97932460372157%\n",
      "30.94417643004824%\n",
      "31.977946243969672%\n",
      "32.94279807029635%\n",
      "33.97656788421778%\n",
      "34.94141971054445%\n",
      "35.97518952446588%\n",
      "36.940041350792555%\n",
      "37.973811164713986%\n",
      "38.938662991040665%\n",
      "39.9724328049621%\n",
      "40.93728463128877%\n",
      "41.9710544452102%\n",
      "42.93590627153687%\n",
      "43.9696760854583%\n",
      "44.934527911784976%\n",
      "45.96829772570641%\n",
      "46.93314955203308%\n",
      "47.96691936595451%\n",
      "48.93177119228119%\n",
      "49.96554100620262%\n",
      "50.99931082012405%\n",
      "51.96416264645073%\n",
      "52.997932460372155%\n",
      "53.96278428669883%\n",
      "54.996554100620266%\n",
      "55.96140592694693%\n",
      "56.99517574086836%\n",
      "57.96002756719504%\n",
      "58.99379738111647%\n",
      "59.95864920744314%\n",
      "60.992419021364576%\n",
      "61.95727084769125%\n",
      "62.991040661612686%\n",
      "63.955892487939344%\n",
      "64.98966230186079%\n",
      "65.95451412818745%\n",
      "66.9882839421089%\n",
      "67.95313576843556%\n",
      "68.986905582357%\n",
      "69.95175740868366%\n",
      "70.9855272226051%\n",
      "71.95037904893177%\n",
      "72.9841488628532%\n",
      "73.94900068917988%\n",
      "74.98277050310132%\n",
      "75.94762232942797%\n",
      "76.98139214334941%\n",
      "77.94624396967609%\n",
      "78.98001378359751%\n",
      "79.9448656099242%\n",
      "80.97863542384562%\n",
      "81.9434872501723%\n",
      "82.97725706409372%\n",
      "83.9421088904204%\n",
      "84.97587870434184%\n",
      "85.9407305306685%\n",
      "86.97450034458993%\n",
      "87.9393521709166%\n",
      "88.97312198483804%\n",
      "89.93797381116472%\n",
      "90.97174362508615%\n",
      "91.93659545141281%\n",
      "92.97036526533425%\n",
      "93.93521709166093%\n",
      "94.96898690558236%\n",
      "95.93383873190902%\n",
      "96.96760854583046%\n",
      "97.93246037215714%\n",
      "98.96623018607856%\n",
      "99.93108201240524%\n"
     ]
    }
   ],
   "source": [
    "\n",
    "browser_days = []\n",
    "import moment\n",
    "import math\n",
    "from time_utils import epoch_to_date\n",
    "from datetime import datetime\n",
    "import time\n",
    "# Now the browser side of things!!\n",
    "num_browser_users = len(browser_user_ids)\n",
    "counter = 0\n",
    "for user in browser_user_ids:\n",
    "    # Get freq settings:\n",
    "    counter += 1\n",
    "    if int((counter + 1)/num_browser_users * 100) > int(counter/num_browser_users * 100):\n",
    "        print(str(counter/num_browser_users * 100) + \"%\")\n",
    "    user_stats = get_freq_stats(user)\n",
    "    if len(user_stats) == 0:\n",
    "        continue\n",
    "    browser_day_map = {}\n",
    "    for day_stat in ext_db[user+ \"_synced:seconds_on_domain_per_day\"].find({\"key2\":{\"$gt\": 930}}):\n",
    "        # The key1 serves as a day. However, if we are going to compare same day stuffs for android.\n",
    "        # We need to instead build day string from moment\n",
    "        day = epoch_to_date(int(day_stat['key2']))\n",
    "        if day not in browser_day_map:\n",
    "            browser_day_map[day] = {}\n",
    "        goal = get_name(day_stat['key'], BROWSER_DOMAIN)\n",
    "        if goal:\n",
    "            if goal + \"_domain_time\" not in browser_day_map or day_stat[\"val\"] > browser_day_map[goal + \"_domain_time\"]:\n",
    "                browser_day_map[day][goal + \"_domain_time\"] = day_stat[\"val\"]\n",
    "    for day in browser_day_map:\n",
    "        day_data = { FREQ_TIME: 0, INFREQ_TIME: 0, INTENSITY: 0, INFREQ_GOALS: set([]),  TOTAL_TIME: 0, GOAL_TIME: 0, HASH:user, GOALS: set([]), FREQ_GOALS: set([]), OTHER_TIME: 0, GOAL_TIMES: []}\n",
    "        # weirdly enough, datetime timestamps are seconds, not ms.\n",
    "        isoWeek = str(datetime.fromtimestamp(moment.date(day).epoch() + 8 * (60 ** 2)).isocalendar()[1])\n",
    "        # Add obj and reset data\n",
    "        # take logs of time cuz time is log-norm distributed\n",
    "        # First, count up all domain_times into TOTAL, GOAL, and OTHER\n",
    "        if isoWeek not in user_stats:\n",
    "            continue\n",
    "        day_data[FREQ_GOALS] = user_stats[isoWeek][FREQ_GOALS]\n",
    "        day_data[INFREQ_GOALS] = user_stats[isoWeek][INFREQ_GOALS]\n",
    "        day_data[GOALS] = day_data[FREQ_GOALS].union(day_data[INFREQ_GOALS])\n",
    "        if len(user_stats[isoWeek][FREQ_GOALS].intersection(user_stats[isoWeek][INFREQ_GOALS])) > 0:\n",
    "            continue\n",
    "        for key in browser_day_map[day]:\n",
    "            if \"_domain_time\" in key:\n",
    "                key_goal = key[:-len(\"_domain_time\")]\n",
    "                day_data[TOTAL_TIME] += int(browser_day_map[day][key])\n",
    "                if key_goal in day_data[FREQ_GOALS] or key_goal in day_data[INFREQ_GOALS]:\n",
    "                    frequent = \"frequent\" if key_goal in day_data[FREQ_GOALS] else \"infrequent\"\n",
    "                    if key_goal in day_data[FREQ_GOALS]:\n",
    "                        day_data[FREQ_TIME] += browser_day_map[day][key]\n",
    "                    else:\n",
    "                        day_data[INFREQ_TIME] += browser_day_map[day][key]\n",
    "                    day_data[GOAL_TIMES].append({\"frequency\": frequent, \"goal\": key_goal, \"time\": browser_day_map[day][key]})\n",
    "                    day_data[GOAL_TIME] += browser_day_map[day][key]\n",
    "                else:\n",
    "                    day_data[OTHER_TIME] += browser_day_map[day][key]\n",
    "        for key in day_data:\n",
    "            if \"time\" in key and day_data[key] > 0:\n",
    "                day_data[key]= math.log(day_data[key])\n",
    "        if len(day_data[FREQ_GOALS]) > 0 and len(day_data[INFREQ_GOALS]) > 0:\n",
    "            day_data[AVG_FREQ_TIME] = day_data[FREQ_TIME]/len(day_data[FREQ_GOALS])\n",
    "            day_data[AVG_INFREQ_TIME] = day_data[INFREQ_TIME]/len(day_data[INFREQ_GOALS])\n",
    "            for goal_time in day_data[GOAL_TIMES]:\n",
    "                    if goal_time[TIME] > 0:\n",
    "                        goal_time[TIME] = math.log(goal_time[TIME])\n",
    "            if len(day_data[FREQ_GOALS])+ len(day_data[INFREQ_GOALS]) > 0:\n",
    "                day_data[INTENSITY] = len(day_data[FREQ_GOALS])/(len(day_data[FREQ_GOALS])+ len(day_data[INFREQ_GOALS]))\n",
    "                browser_days.append(day_data)\n",
    "\n"
   ]
  },
  {
   "cell_type": "code",
   "execution_count": 121,
   "metadata": {},
   "outputs": [
    {
     "name": "stdout",
     "output_type": "stream",
     "text": [
      "                     email_hash      time       goal   frequency  \\\n",
      "0      883c1ba5c4e5472d2f8067d6  6.188264   facebook    frequent   \n",
      "1      d49e6ce9c7fadc10f3baf7bd  1.609438        www    frequent   \n",
      "2      d49e6ce9c7fadc10f3baf7bd  5.609472        www    frequent   \n",
      "3      d49e6ce9c7fadc10f3baf7bd  6.045005        www    frequent   \n",
      "4      601ef212e501d1cdccebf63b  7.918992   facebook  infrequent   \n",
      "5      601ef212e501d1cdccebf63b  7.379632    twitter    frequent   \n",
      "6      601ef212e501d1cdccebf63b  5.971262     amazon  infrequent   \n",
      "7      601ef212e501d1cdccebf63b  8.535033   facebook  infrequent   \n",
      "8      601ef212e501d1cdccebf63b  7.591357    twitter    frequent   \n",
      "9      9e63d7e9d250c795b9c657e8  3.761200    twitter  infrequent   \n",
      "10     9e63d7e9d250c795b9c657e8  5.697093   facebook  infrequent   \n",
      "11     9e63d7e9d250c795b9c657e8  6.744059     reddit    frequent   \n",
      "12     9e63d7e9d250c795b9c657e8  7.817625    youtube    frequent   \n",
      "13     9e63d7e9d250c795b9c657e8  6.028279   facebook  infrequent   \n",
      "14     9e63d7e9d250c795b9c657e8  7.506042     reddit    frequent   \n",
      "15     9e63d7e9d250c795b9c657e8  5.587249   facebook  infrequent   \n",
      "16     9e63d7e9d250c795b9c657e8  7.025538     reddit    frequent   \n",
      "17     9e63d7e9d250c795b9c657e8  6.222576    youtube    frequent   \n",
      "18     9aa2418cff3facda9bb90c15  6.436150   facebook    frequent   \n",
      "19     9aa2418cff3facda9bb90c15  6.614726  instagram  infrequent   \n",
      "20     9aa2418cff3facda9bb90c15  6.566672    youtube    frequent   \n",
      "21     9aa2418cff3facda9bb90c15  6.785588   facebook    frequent   \n",
      "22     9aa2418cff3facda9bb90c15  6.345636  instagram  infrequent   \n",
      "23     9aa2418cff3facda9bb90c15  8.855093    youtube    frequent   \n",
      "24     9aa2418cff3facda9bb90c15  5.398163  instagram  infrequent   \n",
      "25     9aa2418cff3facda9bb90c15  5.117994   facebook    frequent   \n",
      "26     9aa2418cff3facda9bb90c15  2.890372    youtube    frequent   \n",
      "27     9aa2418cff3facda9bb90c15  6.710523   facebook  infrequent   \n",
      "28     9aa2418cff3facda9bb90c15  6.186209  instagram  infrequent   \n",
      "29     9aa2418cff3facda9bb90c15  7.045777    youtube    frequent   \n",
      "...                         ...       ...        ...         ...   \n",
      "16541  c8b0e3c4f63d4dc18538d44f  7.055313    twitter    frequent   \n",
      "16542  c8b0e3c4f63d4dc18538d44f  6.579251    youtube  infrequent   \n",
      "16543  c8b0e3c4f63d4dc18538d44f  7.560080    twitter    frequent   \n",
      "16544  c8b0e3c4f63d4dc18538d44f  6.762730     reddit  infrequent   \n",
      "16545  c8b0e3c4f63d4dc18538d44f  5.620401   facebook    frequent   \n",
      "16546  c8b0e3c4f63d4dc18538d44f  5.225747    youtube  infrequent   \n",
      "16547  c8b0e3c4f63d4dc18538d44f  5.170484    twitter    frequent   \n",
      "16548  c8b0e3c4f63d4dc18538d44f  6.049733     reddit  infrequent   \n",
      "16549  c8b0e3c4f63d4dc18538d44f  6.378426     reddit  infrequent   \n",
      "16550  c8b0e3c4f63d4dc18538d44f  6.967909    youtube    frequent   \n",
      "16551  c8b0e3c4f63d4dc18538d44f  8.170186    twitter    frequent   \n",
      "16552  c8b0e3c4f63d4dc18538d44f  3.828641   facebook  infrequent   \n",
      "16553  c8b0e3c4f63d4dc18538d44f  7.634821    twitter    frequent   \n",
      "16554  c8b0e3c4f63d4dc18538d44f  7.095064     reddit  infrequent   \n",
      "16555  c8b0e3c4f63d4dc18538d44f  7.059618    youtube    frequent   \n",
      "16556  c8b0e3c4f63d4dc18538d44f  6.282267    twitter    frequent   \n",
      "16557  c8b0e3c4f63d4dc18538d44f  6.347389    youtube    frequent   \n",
      "16558  c8b0e3c4f63d4dc18538d44f  7.822044     reddit  infrequent   \n",
      "16559  c8b0e3c4f63d4dc18538d44f  6.754604     reddit  infrequent   \n",
      "16560  c8b0e3c4f63d4dc18538d44f  6.466145    twitter    frequent   \n",
      "16561  c8b0e3c4f63d4dc18538d44f  4.644391     reddit  infrequent   \n",
      "16562  c8b0e3c4f63d4dc18538d44f  6.731018    youtube    frequent   \n",
      "16563  c8b0e3c4f63d4dc18538d44f  6.590301    twitter    frequent   \n",
      "16564  c8b0e3c4f63d4dc18538d44f  5.983936     reddit  infrequent   \n",
      "16565  fe7e509d0561382ad0cf50c2  6.970730    youtube  infrequent   \n",
      "16566  fe7e509d0561382ad0cf50c2  8.908559    youtube  infrequent   \n",
      "16567  fe7e509d0561382ad0cf50c2  8.613594    youtube  infrequent   \n",
      "16568  fe7e509d0561382ad0cf50c2  8.584291    youtube  infrequent   \n",
      "16569  fe7e509d0561382ad0cf50c2  5.181784    youtube    frequent   \n",
      "16570  9a363538b3669d87aabe5ee6  4.025352    youtube    frequent   \n",
      "\n",
      "       intensity_othergoals_day  \n",
      "0                     -1.000000  \n",
      "1                     -1.000000  \n",
      "2                     -1.000000  \n",
      "3                     -1.000000  \n",
      "4                      0.500000  \n",
      "5                      0.000000  \n",
      "6                      0.500000  \n",
      "7                      1.000000  \n",
      "8                      0.000000  \n",
      "9                      0.500000  \n",
      "10                     0.500000  \n",
      "11                     0.000000  \n",
      "12                     0.500000  \n",
      "13                     1.000000  \n",
      "14                     0.500000  \n",
      "15                     1.000000  \n",
      "16                     0.500000  \n",
      "17                     0.500000  \n",
      "18                     0.500000  \n",
      "19                     1.000000  \n",
      "20                     0.500000  \n",
      "21                     0.500000  \n",
      "22                     1.000000  \n",
      "23                     0.500000  \n",
      "24                     1.000000  \n",
      "25                     0.500000  \n",
      "26                     0.500000  \n",
      "27                     0.500000  \n",
      "28                     0.500000  \n",
      "29                     0.000000  \n",
      "...                         ...  \n",
      "16541                 -1.000000  \n",
      "16542                  0.666667  \n",
      "16543                  0.333333  \n",
      "16544                  0.666667  \n",
      "16545                  0.333333  \n",
      "16546                  0.500000  \n",
      "16547                  0.000000  \n",
      "16548                  0.500000  \n",
      "16549                  0.666667  \n",
      "16550                  0.333333  \n",
      "16551                  0.333333  \n",
      "16552                  0.666667  \n",
      "16553                  0.500000  \n",
      "16554                  1.000000  \n",
      "16555                  0.500000  \n",
      "16556                  0.500000  \n",
      "16557                  0.500000  \n",
      "16558                  1.000000  \n",
      "16559                  1.000000  \n",
      "16560                  0.000000  \n",
      "16561                 -1.000000  \n",
      "16562                  0.500000  \n",
      "16563                  0.500000  \n",
      "16564                  1.000000  \n",
      "16565                 -1.000000  \n",
      "16566                 -1.000000  \n",
      "16567                 -1.000000  \n",
      "16568                 -1.000000  \n",
      "16569                 -1.000000  \n",
      "16570                 -1.000000  \n",
      "\n",
      "[16571 rows x 5 columns]\n"
     ]
    }
   ],
   "source": [
    "import pandas as pd\n",
    "# Dataframe to find effect of frequency on goal times\n",
    "browser_goal_freq_dict = {HASH: [], TIME: [], GOAL: [], FREQUENCY: [], 'intensity_othergoals_day': []}\n",
    "for day in browser_days:\n",
    "    total_num_goals = len(day[GOAL_TIMES])\n",
    "    total_num_othergoals = total_num_goals - 1\n",
    "    total_num_freq_goals = 0\n",
    "    for goal_time in day[GOAL_TIMES]:\n",
    "        if goal_time[FREQUENCY] == 'frequent':\n",
    "            total_num_freq_goals += 1\n",
    "    for goal_time in day[GOAL_TIMES]:\n",
    "        browser_goal_freq_dict[HASH].append(day[HASH])\n",
    "        browser_goal_freq_dict[FREQUENCY].append(goal_time[FREQUENCY])\n",
    "        browser_goal_freq_dict[TIME].append(goal_time[TIME])\n",
    "        browser_goal_freq_dict[GOAL].append(goal_time[GOAL])\n",
    "        total_num_freq_othergoals = total_num_freq_goals\n",
    "        if goal_time[FREQUENCY] == 'frequent':\n",
    "            total_num_freq_othergoals -= 1\n",
    "        if total_num_othergoals > 0:\n",
    "            intensity_othergoals = total_num_freq_othergoals / total_num_othergoals\n",
    "        else:\n",
    "            intensity_othergoals = -1\n",
    "        browser_goal_freq_dict['intensity_othergoals_day'].append(intensity_othergoals)\n",
    "\n",
    "browser_goal_freq_df = pd.DataFrame(browser_goal_freq_dict)\n",
    "print(browser_goal_freq_df)\n",
    "browser_goal_freq_df.to_csv(\"2018-09-10-browser_goal_freq_df.csv\")"
   ]
  },
  {
   "cell_type": "code",
   "execution_count": 41,
   "metadata": {},
   "outputs": [
    {
     "name": "stderr",
     "output_type": "stream",
     "text": [
      "/home/geza/.local/lib/python3.6/site-packages/rpy2/robjects/pandas2ri.py:191: FutureWarning: from_items is deprecated. Please use DataFrame.from_dict(dict(items), ...) instead. DataFrame.from_dict(OrderedDict(items)) may be used to preserve the key order.\n",
      "  res = PandasDataFrame.from_items(items)\n"
     ]
    }
   ],
   "source": [
    "%%R -i browser_goal_freq_df -w 5 -h 5 --units in -r 200\n",
    "\n",
    "library(lme4)\n",
    "library(sjPlot)\n",
    "library(lmerTest)"
   ]
  },
  {
   "cell_type": "code",
   "execution_count": 127,
   "metadata": {},
   "outputs": [
    {
     "data": {
      "text/plain": [
       "Linear mixed model fit by REML. t-tests use Satterthwaite's method [\n",
       "lmerModLmerTest]\n",
       "Formula: time ~ intensity_othergoals_day + (1 | frequency)\n",
       "   Data: browser_goal_freq_df\n",
       "\n",
       "REML criterion at convergence: 27862.9\n",
       "\n",
       "Scaled residuals: \n",
       "    Min      1Q  Median      3Q     Max \n",
       "-3.4406 -0.5758  0.1399  0.7104  2.8112 \n",
       "\n",
       "Random effects:\n",
       " Groups    Name        Variance Std.Dev.\n",
       " frequency (Intercept) 0.01467  0.1211  \n",
       " Residual              3.27741  1.8104  \n",
       "Number of obs: 6920, groups:  frequency, 2\n",
       "\n",
       "Fixed effects:\n",
       "                           Estimate Std. Error         df t value Pr(>|t|)   \n",
       "(Intercept)                 6.14638    0.09327    1.20379  65.900  0.00434 **\n",
       "intensity_othergoals_day   -0.06871    0.06144 2989.14653  -1.118  0.26355   \n",
       "---\n",
       "Signif. codes:  0 ‘***’ 0.001 ‘**’ 0.01 ‘*’ 0.05 ‘.’ 0.1 ‘ ’ 1\n",
       "\n",
       "Correlation of Fixed Effects:\n",
       "            (Intr)\n",
       "intnsty_th_ -0.320\n"
      ]
     },
     "metadata": {},
     "output_type": "display_data"
    }
   ],
   "source": [
    "%%R -i browser_goal_freq_df -w 5 -h 5 --units in -r 200\n",
    "\n",
    "browser_goal_freq_df <- subset(browser_goal_freq_df, intensity_othergoals_day != -1)\n",
    "\n",
    "browser_goal_freq_df$email_hash <- factor(browser_goal_freq_df$email_hash,  ordered=FALSE)\n",
    "browser_goal_freq_df <- subset(browser_goal_freq_df, goal == 'youtube' | goal == 'facebook')\n",
    "browser_goal_freq_df$goal <- factor(browser_goal_freq_df$goal, ordered=FALSE)\n",
    "browser_goal_freq_df$frequency <- factor(browser_goal_freq_df$frequency, levels=c(\"infrequent\", \"frequent\"))\n",
    "results <- lmer(time ~ intensity_othergoals_day + (1|frequency), data = browser_goal_freq_df)\n",
    "#results <- lmer(time ~ intensity_othergoals_day + (1|frequency), data = browser_goal_freq_df)\n",
    "#results <- lmer(time ~ intensity_othergoals_day + (1|frequency) + (1|goal), data = browser_goal_freq_df)\n",
    "#results <- lmer(time ~ intensity_othergoals_day + (1|frequency) + (1|email_hash) + (1|goal), data = browser_goal_freq_df)\n",
    "summary(results)"
   ]
  },
  {
   "cell_type": "code",
   "execution_count": 42,
   "metadata": {},
   "outputs": [
    {
     "data": {
      "text/plain": [
       "Linear mixed model fit by REML. t-tests use Satterthwaite's method [\n",
       "lmerModLmerTest]\n",
       "Formula: time ~ frequency + (1 | email_hash) + (1 | goal)\n",
       "   Data: browser_goal_freq_df\n",
       "\n",
       "REML criterion at convergence: 31895.3\n",
       "\n",
       "Scaled residuals: \n",
       "    Min      1Q  Median      3Q     Max \n",
       "-4.2364 -0.5122  0.1533  0.6598  2.9087 \n",
       "\n",
       "Random effects:\n",
       " Groups     Name        Variance Std.Dev.\n",
       " email_hash (Intercept) 0.85587  0.9251  \n",
       " goal       (Intercept) 0.07203  0.2684  \n",
       " Residual               2.56266  1.6008  \n",
       "Number of obs: 8142, groups:  email_hash, 944; goal, 2\n",
       "\n",
       "Fixed effects:\n",
       "                   Estimate Std. Error        df t value Pr(>|t|)   \n",
       "(Intercept)          5.9685     0.1945    1.0809  30.684   0.0160 * \n",
       "frequencyfrequent   -0.1087     0.0397 8114.2746  -2.738   0.0062 **\n",
       "---\n",
       "Signif. codes:  0 ‘***’ 0.001 ‘**’ 0.01 ‘*’ 0.05 ‘.’ 0.1 ‘ ’ 1\n",
       "\n",
       "Correlation of Fixed Effects:\n",
       "            (Intr)\n",
       "frqncyfrqnt -0.103\n"
      ]
     },
     "metadata": {},
     "output_type": "display_data"
    }
   ],
   "source": [
    "%%R -i browser_goal_freq_df -w 5 -h 5 --units in -r 200\n",
    "\n",
    "browser_goal_freq_df$email_hash <- factor(browser_goal_freq_df$email_hash,  ordered=FALSE)\n",
    "browser_goal_freq_df <- subset(browser_goal_freq_df, goal == 'youtube' | goal == 'facebook')\n",
    "browser_goal_freq_df$goal <- factor(browser_goal_freq_df$goal, ordered=FALSE)\n",
    "browser_goal_freq_df$frequency <- factor(browser_goal_freq_df$frequency, levels=c(\"infrequent\", \"frequent\"))\n",
    "results <- lmer(time ~ frequency + (1|email_hash) + (1|goal), data = browser_goal_freq_df)\n",
    "summary(results)"
   ]
  },
  {
   "cell_type": "code",
   "execution_count": 43,
   "metadata": {},
   "outputs": [
    {
     "data": {
      "text/plain": [
       "Linear mixed model fit by REML. t-tests use Satterthwaite's method [\n",
       "lmerModLmerTest]\n",
       "Formula: time ~ frequency + (1 | email_hash)\n",
       "   Data: browser_goal_freq_df\n",
       "\n",
       "REML criterion at convergence: 15619.1\n",
       "\n",
       "Scaled residuals: \n",
       "    Min      1Q  Median      3Q     Max \n",
       "-4.2518 -0.4923  0.1372  0.6273  2.8089 \n",
       "\n",
       "Random effects:\n",
       " Groups     Name        Variance Std.Dev.\n",
       " email_hash (Intercept) 1.424    1.193   \n",
       " Residual               2.567    1.602   \n",
       "Number of obs: 3889, groups:  email_hash, 783\n",
       "\n",
       "Fixed effects:\n",
       "                    Estimate Std. Error         df t value Pr(>|t|)    \n",
       "(Intercept)          6.17508    0.06413 1113.33290  96.292  < 2e-16 ***\n",
       "frequencyfrequent   -0.23198    0.06914 3667.15713  -3.355 0.000801 ***\n",
       "---\n",
       "Signif. codes:  0 ‘***’ 0.001 ‘**’ 0.01 ‘*’ 0.05 ‘.’ 0.1 ‘ ’ 1\n",
       "\n",
       "Correlation of Fixed Effects:\n",
       "            (Intr)\n",
       "frqncyfrqnt -0.556\n"
      ]
     },
     "metadata": {},
     "output_type": "display_data"
    }
   ],
   "source": [
    "%%R -i browser_goal_freq_df -w 5 -h 5 --units in -r 200\n",
    "\n",
    "browser_goal_freq_df$email_hash <- factor(browser_goal_freq_df$email_hash,  ordered=FALSE)\n",
    "browser_goal_freq_df <- subset(browser_goal_freq_df, goal == 'youtube')\n",
    "#browser_goal_freq_df$goal <- factor(browser_goal_freq_df$goal, ordered=FALSE)\n",
    "browser_goal_freq_df$frequency <- factor(browser_goal_freq_df$frequency, levels=c(\"infrequent\", \"frequent\"))\n",
    "results <- lmer(time ~ frequency + (1|email_hash), data = browser_goal_freq_df)\n",
    "summary(results)"
   ]
  },
  {
   "cell_type": "code",
   "execution_count": 44,
   "metadata": {},
   "outputs": [
    {
     "data": {
      "text/plain": [
       "Linear mixed model fit by REML. t-tests use Satterthwaite's method [\n",
       "lmerModLmerTest]\n",
       "Formula: time ~ frequency + (1 | email_hash)\n",
       "   Data: browser_goal_freq_df\n",
       "\n",
       "REML criterion at convergence: 15373\n",
       "\n",
       "Scaled residuals: \n",
       "    Min      1Q  Median      3Q     Max \n",
       "-4.8890 -0.4770  0.1496  0.6003  3.1237 \n",
       "\n",
       "Random effects:\n",
       " Groups     Name        Variance Std.Dev.\n",
       " email_hash (Intercept) 1.365    1.169   \n",
       " Residual               1.639    1.280   \n",
       "Number of obs: 4253, groups:  email_hash, 788\n",
       "\n",
       "Fixed effects:\n",
       "                    Estimate Std. Error         df t value Pr(>|t|)    \n",
       "(Intercept)          5.62389    0.05525  978.41458 101.788   <2e-16 ***\n",
       "frequencyfrequent   -0.05357    0.05430 4224.11003  -0.987    0.324    \n",
       "---\n",
       "Signif. codes:  0 ‘***’ 0.001 ‘**’ 0.01 ‘*’ 0.05 ‘.’ 0.1 ‘ ’ 1\n",
       "\n",
       "Correlation of Fixed Effects:\n",
       "            (Intr)\n",
       "frqncyfrqnt -0.479\n"
      ]
     },
     "metadata": {},
     "output_type": "display_data"
    }
   ],
   "source": [
    "%%R -i browser_goal_freq_df -w 5 -h 5 --units in -r 200\n",
    "\n",
    "browser_goal_freq_df$email_hash <- factor(browser_goal_freq_df$email_hash,  ordered=FALSE)\n",
    "browser_goal_freq_df <- subset(browser_goal_freq_df, goal == 'facebook')\n",
    "#browser_goal_freq_df$goal <- factor(browser_goal_freq_df$goal, ordered=FALSE)\n",
    "browser_goal_freq_df$frequency <- factor(browser_goal_freq_df$frequency, levels=c(\"infrequent\", \"frequent\"))\n",
    "results <- lmer(time ~ frequency + (1|email_hash), data = browser_goal_freq_df)\n",
    "summary(results)"
   ]
  },
  {
   "cell_type": "code",
   "execution_count": 45,
   "metadata": {},
   "outputs": [
    {
     "data": {
      "text/plain": [
       "Linear mixed model fit by REML. t-tests use Satterthwaite's method [\n",
       "lmerModLmerTest]\n",
       "Formula: time ~ frequency + (1 | email_hash) + (1 | goal)\n",
       "   Data: browser_goal_freq_df\n",
       "\n",
       "REML criterion at convergence: 63775.7\n",
       "\n",
       "Scaled residuals: \n",
       "    Min      1Q  Median      3Q     Max \n",
       "-4.5869 -0.5137  0.1457  0.6675  2.9528 \n",
       "\n",
       "Random effects:\n",
       " Groups     Name        Variance Std.Dev.\n",
       " email_hash (Intercept) 0.5711   0.7557  \n",
       " goal       (Intercept) 0.5681   0.7537  \n",
       " Residual               2.4803   1.5749  \n",
       "Number of obs: 16571, groups:  email_hash, 1003; goal, 410\n",
       "\n",
       "Fixed effects:\n",
       "                    Estimate Std. Error         df t value Pr(>|t|)    \n",
       "(Intercept)        5.346e+00  6.206e-02  5.134e+02  86.137   <2e-16 ***\n",
       "frequencyfrequent -8.522e-02  2.611e-02  1.625e+04  -3.264   0.0011 ** \n",
       "---\n",
       "Signif. codes:  0 ‘***’ 0.001 ‘**’ 0.01 ‘*’ 0.05 ‘.’ 0.1 ‘ ’ 1\n",
       "\n",
       "Correlation of Fixed Effects:\n",
       "            (Intr)\n",
       "frqncyfrqnt -0.213\n"
      ]
     },
     "metadata": {},
     "output_type": "display_data"
    }
   ],
   "source": [
    "%%R -i browser_goal_freq_df -w 5 -h 5 --units in -r 200\n",
    "\n",
    "browser_goal_freq_df$email_hash <- factor(browser_goal_freq_df$email_hash,  ordered=FALSE)\n",
    "browser_goal_freq_df$goal <- factor(browser_goal_freq_df$goal, ordered=FALSE)\n",
    "browser_goal_freq_df$frequency <- factor(browser_goal_freq_df$frequency, levels=c(\"infrequent\", \"frequent\"))\n",
    "results <- lmer(time ~ frequency + (1|email_hash) + (1|goal), data = browser_goal_freq_df)\n",
    "summary(results)"
   ]
  },
  {
   "cell_type": "code",
   "execution_count": 79,
   "metadata": {},
   "outputs": [
    {
     "data": {
      "text/plain": [
       "\n",
       "\tWelch Two Sample t-test\n",
       "\n",
       "data:  browser_goal_freq_df$time by browser_goal_freq_df$frequency\n",
       "t = 3.363, df = 16559, p-value = 0.0007728\n",
       "alternative hypothesis: true difference in means is not equal to 0\n",
       "95 percent confidence interval:\n",
       " 0.03892902 0.14771184\n",
       "sample estimates:\n",
       "mean in group FALSE  mean in group TRUE \n",
       "           5.820614            5.727293 \n",
       "\n"
      ]
     },
     "metadata": {},
     "output_type": "display_data"
    }
   ],
   "source": [
    "%%R -i browser_goal_freq_df -w 5 -h 5 --units in -r 200\n",
    "\n",
    "# goodresult RESULT-BROWSER-REDUCED: time on site is reduced on days where the goal is frequent\n",
    "\n",
    "# Does non-goal time spent per day on phone inversely depend on goal-time?\n",
    "browser_goal_freq_df$email_hash <- factor(browser_goal_freq_df$email_hash,  ordered=FALSE)\n",
    "browser_goal_freq_df$goal <- factor(browser_goal_freq_df$goal, ordered=FALSE)\n",
    "browser_goal_freq_df$frequency <- browser_goal_freq_df$frequency == 'frequent'\n",
    "results <- t.test(browser_goal_freq_df$time ~ browser_goal_freq_df$frequency)\n",
    "show(results)\n",
    "#summary(browser_goal_freq_df)"
   ]
  },
  {
   "cell_type": "code",
   "execution_count": 73,
   "metadata": {},
   "outputs": [
    {
     "data": {
      "text/plain": [
       "\n",
       "Call:\n",
       "lm(formula = time ~ frequency, data = browser_goal_freq_df)\n",
       "\n",
       "Residuals:\n",
       "    Min      1Q  Median      3Q     Max \n",
       "-5.8206 -1.0359  0.2004  1.2602  5.3572 \n",
       "\n",
       "Coefficients:\n",
       "                  Estimate Std. Error t value Pr(>|t|)    \n",
       "(Intercept)        5.82061    0.01964 296.377  < 2e-16 ***\n",
       "frequencyfrequent -0.09332    0.02775  -3.363 0.000772 ***\n",
       "---\n",
       "Signif. codes:  0 ‘***’ 0.001 ‘**’ 0.01 ‘*’ 0.05 ‘.’ 0.1 ‘ ’ 1\n",
       "\n",
       "Residual standard error: 1.786 on 16569 degrees of freedom\n",
       "Multiple R-squared:  0.0006822,\tAdjusted R-squared:  0.0006219 \n",
       "F-statistic: 11.31 on 1 and 16569 DF,  p-value: 0.0007724\n",
       "\n"
      ]
     },
     "metadata": {},
     "output_type": "display_data"
    }
   ],
   "source": [
    "%%R -i browser_goal_freq_df -w 5 -h 5 --units in -r 200\n",
    "\n",
    "# goodresult RESULT-BROWSER-REDUCED: time on site is reduced on days where the goal is frequent\n",
    "\n",
    "# Does non-goal time spent per day on phone inversely depend on goal-time?\n",
    "browser_goal_freq_df$email_hash <- factor(browser_goal_freq_df$email_hash,  ordered=FALSE)\n",
    "browser_goal_freq_df$goal <- factor(browser_goal_freq_df$goal, ordered=FALSE)\n",
    "browser_goal_freq_df$frequency <- factor(browser_goal_freq_df$frequency, levels=c(\"infrequent\", \"frequent\"))\n",
    "results <- lm(time ~ frequency, data = browser_goal_freq_df)\n",
    "summary(results)"
   ]
  },
  {
   "cell_type": "code",
   "execution_count": 72,
   "metadata": {},
   "outputs": [
    {
     "data": {
      "text/plain": [
       "Linear mixed model fit by REML. t-tests use Satterthwaite's method [\n",
       "lmerModLmerTest]\n",
       "Formula: time ~ frequency + (1 | goal)\n",
       "   Data: browser_goal_freq_df\n",
       "\n",
       "REML criterion at convergence: 65141.2\n",
       "\n",
       "Scaled residuals: \n",
       "    Min      1Q  Median      3Q     Max \n",
       "-3.7192 -0.5419  0.1483  0.6917  2.8407 \n",
       "\n",
       "Random effects:\n",
       " Groups   Name        Variance Std.Dev.\n",
       " goal     (Intercept) 0.7286   0.8536  \n",
       " Residual             2.9031   1.7038  \n",
       "Number of obs: 16571, groups:  goal, 410\n",
       "\n",
       "Fixed effects:\n",
       "                    Estimate Std. Error         df t value Pr(>|t|)    \n",
       "(Intercept)        5.323e+00  5.779e-02  3.607e+02  92.103  < 2e-16 ***\n",
       "frequencyfrequent -9.259e-02  2.713e-02  1.657e+04  -3.413 0.000643 ***\n",
       "---\n",
       "Signif. codes:  0 ‘***’ 0.001 ‘**’ 0.01 ‘*’ 0.05 ‘.’ 0.1 ‘ ’ 1\n",
       "\n",
       "Correlation of Fixed Effects:\n",
       "            (Intr)\n",
       "frqncyfrqnt -0.238\n"
      ]
     },
     "metadata": {},
     "output_type": "display_data"
    }
   ],
   "source": [
    "%%R -i browser_goal_freq_df -w 5 -h 5 --units in -r 200\n",
    "\n",
    "# goodresult RESULT-BROWSER-REDUCED: time on site is reduced on days where the goal is frequent\n",
    "\n",
    "# Does non-goal time spent per day on phone inversely depend on goal-time?\n",
    "browser_goal_freq_df$email_hash <- factor(browser_goal_freq_df$email_hash,  ordered=FALSE)\n",
    "browser_goal_freq_df$goal <- factor(browser_goal_freq_df$goal, ordered=FALSE)\n",
    "browser_goal_freq_df$frequency <- factor(browser_goal_freq_df$frequency, levels=c(\"infrequent\", \"frequent\"))\n",
    "results <- lmer(time ~ frequency + (1|goal), data = browser_goal_freq_df)\n",
    "summary(results)"
   ]
  },
  {
   "cell_type": "code",
   "execution_count": 46,
   "metadata": {},
   "outputs": [
    {
     "data": {
      "text/plain": [
       "Linear mixed model fit by REML. t-tests use Satterthwaite's method [\n",
       "lmerModLmerTest]\n",
       "Formula: time ~ frequency + (1 | email_hash) + (1 | goal)\n",
       "   Data: browser_goal_freq_df\n",
       "\n",
       "REML criterion at convergence: 63775.7\n",
       "\n",
       "Scaled residuals: \n",
       "    Min      1Q  Median      3Q     Max \n",
       "-4.5869 -0.5137  0.1457  0.6675  2.9528 \n",
       "\n",
       "Random effects:\n",
       " Groups     Name        Variance Std.Dev.\n",
       " email_hash (Intercept) 0.5711   0.7557  \n",
       " goal       (Intercept) 0.5681   0.7537  \n",
       " Residual               2.4803   1.5749  \n",
       "Number of obs: 16571, groups:  email_hash, 1003; goal, 410\n",
       "\n",
       "Fixed effects:\n",
       "                    Estimate Std. Error         df t value Pr(>|t|)    \n",
       "(Intercept)        5.346e+00  6.206e-02  5.134e+02  86.137   <2e-16 ***\n",
       "frequencyfrequent -8.522e-02  2.611e-02  1.625e+04  -3.264   0.0011 ** \n",
       "---\n",
       "Signif. codes:  0 ‘***’ 0.001 ‘**’ 0.01 ‘*’ 0.05 ‘.’ 0.1 ‘ ’ 1\n",
       "\n",
       "Correlation of Fixed Effects:\n",
       "            (Intr)\n",
       "frqncyfrqnt -0.213\n"
      ]
     },
     "metadata": {},
     "output_type": "display_data"
    }
   ],
   "source": [
    "%%R -i browser_goal_freq_df -w 5 -h 5 --units in -r 200\n",
    "\n",
    "# goodresult RESULT-BROWSER-REDUCED: time on site is reduced on days where the goal is frequent\n",
    "\n",
    "# Does non-goal time spent per day on phone inversely depend on goal-time?\n",
    "browser_goal_freq_df$email_hash <- factor(browser_goal_freq_df$email_hash,  ordered=FALSE)\n",
    "browser_goal_freq_df$goal <- factor(browser_goal_freq_df$goal, ordered=FALSE)\n",
    "browser_goal_freq_df$frequency <- factor(browser_goal_freq_df$frequency, levels=c(\"infrequent\", \"frequent\"))\n",
    "results <- lmer(time ~ frequency + (1|email_hash) + (1|goal), data = browser_goal_freq_df)\n",
    "summary(results)"
   ]
  },
  {
   "cell_type": "code",
   "execution_count": 47,
   "metadata": {},
   "outputs": [],
   "source": [
    "#print(time)"
   ]
  },
  {
   "cell_type": "code",
   "execution_count": 48,
   "metadata": {},
   "outputs": [
    {
     "name": "stdout",
     "output_type": "stream",
     "text": [
      "      intensity                email_hash  total_time  goal_time  other_time  \\\n",
      "0      0.500000  883c1ba5c4e5472d2f8067d6    7.105786   6.188264    6.595781   \n",
      "1      0.750000  d49e6ce9c7fadc10f3baf7bd    6.788972   0.000000    6.788972   \n",
      "2      0.250000  d49e6ce9c7fadc10f3baf7bd    5.192957   0.000000    5.192957   \n",
      "3      0.250000  d49e6ce9c7fadc10f3baf7bd    8.071531   0.000000    8.071531   \n",
      "4      0.800000  d49e6ce9c7fadc10f3baf7bd    4.521789   1.609438    4.465908   \n",
      "5      0.800000  d49e6ce9c7fadc10f3baf7bd    6.942157   5.609472    6.635947   \n",
      "6      0.800000  d49e6ce9c7fadc10f3baf7bd    8.114025   6.045005    7.978996   \n",
      "7      0.333333  601ef212e501d1cdccebf63b    9.316950   8.464636    8.761080   \n",
      "8      0.333333  601ef212e501d1cdccebf63b    9.791606   8.863757    9.288412   \n",
      "9      0.400000  9e63d7e9d250c795b9c657e8    8.311398   7.081709    7.965546   \n",
      "10     0.400000  9e63d7e9d250c795b9c657e8    9.235521   8.459140    8.619208   \n",
      "11     0.400000  9e63d7e9d250c795b9c657e8    8.434029   7.547502    7.902857   \n",
      "12     0.400000  9e63d7e9d250c795b9c657e8    4.844187   0.000000    4.844187   \n",
      "13     0.666667  9aa2418cff3facda9bb90c15    8.927447   7.640604    8.604288   \n",
      "14     0.666667  9aa2418cff3facda9bb90c15    9.470240   9.043695    8.412499   \n",
      "15     0.666667  9aa2418cff3facda9bb90c15    7.768956   6.006353    7.580700   \n",
      "16     0.333333  9aa2418cff3facda9bb90c15    8.940629   7.805882    8.552753   \n",
      "17     0.666667  9aa2418cff3facda9bb90c15    7.443664   6.695799    6.802395   \n",
      "18     0.333333  9aa2418cff3facda9bb90c15    5.549076   4.060443    5.293305   \n",
      "19     0.333333  a09f4d8b6326097b44238b62    8.224432   2.833213    8.219865   \n",
      "20     0.333333  a09f4d8b6326097b44238b62    7.677400   7.154615    6.778785   \n",
      "21     0.333333  a09f4d8b6326097b44238b62    7.883069   5.164786    7.814803   \n",
      "22     0.333333  a09f4d8b6326097b44238b62    7.993620   3.218876    7.985144   \n",
      "23     0.333333  a09f4d8b6326097b44238b62    6.614726   0.000000    6.614726   \n",
      "24     0.333333  a09f4d8b6326097b44238b62    6.259581   2.708050    6.230481   \n",
      "25     0.333333  a09f4d8b6326097b44238b62    5.451038   5.337538    3.218876   \n",
      "26     0.500000  1ac8e0729bdbcff844ba9739    8.649974   0.000000    8.649974   \n",
      "27     0.500000  1ac8e0729bdbcff844ba9739    6.800170   0.000000    6.800170   \n",
      "28     0.500000  1ac8e0729bdbcff844ba9739    7.522941   0.000000    7.522941   \n",
      "29     0.500000  1ac8e0729bdbcff844ba9739    9.013839   8.079618    8.514790   \n",
      "...         ...                       ...         ...        ...         ...   \n",
      "7366   0.333333  d9efb89d3b03662b42c6666d    9.186355   8.406708    8.572817   \n",
      "7367   0.333333  d9efb89d3b03662b42c6666d    9.571784   8.974238    8.772920   \n",
      "7368   0.333333  d9efb89d3b03662b42c6666d    9.755799   9.357466    8.642768   \n",
      "7369   0.333333  d9efb89d3b03662b42c6666d    9.330787   8.910451    8.261268   \n",
      "7370   0.333333  d9efb89d3b03662b42c6666d    9.815203   9.255696    8.967759   \n",
      "7371   0.333333  d9efb89d3b03662b42c6666d    9.259035   8.877242    8.111328   \n",
      "7372   0.333333  d9efb89d3b03662b42c6666d   10.568364   9.819889    9.927643   \n",
      "7373   0.333333  d9efb89d3b03662b42c6666d    9.907928   9.465757    8.878915   \n",
      "7374   0.333333  d9efb89d3b03662b42c6666d    9.914230   9.166806    9.272564   \n",
      "7375   0.500000  c8b0e3c4f63d4dc18538d44f    9.667132   8.836229    9.095042   \n",
      "7376   0.500000  c8b0e3c4f63d4dc18538d44f    8.363342   7.749322    7.584265   \n",
      "7377   0.500000  c8b0e3c4f63d4dc18538d44f    9.654064   8.999372    8.920923   \n",
      "7378   0.500000  c8b0e3c4f63d4dc18538d44f    7.532624   7.055313    6.563856   \n",
      "7379   0.500000  c8b0e3c4f63d4dc18538d44f    8.961623   0.000000    8.961623   \n",
      "7380   0.500000  c8b0e3c4f63d4dc18538d44f    8.814479   8.237744    7.989560   \n",
      "7381   0.500000  c8b0e3c4f63d4dc18538d44f    7.395722   6.666957    6.736967   \n",
      "7382   0.500000  c8b0e3c4f63d4dc18538d44f    9.498372   8.562358    9.000483   \n",
      "7383   0.500000  c8b0e3c4f63d4dc18538d44f    9.010058   8.398184    8.228444   \n",
      "7384   0.500000  c8b0e3c4f63d4dc18538d44f    8.568076   8.188967    7.414573   \n",
      "7385   0.500000  c8b0e3c4f63d4dc18538d44f    7.733246   7.313887    6.661855   \n",
      "7386   0.500000  c8b0e3c4f63d4dc18538d44f    8.192017   4.644391    8.162801   \n",
      "7387   0.500000  c8b0e3c4f63d4dc18538d44f    5.817111   0.000000    5.817111   \n",
      "7388   0.500000  c8b0e3c4f63d4dc18538d44f    8.764522   7.582229    8.398410   \n",
      "7389   0.500000  fe7e509d0561382ad0cf50c2    7.163172   6.970730    5.420535   \n",
      "7390   0.500000  fe7e509d0561382ad0cf50c2    9.215925   8.908559    7.886457   \n",
      "7391   0.500000  fe7e509d0561382ad0cf50c2    9.051227   8.613594    8.014005   \n",
      "7392   0.500000  fe7e509d0561382ad0cf50c2    8.585599   8.584291    1.945910   \n",
      "7393   0.500000  fe7e509d0561382ad0cf50c2    6.011267   0.000000    6.011267   \n",
      "7394   0.500000  fe7e509d0561382ad0cf50c2    8.139732   5.181784    8.086410   \n",
      "7395   0.500000  9a363538b3669d87aabe5ee6    5.198497   4.025352    4.828314   \n",
      "\n",
      "      avg_goal_time  avg_freq_time  freq_frac_time  infreq_frac_time  \\\n",
      "0          3.094132       6.188264        0.399508          0.000820   \n",
      "1          0.000000       0.000000        0.001126          0.001126   \n",
      "2          0.000000       0.000000        0.005556          0.005556   \n",
      "3          0.000000       0.000000        0.000312          0.000312   \n",
      "4          0.321888       0.402359        0.054348          0.010870   \n",
      "5          1.121894       1.402368        0.263768          0.000966   \n",
      "6          1.209001       1.511251        0.126309          0.000299   \n",
      "7          2.821545       7.379632        0.144090          0.282337   \n",
      "8          2.954586       7.591357        0.110776          0.284628   \n",
      "9          1.416342       3.372030        0.208600          0.083784   \n",
      "10         1.691828       4.183534        0.419600          0.040468   \n",
      "11         1.509500       3.697861        0.354053          0.058031   \n",
      "12         0.000000       0.000000        0.007874          0.007874   \n",
      "13         2.546868       3.598343        0.177150          0.098992   \n",
      "14         3.014565       4.486992        0.608806          0.043954   \n",
      "15         2.002118       2.610178        0.078191          0.093407   \n",
      "16         2.601961       7.045777        0.150340          0.171163   \n",
      "17         2.231933       3.284039        0.416618          0.056758   \n",
      "18         1.353481       0.000000        0.003891          0.225681   \n",
      "19         0.944404       2.833213        0.004556          0.000268   \n",
      "20         2.384872       6.706862        0.378879          0.213988   \n",
      "21         1.721595       5.164786        0.065988          0.000377   \n",
      "22         1.072959       3.135494        0.007765          0.000675   \n",
      "23         0.000000       0.000000        0.001340          0.001340   \n",
      "24         0.902683       2.708050        0.028681          0.001912   \n",
      "25         1.779179       0.000000        0.004292          0.892704   \n",
      "26         0.000000       0.000000        0.000175          0.000175   \n",
      "27         0.000000       0.000000        0.001114          0.001114   \n",
      "28         0.000000       0.000000        0.000541          0.000541   \n",
      "29         2.019905       4.039809        0.392892          0.000122   \n",
      "...             ...            ...             ...               ...   \n",
      "7366       2.802236       5.916202        0.038001          0.420567   \n",
      "7367       2.991413       6.621406        0.052320          0.497840   \n",
      "7368       3.119155       7.799753        0.141416          0.530022   \n",
      "7369       2.970150       6.376727        0.052128          0.604699   \n",
      "7370       3.085232       5.998937        0.022010          0.549481   \n",
      "7371       2.959081       4.234107        0.006572          0.676064   \n",
      "7372       3.273296       7.110696        0.031503          0.441584   \n",
      "7373       3.155252       8.671801        0.290507          0.352133   \n",
      "7374       3.055602       7.933797        0.138009          0.335576   \n",
      "7375       2.209057       4.284608        0.333566          0.102090   \n",
      "7376       1.937331       3.728516        0.404012          0.137159   \n",
      "7377       2.249843       3.921924        0.163619          0.355983   \n",
      "7378       1.763828       3.527656        0.620450          0.000535   \n",
      "7379       0.000000       0.000000        0.000128          0.000128   \n",
      "7380       2.059436       3.847196        0.326252          0.235478   \n",
      "7381       1.666739       2.585242        0.108042          0.374463   \n",
      "7382       2.140589       4.216471        0.344579          0.047608   \n",
      "7383       2.099546       4.040583        0.394991          0.147343   \n",
      "7384       2.047242       3.504253        0.210226          0.474244   \n",
      "7385       1.828472       3.233072        0.281647          0.375821   \n",
      "7386       1.161098       0.000000        0.000277          0.028793   \n",
      "7387       0.000000       0.000000        0.002976          0.002976   \n",
      "7388       1.895557       3.678140        0.244573          0.062002   \n",
      "7389       3.485365       0.000000        0.000775          0.824942   \n",
      "7390       4.454280       0.000000        0.000099          0.735382   \n",
      "7391       4.306797       0.000000        0.000117          0.645562   \n",
      "7392       4.292145       0.000000        0.000187          0.998693   \n",
      "7393       0.000000       0.000000        0.002451          0.002451   \n",
      "7394       2.590892       5.181784        0.051925          0.000292   \n",
      "7395       2.012676       4.025352        0.309392          0.005525   \n",
      "\n",
      "      avg_infreq_time  num_freq_goals  num_infreq_goals  num_goals  \n",
      "0            0.000000               1                 1          2  \n",
      "1            0.000000               3                 1          4  \n",
      "2            0.000000               1                 3          4  \n",
      "3            0.000000               1                 3          4  \n",
      "4            0.000000               4                 1          5  \n",
      "5            0.000000               4                 1          5  \n",
      "6            0.000000               4                 1          5  \n",
      "7            4.026148               1                 2          3  \n",
      "8            4.267517               1                 2          3  \n",
      "9            1.943961               2                 3          5  \n",
      "10           2.009426               2                 3          5  \n",
      "11           1.862416               2                 3          5  \n",
      "12           0.000000               2                 3          5  \n",
      "13           6.614726               2                 1          3  \n",
      "14           6.345636               2                 1          3  \n",
      "15           5.398163               2                 1          3  \n",
      "16           3.587745               1                 2          3  \n",
      "17           4.574711               2                 1          3  \n",
      "18           2.030222               1                 2          3  \n",
      "19           0.000000               1                 2          3  \n",
      "20           3.067782               1                 2          3  \n",
      "21           0.000000               1                 2          3  \n",
      "22           0.346574               1                 2          3  \n",
      "23           0.000000               1                 2          3  \n",
      "24           0.000000               1                 2          3  \n",
      "25           2.668769               1                 2          3  \n",
      "26           0.000000               2                 2          4  \n",
      "27           0.000000               2                 2          4  \n",
      "28           0.000000               2                 2          4  \n",
      "29           0.000000               2                 2          4  \n",
      "...               ...             ...               ...        ...  \n",
      "7366         4.160102               1                 2          3  \n",
      "7367         4.437154               1                 2          3  \n",
      "7368         4.560481               1                 2          3  \n",
      "7369         4.413881               1                 2          3  \n",
      "7370         4.608211               1                 2          3  \n",
      "7371         4.433784               1                 2          3  \n",
      "7372         4.875489               1                 2          3  \n",
      "7373         4.432091               1                 2          3  \n",
      "7374         4.411161               1                 2          3  \n",
      "7375         3.692615               2                 2          4  \n",
      "7376         3.188363               2                 2          4  \n",
      "7377         4.310596               2                 2          4  \n",
      "7378         0.000000               2                 2          4  \n",
      "7379         0.000000               2                 2          4  \n",
      "7380         3.684170               2                 2          4  \n",
      "7381         3.206729               2                 2          4  \n",
      "7382         3.226812               2                 2          4  \n",
      "7383         3.547532               2                 2          4  \n",
      "7384         3.911022               2                 2          4  \n",
      "7385         3.377302               2                 2          4  \n",
      "7386         2.322195               2                 2          4  \n",
      "7387         0.000000               2                 2          4  \n",
      "7388         2.991968               2                 2          4  \n",
      "7389         6.970730               1                 1          2  \n",
      "7390         8.908559               1                 1          2  \n",
      "7391         8.613594               1                 1          2  \n",
      "7392         8.584291               1                 1          2  \n",
      "7393         0.000000               1                 1          2  \n",
      "7394         0.000000               1                 1          2  \n",
      "7395         0.000000               1                 1          2  \n",
      "\n",
      "[7396 rows x 13 columns]\n"
     ]
    }
   ],
   "source": [
    "FREQ_FRAC_TIME = \"freq_frac_time\"\n",
    "INFREQ_FRAC_TIME = \"infreq_frac_time\"\n",
    "AVG_GOAL_TIME= \"avg_goal_time\"\n",
    "intensity_dict ={INTENSITY: [], HASH: [], TOTAL_TIME: [], GOAL_TIME: [], OTHER_TIME: [], AVG_GOAL_TIME: [],\n",
    "                AVG_FREQ_TIME: [], FREQ_FRAC_TIME: [], INFREQ_FRAC_TIME: [], AVG_INFREQ_TIME: [], NUM_FREQ_GOALS: [], NUM_INFREQ_GOALS: [], NUM_GOALS: []}\n",
    "for day in browser_days:\n",
    "    for key in intensity_dict:\n",
    "        if key not in [AVG_GOAL_TIME, NUM_FREQ_GOALS, NUM_INFREQ_GOALS, NUM_GOALS, FREQ_FRAC_TIME, INFREQ_FRAC_TIME]:\n",
    "            intensity_dict[key].append(day[key])\n",
    "    intensity_dict[NUM_FREQ_GOALS].append(len(day[FREQ_GOALS]))\n",
    "    intensity_dict[NUM_INFREQ_GOALS].append(len(day[INFREQ_GOALS]))\n",
    "    intensity_dict[AVG_GOAL_TIME].append(day[GOAL_TIME]/len(day[GOALS]))\n",
    "    intensity_dict[NUM_GOALS].append(len(day[FREQ_GOALS].union(day[INFREQ_GOALS])))\n",
    "    intensity_dict[FREQ_FRAC_TIME].append(math.exp(day[FREQ_TIME])/math.exp(day[TOTAL_TIME]))\n",
    "    intensity_dict[INFREQ_FRAC_TIME].append(math.exp(day[INFREQ_TIME])/math.exp(day[TOTAL_TIME]))\n",
    "browser_df = pd.DataFrame(intensity_dict)\n",
    "browser_df.to_csv(\"2018-09-10-browser_intensity_on_time.csv\")\n",
    "print(browser_df)"
   ]
  },
  {
   "cell_type": "code",
   "execution_count": 49,
   "metadata": {},
   "outputs": [
    {
     "name": "stderr",
     "output_type": "stream",
     "text": [
      "/home/geza/.local/lib/python3.6/site-packages/rpy2/robjects/pandas2ri.py:191: FutureWarning: from_items is deprecated. Please use DataFrame.from_dict(dict(items), ...) instead. DataFrame.from_dict(OrderedDict(items)) may be used to preserve the key order.\n",
      "  res = PandasDataFrame.from_items(items)\n"
     ]
    },
    {
     "data": {
      "text/plain": [
       "Linear mixed model fit by REML. t-tests use Satterthwaite's method [\n",
       "lmerModLmerTest]\n",
       "Formula: goal_time ~ intensity + (1 | email_hash) + (1 | num_goals)\n",
       "   Data: browser_df\n",
       "\n",
       "REML criterion at convergence: 33204.5\n",
       "\n",
       "Scaled residuals: \n",
       "    Min      1Q  Median      3Q     Max \n",
       "-3.9883 -0.3142  0.1832  0.5436  2.8099 \n",
       "\n",
       "Random effects:\n",
       " Groups     Name        Variance Std.Dev.\n",
       " email_hash (Intercept) 3.1666   1.7795  \n",
       " num_goals  (Intercept) 0.1471   0.3835  \n",
       " Residual               4.1098   2.0273  \n",
       "Number of obs: 7396, groups:  email_hash, 1018; num_goals, 15\n",
       "\n",
       "Fixed effects:\n",
       "             Estimate Std. Error        df t value Pr(>|t|)    \n",
       "(Intercept) 6.301e+00  1.802e-01 1.959e+01  34.960   <2e-16 ***\n",
       "intensity   5.293e-02  1.976e-01 7.388e+03   0.268    0.789    \n",
       "---\n",
       "Signif. codes:  0 ‘***’ 0.001 ‘**’ 0.01 ‘*’ 0.05 ‘.’ 0.1 ‘ ’ 1\n",
       "\n",
       "Correlation of Fixed Effects:\n",
       "          (Intr)\n",
       "intensity -0.553\n"
      ]
     },
     "metadata": {},
     "output_type": "display_data"
    }
   ],
   "source": [
    "%%R -i browser_df -w 5 -h 5 --units in -r 200\n",
    "# Does non-goal time spent per day on phone inversely depend on goal-time?\n",
    "browser_df$email_hash <- factor(browser_df$email_hash,  ordered=FALSE)\n",
    "results <- lmer(goal_time ~ intensity + (1|email_hash) + (1|num_goals), data = browser_df)\n",
    "summary(results)"
   ]
  },
  {
   "cell_type": "code",
   "execution_count": 83,
   "metadata": {},
   "outputs": [
    {
     "data": {
      "text/plain": [
       "\n",
       "Call:\n",
       "lm(formula = avg_freq_time ~ intensity, data = browser_df)\n",
       "\n",
       "Residuals:\n",
       "    Min      1Q  Median      3Q     Max \n",
       "-3.9027 -2.2585 -0.2014  1.5346  8.2729 \n",
       "\n",
       "Coefficients:\n",
       "            Estimate Std. Error t value Pr(>|t|)    \n",
       "(Intercept)  4.19283    0.09696   43.24   <2e-16 ***\n",
       "intensity   -2.90144    0.18635  -15.57   <2e-16 ***\n",
       "---\n",
       "Signif. codes:  0 ‘***’ 0.001 ‘**’ 0.01 ‘*’ 0.05 ‘.’ 0.1 ‘ ’ 1\n",
       "\n",
       "Residual standard error: 2.5 on 7394 degrees of freedom\n",
       "Multiple R-squared:  0.03175,\tAdjusted R-squared:  0.03161 \n",
       "F-statistic: 242.4 on 1 and 7394 DF,  p-value: < 2.2e-16\n",
       "\n"
      ]
     },
     "metadata": {},
     "output_type": "display_data"
    }
   ],
   "source": [
    "%%R -i browser_df -w 5 -h 5 --units in -r 200\n",
    "\n",
    "# goodresult RESULT-INTENSITY-BROWSER-REDUCED-FREQGOALS\n",
    "\n",
    "# Does non-goal time spent per day on phone inversely depend on goal-time?\n",
    "browser_df$email_hash <- factor(browser_df$email_hash,  ordered=FALSE)\n",
    "results <- lm(avg_freq_time ~ intensity, data = browser_df)\n",
    "summary(results)"
   ]
  },
  {
   "cell_type": "code",
   "execution_count": 62,
   "metadata": {},
   "outputs": [
    {
     "data": {
      "text/plain": [
       "Linear mixed model fit by REML. t-tests use Satterthwaite's method [\n",
       "lmerModLmerTest]\n",
       "Formula: avg_freq_time ~ intensity + (1 | email_hash)\n",
       "   Data: browser_df\n",
       "\n",
       "REML criterion at convergence: 31858.5\n",
       "\n",
       "Scaled residuals: \n",
       "    Min      1Q  Median      3Q     Max \n",
       "-3.5332 -0.5282  0.0223  0.5107  4.1011 \n",
       "\n",
       "Random effects:\n",
       " Groups     Name        Variance Std.Dev.\n",
       " email_hash (Intercept) 3.170    1.780   \n",
       " Residual               3.356    1.832   \n",
       "Number of obs: 7396, groups:  email_hash, 1018\n",
       "\n",
       "Fixed effects:\n",
       "             Estimate Std. Error        df t value Pr(>|t|)    \n",
       "(Intercept)    4.0315     0.1087 4583.2469   37.08   <2e-16 ***\n",
       "intensity     -2.4718     0.1800 7344.4179  -13.73   <2e-16 ***\n",
       "---\n",
       "Signif. codes:  0 ‘***’ 0.001 ‘**’ 0.01 ‘*’ 0.05 ‘.’ 0.1 ‘ ’ 1\n",
       "\n",
       "Correlation of Fixed Effects:\n",
       "          (Intr)\n",
       "intensity -0.822\n"
      ]
     },
     "metadata": {},
     "output_type": "display_data"
    }
   ],
   "source": [
    "%%R -i browser_df -w 5 -h 5 --units in -r 200\n",
    "\n",
    "# goodresult RESULT-INTENSITY-BROWSER-REDUCED-FREQGOALS\n",
    "\n",
    "# Does non-goal time spent per day on phone inversely depend on goal-time?\n",
    "browser_df$email_hash <- factor(browser_df$email_hash,  ordered=FALSE)\n",
    "results <- lmer(avg_freq_time ~ intensity + (1|email_hash), data = browser_df)\n",
    "summary(results)"
   ]
  },
  {
   "cell_type": "code",
   "execution_count": 82,
   "metadata": {},
   "outputs": [
    {
     "data": {
      "text/plain": [
       "\n",
       "Call:\n",
       "lm(formula = avg_infreq_time ~ intensity, data = browser_df)\n",
       "\n",
       "Residuals:\n",
       "    Min      1Q  Median      3Q     Max \n",
       "-3.6927 -2.3563 -0.2078  1.4547  7.5780 \n",
       "\n",
       "Coefficients:\n",
       "            Estimate Std. Error t value Pr(>|t|)    \n",
       "(Intercept)  1.57020    0.09623   16.32   <2e-16 ***\n",
       "intensity    2.35829    0.18495   12.75   <2e-16 ***\n",
       "---\n",
       "Signif. codes:  0 ‘***’ 0.001 ‘**’ 0.01 ‘*’ 0.05 ‘.’ 0.1 ‘ ’ 1\n",
       "\n",
       "Residual standard error: 2.481 on 7394 degrees of freedom\n",
       "Multiple R-squared:  0.02152,\tAdjusted R-squared:  0.02138 \n",
       "F-statistic: 162.6 on 1 and 7394 DF,  p-value: < 2.2e-16\n",
       "\n"
      ]
     },
     "metadata": {},
     "output_type": "display_data"
    }
   ],
   "source": [
    "%%R -i browser_df -w 5 -h 5 --units in -r 200\n",
    "\n",
    "# goodresult RESULT-INTENSITY-BROWSER-REDUCED-INFREQGOALS\n",
    "\n",
    "# Does non-goal time spent per day on phone inversely depend on goal-time?\n",
    "browser_df$email_hash <- factor(browser_df$email_hash,  ordered=FALSE)\n",
    "results <- lm(avg_infreq_time ~ intensity, data = browser_df)\n",
    "summary(results)"
   ]
  },
  {
   "cell_type": "code",
   "execution_count": 63,
   "metadata": {},
   "outputs": [
    {
     "data": {
      "text/plain": [
       "Linear mixed model fit by REML. t-tests use Satterthwaite's method [\n",
       "lmerModLmerTest]\n",
       "Formula: avg_infreq_time ~ intensity + (1 | email_hash)\n",
       "   Data: browser_df\n",
       "\n",
       "REML criterion at convergence: 31581\n",
       "\n",
       "Scaled residuals: \n",
       "    Min      1Q  Median      3Q     Max \n",
       "-4.1916 -0.5039  0.0183  0.5009  3.9937 \n",
       "\n",
       "Random effects:\n",
       " Groups     Name        Variance Std.Dev.\n",
       " email_hash (Intercept) 3.428    1.851   \n",
       " Residual               3.185    1.785   \n",
       "Number of obs: 7396, groups:  email_hash, 1018\n",
       "\n",
       "Fixed effects:\n",
       "             Estimate Std. Error        df t value Pr(>|t|)    \n",
       "(Intercept)    1.6189     0.1083 4375.6060   14.95   <2e-16 ***\n",
       "intensity      2.4482     0.1763 7299.1912   13.88   <2e-16 ***\n",
       "---\n",
       "Signif. codes:  0 ‘***’ 0.001 ‘**’ 0.01 ‘*’ 0.05 ‘.’ 0.1 ‘ ’ 1\n",
       "\n",
       "Correlation of Fixed Effects:\n",
       "          (Intr)\n",
       "intensity -0.809\n"
      ]
     },
     "metadata": {},
     "output_type": "display_data"
    }
   ],
   "source": [
    "%%R -i browser_df -w 5 -h 5 --units in -r 200\n",
    "\n",
    "# goodresult RESULT-INTENSITY-BROWSER-REDUCED-INFREQGOALS\n",
    "\n",
    "# Does non-goal time spent per day on phone inversely depend on goal-time?\n",
    "browser_df$email_hash <- factor(browser_df$email_hash,  ordered=FALSE)\n",
    "results <- lmer(avg_infreq_time ~ intensity + (1|email_hash), data = browser_df)\n",
    "summary(results)"
   ]
  },
  {
   "cell_type": "code",
   "execution_count": 87,
   "metadata": {},
   "outputs": [
    {
     "data": {
      "text/plain": [
       " productive_time  unproductive_time   intensity       infreq_goals      \n",
       " Min.   : 0.000   Min.   : 0.000    Min.   :0.09091   Length:5006       \n",
       " 1st Qu.: 4.248   1st Qu.: 7.729    1st Qu.:0.37500   Class :character  \n",
       " Median : 6.170   Median : 8.668    Median :0.50000   Mode  :character  \n",
       " Mean   : 5.914   Mean   : 8.379    Mean   :0.52016                     \n",
       " 3rd Qu.: 7.977   3rd Qu.: 9.429    3rd Qu.:0.66667                     \n",
       " Max.   :11.628   Max.   :11.436    Max.   :1.00000                     \n",
       "                                                                        \n",
       "  target_time        freq_time        total_time       goal_time     \n",
       " Min.   : 0.0000   Min.   : 0.000   Min.   : 4.159   Min.   : 2.303  \n",
       " 1st Qu.: 0.0000   1st Qu.: 6.660   1st Qu.: 9.336   1st Qu.: 8.042  \n",
       " Median : 0.0000   Median : 7.782   Median : 9.961   Median : 8.745  \n",
       " Mean   : 0.9446   Mean   : 7.457   Mean   : 9.880   Mean   : 8.608  \n",
       " 3rd Qu.: 0.0000   3rd Qu.: 8.592   3rd Qu.:10.618   3rd Qu.: 9.339  \n",
       " Max.   :10.4579   Max.   :11.001   Max.   :12.115   Max.   :11.353  \n",
       "                                                                     \n",
       "                                                            email_hash  \n",
       " f653fba473726066017d092faf775b60a39bd4616590332eb815f0bb74fa22f2:  41  \n",
       " 3bafc363622bb8c12ca6069a7e2f3e63011eab0854142a8053525b915e793628:  40  \n",
       " 0158d7e92f77f8e2be7c0f66bca494fc399c56813d390c805f9362b693551ff9:  35  \n",
       " 2a79fd5ed138e2461ed63a4c0b995ac43b04ba2b0cdf5a7ebcc334c10381f20c:  35  \n",
       " b98c76f77dcbbcc4d05e6e679fbe50e5a168d3a8eea4d15083d2dfaa558b76c7:  35  \n",
       " eb55a20ef54581d8d0f70c93bcfaa08db0208859df152c03825763e84b8ecd21:  35  \n",
       " (Other)                                                         :4785  \n",
       "    goals            freq_goals          other_time      install_id       \n",
       " Length:5006        Length:5006        Min.   : 2.398   Length:5006       \n",
       " Class :character   Class :character   1st Qu.: 8.319   Class :character  \n",
       " Mode  :character   Mode  :character   Median : 9.274   Mode  :character  \n",
       "                                       Mean   : 9.178                     \n",
       "                                       3rd Qu.:10.249                     \n",
       "                                       Max.   :12.091                     \n",
       "                                                                          \n",
       " avg_goal_time    avg_freq_time    avg_infreq_time    num_goals     \n",
       " Min.   :0.4404   Min.   : 0.000   Min.   : 0.000   Min.   : 1.000  \n",
       " 1st Qu.:1.3811   1st Qu.: 2.212   1st Qu.: 2.217   1st Qu.: 3.000  \n",
       " Median :1.8471   Median : 3.209   Median : 3.211   Median : 5.000  \n",
       " Mean   :2.0894   Mean   : 3.808   Mean   : 3.828   Mean   : 5.081  \n",
       " 3rd Qu.:2.5650   3rd Qu.: 4.734   3rd Qu.: 4.736   3rd Qu.: 6.000  \n",
       " Max.   :9.8119   Max.   :10.430   Max.   :10.819   Max.   :20.000  \n",
       "                                                                    \n",
       "  infreq_time    \n",
       " Min.   : 0.000  \n",
       " 1st Qu.: 6.668  \n",
       " Median : 7.790  \n",
       " Mean   : 7.505  \n",
       " 3rd Qu.: 8.628  \n",
       " Max.   :11.340  \n",
       "                 \n"
      ]
     },
     "metadata": {},
     "output_type": "display_data"
    }
   ],
   "source": [
    "%%R -i browser_df -w 5 -h 5 --units in -r 200\n",
    "\n",
    "summary(df)"
   ]
  },
  {
   "cell_type": "code",
   "execution_count": 91,
   "metadata": {},
   "outputs": [
    {
     "data": {
      "text/plain": [
       "\n",
       "Call:\n",
       "lm(formula = avg_freq_time ~ intensity, data = browser_df)\n",
       "\n",
       "Residuals:\n",
       "    Min      1Q  Median      3Q     Max \n",
       "-3.9027 -2.2585 -0.2014  1.5346  8.2729 \n",
       "\n",
       "Coefficients:\n",
       "            Estimate Std. Error t value Pr(>|t|)    \n",
       "(Intercept)  4.19283    0.09696   43.24   <2e-16 ***\n",
       "intensity   -2.90144    0.18635  -15.57   <2e-16 ***\n",
       "---\n",
       "Signif. codes:  0 ‘***’ 0.001 ‘**’ 0.01 ‘*’ 0.05 ‘.’ 0.1 ‘ ’ 1\n",
       "\n",
       "Residual standard error: 2.5 on 7394 degrees of freedom\n",
       "Multiple R-squared:  0.03175,\tAdjusted R-squared:  0.03161 \n",
       "F-statistic: 242.4 on 1 and 7394 DF,  p-value: < 2.2e-16\n",
       "\n"
      ]
     },
     "metadata": {},
     "output_type": "display_data"
    }
   ],
   "source": [
    "%%R -i browser_df -w 5 -h 5 --units in -r 200\n",
    "\n",
    "# goodresult RESULT-INTENSITY-BROWSER-REDUCED-FREQGOALS\n",
    "\n",
    "# Does non-goal time spent per day on phone inversely depend on goal-time?\n",
    "browser_df$email_hash <- factor(browser_df$email_hash,  ordered=FALSE)\n",
    "results <- lm(avg_freq_time ~ intensity, data = browser_df)\n",
    "summary(results)"
   ]
  },
  {
   "cell_type": "code",
   "execution_count": 90,
   "metadata": {},
   "outputs": [
    {
     "data": {
      "text/plain": [
       "\n",
       "Call:\n",
       "lm(formula = avg_infreq_time ~ intensity, data = browser_df)\n",
       "\n",
       "Residuals:\n",
       "    Min      1Q  Median      3Q     Max \n",
       "-3.6927 -2.3563 -0.2078  1.4547  7.5780 \n",
       "\n",
       "Coefficients:\n",
       "            Estimate Std. Error t value Pr(>|t|)    \n",
       "(Intercept)  1.57020    0.09623   16.32   <2e-16 ***\n",
       "intensity    2.35829    0.18495   12.75   <2e-16 ***\n",
       "---\n",
       "Signif. codes:  0 ‘***’ 0.001 ‘**’ 0.01 ‘*’ 0.05 ‘.’ 0.1 ‘ ’ 1\n",
       "\n",
       "Residual standard error: 2.481 on 7394 degrees of freedom\n",
       "Multiple R-squared:  0.02152,\tAdjusted R-squared:  0.02138 \n",
       "F-statistic: 162.6 on 1 and 7394 DF,  p-value: < 2.2e-16\n",
       "\n"
      ]
     },
     "metadata": {},
     "output_type": "display_data"
    }
   ],
   "source": [
    "%%R -i browser_df -w 5 -h 5 --units in -r 200\n",
    "\n",
    "# goodresult RESULT-INTENSITY-BROWSER-REDUCED-INFREQGOALS\n",
    "\n",
    "# Does non-goal time spent per day on phone inversely depend on goal-time?\n",
    "browser_df$email_hash <- factor(browser_df$email_hash,  ordered=FALSE)\n",
    "results <- lm(avg_infreq_time ~ intensity, data = browser_df)\n",
    "summary(results)"
   ]
  },
  {
   "cell_type": "code",
   "execution_count": 97,
   "metadata": {},
   "outputs": [
    {
     "name": "stderr",
     "output_type": "stream",
     "text": [
      "/home/geza/.local/lib/python3.6/site-packages/rpy2/robjects/pandas2ri.py:191: FutureWarning: from_items is deprecated. Please use DataFrame.from_dict(dict(items), ...) instead. DataFrame.from_dict(OrderedDict(items)) may be used to preserve the key order.\n",
      "  res = PandasDataFrame.from_items(items)\n"
     ]
    },
    {
     "data": {
      "text/plain": [
       "   intensity       email_hash          total_time       goal_time     \n",
       " Min.   :0.1000   Length:7396        Min.   : 0.000   Min.   : 0.000  \n",
       " 1st Qu.:0.3333   Class :character   1st Qu.: 7.842   1st Qu.: 5.421  \n",
       " Median :0.5000   Mode  :character   Median : 8.689   Median : 7.009  \n",
       " Mean   :0.4964                      Mean   : 8.385   Mean   : 6.202  \n",
       " 3rd Qu.:0.6000                      3rd Qu.: 9.271   3rd Qu.: 8.003  \n",
       " Max.   :0.9000                      Max.   :11.210   Max.   :11.191  \n",
       "   other_time     avg_goal_time   avg_freq_time    freq_frac_time     \n",
       " Min.   : 0.000   Min.   :0.000   Min.   : 0.000   Min.   :0.0000288  \n",
       " 1st Qu.: 7.293   1st Qu.:1.035   1st Qu.: 0.000   1st Qu.:0.0019128  \n",
       " Median : 8.252   Median :1.707   Median : 2.301   Median :0.0570823  \n",
       " Mean   : 7.856   Mean   :1.806   Mean   : 2.753   Mean   :0.1456084  \n",
       " 3rd Qu.: 8.897   3rd Qu.:2.496   3rd Qu.: 4.254   3rd Qu.:0.2048092  \n",
       " Max.   :11.077   Max.   :5.507   Max.   :11.015   Max.   :1.0000000  \n",
       " infreq_frac_time    avg_infreq_time  num_freq_goals   num_infreq_goals\n",
       " Min.   :0.0000145   Min.   : 0.000   Min.   : 1.000   Min.   : 1.000  \n",
       " 1st Qu.:0.0022299   1st Qu.: 0.000   1st Qu.: 1.000   1st Qu.: 1.000  \n",
       " Median :0.0616532   Median : 2.322   Median : 2.000   Median : 2.000  \n",
       " Mean   :0.1554155   Mean   : 2.741   Mean   : 2.083   Mean   : 2.109  \n",
       " 3rd Qu.:0.2255732   3rd Qu.: 4.128   3rd Qu.: 3.000   3rd Qu.: 3.000  \n",
       " Max.   :1.0000000   Max.   :10.720   Max.   :14.000   Max.   :12.000  \n",
       "   num_goals     \n",
       " Min.   : 2.000  \n",
       " 1st Qu.: 3.000  \n",
       " Median : 4.000  \n",
       " Mean   : 4.192  \n",
       " 3rd Qu.: 5.000  \n",
       " Max.   :18.000  \n"
      ]
     },
     "metadata": {},
     "output_type": "display_data"
    }
   ],
   "source": [
    "%%R -i browser_df -w 5 -h 5 --units in -r 200\n",
    "\n",
    "\n",
    "summary(browser_df)"
   ]
  },
  {
   "cell_type": "code",
   "execution_count": 102,
   "metadata": {},
   "outputs": [
    {
     "data": {
      "text/plain": [
       "Linear mixed model fit by REML. t-tests use Satterthwaite's method [\n",
       "lmerModLmerTest]\n",
       "Formula: goal_time ~ intensity + (1 | email_hash)\n",
       "   Data: browser_df\n",
       "\n",
       "REML criterion at convergence: 33225.3\n",
       "\n",
       "Scaled residuals: \n",
       "    Min      1Q  Median      3Q     Max \n",
       "-3.9732 -0.3143  0.1842  0.5459  2.8096 \n",
       "\n",
       "Random effects:\n",
       " Groups     Name        Variance Std.Dev.\n",
       " email_hash (Intercept) 3.285    1.812   \n",
       " Residual               4.112    2.028   \n",
       "Number of obs: 7396, groups:  email_hash, 1018\n",
       "\n",
       "Fixed effects:\n",
       "             Estimate Std. Error        df t value Pr(>|t|)    \n",
       "(Intercept) 6.061e+00  1.172e-01 4.801e+03  51.726   <2e-16 ***\n",
       "intensity   6.452e-02  1.977e-01 7.382e+03   0.326    0.744    \n",
       "---\n",
       "Signif. codes:  0 ‘***’ 0.001 ‘**’ 0.01 ‘*’ 0.05 ‘.’ 0.1 ‘ ’ 1\n",
       "\n",
       "Correlation of Fixed Effects:\n",
       "          (Intr)\n",
       "intensity -0.838\n"
      ]
     },
     "metadata": {},
     "output_type": "display_data"
    }
   ],
   "source": [
    "%%R -i browser_df -w 5 -h 5 --units in -r 200\n",
    "\n",
    "# goodresult RESULT-INTENSITY-BROWSER-REDUCED-ALLGOALS\n",
    "\n",
    "# Does non-goal time spent per day on phone inversely depend on goal-time?\n",
    "browser_df$email_hash <- factor(browser_df$email_hash,  ordered=FALSE)\n",
    "results <- lmer(goal_time ~ intensity + (1|email_hash), data = browser_df)\n",
    "summary(results)"
   ]
  },
  {
   "cell_type": "code",
   "execution_count": 101,
   "metadata": {},
   "outputs": [
    {
     "data": {
      "text/plain": [
       "Linear mixed model fit by REML. t-tests use Satterthwaite's method [\n",
       "lmerModLmerTest]\n",
       "Formula: avg_goal_time ~ intensity + (1 | email_hash)\n",
       "   Data: browser_df\n",
       "\n",
       "REML criterion at convergence: 17846\n",
       "\n",
       "Scaled residuals: \n",
       "    Min      1Q  Median      3Q     Max \n",
       "-5.5068 -0.2842  0.0718  0.4253  4.2071 \n",
       "\n",
       "Random effects:\n",
       " Groups     Name        Variance Std.Dev.\n",
       " email_hash (Intercept) 0.9508   0.9751  \n",
       " Residual               0.4598   0.6781  \n",
       "Number of obs: 7396, groups:  email_hash, 1018\n",
       "\n",
       "Fixed effects:\n",
       "              Estimate Std. Error         df t value Pr(>|t|)    \n",
       "(Intercept)    1.90806    0.04686 3402.62191  40.718   <2e-16 ***\n",
       "intensity     -0.03016    0.06847 7018.06161  -0.441     0.66    \n",
       "---\n",
       "Signif. codes:  0 ‘***’ 0.001 ‘**’ 0.01 ‘*’ 0.05 ‘.’ 0.1 ‘ ’ 1\n",
       "\n",
       "Correlation of Fixed Effects:\n",
       "          (Intr)\n",
       "intensity -0.726\n"
      ]
     },
     "metadata": {},
     "output_type": "display_data"
    }
   ],
   "source": [
    "%%R -i browser_df -w 5 -h 5 --units in -r 200\n",
    "\n",
    "# goodresult RESULT-INTENSITY-BROWSER-REDUCED-ALLGOALS\n",
    "\n",
    "# Does non-goal time spent per day on phone inversely depend on goal-time?\n",
    "browser_df$email_hash <- factor(browser_df$email_hash,  ordered=FALSE)\n",
    "results <- lmer(avg_goal_time ~ intensity + (1|email_hash), data = browser_df)\n",
    "summary(results)"
   ]
  },
  {
   "cell_type": "code",
   "execution_count": 98,
   "metadata": {},
   "outputs": [
    {
     "data": {
      "text/plain": [
       "\n",
       "Call:\n",
       "lm(formula = avg_goal_time ~ intensity, data = browser_df)\n",
       "\n",
       "Residuals:\n",
       "    Min      1Q  Median      3Q     Max \n",
       "-1.8643 -0.7705 -0.1002  0.6930  3.7018 \n",
       "\n",
       "Coefficients:\n",
       "            Estimate Std. Error t value Pr(>|t|)    \n",
       "(Intercept)  1.87889    0.04452   42.20   <2e-16 ***\n",
       "intensity   -0.14634    0.08557   -1.71   0.0873 .  \n",
       "---\n",
       "Signif. codes:  0 ‘***’ 0.001 ‘**’ 0.01 ‘*’ 0.05 ‘.’ 0.1 ‘ ’ 1\n",
       "\n",
       "Residual standard error: 1.148 on 7394 degrees of freedom\n",
       "Multiple R-squared:  0.0003954,\tAdjusted R-squared:  0.0002602 \n",
       "F-statistic: 2.925 on 1 and 7394 DF,  p-value: 0.08727\n",
       "\n"
      ]
     },
     "metadata": {},
     "output_type": "display_data"
    }
   ],
   "source": [
    "%%R -i browser_df -w 5 -h 5 --units in -r 200\n",
    "\n",
    "# goodresult RESULT-INTENSITY-BROWSER-REDUCED-ALLGOALS\n",
    "\n",
    "# Does non-goal time spent per day on phone inversely depend on goal-time?\n",
    "browser_df$email_hash <- factor(browser_df$email_hash,  ordered=FALSE)\n",
    "results <- lm(avg_goal_time ~ intensity, data = browser_df)\n",
    "summary(results)"
   ]
  },
  {
   "cell_type": "code",
   "execution_count": 99,
   "metadata": {},
   "outputs": [
    {
     "data": {
      "text/plain": [
       "\n",
       "Call:\n",
       "lm(formula = goal_time ~ intensity, data = browser_df)\n",
       "\n",
       "Residuals:\n",
       "    Min      1Q  Median      3Q     Max \n",
       "-6.3472 -0.7902  0.7916  1.8018  4.9753 \n",
       "\n",
       "Coefficients:\n",
       "            Estimate Std. Error t value Pr(>|t|)    \n",
       "(Intercept)   6.3838     0.1044  61.125   <2e-16 ***\n",
       "intensity    -0.3661     0.2007  -1.824   0.0682 .  \n",
       "---\n",
       "Signif. codes:  0 ‘***’ 0.001 ‘**’ 0.01 ‘*’ 0.05 ‘.’ 0.1 ‘ ’ 1\n",
       "\n",
       "Residual standard error: 2.693 on 7394 degrees of freedom\n",
       "Multiple R-squared:  0.0004498,\tAdjusted R-squared:  0.0003146 \n",
       "F-statistic: 3.327 on 1 and 7394 DF,  p-value: 0.06819\n",
       "\n"
      ]
     },
     "metadata": {},
     "output_type": "display_data"
    }
   ],
   "source": [
    "%%R -i browser_df -w 5 -h 5 --units in -r 200\n",
    "\n",
    "# goodresult RESULT-INTENSITY-BROWSER-REDUCED-ALLGOALS\n",
    "\n",
    "# Does non-goal time spent per day on phone inversely depend on goal-time?\n",
    "browser_df$email_hash <- factor(browser_df$email_hash,  ordered=FALSE)\n",
    "results <- lm(goal_time ~ intensity, data = browser_df)\n",
    "summary(results)"
   ]
  },
  {
   "cell_type": "code",
   "execution_count": 85,
   "metadata": {},
   "outputs": [
    {
     "data": {
      "text/plain": [
       "\n",
       "Call:\n",
       "lm(formula = avg_goal_time ~ intensity, data = browser_df)\n",
       "\n",
       "Residuals:\n",
       "    Min      1Q  Median      3Q     Max \n",
       "-1.8643 -0.7705 -0.1002  0.6930  3.7018 \n",
       "\n",
       "Coefficients:\n",
       "            Estimate Std. Error t value Pr(>|t|)    \n",
       "(Intercept)  1.87889    0.04452   42.20   <2e-16 ***\n",
       "intensity   -0.14634    0.08557   -1.71   0.0873 .  \n",
       "---\n",
       "Signif. codes:  0 ‘***’ 0.001 ‘**’ 0.01 ‘*’ 0.05 ‘.’ 0.1 ‘ ’ 1\n",
       "\n",
       "Residual standard error: 1.148 on 7394 degrees of freedom\n",
       "Multiple R-squared:  0.0003954,\tAdjusted R-squared:  0.0002602 \n",
       "F-statistic: 2.925 on 1 and 7394 DF,  p-value: 0.08727\n",
       "\n"
      ]
     },
     "metadata": {},
     "output_type": "display_data"
    }
   ],
   "source": [
    "%%R -i browser_df -w 5 -h 5 --units in -r 200\n",
    "\n",
    "# goodresult RESULT-INTENSITY-BROWSER-REDUCED-ALLGOALS\n",
    "\n",
    "# Does non-goal time spent per day on phone inversely depend on goal-time?\n",
    "browser_df$email_hash <- factor(browser_df$email_hash,  ordered=FALSE)\n",
    "results <- lm(avg_goal_time ~ intensity, data = browser_df)\n",
    "summary(results)"
   ]
  },
  {
   "cell_type": "code",
   "execution_count": 64,
   "metadata": {},
   "outputs": [
    {
     "data": {
      "text/plain": [
       "Linear mixed model fit by REML. t-tests use Satterthwaite's method [\n",
       "lmerModLmerTest]\n",
       "Formula: avg_goal_time ~ intensity + (1 | email_hash)\n",
       "   Data: browser_df\n",
       "\n",
       "REML criterion at convergence: 17846\n",
       "\n",
       "Scaled residuals: \n",
       "    Min      1Q  Median      3Q     Max \n",
       "-5.5068 -0.2842  0.0718  0.4253  4.2071 \n",
       "\n",
       "Random effects:\n",
       " Groups     Name        Variance Std.Dev.\n",
       " email_hash (Intercept) 0.9508   0.9751  \n",
       " Residual               0.4598   0.6781  \n",
       "Number of obs: 7396, groups:  email_hash, 1018\n",
       "\n",
       "Fixed effects:\n",
       "              Estimate Std. Error         df t value Pr(>|t|)    \n",
       "(Intercept)    1.90806    0.04686 3402.62191  40.718   <2e-16 ***\n",
       "intensity     -0.03016    0.06847 7018.06161  -0.441     0.66    \n",
       "---\n",
       "Signif. codes:  0 ‘***’ 0.001 ‘**’ 0.01 ‘*’ 0.05 ‘.’ 0.1 ‘ ’ 1\n",
       "\n",
       "Correlation of Fixed Effects:\n",
       "          (Intr)\n",
       "intensity -0.726\n"
      ]
     },
     "metadata": {},
     "output_type": "display_data"
    }
   ],
   "source": [
    "%%R -i browser_df -w 5 -h 5 --units in -r 200\n",
    "\n",
    "# goodresult RESULT-INTENSITY-BROWSER-REDUCED-ALLGOALS\n",
    "\n",
    "# Does non-goal time spent per day on phone inversely depend on goal-time?\n",
    "browser_df$email_hash <- factor(browser_df$email_hash,  ordered=FALSE)\n",
    "results <- lmer(avg_goal_time ~ intensity + (1|email_hash), data = browser_df)\n",
    "summary(results)"
   ]
  },
  {
   "cell_type": "code",
   "execution_count": 51,
   "metadata": {},
   "outputs": [
    {
     "data": {
      "text/plain": [
       "Linear mixed model fit by REML. t-tests use Satterthwaite's method [\n",
       "lmerModLmerTest]\n",
       "Formula: other_time ~ intensity + (1 | email_hash) + (1 | num_goals)\n",
       "   Data: browser_df\n",
       "\n",
       "REML criterion at convergence: 27166\n",
       "\n",
       "Scaled residuals: \n",
       "    Min      1Q  Median      3Q     Max \n",
       "-5.9426 -0.2862  0.1853  0.5497  2.5937 \n",
       "\n",
       "Random effects:\n",
       " Groups     Name        Variance Std.Dev.\n",
       " email_hash (Intercept) 0.8838   0.9401  \n",
       " num_goals  (Intercept) 0.0000   0.0000  \n",
       " Residual               1.9169   1.3845  \n",
       "Number of obs: 7396, groups:  email_hash, 1018; num_goals, 15\n",
       "\n",
       "Fixed effects:\n",
       "              Estimate Std. Error         df t value Pr(>|t|)    \n",
       "(Intercept)    7.78500    0.07397 4801.89529 105.252   <2e-16 ***\n",
       "intensity     -0.05729    0.13090 7273.31500  -0.438    0.662    \n",
       "---\n",
       "Signif. codes:  0 ‘***’ 0.001 ‘**’ 0.01 ‘*’ 0.05 ‘.’ 0.1 ‘ ’ 1\n",
       "\n",
       "Correlation of Fixed Effects:\n",
       "          (Intr)\n",
       "intensity -0.879\n"
      ]
     },
     "metadata": {},
     "output_type": "display_data"
    }
   ],
   "source": [
    "%%R -i browser_df -w 5 -h 5 --units in -r 200\n",
    "# Does non-goal time spent per day on phone inversely depend on goal-time?\n",
    "browser_df$email_hash <- factor(browser_df$email_hash,  ordered=FALSE)\n",
    "results <- lmer(other_time ~ intensity + (1|email_hash) + (1|num_goals), data = browser_df)\n",
    "summary(results)"
   ]
  },
  {
   "cell_type": "code",
   "execution_count": 52,
   "metadata": {},
   "outputs": [
    {
     "data": {
      "text/plain": [
       "Linear mixed model fit by REML. t-tests use Satterthwaite's method [\n",
       "lmerModLmerTest]\n",
       "Formula: avg_goal_time ~ intensity + (1 | email_hash)\n",
       "   Data: browser_df\n",
       "\n",
       "REML criterion at convergence: 17846\n",
       "\n",
       "Scaled residuals: \n",
       "    Min      1Q  Median      3Q     Max \n",
       "-5.5068 -0.2842  0.0718  0.4253  4.2071 \n",
       "\n",
       "Random effects:\n",
       " Groups     Name        Variance Std.Dev.\n",
       " email_hash (Intercept) 0.9508   0.9751  \n",
       " Residual               0.4598   0.6781  \n",
       "Number of obs: 7396, groups:  email_hash, 1018\n",
       "\n",
       "Fixed effects:\n",
       "              Estimate Std. Error         df t value Pr(>|t|)    \n",
       "(Intercept)    1.90806    0.04686 3402.62191  40.718   <2e-16 ***\n",
       "intensity     -0.03016    0.06847 7018.06161  -0.441     0.66    \n",
       "---\n",
       "Signif. codes:  0 ‘***’ 0.001 ‘**’ 0.01 ‘*’ 0.05 ‘.’ 0.1 ‘ ’ 1\n",
       "\n",
       "Correlation of Fixed Effects:\n",
       "          (Intr)\n",
       "intensity -0.726\n"
      ]
     },
     "metadata": {},
     "output_type": "display_data"
    }
   ],
   "source": [
    "%%R -i browser_df -w 5 -h 5 --units in -r 200\n",
    "# Does non-goal time spent per day on phone inversely depend on goal-time?\n",
    "browser_df$email_hash <- factor(browser_df$email_hash,  ordered=FALSE)\n",
    "results <- lmer(avg_goal_time ~ intensity + (1|email_hash), data = browser_df)\n",
    "summary(results)"
   ]
  },
  {
   "cell_type": "code",
   "execution_count": 53,
   "metadata": {},
   "outputs": [
    {
     "data": {
      "text/plain": [
       "Linear mixed model fit by REML. t-tests use Satterthwaite's method [\n",
       "lmerModLmerTest]\n",
       "Formula: avg_goal_time ~ intensity + (1 | email_hash)\n",
       "   Data: browser_df\n",
       "\n",
       "REML criterion at convergence: 17846\n",
       "\n",
       "Scaled residuals: \n",
       "    Min      1Q  Median      3Q     Max \n",
       "-5.5068 -0.2842  0.0718  0.4253  4.2071 \n",
       "\n",
       "Random effects:\n",
       " Groups     Name        Variance Std.Dev.\n",
       " email_hash (Intercept) 0.9508   0.9751  \n",
       " Residual               0.4598   0.6781  \n",
       "Number of obs: 7396, groups:  email_hash, 1018\n",
       "\n",
       "Fixed effects:\n",
       "              Estimate Std. Error         df t value Pr(>|t|)    \n",
       "(Intercept)    1.90806    0.04686 3402.62191  40.718   <2e-16 ***\n",
       "intensity     -0.03016    0.06847 7018.06161  -0.441     0.66    \n",
       "---\n",
       "Signif. codes:  0 ‘***’ 0.001 ‘**’ 0.01 ‘*’ 0.05 ‘.’ 0.1 ‘ ’ 1\n",
       "\n",
       "Correlation of Fixed Effects:\n",
       "          (Intr)\n",
       "intensity -0.726\n"
      ]
     },
     "metadata": {},
     "output_type": "display_data"
    }
   ],
   "source": [
    "%%R -i browser_df -w 5 -h 5 --units in -r 200\n",
    "# Does non-goal time spent per day on phone inversely depend on goal-time?\n",
    "browser_df$email_hash <- factor(browser_df$email_hash,  ordered=FALSE)\n",
    "results <- lmer(avg_goal_time ~  intensity + (1|email_hash), data = browser_df)\n",
    "summary(results)"
   ]
  },
  {
   "cell_type": "code",
   "execution_count": null,
   "metadata": {},
   "outputs": [],
   "source": [
    "%%R -i browser_df -w 5 -h 5 --units in -r 200\n",
    "\n",
    "# goodresult RESULT-INTENSITY-BROWSER-REDUCED\n",
    "\n",
    "# Does non-goal time spent per day on phone inversely depend on goal-time?\n",
    "browser_df$email_hash <- factor(browser_df$email_hash,  ordered=FALSE)\n",
    "results <- lmer(avg_freq_time ~ intensity + (1|email_hash), data = browser_df)\n",
    "summary(results)"
   ]
  },
  {
   "cell_type": "code",
   "execution_count": 54,
   "metadata": {
    "scrolled": false
   },
   "outputs": [
    {
     "data": {
      "text/plain": [
       "Linear mixed model fit by REML. t-tests use Satterthwaite's method [\n",
       "lmerModLmerTest]\n",
       "Formula: avg_freq_time ~ intensity + (1 | email_hash)\n",
       "   Data: browser_df\n",
       "\n",
       "REML criterion at convergence: 31858.5\n",
       "\n",
       "Scaled residuals: \n",
       "    Min      1Q  Median      3Q     Max \n",
       "-3.5332 -0.5282  0.0223  0.5107  4.1011 \n",
       "\n",
       "Random effects:\n",
       " Groups     Name        Variance Std.Dev.\n",
       " email_hash (Intercept) 3.170    1.780   \n",
       " Residual               3.356    1.832   \n",
       "Number of obs: 7396, groups:  email_hash, 1018\n",
       "\n",
       "Fixed effects:\n",
       "             Estimate Std. Error        df t value Pr(>|t|)    \n",
       "(Intercept)    4.0315     0.1087 4583.2469   37.08   <2e-16 ***\n",
       "intensity     -2.4718     0.1800 7344.4179  -13.73   <2e-16 ***\n",
       "---\n",
       "Signif. codes:  0 ‘***’ 0.001 ‘**’ 0.01 ‘*’ 0.05 ‘.’ 0.1 ‘ ’ 1\n",
       "\n",
       "Correlation of Fixed Effects:\n",
       "          (Intr)\n",
       "intensity -0.822\n"
      ]
     },
     "metadata": {},
     "output_type": "display_data"
    }
   ],
   "source": [
    "%%R -i browser_df -w 5 -h 5 --units in -r 200\n",
    "\n",
    "# goodresult RESULT-INTENSITY-BROWSER-REDUCED\n",
    "\n",
    "# Does non-goal time spent per day on phone inversely depend on goal-time?\n",
    "browser_df$email_hash <- factor(browser_df$email_hash,  ordered=FALSE)\n",
    "results <- lmer(avg_freq_time ~ intensity + (1|email_hash), data = browser_df)\n",
    "summary(results)"
   ]
  },
  {
   "cell_type": "code",
   "execution_count": 55,
   "metadata": {},
   "outputs": [
    {
     "data": {
      "text/plain": [
       "Linear mixed model fit by REML. t-tests use Satterthwaite's method [\n",
       "lmerModLmerTest]\n",
       "Formula: avg_infreq_time ~ intensity + (1 | email_hash)\n",
       "   Data: browser_df\n",
       "\n",
       "REML criterion at convergence: 31581\n",
       "\n",
       "Scaled residuals: \n",
       "    Min      1Q  Median      3Q     Max \n",
       "-4.1916 -0.5039  0.0183  0.5009  3.9937 \n",
       "\n",
       "Random effects:\n",
       " Groups     Name        Variance Std.Dev.\n",
       " email_hash (Intercept) 3.428    1.851   \n",
       " Residual               3.185    1.785   \n",
       "Number of obs: 7396, groups:  email_hash, 1018\n",
       "\n",
       "Fixed effects:\n",
       "             Estimate Std. Error        df t value Pr(>|t|)    \n",
       "(Intercept)    1.6189     0.1083 4375.6060   14.95   <2e-16 ***\n",
       "intensity      2.4482     0.1763 7299.1912   13.88   <2e-16 ***\n",
       "---\n",
       "Signif. codes:  0 ‘***’ 0.001 ‘**’ 0.01 ‘*’ 0.05 ‘.’ 0.1 ‘ ’ 1\n",
       "\n",
       "Correlation of Fixed Effects:\n",
       "          (Intr)\n",
       "intensity -0.809\n"
      ]
     },
     "metadata": {},
     "output_type": "display_data"
    }
   ],
   "source": [
    "%%R -i browser_df -w 5 -h 5 --units in -r 200\n",
    "# Does non-goal time spent per day on phone inversely depend on goal-time?\n",
    "browser_df$email_hash <- factor(browser_df$email_hash,  ordered=FALSE)\n",
    "results <- lmer(avg_infreq_time ~ intensity + (1|email_hash), data = browser_df)\n",
    "summary(results)"
   ]
  },
  {
   "cell_type": "code",
   "execution_count": 56,
   "metadata": {},
   "outputs": [
    {
     "data": {
      "text/plain": [
       "Linear mixed model fit by REML. t-tests use Satterthwaite's method [\n",
       "lmerModLmerTest]\n",
       "Formula: freq_frac_time ~ intensity + (1 | email_hash)\n",
       "   Data: browser_df\n",
       "\n",
       "REML criterion at convergence: -3980.9\n",
       "\n",
       "Scaled residuals: \n",
       "    Min      1Q  Median      3Q     Max \n",
       "-2.8623 -0.4978 -0.1986  0.2434  5.2688 \n",
       "\n",
       "Random effects:\n",
       " Groups     Name        Variance Std.Dev.\n",
       " email_hash (Intercept) 0.01375  0.1173  \n",
       " Residual               0.02824  0.1680  \n",
       "Number of obs: 7396, groups:  email_hash, 1018\n",
       "\n",
       "Fixed effects:\n",
       "              Estimate Std. Error         df t value Pr(>|t|)    \n",
       "(Intercept) -6.061e-03  9.043e-03  4.870e+03   -0.67    0.503    \n",
       "intensity    3.061e-01  1.594e-02  7.309e+03   19.20   <2e-16 ***\n",
       "---\n",
       "Signif. codes:  0 ‘***’ 0.001 ‘**’ 0.01 ‘*’ 0.05 ‘.’ 0.1 ‘ ’ 1\n",
       "\n",
       "Correlation of Fixed Effects:\n",
       "          (Intr)\n",
       "intensity -0.875\n"
      ]
     },
     "metadata": {},
     "output_type": "display_data"
    }
   ],
   "source": [
    "%%R -i browser_df -w 5 -h 5 --units in -r 200\n",
    "# Does non-goal time spent per day on phone inversely depend on goal-time?\n",
    "browser_df$email_hash <- factor(browser_df$email_hash,  ordered=FALSE)\n",
    "results <- lmer(freq_frac_time ~ intensity + (1|email_hash), data = browser_df)\n",
    "summary(results)"
   ]
  },
  {
   "cell_type": "code",
   "execution_count": 57,
   "metadata": {},
   "outputs": [
    {
     "data": {
      "text/plain": [
       "Linear mixed model fit by REML. t-tests use Satterthwaite's method [\n",
       "lmerModLmerTest]\n",
       "Formula: infreq_frac_time ~ intensity + (1 | email_hash)\n",
       "   Data: browser_df\n",
       "\n",
       "REML criterion at convergence: -4059.3\n",
       "\n",
       "Scaled residuals: \n",
       "    Min      1Q  Median      3Q     Max \n",
       "-3.5223 -0.4850 -0.1811  0.2687  5.4357 \n",
       "\n",
       "Random effects:\n",
       " Groups     Name        Variance Std.Dev.\n",
       " email_hash (Intercept) 0.01710  0.1308  \n",
       " Residual               0.02724  0.1650  \n",
       "Number of obs: 7396, groups:  email_hash, 1018\n",
       "\n",
       "Fixed effects:\n",
       "              Estimate Std. Error         df t value Pr(>|t|)    \n",
       "(Intercept)  3.150e-01  9.199e-03  4.783e+03   34.24   <2e-16 ***\n",
       "intensity   -3.143e-01  1.589e-02  7.388e+03  -19.78   <2e-16 ***\n",
       "---\n",
       "Signif. codes:  0 ‘***’ 0.001 ‘**’ 0.01 ‘*’ 0.05 ‘.’ 0.1 ‘ ’ 1\n",
       "\n",
       "Correlation of Fixed Effects:\n",
       "          (Intr)\n",
       "intensity -0.858\n"
      ]
     },
     "metadata": {},
     "output_type": "display_data"
    }
   ],
   "source": [
    "%%R -i browser_df -w 5 -h 5 --units in -r 200\n",
    "# Does non-goal time spent per day on phone inversely depend on goal-time?\n",
    "browser_df$email_hash <- factor(browser_df$email_hash,  ordered=FALSE)\n",
    "results <- lmer(infreq_frac_time ~ intensity + (1|email_hash), data = browser_df)\n",
    "summary(results)"
   ]
  },
  {
   "cell_type": "code",
   "execution_count": 58,
   "metadata": {},
   "outputs": [
    {
     "data": {
      "image/png": "[encoded data removed]",
      "text/plain": [
       "<Figure size 432x288 with 1 Axes>"
      ]
     },
     "metadata": {},
     "output_type": "display_data"
    },
    {
     "data": {
      "image/png": "[encoded data removed]",
      "text/plain": [
       "<Figure size 432x288 with 1 Axes>"
      ]
     },
     "metadata": {},
     "output_type": "display_data"
    }
   ],
   "source": [
    "\n",
    "freq_time = [0,0]\n",
    "infreq_time = [0,0]\n",
    "other_time = [0,0]\n",
    "for day in browser_days:\n",
    "    if day[INTENSITY] <.5:\n",
    "        freq_time[0] += math.exp(day[FREQ_TIME])\n",
    "        infreq_time[0] += math.exp(day[INFREQ_TIME])\n",
    "        other_time[0] += math.exp(day[OTHER_TIME])\n",
    "    elif day[INTENSITY] > .5:\n",
    "        freq_time[1] += math.exp(day[FREQ_TIME])\n",
    "        infreq_time[1] += math.exp(day[INFREQ_TIME])\n",
    "        other_time[1] += math.exp(day[OTHER_TIME])   \n",
    "for i in range(0,2):\n",
    "    pyplot.figure(765 + i)\n",
    "    labels = 'Freq Time', 'Infreq Time', 'Other Time'\n",
    "    sizes = [freq_time[i], infreq_time[i], other_time[i]]\n",
    "    explode = (0.1, 0.1, 0)  # only \"explode\" the 2nd slice (i.e. 'Hogs')\n",
    "    pyplot.pie(sizes, explode=explode, labels=labels, autopct='%1.1f%%',\n",
    "            shadow=True, startangle=90)\n",
    "    pyplot.axis('equal')  # Equal aspect ratio ensures that pie is drawn as a circle.\n",
    "    pyplot.title(\"Distribution of Time with Intensity \" + (\"<\" if i == 0 else \">\") + \".5\")"
   ]
  },
  {
   "cell_type": "code",
   "execution_count": 59,
   "metadata": {},
   "outputs": [
    {
     "name": "stdout",
     "output_type": "stream",
     "text": [
      "-0.5896299050985784\n"
     ]
    },
    {
     "data": {
      "image/png": "[encoded data removed]",
      "text/plain": [
       "<Figure size 432x288 with 1 Axes>"
      ]
     },
     "metadata": {
      "needs_background": "light"
     },
     "output_type": "display_data"
    }
   ],
   "source": [
    "intensities = []\n",
    "avg_freq_time = []\n",
    "avg_infreq_time = []\n",
    "ratio = []\n",
    "from scipy import stats\n",
    "for item in browser_days:\n",
    "    if item[AVG_INFREQ_TIME] > 0 and item[AVG_FREQ_TIME] > 0:\n",
    "        intensities.append(item[INTENSITY])\n",
    "        avg_freq_time.append(item[AVG_FREQ_TIME])\n",
    "        avg_infreq_time.append(item[AVG_INFREQ_TIME])\n",
    "        ratio.append(item[AVG_FREQ_TIME]/item[AVG_INFREQ_TIME])\n",
    "pyplot.figure(6246)\n",
    "pyplot.title(\"Ratio of Average Frequent Goal Time to Average Infrequent Goal Time vs Intensity\")\n",
    "pyplot.xlabel(\"Intensity (fraction of frequent goals)\")\n",
    "pyplot.ylabel(\"Ratio\")\n",
    "pyplot.scatter(intensities, ratio)\n",
    "slope, intercept, r_value, p_value, std_err = stats.linregress(intensities,ratio)\n",
    "print(r_value)"
   ]
  },
  {
   "cell_type": "code",
   "execution_count": 60,
   "metadata": {},
   "outputs": [
    {
     "data": {
      "text/plain": [
       "<BarContainer object of 2 artists>"
      ]
     },
     "execution_count": 60,
     "metadata": {},
     "output_type": "execute_result"
    },
    {
     "data": {
      "image/png": "[encoded data removed]",
      "text/plain": [
       "<Figure size 432x288 with 1 Axes>"
      ]
     },
     "metadata": {
      "needs_background": "light"
     },
     "output_type": "display_data"
    }
   ],
   "source": [
    "# Now let's try to generate that graph we made for Android -> change in time when goal changes frequency setting\n",
    "user_goal_freq_avg = {}\n",
    "for day in browser_days:\n",
    "    user = day[HASH]\n",
    "    if user not in user_goal_freq_avg:\n",
    "        user_goal_freq_avg[user] = {}\n",
    "    for goal_data in day[GOAL_TIMES]:\n",
    "        if goal_data['goal'] != \"www\":\n",
    "            if goal not in user_goal_freq_avg[user]:\n",
    "                user_goal_freq_avg[user][goal] = {\"time\": {\"frequent\": [], \"infrequent\": []}, \"other\": {\"frequent\": [], \"infrequent\": []}}\n",
    "            if (math.exp(day[TOTAL_TIME]) - math.exp(goal_data[\"time\"])) > 0:\n",
    "                user_goal_freq_avg[user][goal][\"time\"][goal_data[\"frequency\"]].append(goal_data[\"time\"])\n",
    "                user_goal_freq_avg[user][goal][\"other\"][goal_data[\"frequency\"]].append(math.log(math.exp(day[TOTAL_TIME]) - math.exp(goal_data[\"time\"])))\n",
    "change_in_goal_time = []\n",
    "change_in_other_time = []\n",
    "for user in user_goal_freq_avg:\n",
    "    for goal in user_goal_freq_avg[user]:\n",
    "        goal_data = user_goal_freq_avg[user][goal]\n",
    "        if len(goal_data[\"time\"][\"frequent\"]) > 0 and len(goal_data[\"time\"][\"infrequent\"]) > 0:\n",
    "            mean_freq_time = mean(goal_data[\"time\"][\"frequent\"])\n",
    "            mean_infreq_time = mean(goal_data[\"time\"][\"infrequent\"])\n",
    "            mean_freq_other = mean(goal_data[\"other\"][\"frequent\"])\n",
    "            mean_infreq_other = mean(goal_data[\"other\"][\"infrequent\"])\n",
    "            change_in_goal_time.append(mean_freq_time - mean_infreq_time)\n",
    "            change_in_other_time.append(mean_freq_other - mean_infreq_other)\n",
    "pyplot.title(\"Effect of Increasing Interventions on Goal Time and Other Time\")\n",
    "pyplot.ylabel(\"Change in time (log(s))\")\n",
    "pyplot.bar([\"Change in goal time\", \"Change in other time\"], [(mean(change_in_goal_time)), mean(change_in_other_time)] , .8, yerr=[sem(change_in_goal_time), sem(change_in_other_time)])\n",
    "    "
   ]
  },
  {
   "cell_type": "code",
   "execution_count": null,
   "metadata": {},
   "outputs": [],
   "source": []
  },
  {
   "cell_type": "code",
   "execution_count": null,
   "metadata": {},
   "outputs": [],
   "source": []
  },
  {
   "cell_type": "code",
   "execution_count": null,
   "metadata": {},
   "outputs": [],
   "source": []
  }
 ],
 "metadata": {
  "kernelspec": {
   "display_name": "Python 3",
   "language": "python",
   "name": "python3"
  },
  "language_info": {
   "codemirror_mode": {
    "name": "ipython",
    "version": 3
   },
   "file_extension": ".py",
   "mimetype": "text/x-python",
   "name": "python",
   "nbconvert_exporter": "python",
   "pygments_lexer": "ipython3",
   "version": "3.6.5"
  }
 },
 "nbformat": 4,
 "nbformat_minor": 2
}
