{
 "cells": [
  {
   "cell_type": "code",
   "execution_count": 1,
   "metadata": {},
   "outputs": [
    {
     "name": "stdout",
     "output_type": "stream",
     "text": [
      "Requirement already satisfied: pymongo in /Library/Frameworks/Python.framework/Versions/3.6/lib/python3.6/site-packages (3.7.1)\n",
      "Requirement already satisfied: pyyaml in /Library/Frameworks/Python.framework/Versions/3.6/lib/python3.6/site-packages (3.13)\n",
      "Requirement already satisfied: matplotlib in /Library/Frameworks/Python.framework/Versions/3.6/lib/python3.6/site-packages (2.2.2)\n",
      "Requirement already satisfied: six>=1.10 in /Library/Frameworks/Python.framework/Versions/3.6/lib/python3.6/site-packages (from matplotlib) (1.11.0)\n",
      "Requirement already satisfied: kiwisolver>=1.0.1 in /Library/Frameworks/Python.framework/Versions/3.6/lib/python3.6/site-packages (from matplotlib) (1.0.1)\n",
      "Requirement already satisfied: python-dateutil>=2.1 in /Library/Frameworks/Python.framework/Versions/3.6/lib/python3.6/site-packages (from matplotlib) (2.7.3)\n",
      "Requirement already satisfied: pyparsing!=2.0.4,!=2.1.2,!=2.1.6,>=2.0.1 in /Library/Frameworks/Python.framework/Versions/3.6/lib/python3.6/site-packages (from matplotlib) (2.2.0)\n",
      "Requirement already satisfied: cycler>=0.10 in /Library/Frameworks/Python.framework/Versions/3.6/lib/python3.6/site-packages (from matplotlib) (0.10.0)\n",
      "Requirement already satisfied: pytz in /Library/Frameworks/Python.framework/Versions/3.6/lib/python3.6/site-packages (from matplotlib) (2018.5)\n",
      "Requirement already satisfied: numpy>=1.7.1 in /Library/Frameworks/Python.framework/Versions/3.6/lib/python3.6/site-packages (from matplotlib) (1.14.5)\n",
      "Requirement already satisfied: setuptools in /Library/Frameworks/Python.framework/Versions/3.6/lib/python3.6/site-packages (from kiwisolver>=1.0.1->matplotlib) (39.0.1)\n",
      "Requirement already satisfied: scipy in /Library/Frameworks/Python.framework/Versions/3.6/lib/python3.6/site-packages (1.1.0)\n",
      "Requirement already satisfied: numpy>=1.8.2 in /Library/Frameworks/Python.framework/Versions/3.6/lib/python3.6/site-packages (from scipy) (1.14.5)\n",
      "Requirement already satisfied: pandas in /Library/Frameworks/Python.framework/Versions/3.6/lib/python3.6/site-packages (0.23.4)\n",
      "Requirement already satisfied: numpy>=1.9.0 in /Library/Frameworks/Python.framework/Versions/3.6/lib/python3.6/site-packages (from pandas) (1.14.5)\n",
      "Requirement already satisfied: pytz>=2011k in /Library/Frameworks/Python.framework/Versions/3.6/lib/python3.6/site-packages (from pandas) (2018.5)\n",
      "Requirement already satisfied: python-dateutil>=2.5.0 in /Library/Frameworks/Python.framework/Versions/3.6/lib/python3.6/site-packages (from pandas) (2.7.3)\n",
      "Requirement already satisfied: six>=1.5 in /Library/Frameworks/Python.framework/Versions/3.6/lib/python3.6/site-packages (from python-dateutil>=2.5.0->pandas) (1.11.0)\n",
      "Requirement already satisfied: isoweek in /Library/Frameworks/Python.framework/Versions/3.6/lib/python3.6/site-packages (1.3.3)\n",
      "/Users/drewgregory/JupyterNotebooks/habitlab-data-analysis\n"
     ]
    }
   ],
   "source": [
    "import sys\n",
    "!{sys.executable} -m pip install pymongo\n",
    "!{sys.executable} -m pip install pyyaml\n",
    "!{sys.executable} -m pip install matplotlib\n",
    "!{sys.executable} -m pip install scipy\n",
    "!{sys.executable} -m pip install pandas\n",
    "!{sys.executable} -m pip install isoweek\n",
    "import os\n",
    "print(os.getcwd())\n",
    "# Get Mongo database\n",
    "from yaml import load\n",
    "from pymongo import MongoClient\n",
    "from getsecret import getsecret\n",
    "\n",
    "client = MongoClient(getsecret(\"MONGODB_URI\"))\n",
    "db = client[getsecret(\"DB_NAME\")]\n",
    "ext_client = MongoClient(getsecret(\"EXT_URI\"))\n",
    "ext_db = ext_client[getsecret(\"DB_NAME\")]\n",
    "# Get all synced accounts and their respective users.\n",
    "import urllib.request as req\n",
    "import json\n",
    "accounts = json.loads(req.urlopen(\"http://localhost:5000/synced_emails\").read().decode(\"utf-8\"))"
   ]
  },
  {
   "cell_type": "code",
   "execution_count": 2,
   "metadata": {},
   "outputs": [],
   "source": [
    "# Now, for each day, get frequency intensity\n",
    "INTENSITY = \"intensity\"\n",
    "TOTAL_TIME = \"total_time\"\n",
    "ANDROID = \"android\"\n",
    "HASH = \"email_hash\"\n",
    "GOALS = \"goals\"\n",
    "FREQ_GOALS = \"freq_goals\"\n",
    "INFREQ_GOALS = \"infreq_goals\"\n",
    "OTHER_TIME = \"other_time\"\n",
    "GOAL_TIME = \"goal_time\"\n",
    "day_stats = []\n",
    "import math\n",
    "import moment\n",
    "for account in accounts:\n",
    "    curr_date = \"\"\n",
    "    day_data = {INTENSITY: 0, INFREQ_GOALS: set([]),  TOTAL_TIME: 0, GOAL_TIME: 0, HASH: account[\"_id\"], GOALS: set([]), FREQ_GOALS: set([]), OTHER_TIME: 0 }\n",
    "    for user in account[ANDROID]:\n",
    "        for s in db[user+ \"_sessions\"].find({\"enabled\": {\"$exists\": True}, \"duration\": {\"$lt\": 86400}}):\n",
    "            time = moment.unix(s[\"timestamp\"])\n",
    "            date = time.format(\"YYYY-MM-DD\")\n",
    "            if date != curr_date:\n",
    "                if curr_date != \"\" and day_data[TOTAL_TIME] > 0 and len(day_data[GOALS]) > 0 and day_data[GOAL_TIME] > 0 and day_data[OTHER_TIME] > 0:\n",
    "                    # Add obj and reset data\n",
    "                    # take logs of time cuz time is log-norm distributed\n",
    "                    for key in day_data:\n",
    "                        if \"time\" in key:\n",
    "                            day_data[key]= math.log(day_data[key])\n",
    "                    day_data[INTENSITY] = len(day_data[FREQ_GOALS])/len(day_data[GOALS])\n",
    "                    day_stats.append(day_data)\n",
    "                    day_data = {INTENSITY: 0, INFREQ_GOALS: set([]), TOTAL_TIME: 0, GOAL_TIME: 0, HASH: account[\"_id\"], GOALS: set([]), FREQ_GOALS: set([]), OTHER_TIME: 0 }\n",
    "                curr_date = date\n",
    "            if \"enabled\" in s:\n",
    "                if s[\"enabled\"]:\n",
    "                    day_data[GOALS].add(s[\"domain\"])\n",
    "                    if s[\"duration\"] > 0:\n",
    "                        if s[\"domain\"] + \"_domain_time\" not in day_data:\n",
    "                            day_data[s[\"domain\"]+\"_domain_time\"] = 0\n",
    "                        day_data[s[\"domain\"]+\"_domain_time\"] += s[\"duration\"]\n",
    "                    if \"frequent\" in s and s[\"frequent\"]:\n",
    "                        day_data[FREQ_GOALS].add(s[\"domain\"])\n",
    "                    elif \"frequent\" in s:\n",
    "                        day_data[INFREQ_GOALS].add(s[\"domain\"])\n",
    "                    day_data[GOAL_TIME] += s[\"duration\"]\n",
    "                day_data[OTHER_TIME] += s[\"duration\"]\n",
    "            day_data[TOTAL_TIME] += (s[\"duration\"])\n",
    "            "
   ]
  },
  {
   "cell_type": "code",
   "execution_count": 3,
   "metadata": {},
   "outputs": [
    {
     "data": {
      "text/plain": [
       "(array([183., 168., 178., 178., 201., 192., 199., 155., 144., 143., 131.,\n",
       "        100., 124.,  95.,  78.,  79.,  62.,  69.,  46.,  50.,  33.,  59.,\n",
       "         33.,  37.,  31.,  31.,  38.,  25.,  27.,  21.,  21.,  21.,  27.,\n",
       "         11.,  14.,  14.,  21.,  13.,  12.,  12.,  11.,  20.,   8.,   7.,\n",
       "         11.,  11.,  22.,  15.,  12.,  15.]),\n",
       " array([4.500000e+01, 1.771920e+03, 3.498840e+03, 5.225760e+03,\n",
       "        6.952680e+03, 8.679600e+03, 1.040652e+04, 1.213344e+04,\n",
       "        1.386036e+04, 1.558728e+04, 1.731420e+04, 1.904112e+04,\n",
       "        2.076804e+04, 2.249496e+04, 2.422188e+04, 2.594880e+04,\n",
       "        2.767572e+04, 2.940264e+04, 3.112956e+04, 3.285648e+04,\n",
       "        3.458340e+04, 3.631032e+04, 3.803724e+04, 3.976416e+04,\n",
       "        4.149108e+04, 4.321800e+04, 4.494492e+04, 4.667184e+04,\n",
       "        4.839876e+04, 5.012568e+04, 5.185260e+04, 5.357952e+04,\n",
       "        5.530644e+04, 5.703336e+04, 5.876028e+04, 6.048720e+04,\n",
       "        6.221412e+04, 6.394104e+04, 6.566796e+04, 6.739488e+04,\n",
       "        6.912180e+04, 7.084872e+04, 7.257564e+04, 7.430256e+04,\n",
       "        7.602948e+04, 7.775640e+04, 7.948332e+04, 8.121024e+04,\n",
       "        8.293716e+04, 8.466408e+04, 8.639100e+04]),\n",
       " <a list of 50 Patch objects>)"
      ]
     },
     "execution_count": 3,
     "metadata": {},
     "output_type": "execute_result"
    }
   ],
   "source": [
    "import matplotlib.pyplot as pyplot\n",
    "pyplot.figure(12)\n",
    "pyplot.hist([math.exp(day[TOTAL_TIME]) for day in day_stats if math.exp(day[TOTAL_TIME]) < 86400], bins=50)"
   ]
  },
  {
   "cell_type": "code",
   "execution_count": 4,
   "metadata": {},
   "outputs": [],
   "source": [
    "import pandas as pd\n",
    "data_frame_dict = { key: [] for key in day_stats[0] if \"domain_time\" not in key}\n",
    "AVG_GOAL_TIME = \"avg_goal_time\"\n",
    "data_frame_dict[AVG_GOAL_TIME] = []\n",
    "# Let's also count up the freq to see if they're roughly equal\n",
    "field_stats = {}\n",
    "for item in day_stats:\n",
    "    for key in item:\n",
    "        if \"domain_time\" not in key:\n",
    "            if key == INTENSITY:\n",
    "                data_frame_dict[key].append(len(item[FREQ_GOALS]))\n",
    "            else:\n",
    "                data_frame_dict[key].append((item[key]))\n",
    "    data_frame_dict[AVG_GOAL_TIME].append(item[GOAL_TIME]/len(item[GOALS]))\n",
    "df = pd.DataFrame(data_frame_dict)\n",
    "df.to_csv('effect_freq_time_spent.csv')"
   ]
  },
  {
   "cell_type": "code",
   "execution_count": 5,
   "metadata": {},
   "outputs": [],
   "source": [
    "%load_ext rpy2.ipython"
   ]
  },
  {
   "cell_type": "code",
   "execution_count": 6,
   "metadata": {},
   "outputs": [
    {
     "name": "stderr",
     "output_type": "stream",
     "text": [
      "/Library/Frameworks/Python.framework/Versions/3.6/lib/python3.6/site-packages/rpy2/robjects/pandas2ri.py:67: UserWarning: Error while trying to convert the column \"infreq_goals\". Fall back to string conversion. The error is: Conversion 'py2ri' not defined for objects of type '<class 'set'>'\n",
      "  (name, str(e)))\n",
      "/Library/Frameworks/Python.framework/Versions/3.6/lib/python3.6/site-packages/rpy2/robjects/pandas2ri.py:67: UserWarning: Error while trying to convert the column \"goals\". Fall back to string conversion. The error is: Conversion 'py2ri' not defined for objects of type '<class 'set'>'\n",
      "  (name, str(e)))\n",
      "/Library/Frameworks/Python.framework/Versions/3.6/lib/python3.6/site-packages/rpy2/robjects/pandas2ri.py:67: UserWarning: Error while trying to convert the column \"freq_goals\". Fall back to string conversion. The error is: Conversion 'py2ri' not defined for objects of type '<class 'set'>'\n",
      "  (name, str(e)))\n",
      "/Library/Frameworks/Python.framework/Versions/3.6/lib/python3.6/site-packages/rpy2/robjects/pandas2ri.py:191: FutureWarning: from_items is deprecated. Please use DataFrame.from_dict(dict(items), ...) instead. DataFrame.from_dict(OrderedDict(items)) may be used to preserve the key order.\n",
      "  res = PandasDataFrame.from_items(items)\n",
      "/Library/Frameworks/Python.framework/Versions/3.6/lib/python3.6/site-packages/rpy2/rinterface/__init__.py:146: RRuntimeWarning: Loading required package: Matrix\n",
      "\n",
      "  warnings.warn(x, RRuntimeWarning)\n",
      "/Library/Frameworks/Python.framework/Versions/3.6/lib/python3.6/site-packages/rpy2/rinterface/__init__.py:146: RRuntimeWarning: \n",
      "Attaching package: ‘lmerTest’\n",
      "\n",
      "\n",
      "  warnings.warn(x, RRuntimeWarning)\n",
      "/Library/Frameworks/Python.framework/Versions/3.6/lib/python3.6/site-packages/rpy2/rinterface/__init__.py:146: RRuntimeWarning: The following object is masked from ‘package:lme4’:\n",
      "\n",
      "    lmer\n",
      "\n",
      "\n",
      "  warnings.warn(x, RRuntimeWarning)\n",
      "/Library/Frameworks/Python.framework/Versions/3.6/lib/python3.6/site-packages/rpy2/rinterface/__init__.py:146: RRuntimeWarning: The following object is masked from ‘package:stats’:\n",
      "\n",
      "    step\n",
      "\n",
      "\n",
      "  warnings.warn(x, RRuntimeWarning)\n"
     ]
    }
   ],
   "source": [
    "%%R -i df -w 5 -h 5 --units in -r 200\n",
    "\n",
    "#install.packages('ez')\n",
    "#install.packages('lme4')\n",
    "\n",
    "library(lme4)\n",
    "library(sjPlot)\n",
    "library(lmerTest)\n",
    "#library(ez)"
   ]
  },
  {
   "cell_type": "code",
   "execution_count": 7,
   "metadata": {},
   "outputs": [
    {
     "data": {
      "text/plain": [
       "Linear mixed model fit by REML. t-tests use Satterthwaite's method [\n",
       "lmerModLmerTest]\n",
       "Formula: total_time ~ intensity + (1 | email_hash)\n",
       "   Data: df\n",
       "\n",
       "REML criterion at convergence: 9143.9\n",
       "\n",
       "Scaled residuals: \n",
       "    Min      1Q  Median      3Q     Max \n",
       "-5.9999 -0.4055  0.1242  0.5654  2.6522 \n",
       "\n",
       "Random effects:\n",
       " Groups     Name        Variance Std.Dev.\n",
       " email_hash (Intercept) 0.6211   0.7881  \n",
       " Residual               0.7776   0.8818  \n",
       "Number of obs: 3227, groups:  email_hash, 494\n",
       "\n",
       "Fixed effects:\n",
       "             Estimate Std. Error        df t value Pr(>|t|)    \n",
       "(Intercept) 8.948e+00  5.021e-02 7.758e+02  178.19   <2e-16 ***\n",
       "intensity   1.837e-01  1.266e-02 3.103e+03   14.51   <2e-16 ***\n",
       "---\n",
       "Signif. codes:  0 ‘***’ 0.001 ‘**’ 0.01 ‘*’ 0.05 ‘.’ 0.1 ‘ ’ 1\n",
       "\n",
       "Correlation of Fixed Effects:\n",
       "          (Intr)\n",
       "intensity -0.578\n"
      ]
     },
     "metadata": {},
     "output_type": "display_data"
    }
   ],
   "source": [
    "%%R -i df -w 5 -h 5 --units in -r 200\n",
    "# Does total time spent per day on phone change depending on percentagre\n",
    "df$email_hash <- factor(df$email_hash,  ordered=FALSE)\n",
    "results <- lmer(total_time ~ intensity + (1|email_hash), data = df)\n",
    "summary(results)"
   ]
  },
  {
   "cell_type": "code",
   "execution_count": 8,
   "metadata": {},
   "outputs": [
    {
     "data": {
      "text/plain": [
       "Linear mixed model fit by REML. t-tests use Satterthwaite's method [\n",
       "lmerModLmerTest]\n",
       "Formula: avg_goal_time ~ intensity + (1 | email_hash)\n",
       "   Data: df\n",
       "\n",
       "REML criterion at convergence: 10219.9\n",
       "\n",
       "Scaled residuals: \n",
       "    Min      1Q  Median      3Q     Max \n",
       "-4.6318 -0.4388 -0.0764  0.3190  6.4287 \n",
       "\n",
       "Random effects:\n",
       " Groups     Name        Variance Std.Dev.\n",
       " email_hash (Intercept) 1.283    1.133   \n",
       " Residual               1.029    1.015   \n",
       "Number of obs: 3227, groups:  email_hash, 494\n",
       "\n",
       "Fixed effects:\n",
       "              Estimate Std. Error         df t value Pr(>|t|)    \n",
       "(Intercept)    3.50671    0.06611  791.64052   53.04   <2e-16 ***\n",
       "intensity     -0.39588    0.01506 3223.23335  -26.30   <2e-16 ***\n",
       "---\n",
       "Signif. codes:  0 ‘***’ 0.001 ‘**’ 0.01 ‘*’ 0.05 ‘.’ 0.1 ‘ ’ 1\n",
       "\n",
       "Correlation of Fixed Effects:\n",
       "          (Intr)\n",
       "intensity -0.521\n"
      ]
     },
     "metadata": {},
     "output_type": "display_data"
    }
   ],
   "source": [
    "%%R -i df -w 5 -h 5 --units in -r 200\n",
    "# Does goal time spent per day on phone change depending on percentage\n",
    "df$email_hash <- factor(df$email_hash,  ordered=FALSE)\n",
    "results <- lmer(avg_goal_time ~ intensity + (1|email_hash), data = df)\n",
    "summary(results)"
   ]
  },
  {
   "cell_type": "code",
   "execution_count": 20,
   "metadata": {},
   "outputs": [
    {
     "data": {
      "text/plain": [
       "Linear mixed model fit by REML. t-tests use Satterthwaite's method [\n",
       "lmerModLmerTest]\n",
       "Formula: goal_time ~ intensity + (1 | email_hash)\n",
       "   Data: df\n",
       "\n",
       "REML criterion at convergence: 10536.6\n",
       "\n",
       "Scaled residuals: \n",
       "    Min      1Q  Median      3Q     Max \n",
       "-6.2584 -0.4025  0.1305  0.5548  3.9424 \n",
       "\n",
       "Random effects:\n",
       " Groups     Name        Variance Std.Dev.\n",
       " email_hash (Intercept) 0.7897   0.8887  \n",
       " Residual               1.2268   1.1076  \n",
       "Number of obs: 3227, groups:  email_hash, 494\n",
       "\n",
       "Fixed effects:\n",
       "             Estimate Std. Error        df t value Pr(>|t|)    \n",
       "(Intercept) 7.279e+00  5.940e-02 7.784e+02  122.55   <2e-16 ***\n",
       "intensity   3.300e-01  1.561e-02 2.963e+03   21.14   <2e-16 ***\n",
       "---\n",
       "Signif. codes:  0 ‘***’ 0.001 ‘**’ 0.01 ‘*’ 0.05 ‘.’ 0.1 ‘ ’ 1\n",
       "\n",
       "Correlation of Fixed Effects:\n",
       "          (Intr)\n",
       "intensity -0.603\n"
      ]
     },
     "metadata": {},
     "output_type": "display_data"
    }
   ],
   "source": [
    "%%R -i df -w 5 -h 5 --units in -r 200\n",
    "# Does non-goal time spent per day on phone change depending on percentage\n",
    "df$email_hash <- factor(df$email_hash,  ordered=FALSE)\n",
    "results <- lmer(goal_time ~ intensity + (1|email_hash), data = df)\n",
    "summary(results)"
   ]
  },
  {
   "cell_type": "code",
   "execution_count": 10,
   "metadata": {},
   "outputs": [
    {
     "name": "stdout",
     "output_type": "stream",
     "text": [
      "f653fba473726066017d092faf775b60a39bd4616590332eb815f0bb74fa22f2\n"
     ]
    },
    {
     "data": {
      "text/plain": [
       "<matplotlib.collections.PathCollection at 0x12755fbe0>"
      ]
     },
     "execution_count": 10,
     "metadata": {},
     "output_type": "execute_result"
    },
    {
     "data": {
      "image/png": "[encoded data removed]",
      "text/plain": [
       "<Figure size 432x288 with 1 Axes>"
      ]
     },
     "metadata": {},
     "output_type": "display_data"
    }
   ],
   "source": [
    "import matplotlib.pyplot as pyplot\n",
    "import collections\n",
    "\n",
    "most_active_users = {\"\": 0}\n",
    "most_active_user = \"\"\n",
    "for stat in day_stats:\n",
    "    email = stat[HASH]\n",
    "    if email not in most_active_users:\n",
    "        most_active_users[email] = 0\n",
    "    most_active_users[email] += 1\n",
    "    if most_active_users[email] > most_active_users[most_active_user]:\n",
    "        most_active_user = email\n",
    "print(most_active_user)\n",
    "pyplot.figure(43)\n",
    "pyplot.title(\"Number of app goals versus total time spent on other apps\")\n",
    "pyplot.xlabel(\"Average goal time (log(s))\")\n",
    "pyplot.ylabel(\"Total time spent on non-goal apps for the day log(s)\")\n",
    "pyplot.scatter([len(stat[GOALS]) for stat in day_stats], [(stat[GOAL_TIME]) for stat in day_stats])\n"
   ]
  },
  {
   "cell_type": "code",
   "execution_count": 11,
   "metadata": {},
   "outputs": [
    {
     "name": "stderr",
     "output_type": "stream",
     "text": [
      "/Library/Frameworks/Python.framework/Versions/3.6/lib/python3.6/site-packages/rpy2/robjects/pandas2ri.py:67: UserWarning: Error while trying to convert the column \"infreq_goals\". Fall back to string conversion. The error is: Conversion 'py2ri' not defined for objects of type '<class 'set'>'\n",
      "  (name, str(e)))\n",
      "/Library/Frameworks/Python.framework/Versions/3.6/lib/python3.6/site-packages/rpy2/robjects/pandas2ri.py:67: UserWarning: Error while trying to convert the column \"goals\". Fall back to string conversion. The error is: Conversion 'py2ri' not defined for objects of type '<class 'set'>'\n",
      "  (name, str(e)))\n",
      "/Library/Frameworks/Python.framework/Versions/3.6/lib/python3.6/site-packages/rpy2/robjects/pandas2ri.py:67: UserWarning: Error while trying to convert the column \"freq_goals\". Fall back to string conversion. The error is: Conversion 'py2ri' not defined for objects of type '<class 'set'>'\n",
      "  (name, str(e)))\n",
      "/Library/Frameworks/Python.framework/Versions/3.6/lib/python3.6/site-packages/rpy2/robjects/pandas2ri.py:191: FutureWarning: from_items is deprecated. Please use DataFrame.from_dict(dict(items), ...) instead. DataFrame.from_dict(OrderedDict(items)) may be used to preserve the key order.\n",
      "  res = PandasDataFrame.from_items(items)\n"
     ]
    },
    {
     "data": {
      "text/plain": [
       "Linear mixed model fit by REML. t-tests use Satterthwaite's method [\n",
       "lmerModLmerTest]\n",
       "Formula: other_time ~ avg_goal_time + (1 | email_hash)\n",
       "   Data: df\n",
       "\n",
       "REML criterion at convergence: 9342.6\n",
       "\n",
       "Scaled residuals: \n",
       "    Min      1Q  Median      3Q     Max \n",
       "-6.0857 -0.3657  0.1503  0.5573  2.5815 \n",
       "\n",
       "Random effects:\n",
       " Groups     Name        Variance Std.Dev.\n",
       " email_hash (Intercept) 0.6478   0.8049  \n",
       " Residual               0.8291   0.9106  \n",
       "Number of obs: 3227, groups:  email_hash, 494\n",
       "\n",
       "Fixed effects:\n",
       "                Estimate Std. Error         df t value Pr(>|t|)    \n",
       "(Intercept)      9.45003    0.05517  861.68912 171.295   <2e-16 ***\n",
       "avg_goal_time   -0.03089    0.01378 2947.52462  -2.243    0.025 *  \n",
       "---\n",
       "Signif. codes:  0 ‘***’ 0.001 ‘**’ 0.01 ‘*’ 0.05 ‘.’ 0.1 ‘ ’ 1\n",
       "\n",
       "Correlation of Fixed Effects:\n",
       "            (Intr)\n",
       "avg_goal_tm -0.650\n"
      ]
     },
     "metadata": {},
     "output_type": "display_data"
    }
   ],
   "source": [
    "%%R -i df -w 5 -h 5 --units in -r 200\n",
    "# Does non-goal time spent per day on phone inversely depend on goal-time?\n",
    "df$email_hash <- factor(df$email_hash,  ordered=FALSE)\n",
    "results <- lmer(other_time ~ avg_goal_time + (1|email_hash), data = df)\n",
    "summary(results)"
   ]
  },
  {
   "cell_type": "code",
   "execution_count": 14,
   "metadata": {
    "scrolled": false
   },
   "outputs": [
    {
     "name": "stdout",
     "output_type": "stream",
     "text": [
      "4.3694478524670215\n",
      "8.339739766019143\n",
      "8.733594061863055\n",
      "9.11679862756782\n",
      "9.914625296946584\n",
      "10.663124474364906\n",
      "11.05668271897453\n",
      "11.340082840810044\n"
     ]
    }
   ],
   "source": [
    "# see average change for time spent in goals vs. outside of goal when freq setting changes\n",
    "from statistics import mean, StatisticsError\n",
    "goal_time_change_stats = []\n",
    "other_time_change_stats = []\n",
    "user_stats = {}\n",
    "max_time = 0\n",
    "for day in day_stats:\n",
    "    email = day[HASH]\n",
    "    if day[HASH] not in user_stats:\n",
    "        user_stats[email] = {FREQ_GOALS: set([]), INFREQ_GOALS: set([])}\n",
    "    user_stats[email][FREQ_GOALS] = user_stats[email][FREQ_GOALS].union(day[FREQ_GOALS])\n",
    "    user_stats[email][INFREQ_GOALS] = user_stats[email][INFREQ_GOALS].union(day[INFREQ_GOALS])\n",
    "    for domain_time in day:\n",
    "        if \"_domain_time\" in domain_time:\n",
    "            domain = domain_time[:-len(\"_domain_time\")]\n",
    "            if domain not in user_stats[email]:\n",
    "                user_stats[email][domain] = {\"frequent_goal\": [], \"infrequent_goal\": [], \"frequent_other\": [], \"infrequent_other\": []}\n",
    "            if not (domain in day[FREQ_GOALS] and domain in day[INFREQ_GOALS]):\n",
    "                freq = \"frequent\" if domain in day[FREQ_GOALS] else \"infrequent\"\n",
    "                if day[domain_time] > max_time:\n",
    "                    max_time = day[domain_time]\n",
    "                    print(max_time)\n",
    "                user_stats[email][domain][freq + \"_goal\"].append(day[domain_time])\n",
    "                user_stats[email][domain][freq+\"_other\"].append(day[TOTAL_TIME] - day[domain_time])\n",
    "for user in user_stats:\n",
    "    for domain in user_stats[user][FREQ_GOALS].intersection(user_stats[user][INFREQ_GOALS]):\n",
    "        if 0 not in user_stats[user][domain][\"frequent_goal\"] and 0 not in user_stats[user][domain][\"infrequent_goal\"]:\n",
    "            try:\n",
    "                mean_freq_goal = mean(user_stats[user][domain][\"frequent_goal\"])\n",
    "                # print(\"frequent\" + str(user_stats[user][domain][\"frequent_goal\"]))\n",
    "                # print(\"infrequent  \" + str(user_stats[user][domain][\"infrequent_goal\"]))\n",
    "                goal_change = mean_freq_goal - mean(user_stats[user][domain][\"infrequent_goal\"])\n",
    "                other_change = mean(user_stats[user][domain][\"frequent_other\"]) - mean(user_stats[user][domain][\"infrequent_other\"])\n",
    "                goal_time_change_stats.append(goal_change)\n",
    "                other_time_change_stats.append(other_change)\n",
    "            except StatisticsError:\n",
    "                pass"
   ]
  },
  {
   "cell_type": "code",
   "execution_count": 21,
   "metadata": {},
   "outputs": [],
   "source": [
    "# our next data set: goal_time, freq, goal, and email_hash\n",
    "goal_stats_dict = {\"app\": [], \"email\": [], \"time\": [], \"other_time\": [], \"frequency\": []}\n",
    "for day in day_stats:\n",
    "    for key in day:\n",
    "        if \"domain_time\" in key:\n",
    "            domain = key[:-len(\"_domain_time\")]\n",
    "            if not (domain in day[FREQ_GOALS] and domain in day[INFREQ_GOALS]) and (domain in day[FREQ_GOALS] or domain in day[INFREQ_GOALS]):\n",
    "                freq = \"frequent\" if domain in day[FREQ_GOALS] else \"infrequent\"\n",
    "                goal_stats_dict[\"app\"].append(domain)\n",
    "                goal_stats_dict[\"email\"].append(day[HASH])\n",
    "                goal_stats_dict[\"time\"].append(day[key])\n",
    "                goal_stats_dict[\"other_time\"].append(day[GOAL_TIME] - day[key])\n",
    "                goal_stats_dict[\"frequency\"].append(freq)\n",
    "goal_freq_df = pd.DataFrame(goal_stats_dict)"
   ]
  },
  {
   "cell_type": "code",
   "execution_count": 16,
   "metadata": {},
   "outputs": [
    {
     "name": "stderr",
     "output_type": "stream",
     "text": [
      "/Library/Frameworks/Python.framework/Versions/3.6/lib/python3.6/site-packages/rpy2/robjects/pandas2ri.py:191: FutureWarning: from_items is deprecated. Please use DataFrame.from_dict(dict(items), ...) instead. DataFrame.from_dict(OrderedDict(items)) may be used to preserve the key order.\n",
      "  res = PandasDataFrame.from_items(items)\n"
     ]
    },
    {
     "data": {
      "text/plain": [
       "Linear mixed model fit by REML. t-tests use Satterthwaite's method [\n",
       "lmerModLmerTest]\n",
       "Formula: other_time ~ frequency + (1 | email) + (1 | app)\n",
       "   Data: goal_freq_df\n",
       "\n",
       "REML criterion at convergence: 52837.1\n",
       "\n",
       "Scaled residuals: \n",
       "    Min      1Q  Median      3Q     Max \n",
       "-2.9742 -0.6756 -0.1472  0.5289  4.8330 \n",
       "\n",
       "Random effects:\n",
       " Groups   Name        Variance Std.Dev.\n",
       " app      (Intercept) 2.2786   1.5095  \n",
       " email    (Intercept) 0.3388   0.5821  \n",
       " Residual             2.3791   1.5424  \n",
       "Number of obs: 13827, groups:  app, 612; email, 493\n",
       "\n",
       "Fixed effects:\n",
       "                   Estimate Std. Error        df t value Pr(>|t|)    \n",
       "(Intercept)       3.308e+00  8.053e-02 7.126e+02   41.08   <2e-16 ***\n",
       "frequencyfrequent 6.717e-02  2.883e-02 1.371e+04    2.33   0.0198 *  \n",
       "---\n",
       "Signif. codes:  0 ‘***’ 0.001 ‘**’ 0.01 ‘*’ 0.05 ‘.’ 0.1 ‘ ’ 1\n",
       "\n",
       "Correlation of Fixed Effects:\n",
       "            (Intr)\n",
       "frqncyfrqnt -0.175\n"
      ]
     },
     "metadata": {},
     "output_type": "display_data"
    }
   ],
   "source": [
    "%%R -i goal_freq_df -w 5 -h 5 --units in -r 200\n",
    "# Does non-goal time spent per day on phone inversely depend on goal-time?\n",
    "goal_freq_df$email <- factor(goal_freq_df$email,  ordered=FALSE)\n",
    "goal_freq_df$app <- factor(goal_freq_df$app, ordered=FALSE)\n",
    "goal_freq_df$frequency <- factor(goal_freq_df$frequency, levels=c(\"infrequent\", \"frequent\"))\n",
    "results <- lmer(other_time ~ frequency + (1|email) + (1|app), data = goal_freq_df)\n",
    "summary(results)"
   ]
  },
  {
   "cell_type": "code",
   "execution_count": 17,
   "metadata": {},
   "outputs": [
    {
     "name": "stdout",
     "output_type": "stream",
     "text": [
      "651\n",
      "0.5053763440860215\n",
      "[-0.08313014046388413, 0.0697503612282453]\n"
     ]
    },
    {
     "data": {
      "text/plain": [
       "<BarContainer object of 2 artists>"
      ]
     },
     "execution_count": 17,
     "metadata": {},
     "output_type": "execute_result"
    },
    {
     "data": {
      "image/png": "[encoded data removed]",
      "text/plain": [
       "<Figure size 432x288 with 1 Axes>"
      ]
     },
     "metadata": {},
     "output_type": "display_data"
    }
   ],
   "source": [
    "from scipy.stats import sem\n",
    "pyplot.figure(32)\n",
    "print(len(goal_time_change_stats))\n",
    "pyplot.title(\"Effect of Increasing Frequency of Interventions on Goal and Other Apps Time\")\n",
    "pyplot.ylabel('Change in time (log(s))')\n",
    "print(len([stat for stat in other_time_change_stats if stat > 0])/len(goal_time_change_stats))\n",
    "print([mean(goal_time_change_stats), mean(other_time_change_stats)])\n",
    "pyplot.bar([\"Change in goal time\", \"Change in other time\"], [mean(goal_time_change_stats), mean(other_time_change_stats)] , .8, yerr=[sem(goal_time_change_stats), sem(other_time_change_stats)])"
   ]
  },
  {
   "cell_type": "code",
   "execution_count": null,
   "metadata": {},
   "outputs": [],
   "source": [
    "# Get freq stats\n",
    "# week -> goal -> freq\n",
    "# Top-level-domain-names that are not pertinent to the application.\n",
    "TLDs = ['aaa', 'abb', 'abc', 'ac', 'aco', 'ad', 'ads', 'ae', 'aeg', 'af', 'afl', 'ag', 'ai', 'aig', 'al', 'am', 'anz', 'ao', 'aol', 'app', 'aq', 'ar', 'art', 'as', 'at', 'au', 'aw', 'aws', 'ax', 'axa', 'az', 'ba', 'bar', 'bb', 'bbc', 'bbt', 'bcg', 'bcn', 'bd', 'be', 'bet', 'bf', 'bg', 'bh', 'bi', 'bid', 'bio', 'biz', 'bj', 'bm', 'bms', 'bmw', 'bn', 'bnl', 'bo', 'bom', 'boo', 'bot', 'box', 'br', 'bs', 'bt', 'buy', 'bv', 'bw', 'by', 'bz', 'bzh', 'ca', 'cab', 'cal', 'cam', 'car', 'cat', 'cba', 'cbn', 'cbs', 'cc', 'cd', 'ceb', 'ceo', 'cf', 'cfa', 'cfd', 'cg', 'ch', 'ci', 'ck', 'cl', 'cm', 'cn', 'co', 'com', 'cr', 'crs', 'csc', 'cu', 'cv', 'cw', 'cx', 'cy', 'cz', 'dad', 'day', 'dds', 'de', 'dev', 'dhl', 'diy', 'dj', 'dk', 'dm', 'dnp', 'do', 'dog', 'dot', 'dtv', 'dvr', 'dz', 'eat', 'ec', 'eco', 'edu', 'ee', 'eg', 'er', 'es', 'esq', 'et', 'eu', 'eus', 'fan', 'fi', 'fit', 'fj', 'fk', 'fly', 'fm', 'fo', 'foo', 'fox', 'fr', 'frl', 'ftr', 'fun', 'fyi', 'ga', 'gal', 'gap', 'gb', 'gd', 'gdn', 'ge', 'gea', 'gf', 'gg', 'gh', 'gi', 'gl', 'gle', 'gm', 'gmo', 'gmx', 'gn', 'goo', 'gop', 'got', 'gov', 'gp', 'gq', 'gr', 'gs', 'gt', 'gu', 'gw', 'gy', 'hbo', 'hiv', 'hk', 'hkt', 'hm', 'hn', 'hot', 'how', 'hr', 'ht', 'hu', 'ibm', 'ice', 'icu', 'id', 'ie', 'ifm', 'il', 'im', 'in', 'inc', 'ing', 'ink', 'int', 'io', 'iq', 'ir', 'is', 'ist', 'it', 'itv', 'jcb', 'jcp', 'je', 'jio', 'jlc', 'jll', 'jm', 'jmp', 'jnj', 'jo', 'jot', 'joy', 'jp', 'ke', 'kfh', 'kg', 'kh', 'ki', 'kia', 'kim', 'km', 'kn', 'kp', 'kpn', 'kr', 'krd', 'kw', 'ky', 'kz', 'la', 'lat', 'law', 'lb', 'lc', 'lds', 'li', 'lk', 'llc', 'lol', 'lpl', 'lr', 'ls', 'lt', 'ltd', 'lu', 'lv', 'ly', 'ma', 'man', 'map', 'mba', 'mc', 'md', 'me', 'med', 'men', 'mg', 'mh', 'mil', 'mit', 'mk', 'ml', 'mlb', 'mls', 'mm', 'mma', 'mn', 'mo', 'moe', 'moi', 'mom', 'mov', 'mp', 'mq', 'mr', 'ms', 'msd', 'mt', 'mtn', 'mtr', 'mu', 'mv', 'mw', 'mx', 'my', 'mz', 'na', 'nab', 'nba', 'nc', 'ne', 'nec', 'net', 'new', 'nf', 'nfl', 'ng', 'ngo', 'nhk', 'ni', 'nl', 'no', 'now', 'np', 'nr', 'nra', 'nrw', 'ntt', 'nu', 'nyc', 'nz', 'obi', 'off', 'om', 'one', 'ong', 'onl', 'ooo', 'org', 'ott', 'ovh', 'pa', 'pay', 'pe', 'pet', 'pf', 'pg', 'ph', 'phd', 'pid', 'pin', 'pk', 'pl', 'pm', 'pn', 'pnc', 'pr', 'pro', 'pru', 'ps', 'pt', 'pub', 'pw', 'pwc', 'py', 'qa', 'qvc', 're', 'red', 'ren', 'ril', 'rio', 'rip', 'ro', 'rs', 'ru', 'run', 'rw', 'rwe', 'sa', 'sap', 'sas', 'sb', 'sbi', 'sbs', 'sc', 'sca', 'scb', 'sd', 'se', 'ses', 'sew', 'sex', 'sfr', 'sg', 'sh', 'si', 'sj', 'sk', 'ski', 'sky', 'sl', 'sm', 'sn', 'so', 'soy', 'sr', 'srl', 'srt', 'st', 'stc', 'su', 'sv', 'sx', 'sy', 'sz', 'tab', 'tax', 'tc', 'tci', 'td', 'tdk', 'tel', 'tf', 'tg', 'th', 'thd', 'tj', 'tjx', 'tk', 'tl', 'tm', 'tn', 'to', 'top', 'tr', 'trv', 'tt', 'tui', 'tv', 'tvs', 'tw', 'tz', 'ua', 'ubs', 'ug', 'uk', 'uno', 'uol', 'ups', 'us', 'uy', 'uz', 'va', 'vc', 've', 'vet', 'vg', 'vi', 'vig', 'vin', 'vip', 'vn', 'vu', 'wed', 'wf', 'win', 'wme', 'wow', 'ws', 'wtc', 'wtf', 'xin', 'xxx', 'xyz', 'ye', 'you', 'yt', 'yun', 'za', 'zip', 'zm', 'zw']\n",
    "def get_name(name, device):\n",
    "    \"\"\"\n",
    "    @param name: goal name (package name for Android)\n",
    "    @param device: \"android\" or \"browser\" or \"browser_domain\"\n",
    "    @return name of goal with subdomains removed and goal annotation removed (i.e. spend_less_time)\n",
    "    \"\"\"\n",
    "    if device == ANDROID  and name ==\"com.google.android.gm\" or device == BROWSER and \"gmail\" in name:\n",
    "        return \"gmail\"\n",
    "    name = name.lower()\n",
    "    if \"custom\" in name and device == BROWSER:\n",
    "        # strip off the \"custom/spend_less_time_\"\n",
    "        name = name[SPEND_LESS_TIME_LENGTH:]\n",
    "    elif device == BROWSER:\n",
    "        return name.split('/spend')[0]\n",
    "    # Now we have to get juicy part of domain.\n",
    "    subs = list(filter(lambda x: x != \"android\" and x != \"google\" and x != \"apps\" and x not in TLDs, name.split('.')))\n",
    "    if device == ANDROID: \n",
    "        if len(subs) > 0:\n",
    "            return subs[0]\n",
    "        return name\n",
    "    else:\n",
    "        if len(subs) > 0:\n",
    "            return subs[len(subs) - 1]    \n",
    "        \n",
    "def get_freq_stats(user):\n",
    "    stat = {}\n",
    "    for setting in db[user + \"_synced:goal_frequencies\"].find({\"val\":{\"algorithm\": \"isoweek_random\"}}):\n",
    "        stat[\"\"]"
   ]
  },
  {
   "cell_type": "code",
   "execution_count": null,
   "metadata": {},
   "outputs": [],
   "source": [
    "\n",
    "        "
   ]
  },
  {
   "cell_type": "code",
   "execution_count": null,
   "metadata": {},
   "outputs": [],
   "source": []
  },
  {
   "cell_type": "code",
   "execution_count": null,
   "metadata": {},
   "outputs": [],
   "source": []
  },
  {
   "cell_type": "code",
   "execution_count": null,
   "metadata": {},
   "outputs": [],
   "source": []
  }
 ],
 "metadata": {
  "kernelspec": {
   "display_name": "Python 3",
   "language": "python",
   "name": "python3"
  },
  "language_info": {
   "codemirror_mode": {
    "name": "ipython",
    "version": 3
   },
   "file_extension": ".py",
   "mimetype": "text/x-python",
   "name": "python",
   "nbconvert_exporter": "python",
   "pygments_lexer": "ipython3",
   "version": "3.6.5"
  }
 },
 "nbformat": 4,
 "nbformat_minor": 2
}
